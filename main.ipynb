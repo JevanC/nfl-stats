{
 "cells": [
  {
   "cell_type": "code",
   "execution_count": 1,
   "id": "7e510296",
   "metadata": {},
   "outputs": [],
   "source": [
    "import nfl_data_py as nfl\n",
    "import pandas as pd\n",
    "import numpy as np\n",
    "import plotly.io as pio\n",
    "\n",
    "pd.set_option('display.max_columns', None)\n",
    "\n",
    "pd.set_option('display.width', None)\n",
    "\n",
    "pd.set_option('display.max_colwidth', None)"
   ]
  },
  {
   "cell_type": "code",
   "execution_count": 2,
   "id": "078a28f3",
   "metadata": {},
   "outputs": [],
   "source": [
    "all_players = nfl.import_players()\n",
    "all_qbs = all_players[all_players['position'] == 'QB']\n",
    "all_qbs.reset_index(inplace=True, drop='index')\n",
    "all_qbs_id = list(all_qbs.gsis_id)"
   ]
  },
  {
   "cell_type": "code",
   "execution_count": null,
   "id": "d12555a2",
   "metadata": {},
   "outputs": [],
   "source": []
  },
  {
   "cell_type": "code",
   "execution_count": null,
   "id": "a08c1fc2",
   "metadata": {},
   "outputs": [],
   "source": []
  },
  {
   "cell_type": "code",
   "execution_count": 3,
   "id": "435f6f63",
   "metadata": {},
   "outputs": [
    {
     "name": "stdout",
     "output_type": "stream",
     "text": [
      "Downcasting floats.\n"
     ]
    }
   ],
   "source": [
    "weekly_data = nfl.import_weekly_data(years=[i for i in range(1999,2025)])\n",
    "weekly_data['completion_pct'] = weekly_data.completions / weekly_data.attempts\n",
    "weekly_relevant = weekly_data[weekly_data['player_id'].isin(all_qbs_id)][['player_id', 'season', 'passing_tds', 'interceptions', \n",
    "                                                                          'sacks', 'sack_fumbles', 'rushing_tds', \n",
    "                                                                          'rushing_fumbles', 'completion_pct', 'passing_air_yards', 'attempts',\n",
    "                                                                          'passing_yards', 'passing_epa', 'rushing_epa']]\n",
    "weekly_relevant = weekly_relevant.groupby(['player_id', 'season']).agg({\n",
    "    'passing_tds' : 'sum', \n",
    "    'interceptions' : 'sum',\n",
    "    'sacks' : 'sum',\n",
    "    'sack_fumbles' : 'sum',\n",
    "    'rushing_tds' : 'sum',\n",
    "    'rushing_fumbles' : 'sum', \n",
    "    'completion_pct' : 'mean',\n",
    "    'passing_air_yards' : 'sum',\n",
    "    'attempts' : 'sum',\n",
    "    'player_id' : 'count',\n",
    "    'passing_yards' : 'sum',\n",
    "    'passing_epa' : 'sum',\n",
    "    'rushing_epa' : 'sum'})\n",
    "\n",
    "weekly_relevant = weekly_relevant.rename(columns={'player_id' : 'games_played'})\n",
    "weekly_relevant = weekly_relevant[(weekly_relevant['attempts'] > 200) & (weekly_relevant['games_played'] > 8)]\n",
    "weekly_relevant = weekly_relevant.reset_index()"
   ]
  },
  {
   "cell_type": "code",
   "execution_count": 4,
   "id": "08580f66",
   "metadata": {},
   "outputs": [
    {
     "name": "stdout",
     "output_type": "stream",
     "text": [
      "1999 done.\n",
      "2000 done.\n",
      "2001 done.\n",
      "2002 done.\n",
      "2003 done.\n",
      "2004 done.\n",
      "2005 done.\n",
      "2006 done.\n",
      "2007 done.\n",
      "2008 done.\n",
      "2009 done.\n",
      "2010 done.\n",
      "2011 done.\n",
      "2012 done.\n",
      "2013 done.\n",
      "2014 done.\n",
      "2015 done.\n",
      "2016 done.\n",
      "2017 done.\n",
      "2018 done.\n",
      "2019 done.\n",
      "2020 done.\n",
      "2021 done.\n",
      "2022 done.\n",
      "2023 done.\n",
      "2024 done.\n",
      "Downcasting floats.\n"
     ]
    }
   ],
   "source": [
    "stats2024 = nfl.import_pbp_data(years=[i for i in range(1999,2025)])\n",
    "stats2024 = stats2024[(stats2024['qb_kneel'] == 0.0) & (stats2024['play_type'] != 'no_play')]\n",
    "relevant = stats2024[['play_type', 'shotgun', 'qb_dropback', 'qb_scramble', 'air_yards', 'rushing_yards', 'id', 'season', 'time_to_throw', 'air_epa']]"
   ]
  },
  {
   "cell_type": "code",
   "execution_count": null,
   "id": "5b5c0cdf",
   "metadata": {},
   "outputs": [],
   "source": []
  },
  {
   "cell_type": "code",
   "execution_count": 5,
   "id": "28bb0bc9",
   "metadata": {},
   "outputs": [],
   "source": [
    "relevant = relevant.rename(columns={'id' : 'player_id'})\n",
    "pass_stats = relevant[relevant['play_type'] == 'pass'].groupby(['player_id', 'season']).agg({'shotgun' : 'sum', 'qb_dropback' : 'sum', 'time_to_throw' : 'mean', 'air_epa' : 'sum'})\n",
    "pass_stats['shotgun'] = pass_stats.shotgun / pass_stats.qb_dropback\n",
    "pass_stats.columns = ['shotgun_rate', 'total_passes', 'avg_time_to_throw', 'air_epa']\n",
    "pass_stats = pass_stats.reset_index()"
   ]
  },
  {
   "cell_type": "code",
   "execution_count": 6,
   "id": "b36ff773",
   "metadata": {},
   "outputs": [
    {
     "data": {
      "text/html": [
       "<div>\n",
       "<style scoped>\n",
       "    .dataframe tbody tr th:only-of-type {\n",
       "        vertical-align: middle;\n",
       "    }\n",
       "\n",
       "    .dataframe tbody tr th {\n",
       "        vertical-align: top;\n",
       "    }\n",
       "\n",
       "    .dataframe thead th {\n",
       "        text-align: right;\n",
       "    }\n",
       "</style>\n",
       "<table border=\"1\" class=\"dataframe\">\n",
       "  <thead>\n",
       "    <tr style=\"text-align: right;\">\n",
       "      <th></th>\n",
       "      <th>player_id</th>\n",
       "      <th>season</th>\n",
       "      <th>shotgun_rate</th>\n",
       "      <th>total_passes</th>\n",
       "      <th>avg_time_to_throw</th>\n",
       "      <th>air_epa</th>\n",
       "    </tr>\n",
       "  </thead>\n",
       "  <tbody>\n",
       "    <tr>\n",
       "      <th>0</th>\n",
       "      <td>00-0000098</td>\n",
       "      <td>2000</td>\n",
       "      <td>0.000000</td>\n",
       "      <td>1.0</td>\n",
       "      <td>NaN</td>\n",
       "      <td>0.000000</td>\n",
       "    </tr>\n",
       "    <tr>\n",
       "      <th>1</th>\n",
       "      <td>00-0000104</td>\n",
       "      <td>1999</td>\n",
       "      <td>0.320988</td>\n",
       "      <td>486.0</td>\n",
       "      <td>NaN</td>\n",
       "      <td>0.000000</td>\n",
       "    </tr>\n",
       "    <tr>\n",
       "      <th>2</th>\n",
       "      <td>00-0000104</td>\n",
       "      <td>2000</td>\n",
       "      <td>0.003663</td>\n",
       "      <td>273.0</td>\n",
       "      <td>NaN</td>\n",
       "      <td>0.000000</td>\n",
       "    </tr>\n",
       "    <tr>\n",
       "      <th>3</th>\n",
       "      <td>00-0000108</td>\n",
       "      <td>2006</td>\n",
       "      <td>0.000000</td>\n",
       "      <td>1.0</td>\n",
       "      <td>NaN</td>\n",
       "      <td>-0.702337</td>\n",
       "    </tr>\n",
       "    <tr>\n",
       "      <th>4</th>\n",
       "      <td>00-0000108</td>\n",
       "      <td>2011</td>\n",
       "      <td>0.000000</td>\n",
       "      <td>1.0</td>\n",
       "      <td>NaN</td>\n",
       "      <td>2.770659</td>\n",
       "    </tr>\n",
       "    <tr>\n",
       "      <th>...</th>\n",
       "      <td>...</td>\n",
       "      <td>...</td>\n",
       "      <td>...</td>\n",
       "      <td>...</td>\n",
       "      <td>...</td>\n",
       "      <td>...</td>\n",
       "    </tr>\n",
       "    <tr>\n",
       "      <th>2787</th>\n",
       "      <td>00-0039890</td>\n",
       "      <td>2024</td>\n",
       "      <td>1.000000</td>\n",
       "      <td>1.0</td>\n",
       "      <td>NaN</td>\n",
       "      <td>-1.090507</td>\n",
       "    </tr>\n",
       "    <tr>\n",
       "      <th>2788</th>\n",
       "      <td>00-0039910</td>\n",
       "      <td>2024</td>\n",
       "      <td>0.962963</td>\n",
       "      <td>648.0</td>\n",
       "      <td>NaN</td>\n",
       "      <td>246.947754</td>\n",
       "    </tr>\n",
       "    <tr>\n",
       "      <th>2789</th>\n",
       "      <td>00-0039916</td>\n",
       "      <td>2024</td>\n",
       "      <td>0.000000</td>\n",
       "      <td>1.0</td>\n",
       "      <td>NaN</td>\n",
       "      <td>0.634156</td>\n",
       "    </tr>\n",
       "    <tr>\n",
       "      <th>2790</th>\n",
       "      <td>00-0039917</td>\n",
       "      <td>2024</td>\n",
       "      <td>0.944954</td>\n",
       "      <td>109.0</td>\n",
       "      <td>NaN</td>\n",
       "      <td>88.884308</td>\n",
       "    </tr>\n",
       "    <tr>\n",
       "      <th>2791</th>\n",
       "      <td>00-0039918</td>\n",
       "      <td>2024</td>\n",
       "      <td>0.860063</td>\n",
       "      <td>636.0</td>\n",
       "      <td>NaN</td>\n",
       "      <td>264.050110</td>\n",
       "    </tr>\n",
       "  </tbody>\n",
       "</table>\n",
       "<p>2792 rows × 6 columns</p>\n",
       "</div>"
      ],
      "text/plain": [
       "       player_id  season  shotgun_rate  total_passes  avg_time_to_throw  \\\n",
       "0     00-0000098    2000      0.000000           1.0                NaN   \n",
       "1     00-0000104    1999      0.320988         486.0                NaN   \n",
       "2     00-0000104    2000      0.003663         273.0                NaN   \n",
       "3     00-0000108    2006      0.000000           1.0                NaN   \n",
       "4     00-0000108    2011      0.000000           1.0                NaN   \n",
       "...          ...     ...           ...           ...                ...   \n",
       "2787  00-0039890    2024      1.000000           1.0                NaN   \n",
       "2788  00-0039910    2024      0.962963         648.0                NaN   \n",
       "2789  00-0039916    2024      0.000000           1.0                NaN   \n",
       "2790  00-0039917    2024      0.944954         109.0                NaN   \n",
       "2791  00-0039918    2024      0.860063         636.0                NaN   \n",
       "\n",
       "         air_epa  \n",
       "0       0.000000  \n",
       "1       0.000000  \n",
       "2       0.000000  \n",
       "3      -0.702337  \n",
       "4       2.770659  \n",
       "...          ...  \n",
       "2787   -1.090507  \n",
       "2788  246.947754  \n",
       "2789    0.634156  \n",
       "2790   88.884308  \n",
       "2791  264.050110  \n",
       "\n",
       "[2792 rows x 6 columns]"
      ]
     },
     "execution_count": 6,
     "metadata": {},
     "output_type": "execute_result"
    }
   ],
   "source": [
    "pass_stats"
   ]
  },
  {
   "cell_type": "code",
   "execution_count": 7,
   "id": "a0d2b4d6",
   "metadata": {},
   "outputs": [
    {
     "data": {
      "text/html": [
       "<div>\n",
       "<style scoped>\n",
       "    .dataframe tbody tr th:only-of-type {\n",
       "        vertical-align: middle;\n",
       "    }\n",
       "\n",
       "    .dataframe tbody tr th {\n",
       "        vertical-align: top;\n",
       "    }\n",
       "\n",
       "    .dataframe thead th {\n",
       "        text-align: right;\n",
       "    }\n",
       "</style>\n",
       "<table border=\"1\" class=\"dataframe\">\n",
       "  <thead>\n",
       "    <tr style=\"text-align: right;\">\n",
       "      <th></th>\n",
       "      <th>player_id</th>\n",
       "      <th>season</th>\n",
       "      <th>qb_scramble_rate</th>\n",
       "      <th>total_runs</th>\n",
       "      <th>rushing_yards</th>\n",
       "    </tr>\n",
       "  </thead>\n",
       "  <tbody>\n",
       "    <tr>\n",
       "      <th>0</th>\n",
       "      <td>0</td>\n",
       "      <td>2000</td>\n",
       "      <td>0.000000</td>\n",
       "      <td>1</td>\n",
       "      <td>0.0</td>\n",
       "    </tr>\n",
       "    <tr>\n",
       "      <th>1</th>\n",
       "      <td>00-0000003</td>\n",
       "      <td>1999</td>\n",
       "      <td>0.006993</td>\n",
       "      <td>143</td>\n",
       "      <td>443.0</td>\n",
       "    </tr>\n",
       "    <tr>\n",
       "      <th>2</th>\n",
       "      <td>00-0000003</td>\n",
       "      <td>2000</td>\n",
       "      <td>0.000000</td>\n",
       "      <td>1</td>\n",
       "      <td>-2.0</td>\n",
       "    </tr>\n",
       "    <tr>\n",
       "      <th>3</th>\n",
       "      <td>00-0000007</td>\n",
       "      <td>1999</td>\n",
       "      <td>0.000000</td>\n",
       "      <td>5</td>\n",
       "      <td>12.0</td>\n",
       "    </tr>\n",
       "    <tr>\n",
       "      <th>4</th>\n",
       "      <td>00-0000007</td>\n",
       "      <td>2000</td>\n",
       "      <td>0.000000</td>\n",
       "      <td>16</td>\n",
       "      <td>70.0</td>\n",
       "    </tr>\n",
       "    <tr>\n",
       "      <th>...</th>\n",
       "      <td>...</td>\n",
       "      <td>...</td>\n",
       "      <td>...</td>\n",
       "      <td>...</td>\n",
       "      <td>...</td>\n",
       "    </tr>\n",
       "    <tr>\n",
       "      <th>8729</th>\n",
       "      <td>00-0039917</td>\n",
       "      <td>2024</td>\n",
       "      <td>0.800000</td>\n",
       "      <td>5</td>\n",
       "      <td>14.0</td>\n",
       "    </tr>\n",
       "    <tr>\n",
       "      <th>8730</th>\n",
       "      <td>00-0039918</td>\n",
       "      <td>2024</td>\n",
       "      <td>0.666667</td>\n",
       "      <td>75</td>\n",
       "      <td>495.0</td>\n",
       "    </tr>\n",
       "    <tr>\n",
       "      <th>8731</th>\n",
       "      <td>00-0039919</td>\n",
       "      <td>2024</td>\n",
       "      <td>0.000000</td>\n",
       "      <td>3</td>\n",
       "      <td>15.0</td>\n",
       "    </tr>\n",
       "    <tr>\n",
       "      <th>8732</th>\n",
       "      <td>00-0039920</td>\n",
       "      <td>2024</td>\n",
       "      <td>0.000000</td>\n",
       "      <td>2</td>\n",
       "      <td>26.0</td>\n",
       "    </tr>\n",
       "    <tr>\n",
       "      <th>8733</th>\n",
       "      <td>00-0039921</td>\n",
       "      <td>2024</td>\n",
       "      <td>0.000000</td>\n",
       "      <td>63</td>\n",
       "      <td>291.0</td>\n",
       "    </tr>\n",
       "  </tbody>\n",
       "</table>\n",
       "<p>8734 rows × 5 columns</p>\n",
       "</div>"
      ],
      "text/plain": [
       "       player_id  season  qb_scramble_rate  total_runs  rushing_yards\n",
       "0              0    2000          0.000000           1            0.0\n",
       "1     00-0000003    1999          0.006993         143          443.0\n",
       "2     00-0000003    2000          0.000000           1           -2.0\n",
       "3     00-0000007    1999          0.000000           5           12.0\n",
       "4     00-0000007    2000          0.000000          16           70.0\n",
       "...          ...     ...               ...         ...            ...\n",
       "8729  00-0039917    2024          0.800000           5           14.0\n",
       "8730  00-0039918    2024          0.666667          75          495.0\n",
       "8731  00-0039919    2024          0.000000           3           15.0\n",
       "8732  00-0039920    2024          0.000000           2           26.0\n",
       "8733  00-0039921    2024          0.000000          63          291.0\n",
       "\n",
       "[8734 rows x 5 columns]"
      ]
     },
     "execution_count": 7,
     "metadata": {},
     "output_type": "execute_result"
    }
   ],
   "source": [
    "run_stats = relevant[relevant['play_type'] == 'run'].groupby(['player_id', 'season']).agg({'qb_scramble' : ['sum', 'count'], 'rushing_yards' : 'sum'})\n",
    "run_stats.columns = ['qb_scramble_sum', 'total_runs', 'rushing_yards']\n",
    "run_stats['qb_scramble_rate'] = run_stats.qb_scramble_sum / run_stats.total_runs\n",
    "run_stats = run_stats[['qb_scramble_rate', 'total_runs', 'rushing_yards']]\n",
    "run_stats = run_stats.reset_index()\n",
    "run_stats"
   ]
  },
  {
   "cell_type": "code",
   "execution_count": 8,
   "id": "e72b5a70",
   "metadata": {},
   "outputs": [],
   "source": [
    "total_data = weekly_relevant.merge(pass_stats, left_on=['player_id', 'season'], right_on=['player_id', 'season'])\n",
    "total_data = total_data.merge(run_stats, left_on=['player_id', 'season'], right_on=['player_id', 'season'])\n",
    "total_data.set_index(['player_id', 'season'])\n",
    "\n",
    "total_data['sacks_per_dropback'] = total_data['sacks'] / total_data['total_passes']\n",
    "total_data['sack_fumbles'] = total_data['sack_fumbles'] / total_data['total_passes']\n",
    "\n",
    "total_data['interceptions_per_game'] = total_data['interceptions'] / total_data['games_played']\n",
    "total_data['passing_tds_per_game'] = total_data['passing_tds'] / total_data['games_played']\n",
    "total_data['passing_air_yards_per_attempt'] = total_data['passing_air_yards'] / total_data['attempts']\n",
    "total_data['passing_yards_per_game'] = total_data['passing_yards'] / total_data['games_played']\n",
    "\n",
    "total_data['rushing_tds_per_game'] = total_data['rushing_tds'] / total_data['games_played']\n",
    "total_data['rushing_fumbles_per_game'] = total_data['rushing_fumbles'] / total_data['games_played']\n",
    "total_data['rushing_yards_per_game'] = total_data['rushing_yards'] / total_data['games_played']\n",
    "total_data['rushing_yards_per_attempt'] = total_data['rushing_yards'] / total_data['total_runs']\n",
    "\n",
    "total_data['pass_pct'] = total_data.total_passes / (total_data.total_passes + total_data.total_runs)\n",
    "\n",
    "total_data['runs_per_game'] = total_data['total_runs'] / total_data['games_played']\n",
    "total_data['attempts_per_game'] = total_data['attempts'] / total_data['games_played']\n",
    "\n",
    "total_data['td:int'] = total_data['passing_tds'] / total_data['interceptions']\n",
    "total_data['air_yard:completion_pct'] = total_data['passing_air_yards_per_attempt'] / total_data['completion_pct']\n",
    "\n",
    "total_data = total_data[['player_id', 'season', 'sacks_per_dropback', 'attempts_per_game', 'rushing_tds_per_game', 'passing_tds_per_game', 'interceptions', \n",
    "                         'shotgun_rate', 'passing_air_yards_per_attempt', 'completion_pct',\n",
    "                         'rushing_fumbles_per_game', 'rushing_yards_per_game', 'rushing_yards_per_attempt', 'pass_pct',\n",
    "                         'air_yard:completion_pct', 'td:int']]"
   ]
  },
  {
   "cell_type": "code",
   "execution_count": 9,
   "id": "af14c784",
   "metadata": {},
   "outputs": [
    {
     "data": {
      "text/plain": [
       "[(1999, 'Troy Aikman'),\n",
       " (2000, 'Troy Aikman'),\n",
       " (1999, 'Tony Banks'),\n",
       " (2000, 'Tony Banks'),\n",
       " (2001, 'Tony Banks'),\n",
       " (1999, 'Charlie Batch'),\n",
       " (2000, 'Charlie Batch'),\n",
       " (2001, 'Charlie Batch'),\n",
       " (1999, 'Steve Beuerlein'),\n",
       " (2000, 'Steve Beuerlein'),\n",
       " (1999, 'Jeff Blake'),\n",
       " (2000, 'Jeff Blake'),\n",
       " (2002, 'Jeff Blake'),\n",
       " (2003, 'Jeff Blake'),\n",
       " (1999, 'Drew Bledsoe'),\n",
       " (2000, 'Drew Bledsoe'),\n",
       " (2002, 'Drew Bledsoe'),\n",
       " (2003, 'Drew Bledsoe'),\n",
       " (2004, 'Drew Bledsoe'),\n",
       " (2005, 'Drew Bledsoe'),\n",
       " (2000, 'Aaron Brooks'),\n",
       " (2001, 'Aaron Brooks'),\n",
       " (2002, 'Aaron Brooks'),\n",
       " (2003, 'Aaron Brooks'),\n",
       " (2004, 'Aaron Brooks'),\n",
       " (2005, 'Aaron Brooks'),\n",
       " (1999, 'Mark Brunell'),\n",
       " (2000, 'Mark Brunell'),\n",
       " (2001, 'Mark Brunell'),\n",
       " (2002, 'Mark Brunell'),\n",
       " (2004, 'Mark Brunell'),\n",
       " (2005, 'Mark Brunell'),\n",
       " (2006, 'Mark Brunell'),\n",
       " (1999, 'Chris Chandler'),\n",
       " (2000, 'Chris Chandler'),\n",
       " (2001, 'Chris Chandler'),\n",
       " (1999, 'Kerry Collins'),\n",
       " (2000, 'Kerry Collins'),\n",
       " (2001, 'Kerry Collins'),\n",
       " (2002, 'Kerry Collins'),\n",
       " (2003, 'Kerry Collins'),\n",
       " (2004, 'Kerry Collins'),\n",
       " (2005, 'Kerry Collins'),\n",
       " (2008, 'Kerry Collins'),\n",
       " (2010, 'Kerry Collins'),\n",
       " (1999, 'Tim Couch'),\n",
       " (2001, 'Tim Couch'),\n",
       " (2002, 'Tim Couch'),\n",
       " (2003, 'Tim Couch'),\n",
       " (2000, 'Daunte Culpepper'),\n",
       " (2001, 'Daunte Culpepper'),\n",
       " (2002, 'Daunte Culpepper'),\n",
       " (2003, 'Daunte Culpepper'),\n",
       " (2004, 'Daunte Culpepper'),\n",
       " (2003, 'Jake Delhomme'),\n",
       " (2004, 'Jake Delhomme'),\n",
       " (2005, 'Jake Delhomme'),\n",
       " (2006, 'Jake Delhomme'),\n",
       " (2008, 'Jake Delhomme'),\n",
       " (2009, 'Jake Delhomme'),\n",
       " (1999, 'Trent Dilfer'),\n",
       " (2000, 'Trent Dilfer'),\n",
       " (2005, 'Trent Dilfer'),\n",
       " (1999, 'Brett Favre'),\n",
       " (2000, 'Brett Favre'),\n",
       " (2001, 'Brett Favre'),\n",
       " (2002, 'Brett Favre'),\n",
       " (2003, 'Brett Favre'),\n",
       " (2004, 'Brett Favre'),\n",
       " (2005, 'Brett Favre'),\n",
       " (2006, 'Brett Favre'),\n",
       " (2007, 'Brett Favre'),\n",
       " (2008, 'Brett Favre'),\n",
       " (2009, 'Brett Favre'),\n",
       " (2010, 'Brett Favre'),\n",
       " (2000, 'Jay Fiedler'),\n",
       " (2001, 'Jay Fiedler'),\n",
       " (2002, 'Jay Fiedler'),\n",
       " (2003, 'Jay Fiedler'),\n",
       " (1999, 'Doug Flutie'),\n",
       " (2000, 'Doug Flutie'),\n",
       " (2001, 'Doug Flutie'),\n",
       " (1999, 'Gus Frerotte'),\n",
       " (2000, 'Gus Frerotte'),\n",
       " (2005, 'Gus Frerotte'),\n",
       " (2008, 'Gus Frerotte'),\n",
       " (1999, 'Rich Gannon'),\n",
       " (2000, 'Rich Gannon'),\n",
       " (2001, 'Rich Gannon'),\n",
       " (2002, 'Rich Gannon'),\n",
       " (1999, 'Jeff Garcia'),\n",
       " (2000, 'Jeff Garcia'),\n",
       " (2001, 'Jeff Garcia'),\n",
       " (2002, 'Jeff Garcia'),\n",
       " (2003, 'Jeff Garcia'),\n",
       " (2004, 'Jeff Garcia'),\n",
       " (2006, 'Jeff Garcia'),\n",
       " (2007, 'Jeff Garcia'),\n",
       " (2008, 'Jeff Garcia'),\n",
       " (1999, 'Jeff George'),\n",
       " (1999, 'Kent Graham'),\n",
       " (1999, 'Elvis Grbac'),\n",
       " (2000, 'Elvis Grbac'),\n",
       " (2001, 'Elvis Grbac'),\n",
       " (2001, 'Trent Green'),\n",
       " (2002, 'Trent Green'),\n",
       " (2003, 'Trent Green'),\n",
       " (2004, 'Trent Green'),\n",
       " (2005, 'Trent Green'),\n",
       " (2006, 'Trent Green'),\n",
       " (1999, 'Brian Griese'),\n",
       " (2000, 'Brian Griese'),\n",
       " (2001, 'Brian Griese'),\n",
       " (2002, 'Brian Griese'),\n",
       " (2004, 'Brian Griese'),\n",
       " (1999, 'Jim Harbaugh'),\n",
       " (2001, 'Matt Hasselbeck'),\n",
       " (2002, 'Matt Hasselbeck'),\n",
       " (2003, 'Matt Hasselbeck'),\n",
       " (2004, 'Matt Hasselbeck'),\n",
       " (2005, 'Matt Hasselbeck'),\n",
       " (2006, 'Matt Hasselbeck'),\n",
       " (2007, 'Matt Hasselbeck'),\n",
       " (2009, 'Matt Hasselbeck'),\n",
       " (2010, 'Matt Hasselbeck'),\n",
       " (2011, 'Matt Hasselbeck'),\n",
       " (2003, 'Kelly Holcomb'),\n",
       " (2005, 'Kelly Holcomb'),\n",
       " (1999, 'Damon Huard'),\n",
       " (2006, 'Damon Huard'),\n",
       " (2007, 'Damon Huard'),\n",
       " (1999, 'Brad Johnson'),\n",
       " (2000, 'Brad Johnson'),\n",
       " (2001, 'Brad Johnson'),\n",
       " (2002, 'Brad Johnson'),\n",
       " (2003, 'Brad Johnson'),\n",
       " (2005, 'Brad Johnson'),\n",
       " (2006, 'Brad Johnson'),\n",
       " (2000, 'Rob Johnson'),\n",
       " (2000, 'Shaun King'),\n",
       " (1999, 'Jon Kitna'),\n",
       " (2000, 'Jon Kitna'),\n",
       " (2001, 'Jon Kitna'),\n",
       " (2002, 'Jon Kitna'),\n",
       " (2003, 'Jon Kitna'),\n",
       " (2006, 'Jon Kitna'),\n",
       " (2007, 'Jon Kitna'),\n",
       " (2010, 'Jon Kitna'),\n",
       " (2000, 'Ryan Leaf'),\n",
       " (1999, 'Ray Lucas'),\n",
       " (2002, 'Tommy Maddox'),\n",
       " (2003, 'Tommy Maddox'),\n",
       " (1999, 'Peyton Manning'),\n",
       " (2000, 'Peyton Manning'),\n",
       " (2001, 'Peyton Manning'),\n",
       " (2002, 'Peyton Manning'),\n",
       " (2003, 'Peyton Manning'),\n",
       " (2004, 'Peyton Manning'),\n",
       " (2005, 'Peyton Manning'),\n",
       " (2006, 'Peyton Manning'),\n",
       " (2007, 'Peyton Manning'),\n",
       " (2008, 'Peyton Manning'),\n",
       " (2009, 'Peyton Manning'),\n",
       " (2010, 'Peyton Manning'),\n",
       " (2012, 'Peyton Manning'),\n",
       " (2013, 'Peyton Manning'),\n",
       " (2014, 'Peyton Manning'),\n",
       " (2015, 'Peyton Manning'),\n",
       " (1999, 'Dan Marino'),\n",
       " (1999, 'Donovan McNabb'),\n",
       " (2000, 'Donovan McNabb'),\n",
       " (2001, 'Donovan McNabb'),\n",
       " (2002, 'Donovan McNabb'),\n",
       " (2003, 'Donovan McNabb'),\n",
       " (2004, 'Donovan McNabb'),\n",
       " (2005, 'Donovan McNabb'),\n",
       " (2006, 'Donovan McNabb'),\n",
       " (2007, 'Donovan McNabb'),\n",
       " (2008, 'Donovan McNabb'),\n",
       " (2009, 'Donovan McNabb'),\n",
       " (2010, 'Donovan McNabb'),\n",
       " (1999, 'Steve McNair'),\n",
       " (2000, 'Steve McNair'),\n",
       " (2001, 'Steve McNair'),\n",
       " (2002, 'Steve McNair'),\n",
       " (2003, 'Steve McNair'),\n",
       " (2005, 'Steve McNair'),\n",
       " (2006, 'Steve McNair'),\n",
       " (1999, 'Cade McNown'),\n",
       " (2000, 'Cade McNown'),\n",
       " (2001, 'Jim Miller'),\n",
       " (2002, 'Jim Miller'),\n",
       " (2003, 'Rick Mirer'),\n",
       " (1999, 'Doug Pederson'),\n",
       " (2000, 'Doug Pederson'),\n",
       " (2002, 'Rodney Peete'),\n",
       " (1999, 'Jake Plummer'),\n",
       " (2000, 'Jake Plummer'),\n",
       " (2001, 'Jake Plummer'),\n",
       " (2002, 'Jake Plummer'),\n",
       " (2003, 'Jake Plummer'),\n",
       " (2004, 'Jake Plummer'),\n",
       " (2005, 'Jake Plummer'),\n",
       " (2006, 'Jake Plummer'),\n",
       " (2000, 'Akili Smith'),\n",
       " (1999, 'Kordell Stewart'),\n",
       " (2000, 'Kordell Stewart'),\n",
       " (2001, 'Kordell Stewart'),\n",
       " (2003, 'Kordell Stewart'),\n",
       " (2000, 'Vinny Testaverde'),\n",
       " (2001, 'Vinny Testaverde'),\n",
       " (2004, 'Vinny Testaverde'),\n",
       " (1999, 'Billy Joe Tolliver'),\n",
       " (1999, 'Mike Tomczak'),\n",
       " (2001, 'Alex Van Pelt'),\n",
       " (1999, 'Kurt Warner'),\n",
       " (2000, 'Kurt Warner'),\n",
       " (2001, 'Kurt Warner'),\n",
       " (2004, 'Kurt Warner'),\n",
       " (2005, 'Kurt Warner'),\n",
       " (2007, 'Kurt Warner'),\n",
       " (2008, 'Kurt Warner'),\n",
       " (2009, 'Kurt Warner'),\n",
       " (2004, 'Billy Volek'),\n",
       " (2003, 'Doug Johnson'),\n",
       " (2002, 'Chad Pennington'),\n",
       " (2003, 'Chad Pennington'),\n",
       " (2004, 'Chad Pennington'),\n",
       " (2006, 'Chad Pennington'),\n",
       " (2007, 'Chad Pennington'),\n",
       " (2008, 'Chad Pennington'),\n",
       " (2001, 'Tom Brady'),\n",
       " (2002, 'Tom Brady'),\n",
       " (2003, 'Tom Brady'),\n",
       " (2004, 'Tom Brady'),\n",
       " (2005, 'Tom Brady'),\n",
       " (2006, 'Tom Brady'),\n",
       " (2007, 'Tom Brady'),\n",
       " (2009, 'Tom Brady'),\n",
       " (2010, 'Tom Brady'),\n",
       " (2011, 'Tom Brady'),\n",
       " (2012, 'Tom Brady'),\n",
       " (2013, 'Tom Brady'),\n",
       " (2014, 'Tom Brady'),\n",
       " (2015, 'Tom Brady'),\n",
       " (2016, 'Tom Brady'),\n",
       " (2017, 'Tom Brady'),\n",
       " (2018, 'Tom Brady'),\n",
       " (2019, 'Tom Brady'),\n",
       " (2020, 'Tom Brady'),\n",
       " (2021, 'Tom Brady'),\n",
       " (2022, 'Tom Brady'),\n",
       " (2003, 'Marc Bulger'),\n",
       " (2004, 'Marc Bulger'),\n",
       " (2006, 'Marc Bulger'),\n",
       " (2007, 'Marc Bulger'),\n",
       " (2008, 'Marc Bulger'),\n",
       " (2009, 'Marc Bulger'),\n",
       " (2004, 'Tim Rattay'),\n",
       " (2002, 'Mike Vick'),\n",
       " (2004, 'Mike Vick'),\n",
       " (2005, 'Mike Vick'),\n",
       " (2006, 'Mike Vick'),\n",
       " (2010, 'Mike Vick'),\n",
       " (2011, 'Mike Vick'),\n",
       " (2012, 'Mike Vick'),\n",
       " (2004, 'A.J. Feeley'),\n",
       " (2005, 'Mike McMahon'),\n",
       " (2003, 'Quincy Carter'),\n",
       " (2001, 'Chris Weinke'),\n",
       " (2007, 'Sage Rosenfels'),\n",
       " (2002, 'Drew Brees'),\n",
       " (2003, 'Drew Brees'),\n",
       " (2004, 'Drew Brees'),\n",
       " (2005, 'Drew Brees'),\n",
       " (2006, 'Drew Brees'),\n",
       " (2007, 'Drew Brees'),\n",
       " (2008, 'Drew Brees'),\n",
       " (2009, 'Drew Brees'),\n",
       " (2010, 'Drew Brees'),\n",
       " (2011, 'Drew Brees'),\n",
       " (2012, 'Drew Brees'),\n",
       " (2013, 'Drew Brees'),\n",
       " (2014, 'Drew Brees'),\n",
       " (2015, 'Drew Brees'),\n",
       " (2016, 'Drew Brees'),\n",
       " (2017, 'Drew Brees'),\n",
       " (2018, 'Drew Brees'),\n",
       " (2019, 'Drew Brees'),\n",
       " (2020, 'Drew Brees'),\n",
       " (2002, 'Chad Hutchinson'),\n",
       " (2007, 'Cleo Lemon'),\n",
       " (2002, 'David Carr'),\n",
       " (2003, 'David Carr'),\n",
       " (2004, 'David Carr'),\n",
       " (2005, 'David Carr'),\n",
       " (2006, 'David Carr'),\n",
       " (2008, 'Shaun Hill'),\n",
       " (2010, 'Shaun Hill'),\n",
       " (2002, 'Joey Harrington'),\n",
       " (2003, 'Joey Harrington'),\n",
       " (2004, 'Joey Harrington'),\n",
       " (2005, 'Joey Harrington'),\n",
       " (2006, 'Joey Harrington'),\n",
       " (2007, 'Joey Harrington'),\n",
       " (2004, 'Josh McCown'),\n",
       " (2005, 'Josh McCown'),\n",
       " (2014, 'Josh McCown'),\n",
       " (2017, 'Josh McCown'),\n",
       " (2006, 'David Garrard'),\n",
       " (2007, 'David Garrard'),\n",
       " (2008, 'David Garrard'),\n",
       " (2009, 'David Garrard'),\n",
       " (2010, 'David Garrard'),\n",
       " (2008, \"J.T. O'Sullivan\"),\n",
       " (2002, 'Patrick Ramsey'),\n",
       " (2003, 'Patrick Ramsey'),\n",
       " (2004, 'Patrick Ramsey'),\n",
       " (2004, 'Carson Palmer'),\n",
       " (2005, 'Carson Palmer'),\n",
       " (2006, 'Carson Palmer'),\n",
       " (2007, 'Carson Palmer'),\n",
       " (2009, 'Carson Palmer'),\n",
       " (2010, 'Carson Palmer'),\n",
       " (2011, 'Carson Palmer'),\n",
       " (2012, 'Carson Palmer'),\n",
       " (2013, 'Carson Palmer'),\n",
       " (2015, 'Carson Palmer'),\n",
       " (2016, 'Carson Palmer'),\n",
       " (2006, 'Tony Romo'),\n",
       " (2007, 'Tony Romo'),\n",
       " (2008, 'Tony Romo'),\n",
       " (2009, 'Tony Romo'),\n",
       " (2011, 'Tony Romo'),\n",
       " (2012, 'Tony Romo'),\n",
       " (2013, 'Tony Romo'),\n",
       " (2014, 'Tony Romo'),\n",
       " (2005, 'Chris Simms'),\n",
       " (2005, 'Brooks Bollinger'),\n",
       " (2008, 'Seneca Wallace'),\n",
       " (2006, 'Rex Grossman'),\n",
       " (2011, 'Rex Grossman'),\n",
       " (2003, 'Kyle Boller'),\n",
       " (2004, 'Kyle Boller'),\n",
       " (2005, 'Kyle Boller'),\n",
       " (2007, 'Kyle Boller'),\n",
       " (2003, 'Byron Leftwich'),\n",
       " (2004, 'Byron Leftwich'),\n",
       " (2005, 'Byron Leftwich'),\n",
       " (2007, 'Matt Schaub'),\n",
       " (2008, 'Matt Schaub'),\n",
       " (2009, 'Matt Schaub'),\n",
       " (2010, 'Matt Schaub'),\n",
       " (2011, 'Matt Schaub'),\n",
       " (2012, 'Matt Schaub'),\n",
       " (2013, 'Matt Schaub'),\n",
       " (2005, 'Eli Manning'),\n",
       " (2006, 'Eli Manning'),\n",
       " (2007, 'Eli Manning'),\n",
       " (2008, 'Eli Manning'),\n",
       " (2009, 'Eli Manning'),\n",
       " (2010, 'Eli Manning'),\n",
       " (2011, 'Eli Manning'),\n",
       " (2012, 'Eli Manning'),\n",
       " (2013, 'Eli Manning'),\n",
       " (2014, 'Eli Manning'),\n",
       " (2015, 'Eli Manning'),\n",
       " (2016, 'Eli Manning'),\n",
       " (2017, 'Eli Manning'),\n",
       " (2018, 'Eli Manning'),\n",
       " (2005, 'J.P. Losman'),\n",
       " (2006, 'J.P. Losman'),\n",
       " (2004, 'Ben Roethlisberger'),\n",
       " (2005, 'Ben Roethlisberger'),\n",
       " (2006, 'Ben Roethlisberger'),\n",
       " (2007, 'Ben Roethlisberger'),\n",
       " (2008, 'Ben Roethlisberger'),\n",
       " (2009, 'Ben Roethlisberger'),\n",
       " (2010, 'Ben Roethlisberger'),\n",
       " (2011, 'Ben Roethlisberger'),\n",
       " (2012, 'Ben Roethlisberger'),\n",
       " (2013, 'Ben Roethlisberger'),\n",
       " (2014, 'Ben Roethlisberger'),\n",
       " (2015, 'Ben Roethlisberger'),\n",
       " (2016, 'Ben Roethlisberger'),\n",
       " (2017, 'Ben Roethlisberger'),\n",
       " (2018, 'Ben Roethlisberger'),\n",
       " (2020, 'Ben Roethlisberger'),\n",
       " (2021, 'Ben Roethlisberger'),\n",
       " (2006, 'Philip Rivers'),\n",
       " (2007, 'Philip Rivers'),\n",
       " (2008, 'Philip Rivers'),\n",
       " (2009, 'Philip Rivers'),\n",
       " (2010, 'Philip Rivers'),\n",
       " (2011, 'Philip Rivers'),\n",
       " (2012, 'Philip Rivers'),\n",
       " (2013, 'Philip Rivers'),\n",
       " (2014, 'Philip Rivers'),\n",
       " (2015, 'Philip Rivers'),\n",
       " (2016, 'Philip Rivers'),\n",
       " (2017, 'Philip Rivers'),\n",
       " (2018, 'Philip Rivers'),\n",
       " (2019, 'Philip Rivers'),\n",
       " (2020, 'Philip Rivers'),\n",
       " (2006, 'Alex Smith'),\n",
       " (2009, 'Alex Smith'),\n",
       " (2010, 'Alex Smith'),\n",
       " (2011, 'Alex Smith'),\n",
       " (2012, 'Alex Smith'),\n",
       " (2013, 'Alex Smith'),\n",
       " (2014, 'Alex Smith'),\n",
       " (2015, 'Alex Smith'),\n",
       " (2016, 'Alex Smith'),\n",
       " (2017, 'Alex Smith'),\n",
       " (2018, 'Alex Smith'),\n",
       " (2008, 'Aaron Rodgers'),\n",
       " (2009, 'Aaron Rodgers'),\n",
       " (2010, 'Aaron Rodgers'),\n",
       " (2011, 'Aaron Rodgers'),\n",
       " (2012, 'Aaron Rodgers'),\n",
       " (2013, 'Aaron Rodgers'),\n",
       " (2014, 'Aaron Rodgers'),\n",
       " (2015, 'Aaron Rodgers'),\n",
       " (2016, 'Aaron Rodgers'),\n",
       " (2018, 'Aaron Rodgers'),\n",
       " (2019, 'Aaron Rodgers'),\n",
       " (2020, 'Aaron Rodgers'),\n",
       " (2021, 'Aaron Rodgers'),\n",
       " (2022, 'Aaron Rodgers'),\n",
       " (2024, 'Aaron Rodgers'),\n",
       " (2007, 'Jason Campbell'),\n",
       " (2008, 'Jason Campbell'),\n",
       " (2009, 'Jason Campbell'),\n",
       " (2010, 'Jason Campbell'),\n",
       " (2013, 'Jason Campbell'),\n",
       " (2006, 'Charlie Frye'),\n",
       " (2006, 'Andrew Walter'),\n",
       " (2005, 'Kyle Orton'),\n",
       " (2008, 'Kyle Orton'),\n",
       " (2009, 'Kyle Orton'),\n",
       " (2010, 'Kyle Orton'),\n",
       " (2011, 'Kyle Orton'),\n",
       " (2014, 'Kyle Orton'),\n",
       " (2008, 'Dan Orlovsky'),\n",
       " (2007, 'Derek Anderson'),\n",
       " (2008, 'Derek Anderson'),\n",
       " (2010, 'Derek Anderson'),\n",
       " (2008, 'Matt Cassel'),\n",
       " (2009, 'Matt Cassel'),\n",
       " (2010, 'Matt Cassel'),\n",
       " (2011, 'Matt Cassel'),\n",
       " (2012, 'Matt Cassel'),\n",
       " (2013, 'Matt Cassel'),\n",
       " (2008, 'Ryan Fitzpatrick'),\n",
       " (2009, 'Ryan Fitzpatrick'),\n",
       " (2010, 'Ryan Fitzpatrick'),\n",
       " (2011, 'Ryan Fitzpatrick'),\n",
       " (2012, 'Ryan Fitzpatrick'),\n",
       " (2013, 'Ryan Fitzpatrick'),\n",
       " (2014, 'Ryan Fitzpatrick'),\n",
       " (2015, 'Ryan Fitzpatrick'),\n",
       " (2016, 'Ryan Fitzpatrick'),\n",
       " (2019, 'Ryan Fitzpatrick'),\n",
       " (2020, 'Ryan Fitzpatrick'),\n",
       " (2006, 'Vince Young'),\n",
       " (2007, 'Vince Young'),\n",
       " (2009, 'Vince Young'),\n",
       " (2006, 'Matt Leinart'),\n",
       " (2007, 'Jay Cutler'),\n",
       " (2008, 'Jay Cutler'),\n",
       " (2009, 'Jay Cutler'),\n",
       " (2010, 'Jay Cutler'),\n",
       " (2011, 'Jay Cutler'),\n",
       " (2012, 'Jay Cutler'),\n",
       " (2013, 'Jay Cutler'),\n",
       " (2014, 'Jay Cutler'),\n",
       " (2015, 'Jay Cutler'),\n",
       " (2017, 'Jay Cutler'),\n",
       " (2007, 'Kellen Clemens'),\n",
       " (2013, 'Kellen Clemens'),\n",
       " (2007, 'Tarvaris Jackson'),\n",
       " (2011, 'Tarvaris Jackson'),\n",
       " (2007, 'Brodie Croyle'),\n",
       " (2006, 'Bruce Gradkowski'),\n",
       " (2008, 'JaMarcus Russell'),\n",
       " (2009, 'JaMarcus Russell'),\n",
       " (2009, 'Brady Quinn'),\n",
       " (2011, 'Kevin Kolb'),\n",
       " (2014, 'Drew Stanton'),\n",
       " (2007, 'Trent Edwards'),\n",
       " (2008, 'Trent Edwards'),\n",
       " (2008, 'Tyler Thigpen'),\n",
       " (2011, 'Matt Moore'),\n",
       " (2008, 'Matt Ryan'),\n",
       " (2009, 'Matt Ryan'),\n",
       " (2010, 'Matt Ryan'),\n",
       " (2011, 'Matt Ryan'),\n",
       " (2012, 'Matt Ryan'),\n",
       " (2013, 'Matt Ryan'),\n",
       " (2014, 'Matt Ryan'),\n",
       " (2015, 'Matt Ryan'),\n",
       " (2016, 'Matt Ryan'),\n",
       " (2017, 'Matt Ryan'),\n",
       " (2018, 'Matt Ryan'),\n",
       " (2019, 'Matt Ryan'),\n",
       " (2020, 'Matt Ryan'),\n",
       " (2021, 'Matt Ryan'),\n",
       " (2022, 'Matt Ryan'),\n",
       " (2008, 'Joe Flacco'),\n",
       " (2009, 'Joe Flacco'),\n",
       " (2010, 'Joe Flacco'),\n",
       " (2011, 'Joe Flacco'),\n",
       " (2012, 'Joe Flacco'),\n",
       " (2013, 'Joe Flacco'),\n",
       " (2014, 'Joe Flacco'),\n",
       " (2015, 'Joe Flacco'),\n",
       " (2016, 'Joe Flacco'),\n",
       " (2017, 'Joe Flacco'),\n",
       " (2018, 'Joe Flacco'),\n",
       " (2009, 'Chad Henne'),\n",
       " (2010, 'Chad Henne'),\n",
       " (2012, 'Chad Henne'),\n",
       " (2013, 'Chad Henne'),\n",
       " (2009, 'Matthew Stafford'),\n",
       " (2011, 'Matthew Stafford'),\n",
       " (2012, 'Matthew Stafford'),\n",
       " (2013, 'Matthew Stafford'),\n",
       " (2014, 'Matthew Stafford'),\n",
       " (2015, 'Matthew Stafford'),\n",
       " (2016, 'Matthew Stafford'),\n",
       " (2017, 'Matthew Stafford'),\n",
       " (2018, 'Matthew Stafford'),\n",
       " (2020, 'Matthew Stafford'),\n",
       " (2021, 'Matthew Stafford'),\n",
       " (2022, 'Matthew Stafford'),\n",
       " (2023, 'Matthew Stafford'),\n",
       " (2024, 'Matthew Stafford'),\n",
       " (2014, 'Brian Hoyer'),\n",
       " (2015, 'Brian Hoyer'),\n",
       " (2017, 'Brian Hoyer'),\n",
       " (2009, 'Mark Sanchez'),\n",
       " (2010, 'Mark Sanchez'),\n",
       " (2011, 'Mark Sanchez'),\n",
       " (2012, 'Mark Sanchez'),\n",
       " (2014, 'Mark Sanchez'),\n",
       " (2009, 'Josh Freeman'),\n",
       " (2010, 'Josh Freeman'),\n",
       " (2011, 'Josh Freeman'),\n",
       " (2012, 'Josh Freeman'),\n",
       " (2011, 'Curtis Painter'),\n",
       " (2010, 'Jimmy Clausen'),\n",
       " (2011, 'Colt McCoy'),\n",
       " (2010, 'Sam Bradford'),\n",
       " (2011, 'Sam Bradford'),\n",
       " (2012, 'Sam Bradford'),\n",
       " (2015, 'Sam Bradford'),\n",
       " (2016, 'Sam Bradford'),\n",
       " (2011, 'Cam Newton'),\n",
       " (2012, 'Cam Newton'),\n",
       " (2013, 'Cam Newton'),\n",
       " (2014, 'Cam Newton'),\n",
       " (2015, 'Cam Newton'),\n",
       " (2016, 'Cam Newton'),\n",
       " (2017, 'Cam Newton'),\n",
       " (2018, 'Cam Newton'),\n",
       " (2020, 'Cam Newton'),\n",
       " (2012, 'Jake Locker'),\n",
       " (2011, 'Blaine Gabbert'),\n",
       " (2012, 'Blaine Gabbert'),\n",
       " (2011, 'Christian Ponder'),\n",
       " (2012, 'Christian Ponder'),\n",
       " (2013, 'Christian Ponder'),\n",
       " (2011, 'Andy Dalton'),\n",
       " (2012, 'Andy Dalton'),\n",
       " (2013, 'Andy Dalton'),\n",
       " (2014, 'Andy Dalton'),\n",
       " (2015, 'Andy Dalton'),\n",
       " (2016, 'Andy Dalton'),\n",
       " (2017, 'Andy Dalton'),\n",
       " (2018, 'Andy Dalton'),\n",
       " (2019, 'Andy Dalton'),\n",
       " (2020, 'Andy Dalton'),\n",
       " (2022, 'Andy Dalton'),\n",
       " (2012, 'Colin Kaepernick'),\n",
       " (2013, 'Colin Kaepernick'),\n",
       " (2014, 'Colin Kaepernick'),\n",
       " (2015, 'Colin Kaepernick'),\n",
       " (2016, 'Colin Kaepernick'),\n",
       " (2015, 'Tyrod Taylor'),\n",
       " (2016, 'Tyrod Taylor'),\n",
       " (2017, 'Tyrod Taylor'),\n",
       " (2014, 'Austin Davis'),\n",
       " (2016, 'Case Keenum'),\n",
       " (2017, 'Case Keenum'),\n",
       " (2018, 'Case Keenum'),\n",
       " (2019, 'Case Keenum'),\n",
       " (2012, 'Russell Wilson'),\n",
       " (2013, 'Russell Wilson'),\n",
       " (2014, 'Russell Wilson'),\n",
       " (2015, 'Russell Wilson'),\n",
       " (2016, 'Russell Wilson'),\n",
       " (2017, 'Russell Wilson'),\n",
       " (2018, 'Russell Wilson'),\n",
       " (2019, 'Russell Wilson'),\n",
       " (2020, 'Russell Wilson'),\n",
       " (2021, 'Russell Wilson'),\n",
       " (2022, 'Russell Wilson'),\n",
       " (2023, 'Russell Wilson'),\n",
       " (2024, 'Russell Wilson'),\n",
       " (2013, 'Nick Foles'),\n",
       " (2015, 'Nick Foles'),\n",
       " (2017, 'Nick Foles'),\n",
       " (2020, 'Nick Foles'),\n",
       " (2015, 'Kirk Cousins'),\n",
       " (2016, 'Kirk Cousins'),\n",
       " (2017, 'Kirk Cousins'),\n",
       " (2018, 'Kirk Cousins'),\n",
       " (2019, 'Kirk Cousins'),\n",
       " (2020, 'Kirk Cousins'),\n",
       " (2021, 'Kirk Cousins'),\n",
       " (2022, 'Kirk Cousins'),\n",
       " (2024, 'Kirk Cousins'),\n",
       " (2012, 'Robert Griffin'),\n",
       " (2013, 'Robert Griffin'),\n",
       " (2014, 'Robert Griffin'),\n",
       " (2012, 'Andrew Luck'),\n",
       " (2013, 'Andrew Luck'),\n",
       " (2014, 'Andrew Luck'),\n",
       " (2016, 'Andrew Luck'),\n",
       " (2018, 'Andrew Luck'),\n",
       " (2012, 'Brandon Weeden'),\n",
       " (2016, 'Brock Osweiler'),\n",
       " (2012, 'Ryan Tannehill'),\n",
       " (2013, 'Ryan Tannehill'),\n",
       " (2014, 'Ryan Tannehill'),\n",
       " (2015, 'Ryan Tannehill'),\n",
       " (2016, 'Ryan Tannehill'),\n",
       " (2018, 'Ryan Tannehill'),\n",
       " (2019, 'Ryan Tannehill'),\n",
       " (2020, 'Ryan Tannehill'),\n",
       " (2021, 'Ryan Tannehill'),\n",
       " (2022, 'Ryan Tannehill'),\n",
       " (2023, 'Ryan Tannehill'),\n",
       " (2013, 'Mike Glennon'),\n",
       " (2013, 'EJ Manuel'),\n",
       " (2013, 'Geno Smith'),\n",
       " (2014, 'Geno Smith'),\n",
       " (2022, 'Geno Smith'),\n",
       " (2023, 'Geno Smith'),\n",
       " (2024, 'Geno Smith'),\n",
       " (2014, 'Teddy Bridgewater'),\n",
       " (2015, 'Teddy Bridgewater'),\n",
       " (2020, 'Teddy Bridgewater'),\n",
       " (2021, 'Teddy Bridgewater'),\n",
       " (2014, 'Derek Carr'),\n",
       " (2015, 'Derek Carr'),\n",
       " (2016, 'Derek Carr'),\n",
       " (2017, 'Derek Carr'),\n",
       " (2018, 'Derek Carr'),\n",
       " (2019, 'Derek Carr'),\n",
       " (2020, 'Derek Carr'),\n",
       " (2021, 'Derek Carr'),\n",
       " (2022, 'Derek Carr'),\n",
       " (2023, 'Derek Carr'),\n",
       " (2024, 'Derek Carr'),\n",
       " (2019, 'Jimmy Garoppolo'),\n",
       " (2021, 'Jimmy Garoppolo'),\n",
       " (2022, 'Jimmy Garoppolo'),\n",
       " (2014, 'Blake Bortles'),\n",
       " (2015, 'Blake Bortles'),\n",
       " (2016, 'Blake Bortles'),\n",
       " (2017, 'Blake Bortles'),\n",
       " (2018, 'Blake Bortles'),\n",
       " (2015, 'Johnny Manziel'),\n",
       " (2015, 'Jameis Winston'),\n",
       " (2016, 'Jameis Winston'),\n",
       " (2017, 'Jameis Winston'),\n",
       " (2018, 'Jameis Winston'),\n",
       " (2019, 'Jameis Winston'),\n",
       " (2024, 'Jameis Winston'),\n",
       " (2017, 'Brett Hundley'),\n",
       " (2021, 'Taylor Heinicke'),\n",
       " (2022, 'Taylor Heinicke'),\n",
       " (2016, 'Trevor Siemian'),\n",
       " (2017, 'Trevor Siemian'),\n",
       " (2015, 'Marcus Mariota'),\n",
       " (2016, 'Marcus Mariota'),\n",
       " (2017, 'Marcus Mariota'),\n",
       " (2018, 'Marcus Mariota'),\n",
       " (2022, 'Marcus Mariota'),\n",
       " (2016, 'Carson Wentz'),\n",
       " (2017, 'Carson Wentz'),\n",
       " (2018, 'Carson Wentz'),\n",
       " (2019, 'Carson Wentz'),\n",
       " (2020, 'Carson Wentz'),\n",
       " (2021, 'Carson Wentz'),\n",
       " (2016, 'Dak Prescott'),\n",
       " (2017, 'Dak Prescott'),\n",
       " (2018, 'Dak Prescott'),\n",
       " (2019, 'Dak Prescott'),\n",
       " (2021, 'Dak Prescott'),\n",
       " (2022, 'Dak Prescott'),\n",
       " (2023, 'Dak Prescott'),\n",
       " (2017, 'Jared Goff'),\n",
       " (2018, 'Jared Goff'),\n",
       " (2019, 'Jared Goff'),\n",
       " (2020, 'Jared Goff'),\n",
       " (2021, 'Jared Goff'),\n",
       " (2022, 'Jared Goff'),\n",
       " (2023, 'Jared Goff'),\n",
       " (2024, 'Jared Goff'),\n",
       " (2017, 'Jacoby Brissett'),\n",
       " (2019, 'Jacoby Brissett'),\n",
       " (2021, 'Jacoby Brissett'),\n",
       " (2022, 'Jacoby Brissett'),\n",
       " (2020, 'Nick Mullens'),\n",
       " (2018, 'Deshaun Watson'),\n",
       " (2019, 'Deshaun Watson'),\n",
       " (2020, 'Deshaun Watson'),\n",
       " (2024, 'Cooper Rush'),\n",
       " (2017, 'Mitchell Trubisky'),\n",
       " (2018, 'Mitchell Trubisky'),\n",
       " (2019, 'Mitchell Trubisky'),\n",
       " (2020, 'Mitchell Trubisky'),\n",
       " (2018, 'Patrick Mahomes'),\n",
       " (2019, 'Patrick Mahomes'),\n",
       " (2020, 'Patrick Mahomes'),\n",
       " (2021, 'Patrick Mahomes'),\n",
       " (2022, 'Patrick Mahomes'),\n",
       " (2023, 'Patrick Mahomes'),\n",
       " (2024, 'Patrick Mahomes'),\n",
       " (2017, 'DeShone Kizer'),\n",
       " (2023, 'Joshua Dobbs'),\n",
       " (2018, 'Josh Rosen'),\n",
       " (2019, 'Kyle Allen'),\n",
       " (2019, 'Mason Rudolph'),\n",
       " (2019, 'Lamar Jackson'),\n",
       " (2020, 'Lamar Jackson'),\n",
       " (2021, 'Lamar Jackson'),\n",
       " (2022, 'Lamar Jackson'),\n",
       " (2023, 'Lamar Jackson'),\n",
       " (2024, 'Lamar Jackson'),\n",
       " (2018, 'Baker Mayfield'),\n",
       " (2019, 'Baker Mayfield'),\n",
       " (2020, 'Baker Mayfield'),\n",
       " (2021, 'Baker Mayfield'),\n",
       " (2022, 'Baker Mayfield'),\n",
       " (2023, 'Baker Mayfield'),\n",
       " (2024, 'Baker Mayfield'),\n",
       " (2018, 'Josh Allen'),\n",
       " (2019, 'Josh Allen'),\n",
       " (2020, 'Josh Allen'),\n",
       " (2021, 'Josh Allen'),\n",
       " (2022, 'Josh Allen'),\n",
       " (2023, 'Josh Allen'),\n",
       " (2024, 'Josh Allen'),\n",
       " (2018, 'Sam Darnold'),\n",
       " (2019, 'Sam Darnold'),\n",
       " (2020, 'Sam Darnold'),\n",
       " (2021, 'Sam Darnold'),\n",
       " (2024, 'Sam Darnold'),\n",
       " (2023, 'Jake Browning'),\n",
       " (2019, 'Kyler Murray'),\n",
       " (2020, 'Kyler Murray'),\n",
       " (2021, 'Kyler Murray'),\n",
       " (2022, 'Kyler Murray'),\n",
       " (2024, 'Kyler Murray'),\n",
       " (2019, 'Dwayne Haskins'),\n",
       " (2019, 'Gardner Minshew'),\n",
       " (2020, 'Gardner Minshew'),\n",
       " (2023, 'Gardner Minshew'),\n",
       " (2024, 'Gardner Minshew'),\n",
       " (2020, 'Drew Lock'),\n",
       " (2019, 'Daniel Jones'),\n",
       " (2020, 'Daniel Jones'),\n",
       " (2021, 'Daniel Jones'),\n",
       " (2022, 'Daniel Jones'),\n",
       " (2024, 'Daniel Jones'),\n",
       " (2020, 'Tua Tagovailoa'),\n",
       " (2021, 'Tua Tagovailoa'),\n",
       " (2022, 'Tua Tagovailoa'),\n",
       " (2023, 'Tua Tagovailoa'),\n",
       " (2024, 'Tua Tagovailoa'),\n",
       " (2023, 'Jordan Love'),\n",
       " (2024, 'Jordan Love'),\n",
       " (2020, 'Justin Herbert'),\n",
       " (2021, 'Justin Herbert'),\n",
       " (2022, 'Justin Herbert'),\n",
       " (2023, 'Justin Herbert'),\n",
       " (2024, 'Justin Herbert'),\n",
       " (2021, 'Jalen Hurts'),\n",
       " (2022, 'Jalen Hurts'),\n",
       " (2023, 'Jalen Hurts'),\n",
       " (2024, 'Jalen Hurts'),\n",
       " (2020, 'Joe Burrow'),\n",
       " (2021, 'Joe Burrow'),\n",
       " (2022, 'Joe Burrow'),\n",
       " (2023, 'Joe Burrow'),\n",
       " (2024, 'Joe Burrow'),\n",
       " (2021, 'Davis Mills'),\n",
       " (2022, 'Davis Mills'),\n",
       " (2021, 'Justin Fields'),\n",
       " (2022, 'Justin Fields'),\n",
       " (2023, 'Justin Fields'),\n",
       " (2021, 'Trevor Lawrence'),\n",
       " (2022, 'Trevor Lawrence'),\n",
       " (2023, 'Trevor Lawrence'),\n",
       " (2024, 'Trevor Lawrence'),\n",
       " (2021, 'Mac Jones'),\n",
       " (2022, 'Mac Jones'),\n",
       " (2023, 'Mac Jones'),\n",
       " (2024, 'Mac Jones'),\n",
       " (2021, 'Zach Wilson'),\n",
       " (2022, 'Zach Wilson'),\n",
       " (2023, 'Zach Wilson'),\n",
       " (2023, 'Sam Howell'),\n",
       " (2022, 'Brock Purdy'),\n",
       " (2023, 'Brock Purdy'),\n",
       " (2024, 'Brock Purdy'),\n",
       " (2022, 'Kenny Pickett'),\n",
       " (2023, 'Kenny Pickett'),\n",
       " (2023, 'Bailey Zappe'),\n",
       " (2023, 'Desmond Ridder'),\n",
       " (2023, \"Aidan O'Connell\"),\n",
       " (2024, \"Aidan O'Connell\"),\n",
       " (2023, 'Bryce Young'),\n",
       " (2024, 'Bryce Young'),\n",
       " (2023, 'Will Levis'),\n",
       " (2024, 'Will Levis'),\n",
       " (2023, 'C.J. Stroud'),\n",
       " (2024, 'C.J. Stroud'),\n",
       " (2024, 'Anthony Richardson'),\n",
       " (2024, 'Bo Nix'),\n",
       " (2024, 'Drake Maye'),\n",
       " (2024, 'Jayden Daniels'),\n",
       " (2024, 'Caleb Williams')]"
      ]
     },
     "execution_count": 9,
     "metadata": {},
     "output_type": "execute_result"
    }
   ],
   "source": [
    "df = total_data.reset_index().merge(all_qbs[['gsis_id', 'display_name']], left_on='player_id', right_on='gsis_id')\n",
    "\n",
    "qb_names = [(x['season'], x['display_name']) for idx, x in df.iterrows()]\n",
    "qb_names"
   ]
  },
  {
   "cell_type": "code",
   "execution_count": 10,
   "id": "08ab9780",
   "metadata": {},
   "outputs": [],
   "source": [
    "from sklearn.cluster import KMeans\n",
    "from sklearn.decomposition import PCA\n",
    "from sklearn.preprocessing import StandardScaler\n",
    "import matplotlib.pyplot as plt\n",
    "import seaborn as sns\n",
    "total_data = total_data.set_index('player_id')"
   ]
  },
  {
   "cell_type": "code",
   "execution_count": 11,
   "id": "d7be2cbf",
   "metadata": {},
   "outputs": [
    {
     "data": {
      "text/html": [
       "<div>\n",
       "<style scoped>\n",
       "    .dataframe tbody tr th:only-of-type {\n",
       "        vertical-align: middle;\n",
       "    }\n",
       "\n",
       "    .dataframe tbody tr th {\n",
       "        vertical-align: top;\n",
       "    }\n",
       "\n",
       "    .dataframe thead th {\n",
       "        text-align: right;\n",
       "    }\n",
       "</style>\n",
       "<table border=\"1\" class=\"dataframe\">\n",
       "  <thead>\n",
       "    <tr style=\"text-align: right;\">\n",
       "      <th></th>\n",
       "      <th>season</th>\n",
       "      <th>sacks_per_dropback</th>\n",
       "      <th>attempts_per_game</th>\n",
       "      <th>rushing_tds_per_game</th>\n",
       "      <th>passing_tds_per_game</th>\n",
       "      <th>interceptions</th>\n",
       "      <th>shotgun_rate</th>\n",
       "      <th>passing_air_yards_per_attempt</th>\n",
       "      <th>completion_pct</th>\n",
       "      <th>rushing_fumbles_per_game</th>\n",
       "      <th>rushing_yards_per_game</th>\n",
       "      <th>rushing_yards_per_attempt</th>\n",
       "      <th>pass_pct</th>\n",
       "      <th>air_yard:completion_pct</th>\n",
       "      <th>td:int</th>\n",
       "    </tr>\n",
       "    <tr>\n",
       "      <th>player_id</th>\n",
       "      <th></th>\n",
       "      <th></th>\n",
       "      <th></th>\n",
       "      <th></th>\n",
       "      <th></th>\n",
       "      <th></th>\n",
       "      <th></th>\n",
       "      <th></th>\n",
       "      <th></th>\n",
       "      <th></th>\n",
       "      <th></th>\n",
       "      <th></th>\n",
       "      <th></th>\n",
       "      <th></th>\n",
       "      <th></th>\n",
       "    </tr>\n",
       "  </thead>\n",
       "  <tbody>\n",
       "    <tr>\n",
       "      <th>00-0000104</th>\n",
       "      <td>1999</td>\n",
       "      <td>0.041152</td>\n",
       "      <td>31.066667</td>\n",
       "      <td>0.066667</td>\n",
       "      <td>1.133333</td>\n",
       "      <td>11.0</td>\n",
       "      <td>0.320988</td>\n",
       "      <td>0.000000</td>\n",
       "      <td>0.604938</td>\n",
       "      <td>0.133333</td>\n",
       "      <td>1.266667</td>\n",
       "      <td>1.583333</td>\n",
       "      <td>0.975904</td>\n",
       "      <td>0.000000</td>\n",
       "      <td>1.545455</td>\n",
       "    </tr>\n",
       "    <tr>\n",
       "      <th>00-0000104</th>\n",
       "      <td>2000</td>\n",
       "      <td>0.047619</td>\n",
       "      <td>23.545455</td>\n",
       "      <td>0.000000</td>\n",
       "      <td>0.636364</td>\n",
       "      <td>14.0</td>\n",
       "      <td>0.003663</td>\n",
       "      <td>0.000000</td>\n",
       "      <td>0.567402</td>\n",
       "      <td>0.000000</td>\n",
       "      <td>1.181818</td>\n",
       "      <td>1.300000</td>\n",
       "      <td>0.964664</td>\n",
       "      <td>0.000000</td>\n",
       "      <td>0.500000</td>\n",
       "    </tr>\n",
       "    <tr>\n",
       "      <th>00-0000722</th>\n",
       "      <td>1999</td>\n",
       "      <td>0.094017</td>\n",
       "      <td>28.909091</td>\n",
       "      <td>0.000000</td>\n",
       "      <td>1.454545</td>\n",
       "      <td>8.0</td>\n",
       "      <td>0.173789</td>\n",
       "      <td>0.000000</td>\n",
       "      <td>0.524115</td>\n",
       "      <td>0.181818</td>\n",
       "      <td>8.727273</td>\n",
       "      <td>4.571429</td>\n",
       "      <td>0.943548</td>\n",
       "      <td>0.000000</td>\n",
       "      <td>2.000000</td>\n",
       "    </tr>\n",
       "    <tr>\n",
       "      <th>00-0000722</th>\n",
       "      <td>2000</td>\n",
       "      <td>0.067797</td>\n",
       "      <td>19.642857</td>\n",
       "      <td>0.000000</td>\n",
       "      <td>0.571429</td>\n",
       "      <td>8.0</td>\n",
       "      <td>0.179661</td>\n",
       "      <td>0.000000</td>\n",
       "      <td>0.419681</td>\n",
       "      <td>0.071429</td>\n",
       "      <td>4.000000</td>\n",
       "      <td>2.947368</td>\n",
       "      <td>0.939490</td>\n",
       "      <td>0.000000</td>\n",
       "      <td>1.000000</td>\n",
       "    </tr>\n",
       "    <tr>\n",
       "      <th>00-0000722</th>\n",
       "      <td>2001</td>\n",
       "      <td>0.072319</td>\n",
       "      <td>24.666667</td>\n",
       "      <td>0.133333</td>\n",
       "      <td>0.666667</td>\n",
       "      <td>10.0</td>\n",
       "      <td>0.256858</td>\n",
       "      <td>0.000000</td>\n",
       "      <td>0.536239</td>\n",
       "      <td>0.533333</td>\n",
       "      <td>10.133333</td>\n",
       "      <td>3.234043</td>\n",
       "      <td>0.895089</td>\n",
       "      <td>0.000000</td>\n",
       "      <td>1.000000</td>\n",
       "    </tr>\n",
       "    <tr>\n",
       "      <th>...</th>\n",
       "      <td>...</td>\n",
       "      <td>...</td>\n",
       "      <td>...</td>\n",
       "      <td>...</td>\n",
       "      <td>...</td>\n",
       "      <td>...</td>\n",
       "      <td>...</td>\n",
       "      <td>...</td>\n",
       "      <td>...</td>\n",
       "      <td>...</td>\n",
       "      <td>...</td>\n",
       "      <td>...</td>\n",
       "      <td>...</td>\n",
       "      <td>...</td>\n",
       "      <td>...</td>\n",
       "    </tr>\n",
       "    <tr>\n",
       "      <th>00-0039164</th>\n",
       "      <td>2024</td>\n",
       "      <td>0.050542</td>\n",
       "      <td>24.000000</td>\n",
       "      <td>0.545455</td>\n",
       "      <td>0.727273</td>\n",
       "      <td>12.0</td>\n",
       "      <td>0.960289</td>\n",
       "      <td>12.212121</td>\n",
       "      <td>0.508737</td>\n",
       "      <td>0.545455</td>\n",
       "      <td>46.181818</td>\n",
       "      <td>6.350000</td>\n",
       "      <td>0.775910</td>\n",
       "      <td>24.004784</td>\n",
       "      <td>0.666667</td>\n",
       "    </tr>\n",
       "    <tr>\n",
       "      <th>00-0039732</th>\n",
       "      <td>2024</td>\n",
       "      <td>0.042276</td>\n",
       "      <td>32.722222</td>\n",
       "      <td>0.222222</td>\n",
       "      <td>1.666667</td>\n",
       "      <td>12.0</td>\n",
       "      <td>0.856911</td>\n",
       "      <td>7.429542</td>\n",
       "      <td>0.659797</td>\n",
       "      <td>0.055556</td>\n",
       "      <td>27.277778</td>\n",
       "      <td>6.061728</td>\n",
       "      <td>0.883621</td>\n",
       "      <td>11.260352</td>\n",
       "      <td>2.500000</td>\n",
       "    </tr>\n",
       "    <tr>\n",
       "      <th>00-0039851</th>\n",
       "      <td>2024</td>\n",
       "      <td>0.090909</td>\n",
       "      <td>26.000000</td>\n",
       "      <td>0.153846</td>\n",
       "      <td>1.153846</td>\n",
       "      <td>10.0</td>\n",
       "      <td>0.882353</td>\n",
       "      <td>7.316568</td>\n",
       "      <td>0.595147</td>\n",
       "      <td>0.307692</td>\n",
       "      <td>32.538462</td>\n",
       "      <td>8.134615</td>\n",
       "      <td>0.877934</td>\n",
       "      <td>12.293706</td>\n",
       "      <td>1.500000</td>\n",
       "    </tr>\n",
       "    <tr>\n",
       "      <th>00-0039910</th>\n",
       "      <td>2024</td>\n",
       "      <td>0.078704</td>\n",
       "      <td>29.700000</td>\n",
       "      <td>0.350000</td>\n",
       "      <td>1.500000</td>\n",
       "      <td>10.0</td>\n",
       "      <td>0.962963</td>\n",
       "      <td>7.196970</td>\n",
       "      <td>0.701405</td>\n",
       "      <td>0.150000</td>\n",
       "      <td>52.200000</td>\n",
       "      <td>6.177515</td>\n",
       "      <td>0.793146</td>\n",
       "      <td>10.260790</td>\n",
       "      <td>3.000000</td>\n",
       "    </tr>\n",
       "    <tr>\n",
       "      <th>00-0039918</th>\n",
       "      <td>2024</td>\n",
       "      <td>0.106918</td>\n",
       "      <td>33.058824</td>\n",
       "      <td>0.000000</td>\n",
       "      <td>1.176471</td>\n",
       "      <td>6.0</td>\n",
       "      <td>0.860063</td>\n",
       "      <td>7.982206</td>\n",
       "      <td>0.626378</td>\n",
       "      <td>0.176471</td>\n",
       "      <td>29.117647</td>\n",
       "      <td>6.600000</td>\n",
       "      <td>0.894515</td>\n",
       "      <td>12.743442</td>\n",
       "      <td>3.333333</td>\n",
       "    </tr>\n",
       "  </tbody>\n",
       "</table>\n",
       "<p>836 rows × 15 columns</p>\n",
       "</div>"
      ],
      "text/plain": [
       "            season  sacks_per_dropback  attempts_per_game  \\\n",
       "player_id                                                   \n",
       "00-0000104    1999            0.041152          31.066667   \n",
       "00-0000104    2000            0.047619          23.545455   \n",
       "00-0000722    1999            0.094017          28.909091   \n",
       "00-0000722    2000            0.067797          19.642857   \n",
       "00-0000722    2001            0.072319          24.666667   \n",
       "...            ...                 ...                ...   \n",
       "00-0039164    2024            0.050542          24.000000   \n",
       "00-0039732    2024            0.042276          32.722222   \n",
       "00-0039851    2024            0.090909          26.000000   \n",
       "00-0039910    2024            0.078704          29.700000   \n",
       "00-0039918    2024            0.106918          33.058824   \n",
       "\n",
       "            rushing_tds_per_game  passing_tds_per_game  interceptions  \\\n",
       "player_id                                                               \n",
       "00-0000104              0.066667              1.133333           11.0   \n",
       "00-0000104              0.000000              0.636364           14.0   \n",
       "00-0000722              0.000000              1.454545            8.0   \n",
       "00-0000722              0.000000              0.571429            8.0   \n",
       "00-0000722              0.133333              0.666667           10.0   \n",
       "...                          ...                   ...            ...   \n",
       "00-0039164              0.545455              0.727273           12.0   \n",
       "00-0039732              0.222222              1.666667           12.0   \n",
       "00-0039851              0.153846              1.153846           10.0   \n",
       "00-0039910              0.350000              1.500000           10.0   \n",
       "00-0039918              0.000000              1.176471            6.0   \n",
       "\n",
       "            shotgun_rate  passing_air_yards_per_attempt  completion_pct  \\\n",
       "player_id                                                                 \n",
       "00-0000104      0.320988                       0.000000        0.604938   \n",
       "00-0000104      0.003663                       0.000000        0.567402   \n",
       "00-0000722      0.173789                       0.000000        0.524115   \n",
       "00-0000722      0.179661                       0.000000        0.419681   \n",
       "00-0000722      0.256858                       0.000000        0.536239   \n",
       "...                  ...                            ...             ...   \n",
       "00-0039164      0.960289                      12.212121        0.508737   \n",
       "00-0039732      0.856911                       7.429542        0.659797   \n",
       "00-0039851      0.882353                       7.316568        0.595147   \n",
       "00-0039910      0.962963                       7.196970        0.701405   \n",
       "00-0039918      0.860063                       7.982206        0.626378   \n",
       "\n",
       "            rushing_fumbles_per_game  rushing_yards_per_game  \\\n",
       "player_id                                                      \n",
       "00-0000104                  0.133333                1.266667   \n",
       "00-0000104                  0.000000                1.181818   \n",
       "00-0000722                  0.181818                8.727273   \n",
       "00-0000722                  0.071429                4.000000   \n",
       "00-0000722                  0.533333               10.133333   \n",
       "...                              ...                     ...   \n",
       "00-0039164                  0.545455               46.181818   \n",
       "00-0039732                  0.055556               27.277778   \n",
       "00-0039851                  0.307692               32.538462   \n",
       "00-0039910                  0.150000               52.200000   \n",
       "00-0039918                  0.176471               29.117647   \n",
       "\n",
       "            rushing_yards_per_attempt  pass_pct  air_yard:completion_pct  \\\n",
       "player_id                                                                  \n",
       "00-0000104                   1.583333  0.975904                 0.000000   \n",
       "00-0000104                   1.300000  0.964664                 0.000000   \n",
       "00-0000722                   4.571429  0.943548                 0.000000   \n",
       "00-0000722                   2.947368  0.939490                 0.000000   \n",
       "00-0000722                   3.234043  0.895089                 0.000000   \n",
       "...                               ...       ...                      ...   \n",
       "00-0039164                   6.350000  0.775910                24.004784   \n",
       "00-0039732                   6.061728  0.883621                11.260352   \n",
       "00-0039851                   8.134615  0.877934                12.293706   \n",
       "00-0039910                   6.177515  0.793146                10.260790   \n",
       "00-0039918                   6.600000  0.894515                12.743442   \n",
       "\n",
       "              td:int  \n",
       "player_id             \n",
       "00-0000104  1.545455  \n",
       "00-0000104  0.500000  \n",
       "00-0000722  2.000000  \n",
       "00-0000722  1.000000  \n",
       "00-0000722  1.000000  \n",
       "...              ...  \n",
       "00-0039164  0.666667  \n",
       "00-0039732  2.500000  \n",
       "00-0039851  1.500000  \n",
       "00-0039910  3.000000  \n",
       "00-0039918  3.333333  \n",
       "\n",
       "[836 rows x 15 columns]"
      ]
     },
     "execution_count": 11,
     "metadata": {},
     "output_type": "execute_result"
    }
   ],
   "source": [
    "total_data\n"
   ]
  },
  {
   "cell_type": "code",
   "execution_count": 12,
   "id": "9a3ddec3",
   "metadata": {},
   "outputs": [
    {
     "name": "stdout",
     "output_type": "stream",
     "text": [
      "0.2795337993555468\n",
      "0.5080615485769389\n",
      "0.6251691230298618\n",
      "0.7201410061682996\n",
      "0.7859464413885152\n",
      "0.8346415946896794\n",
      "0.8800501275064948\n",
      "0.9126245292236081\n",
      "0.9407883118547862\n"
     ]
    }
   ],
   "source": [
    "scaler = StandardScaler()\n",
    "X = scaler.fit_transform(total_data)\n",
    "for P in range(1, 10):\n",
    "    pca = PCA(n_components=P)\n",
    "    pca.fit(X)\n",
    "    print(pca.explained_variance_ratio_.sum())\n"
   ]
  },
  {
   "cell_type": "code",
   "execution_count": null,
   "id": "d72aee38",
   "metadata": {},
   "outputs": [],
   "source": []
  },
  {
   "cell_type": "code",
   "execution_count": 13,
   "id": "7b7521b2",
   "metadata": {},
   "outputs": [],
   "source": [
    "pca = PCA(n_components=9)\n",
    "X_pca = pca.fit_transform(X)"
   ]
  },
  {
   "cell_type": "code",
   "execution_count": 14,
   "id": "3b9a31c1",
   "metadata": {},
   "outputs": [
    {
     "name": "stderr",
     "output_type": "stream",
     "text": [
      "/opt/anaconda3/lib/python3.11/site-packages/sklearn/cluster/_kmeans.py:870: FutureWarning: The default value of `n_init` will change from 10 to 'auto' in 1.4. Set the value of `n_init` explicitly to suppress the warning\n",
      "  warnings.warn(\n",
      "/opt/anaconda3/lib/python3.11/site-packages/sklearn/cluster/_kmeans.py:870: FutureWarning: The default value of `n_init` will change from 10 to 'auto' in 1.4. Set the value of `n_init` explicitly to suppress the warning\n",
      "  warnings.warn(\n",
      "/opt/anaconda3/lib/python3.11/site-packages/sklearn/cluster/_kmeans.py:870: FutureWarning: The default value of `n_init` will change from 10 to 'auto' in 1.4. Set the value of `n_init` explicitly to suppress the warning\n",
      "  warnings.warn(\n",
      "/opt/anaconda3/lib/python3.11/site-packages/sklearn/cluster/_kmeans.py:870: FutureWarning: The default value of `n_init` will change from 10 to 'auto' in 1.4. Set the value of `n_init` explicitly to suppress the warning\n",
      "  warnings.warn(\n",
      "/opt/anaconda3/lib/python3.11/site-packages/sklearn/cluster/_kmeans.py:870: FutureWarning: The default value of `n_init` will change from 10 to 'auto' in 1.4. Set the value of `n_init` explicitly to suppress the warning\n",
      "  warnings.warn(\n",
      "/opt/anaconda3/lib/python3.11/site-packages/sklearn/cluster/_kmeans.py:870: FutureWarning: The default value of `n_init` will change from 10 to 'auto' in 1.4. Set the value of `n_init` explicitly to suppress the warning\n",
      "  warnings.warn(\n",
      "/opt/anaconda3/lib/python3.11/site-packages/sklearn/cluster/_kmeans.py:870: FutureWarning: The default value of `n_init` will change from 10 to 'auto' in 1.4. Set the value of `n_init` explicitly to suppress the warning\n",
      "  warnings.warn(\n",
      "/opt/anaconda3/lib/python3.11/site-packages/sklearn/cluster/_kmeans.py:870: FutureWarning: The default value of `n_init` will change from 10 to 'auto' in 1.4. Set the value of `n_init` explicitly to suppress the warning\n",
      "  warnings.warn(\n",
      "/opt/anaconda3/lib/python3.11/site-packages/sklearn/cluster/_kmeans.py:870: FutureWarning: The default value of `n_init` will change from 10 to 'auto' in 1.4. Set the value of `n_init` explicitly to suppress the warning\n",
      "  warnings.warn(\n",
      "/opt/anaconda3/lib/python3.11/site-packages/sklearn/cluster/_kmeans.py:870: FutureWarning: The default value of `n_init` will change from 10 to 'auto' in 1.4. Set the value of `n_init` explicitly to suppress the warning\n",
      "  warnings.warn(\n",
      "/opt/anaconda3/lib/python3.11/site-packages/sklearn/cluster/_kmeans.py:870: FutureWarning: The default value of `n_init` will change from 10 to 'auto' in 1.4. Set the value of `n_init` explicitly to suppress the warning\n",
      "  warnings.warn(\n",
      "/opt/anaconda3/lib/python3.11/site-packages/sklearn/cluster/_kmeans.py:870: FutureWarning: The default value of `n_init` will change from 10 to 'auto' in 1.4. Set the value of `n_init` explicitly to suppress the warning\n",
      "  warnings.warn(\n",
      "/opt/anaconda3/lib/python3.11/site-packages/sklearn/cluster/_kmeans.py:870: FutureWarning: The default value of `n_init` will change from 10 to 'auto' in 1.4. Set the value of `n_init` explicitly to suppress the warning\n",
      "  warnings.warn(\n",
      "/opt/anaconda3/lib/python3.11/site-packages/sklearn/cluster/_kmeans.py:870: FutureWarning: The default value of `n_init` will change from 10 to 'auto' in 1.4. Set the value of `n_init` explicitly to suppress the warning\n",
      "  warnings.warn(\n",
      "/opt/anaconda3/lib/python3.11/site-packages/sklearn/cluster/_kmeans.py:870: FutureWarning: The default value of `n_init` will change from 10 to 'auto' in 1.4. Set the value of `n_init` explicitly to suppress the warning\n",
      "  warnings.warn(\n",
      "/opt/anaconda3/lib/python3.11/site-packages/sklearn/cluster/_kmeans.py:870: FutureWarning: The default value of `n_init` will change from 10 to 'auto' in 1.4. Set the value of `n_init` explicitly to suppress the warning\n",
      "  warnings.warn(\n",
      "/opt/anaconda3/lib/python3.11/site-packages/sklearn/cluster/_kmeans.py:870: FutureWarning: The default value of `n_init` will change from 10 to 'auto' in 1.4. Set the value of `n_init` explicitly to suppress the warning\n",
      "  warnings.warn(\n",
      "/opt/anaconda3/lib/python3.11/site-packages/sklearn/cluster/_kmeans.py:870: FutureWarning: The default value of `n_init` will change from 10 to 'auto' in 1.4. Set the value of `n_init` explicitly to suppress the warning\n",
      "  warnings.warn(\n",
      "/opt/anaconda3/lib/python3.11/site-packages/sklearn/cluster/_kmeans.py:870: FutureWarning: The default value of `n_init` will change from 10 to 'auto' in 1.4. Set the value of `n_init` explicitly to suppress the warning\n",
      "  warnings.warn(\n",
      "/opt/anaconda3/lib/python3.11/site-packages/sklearn/cluster/_kmeans.py:870: FutureWarning: The default value of `n_init` will change from 10 to 'auto' in 1.4. Set the value of `n_init` explicitly to suppress the warning\n",
      "  warnings.warn(\n"
     ]
    },
    {
     "data": {
      "image/png": "[encoded data removed]",
      "text/plain": [
       "<Figure size 640x480 with 1 Axes>"
      ]
     },
     "metadata": {},
     "output_type": "display_data"
    },
    {
     "data": {
      "application/vnd.plotly.v1+json": {
       "config": {
        "plotlyServerURL": "https://plot.ly"
       },
       "data": [
        {
         "hovertemplate": "<b>%{hovertext}</b><br><br>x=%{x}<br>y=%{y}<br>color=%{marker.color}<extra></extra>",
         "hovertext": [
          [
           1999,
           "Troy Aikman"
          ],
          [
           2000,
           "Troy Aikman"
          ],
          [
           1999,
           "Tony Banks"
          ],
          [
           2000,
           "Tony Banks"
          ],
          [
           2001,
           "Tony Banks"
          ],
          [
           1999,
           "Charlie Batch"
          ],
          [
           2000,
           "Charlie Batch"
          ],
          [
           2001,
           "Charlie Batch"
          ],
          [
           1999,
           "Steve Beuerlein"
          ],
          [
           2000,
           "Steve Beuerlein"
          ],
          [
           1999,
           "Jeff Blake"
          ],
          [
           2000,
           "Jeff Blake"
          ],
          [
           2002,
           "Jeff Blake"
          ],
          [
           2003,
           "Jeff Blake"
          ],
          [
           1999,
           "Drew Bledsoe"
          ],
          [
           2000,
           "Drew Bledsoe"
          ],
          [
           2002,
           "Drew Bledsoe"
          ],
          [
           2003,
           "Drew Bledsoe"
          ],
          [
           2004,
           "Drew Bledsoe"
          ],
          [
           2005,
           "Drew Bledsoe"
          ],
          [
           2000,
           "Aaron Brooks"
          ],
          [
           2001,
           "Aaron Brooks"
          ],
          [
           2002,
           "Aaron Brooks"
          ],
          [
           2003,
           "Aaron Brooks"
          ],
          [
           2004,
           "Aaron Brooks"
          ],
          [
           2005,
           "Aaron Brooks"
          ],
          [
           1999,
           "Mark Brunell"
          ],
          [
           2000,
           "Mark Brunell"
          ],
          [
           2001,
           "Mark Brunell"
          ],
          [
           2002,
           "Mark Brunell"
          ],
          [
           2004,
           "Mark Brunell"
          ],
          [
           2005,
           "Mark Brunell"
          ],
          [
           2006,
           "Mark Brunell"
          ],
          [
           1999,
           "Chris Chandler"
          ],
          [
           2000,
           "Chris Chandler"
          ],
          [
           2001,
           "Chris Chandler"
          ],
          [
           1999,
           "Kerry Collins"
          ],
          [
           2000,
           "Kerry Collins"
          ],
          [
           2001,
           "Kerry Collins"
          ],
          [
           2002,
           "Kerry Collins"
          ],
          [
           2003,
           "Kerry Collins"
          ],
          [
           2004,
           "Kerry Collins"
          ],
          [
           2005,
           "Kerry Collins"
          ],
          [
           2008,
           "Kerry Collins"
          ],
          [
           2010,
           "Kerry Collins"
          ],
          [
           1999,
           "Tim Couch"
          ],
          [
           2001,
           "Tim Couch"
          ],
          [
           2002,
           "Tim Couch"
          ],
          [
           2003,
           "Tim Couch"
          ],
          [
           2000,
           "Daunte Culpepper"
          ],
          [
           2001,
           "Daunte Culpepper"
          ],
          [
           2002,
           "Daunte Culpepper"
          ],
          [
           2003,
           "Daunte Culpepper"
          ],
          [
           2004,
           "Daunte Culpepper"
          ],
          [
           2003,
           "Jake Delhomme"
          ],
          [
           2004,
           "Jake Delhomme"
          ],
          [
           2005,
           "Jake Delhomme"
          ],
          [
           2006,
           "Jake Delhomme"
          ],
          [
           2008,
           "Jake Delhomme"
          ],
          [
           2009,
           "Jake Delhomme"
          ],
          [
           1999,
           "Trent Dilfer"
          ],
          [
           2000,
           "Trent Dilfer"
          ],
          [
           2005,
           "Trent Dilfer"
          ],
          [
           1999,
           "Brett Favre"
          ],
          [
           2000,
           "Brett Favre"
          ],
          [
           2001,
           "Brett Favre"
          ],
          [
           2002,
           "Brett Favre"
          ],
          [
           2003,
           "Brett Favre"
          ],
          [
           2004,
           "Brett Favre"
          ],
          [
           2005,
           "Brett Favre"
          ],
          [
           2006,
           "Brett Favre"
          ],
          [
           2007,
           "Brett Favre"
          ],
          [
           2008,
           "Brett Favre"
          ],
          [
           2009,
           "Brett Favre"
          ],
          [
           2010,
           "Brett Favre"
          ],
          [
           2000,
           "Jay Fiedler"
          ],
          [
           2001,
           "Jay Fiedler"
          ],
          [
           2002,
           "Jay Fiedler"
          ],
          [
           2003,
           "Jay Fiedler"
          ],
          [
           1999,
           "Doug Flutie"
          ],
          [
           2000,
           "Doug Flutie"
          ],
          [
           2001,
           "Doug Flutie"
          ],
          [
           1999,
           "Gus Frerotte"
          ],
          [
           2000,
           "Gus Frerotte"
          ],
          [
           2005,
           "Gus Frerotte"
          ],
          [
           2008,
           "Gus Frerotte"
          ],
          [
           1999,
           "Rich Gannon"
          ],
          [
           2000,
           "Rich Gannon"
          ],
          [
           2001,
           "Rich Gannon"
          ],
          [
           2002,
           "Rich Gannon"
          ],
          [
           1999,
           "Jeff Garcia"
          ],
          [
           2000,
           "Jeff Garcia"
          ],
          [
           2001,
           "Jeff Garcia"
          ],
          [
           2002,
           "Jeff Garcia"
          ],
          [
           2003,
           "Jeff Garcia"
          ],
          [
           2004,
           "Jeff Garcia"
          ],
          [
           2006,
           "Jeff Garcia"
          ],
          [
           2007,
           "Jeff Garcia"
          ],
          [
           2008,
           "Jeff Garcia"
          ],
          [
           1999,
           "Jeff George"
          ],
          [
           1999,
           "Kent Graham"
          ],
          [
           1999,
           "Elvis Grbac"
          ],
          [
           2000,
           "Elvis Grbac"
          ],
          [
           2001,
           "Elvis Grbac"
          ],
          [
           2001,
           "Trent Green"
          ],
          [
           2002,
           "Trent Green"
          ],
          [
           2003,
           "Trent Green"
          ],
          [
           2004,
           "Trent Green"
          ],
          [
           2005,
           "Trent Green"
          ],
          [
           2006,
           "Trent Green"
          ],
          [
           1999,
           "Brian Griese"
          ],
          [
           2000,
           "Brian Griese"
          ],
          [
           2001,
           "Brian Griese"
          ],
          [
           2002,
           "Brian Griese"
          ],
          [
           2004,
           "Brian Griese"
          ],
          [
           1999,
           "Jim Harbaugh"
          ],
          [
           2001,
           "Matt Hasselbeck"
          ],
          [
           2002,
           "Matt Hasselbeck"
          ],
          [
           2003,
           "Matt Hasselbeck"
          ],
          [
           2004,
           "Matt Hasselbeck"
          ],
          [
           2005,
           "Matt Hasselbeck"
          ],
          [
           2006,
           "Matt Hasselbeck"
          ],
          [
           2007,
           "Matt Hasselbeck"
          ],
          [
           2009,
           "Matt Hasselbeck"
          ],
          [
           2010,
           "Matt Hasselbeck"
          ],
          [
           2011,
           "Matt Hasselbeck"
          ],
          [
           2003,
           "Kelly Holcomb"
          ],
          [
           2005,
           "Kelly Holcomb"
          ],
          [
           1999,
           "Damon Huard"
          ],
          [
           2006,
           "Damon Huard"
          ],
          [
           2007,
           "Damon Huard"
          ],
          [
           1999,
           "Brad Johnson"
          ],
          [
           2000,
           "Brad Johnson"
          ],
          [
           2001,
           "Brad Johnson"
          ],
          [
           2002,
           "Brad Johnson"
          ],
          [
           2003,
           "Brad Johnson"
          ],
          [
           2005,
           "Brad Johnson"
          ],
          [
           2006,
           "Brad Johnson"
          ],
          [
           2000,
           "Rob Johnson"
          ],
          [
           2000,
           "Shaun King"
          ],
          [
           1999,
           "Jon Kitna"
          ],
          [
           2000,
           "Jon Kitna"
          ],
          [
           2001,
           "Jon Kitna"
          ],
          [
           2002,
           "Jon Kitna"
          ],
          [
           2003,
           "Jon Kitna"
          ],
          [
           2006,
           "Jon Kitna"
          ],
          [
           2007,
           "Jon Kitna"
          ],
          [
           2010,
           "Jon Kitna"
          ],
          [
           2000,
           "Ryan Leaf"
          ],
          [
           1999,
           "Ray Lucas"
          ],
          [
           2002,
           "Tommy Maddox"
          ],
          [
           2003,
           "Tommy Maddox"
          ],
          [
           1999,
           "Peyton Manning"
          ],
          [
           2000,
           "Peyton Manning"
          ],
          [
           2001,
           "Peyton Manning"
          ],
          [
           2002,
           "Peyton Manning"
          ],
          [
           2003,
           "Peyton Manning"
          ],
          [
           2004,
           "Peyton Manning"
          ],
          [
           2005,
           "Peyton Manning"
          ],
          [
           2006,
           "Peyton Manning"
          ],
          [
           2007,
           "Peyton Manning"
          ],
          [
           2008,
           "Peyton Manning"
          ],
          [
           2009,
           "Peyton Manning"
          ],
          [
           2010,
           "Peyton Manning"
          ],
          [
           2012,
           "Peyton Manning"
          ],
          [
           2013,
           "Peyton Manning"
          ],
          [
           2014,
           "Peyton Manning"
          ],
          [
           2015,
           "Peyton Manning"
          ],
          [
           1999,
           "Dan Marino"
          ],
          [
           1999,
           "Donovan McNabb"
          ],
          [
           2000,
           "Donovan McNabb"
          ],
          [
           2001,
           "Donovan McNabb"
          ],
          [
           2002,
           "Donovan McNabb"
          ],
          [
           2003,
           "Donovan McNabb"
          ],
          [
           2004,
           "Donovan McNabb"
          ],
          [
           2005,
           "Donovan McNabb"
          ],
          [
           2006,
           "Donovan McNabb"
          ],
          [
           2007,
           "Donovan McNabb"
          ],
          [
           2008,
           "Donovan McNabb"
          ],
          [
           2009,
           "Donovan McNabb"
          ],
          [
           2010,
           "Donovan McNabb"
          ],
          [
           1999,
           "Steve McNair"
          ],
          [
           2000,
           "Steve McNair"
          ],
          [
           2001,
           "Steve McNair"
          ],
          [
           2002,
           "Steve McNair"
          ],
          [
           2003,
           "Steve McNair"
          ],
          [
           2005,
           "Steve McNair"
          ],
          [
           2006,
           "Steve McNair"
          ],
          [
           1999,
           "Cade McNown"
          ],
          [
           2000,
           "Cade McNown"
          ],
          [
           2001,
           "Jim Miller"
          ],
          [
           2002,
           "Jim Miller"
          ],
          [
           2003,
           "Rick Mirer"
          ],
          [
           1999,
           "Doug Pederson"
          ],
          [
           2000,
           "Doug Pederson"
          ],
          [
           2002,
           "Rodney Peete"
          ],
          [
           1999,
           "Jake Plummer"
          ],
          [
           2000,
           "Jake Plummer"
          ],
          [
           2001,
           "Jake Plummer"
          ],
          [
           2002,
           "Jake Plummer"
          ],
          [
           2003,
           "Jake Plummer"
          ],
          [
           2004,
           "Jake Plummer"
          ],
          [
           2005,
           "Jake Plummer"
          ],
          [
           2006,
           "Jake Plummer"
          ],
          [
           2000,
           "Akili Smith"
          ],
          [
           1999,
           "Kordell Stewart"
          ],
          [
           2000,
           "Kordell Stewart"
          ],
          [
           2001,
           "Kordell Stewart"
          ],
          [
           2003,
           "Kordell Stewart"
          ],
          [
           2000,
           "Vinny Testaverde"
          ],
          [
           2001,
           "Vinny Testaverde"
          ],
          [
           2004,
           "Vinny Testaverde"
          ],
          [
           1999,
           "Billy Joe Tolliver"
          ],
          [
           1999,
           "Mike Tomczak"
          ],
          [
           2001,
           "Alex Van Pelt"
          ],
          [
           1999,
           "Kurt Warner"
          ],
          [
           2000,
           "Kurt Warner"
          ],
          [
           2001,
           "Kurt Warner"
          ],
          [
           2004,
           "Kurt Warner"
          ],
          [
           2005,
           "Kurt Warner"
          ],
          [
           2007,
           "Kurt Warner"
          ],
          [
           2008,
           "Kurt Warner"
          ],
          [
           2009,
           "Kurt Warner"
          ],
          [
           2004,
           "Billy Volek"
          ],
          [
           2003,
           "Doug Johnson"
          ],
          [
           2002,
           "Chad Pennington"
          ],
          [
           2003,
           "Chad Pennington"
          ],
          [
           2004,
           "Chad Pennington"
          ],
          [
           2006,
           "Chad Pennington"
          ],
          [
           2007,
           "Chad Pennington"
          ],
          [
           2008,
           "Chad Pennington"
          ],
          [
           2001,
           "Tom Brady"
          ],
          [
           2002,
           "Tom Brady"
          ],
          [
           2003,
           "Tom Brady"
          ],
          [
           2004,
           "Tom Brady"
          ],
          [
           2005,
           "Tom Brady"
          ],
          [
           2006,
           "Tom Brady"
          ],
          [
           2007,
           "Tom Brady"
          ],
          [
           2009,
           "Tom Brady"
          ],
          [
           2010,
           "Tom Brady"
          ],
          [
           2011,
           "Tom Brady"
          ],
          [
           2012,
           "Tom Brady"
          ],
          [
           2013,
           "Tom Brady"
          ],
          [
           2014,
           "Tom Brady"
          ],
          [
           2015,
           "Tom Brady"
          ],
          [
           2016,
           "Tom Brady"
          ],
          [
           2017,
           "Tom Brady"
          ],
          [
           2018,
           "Tom Brady"
          ],
          [
           2019,
           "Tom Brady"
          ],
          [
           2020,
           "Tom Brady"
          ],
          [
           2021,
           "Tom Brady"
          ],
          [
           2022,
           "Tom Brady"
          ],
          [
           2003,
           "Marc Bulger"
          ],
          [
           2004,
           "Marc Bulger"
          ],
          [
           2006,
           "Marc Bulger"
          ],
          [
           2007,
           "Marc Bulger"
          ],
          [
           2008,
           "Marc Bulger"
          ],
          [
           2009,
           "Marc Bulger"
          ],
          [
           2004,
           "Tim Rattay"
          ],
          [
           2002,
           "Mike Vick"
          ],
          [
           2004,
           "Mike Vick"
          ],
          [
           2005,
           "Mike Vick"
          ],
          [
           2006,
           "Mike Vick"
          ],
          [
           2010,
           "Mike Vick"
          ],
          [
           2011,
           "Mike Vick"
          ],
          [
           2012,
           "Mike Vick"
          ],
          [
           2004,
           "A.J. Feeley"
          ],
          [
           2005,
           "Mike McMahon"
          ],
          [
           2003,
           "Quincy Carter"
          ],
          [
           2001,
           "Chris Weinke"
          ],
          [
           2007,
           "Sage Rosenfels"
          ],
          [
           2002,
           "Drew Brees"
          ],
          [
           2003,
           "Drew Brees"
          ],
          [
           2004,
           "Drew Brees"
          ],
          [
           2005,
           "Drew Brees"
          ],
          [
           2006,
           "Drew Brees"
          ],
          [
           2007,
           "Drew Brees"
          ],
          [
           2008,
           "Drew Brees"
          ],
          [
           2009,
           "Drew Brees"
          ],
          [
           2010,
           "Drew Brees"
          ],
          [
           2011,
           "Drew Brees"
          ],
          [
           2012,
           "Drew Brees"
          ],
          [
           2013,
           "Drew Brees"
          ],
          [
           2014,
           "Drew Brees"
          ],
          [
           2015,
           "Drew Brees"
          ],
          [
           2016,
           "Drew Brees"
          ],
          [
           2017,
           "Drew Brees"
          ],
          [
           2018,
           "Drew Brees"
          ],
          [
           2019,
           "Drew Brees"
          ],
          [
           2020,
           "Drew Brees"
          ],
          [
           2002,
           "Chad Hutchinson"
          ],
          [
           2007,
           "Cleo Lemon"
          ],
          [
           2002,
           "David Carr"
          ],
          [
           2003,
           "David Carr"
          ],
          [
           2004,
           "David Carr"
          ],
          [
           2005,
           "David Carr"
          ],
          [
           2006,
           "David Carr"
          ],
          [
           2008,
           "Shaun Hill"
          ],
          [
           2010,
           "Shaun Hill"
          ],
          [
           2002,
           "Joey Harrington"
          ],
          [
           2003,
           "Joey Harrington"
          ],
          [
           2004,
           "Joey Harrington"
          ],
          [
           2005,
           "Joey Harrington"
          ],
          [
           2006,
           "Joey Harrington"
          ],
          [
           2007,
           "Joey Harrington"
          ],
          [
           2004,
           "Josh McCown"
          ],
          [
           2005,
           "Josh McCown"
          ],
          [
           2014,
           "Josh McCown"
          ],
          [
           2017,
           "Josh McCown"
          ],
          [
           2006,
           "David Garrard"
          ],
          [
           2007,
           "David Garrard"
          ],
          [
           2008,
           "David Garrard"
          ],
          [
           2009,
           "David Garrard"
          ],
          [
           2010,
           "David Garrard"
          ],
          [
           2008,
           "J.T. O'Sullivan"
          ],
          [
           2002,
           "Patrick Ramsey"
          ],
          [
           2003,
           "Patrick Ramsey"
          ],
          [
           2004,
           "Patrick Ramsey"
          ],
          [
           2004,
           "Carson Palmer"
          ],
          [
           2005,
           "Carson Palmer"
          ],
          [
           2006,
           "Carson Palmer"
          ],
          [
           2007,
           "Carson Palmer"
          ],
          [
           2009,
           "Carson Palmer"
          ],
          [
           2010,
           "Carson Palmer"
          ],
          [
           2011,
           "Carson Palmer"
          ],
          [
           2012,
           "Carson Palmer"
          ],
          [
           2013,
           "Carson Palmer"
          ],
          [
           2015,
           "Carson Palmer"
          ],
          [
           2016,
           "Carson Palmer"
          ],
          [
           2006,
           "Tony Romo"
          ],
          [
           2007,
           "Tony Romo"
          ],
          [
           2008,
           "Tony Romo"
          ],
          [
           2009,
           "Tony Romo"
          ],
          [
           2011,
           "Tony Romo"
          ],
          [
           2012,
           "Tony Romo"
          ],
          [
           2013,
           "Tony Romo"
          ],
          [
           2014,
           "Tony Romo"
          ],
          [
           2005,
           "Chris Simms"
          ],
          [
           2005,
           "Brooks Bollinger"
          ],
          [
           2008,
           "Seneca Wallace"
          ],
          [
           2006,
           "Rex Grossman"
          ],
          [
           2011,
           "Rex Grossman"
          ],
          [
           2003,
           "Kyle Boller"
          ],
          [
           2004,
           "Kyle Boller"
          ],
          [
           2005,
           "Kyle Boller"
          ],
          [
           2007,
           "Kyle Boller"
          ],
          [
           2003,
           "Byron Leftwich"
          ],
          [
           2004,
           "Byron Leftwich"
          ],
          [
           2005,
           "Byron Leftwich"
          ],
          [
           2007,
           "Matt Schaub"
          ],
          [
           2008,
           "Matt Schaub"
          ],
          [
           2009,
           "Matt Schaub"
          ],
          [
           2010,
           "Matt Schaub"
          ],
          [
           2011,
           "Matt Schaub"
          ],
          [
           2012,
           "Matt Schaub"
          ],
          [
           2013,
           "Matt Schaub"
          ],
          [
           2005,
           "Eli Manning"
          ],
          [
           2006,
           "Eli Manning"
          ],
          [
           2007,
           "Eli Manning"
          ],
          [
           2008,
           "Eli Manning"
          ],
          [
           2009,
           "Eli Manning"
          ],
          [
           2010,
           "Eli Manning"
          ],
          [
           2011,
           "Eli Manning"
          ],
          [
           2012,
           "Eli Manning"
          ],
          [
           2013,
           "Eli Manning"
          ],
          [
           2014,
           "Eli Manning"
          ],
          [
           2015,
           "Eli Manning"
          ],
          [
           2016,
           "Eli Manning"
          ],
          [
           2017,
           "Eli Manning"
          ],
          [
           2018,
           "Eli Manning"
          ],
          [
           2005,
           "J.P. Losman"
          ],
          [
           2006,
           "J.P. Losman"
          ],
          [
           2004,
           "Ben Roethlisberger"
          ],
          [
           2005,
           "Ben Roethlisberger"
          ],
          [
           2006,
           "Ben Roethlisberger"
          ],
          [
           2007,
           "Ben Roethlisberger"
          ],
          [
           2008,
           "Ben Roethlisberger"
          ],
          [
           2009,
           "Ben Roethlisberger"
          ],
          [
           2010,
           "Ben Roethlisberger"
          ],
          [
           2011,
           "Ben Roethlisberger"
          ],
          [
           2012,
           "Ben Roethlisberger"
          ],
          [
           2013,
           "Ben Roethlisberger"
          ],
          [
           2014,
           "Ben Roethlisberger"
          ],
          [
           2015,
           "Ben Roethlisberger"
          ],
          [
           2016,
           "Ben Roethlisberger"
          ],
          [
           2017,
           "Ben Roethlisberger"
          ],
          [
           2018,
           "Ben Roethlisberger"
          ],
          [
           2020,
           "Ben Roethlisberger"
          ],
          [
           2021,
           "Ben Roethlisberger"
          ],
          [
           2006,
           "Philip Rivers"
          ],
          [
           2007,
           "Philip Rivers"
          ],
          [
           2008,
           "Philip Rivers"
          ],
          [
           2009,
           "Philip Rivers"
          ],
          [
           2010,
           "Philip Rivers"
          ],
          [
           2011,
           "Philip Rivers"
          ],
          [
           2012,
           "Philip Rivers"
          ],
          [
           2013,
           "Philip Rivers"
          ],
          [
           2014,
           "Philip Rivers"
          ],
          [
           2015,
           "Philip Rivers"
          ],
          [
           2016,
           "Philip Rivers"
          ],
          [
           2017,
           "Philip Rivers"
          ],
          [
           2018,
           "Philip Rivers"
          ],
          [
           2019,
           "Philip Rivers"
          ],
          [
           2020,
           "Philip Rivers"
          ],
          [
           2006,
           "Alex Smith"
          ],
          [
           2009,
           "Alex Smith"
          ],
          [
           2010,
           "Alex Smith"
          ],
          [
           2011,
           "Alex Smith"
          ],
          [
           2012,
           "Alex Smith"
          ],
          [
           2013,
           "Alex Smith"
          ],
          [
           2014,
           "Alex Smith"
          ],
          [
           2015,
           "Alex Smith"
          ],
          [
           2016,
           "Alex Smith"
          ],
          [
           2017,
           "Alex Smith"
          ],
          [
           2018,
           "Alex Smith"
          ],
          [
           2008,
           "Aaron Rodgers"
          ],
          [
           2009,
           "Aaron Rodgers"
          ],
          [
           2010,
           "Aaron Rodgers"
          ],
          [
           2011,
           "Aaron Rodgers"
          ],
          [
           2012,
           "Aaron Rodgers"
          ],
          [
           2013,
           "Aaron Rodgers"
          ],
          [
           2014,
           "Aaron Rodgers"
          ],
          [
           2015,
           "Aaron Rodgers"
          ],
          [
           2016,
           "Aaron Rodgers"
          ],
          [
           2018,
           "Aaron Rodgers"
          ],
          [
           2019,
           "Aaron Rodgers"
          ],
          [
           2020,
           "Aaron Rodgers"
          ],
          [
           2021,
           "Aaron Rodgers"
          ],
          [
           2022,
           "Aaron Rodgers"
          ],
          [
           2024,
           "Aaron Rodgers"
          ],
          [
           2007,
           "Jason Campbell"
          ],
          [
           2008,
           "Jason Campbell"
          ],
          [
           2009,
           "Jason Campbell"
          ],
          [
           2010,
           "Jason Campbell"
          ],
          [
           2013,
           "Jason Campbell"
          ],
          [
           2006,
           "Charlie Frye"
          ],
          [
           2006,
           "Andrew Walter"
          ],
          [
           2005,
           "Kyle Orton"
          ],
          [
           2008,
           "Kyle Orton"
          ],
          [
           2009,
           "Kyle Orton"
          ],
          [
           2010,
           "Kyle Orton"
          ],
          [
           2011,
           "Kyle Orton"
          ],
          [
           2014,
           "Kyle Orton"
          ],
          [
           2008,
           "Dan Orlovsky"
          ],
          [
           2007,
           "Derek Anderson"
          ],
          [
           2008,
           "Derek Anderson"
          ],
          [
           2010,
           "Derek Anderson"
          ],
          [
           2008,
           "Matt Cassel"
          ],
          [
           2009,
           "Matt Cassel"
          ],
          [
           2010,
           "Matt Cassel"
          ],
          [
           2011,
           "Matt Cassel"
          ],
          [
           2012,
           "Matt Cassel"
          ],
          [
           2013,
           "Matt Cassel"
          ],
          [
           2008,
           "Ryan Fitzpatrick"
          ],
          [
           2009,
           "Ryan Fitzpatrick"
          ],
          [
           2010,
           "Ryan Fitzpatrick"
          ],
          [
           2011,
           "Ryan Fitzpatrick"
          ],
          [
           2012,
           "Ryan Fitzpatrick"
          ],
          [
           2013,
           "Ryan Fitzpatrick"
          ],
          [
           2014,
           "Ryan Fitzpatrick"
          ],
          [
           2015,
           "Ryan Fitzpatrick"
          ],
          [
           2016,
           "Ryan Fitzpatrick"
          ],
          [
           2019,
           "Ryan Fitzpatrick"
          ],
          [
           2020,
           "Ryan Fitzpatrick"
          ],
          [
           2006,
           "Vince Young"
          ],
          [
           2007,
           "Vince Young"
          ],
          [
           2009,
           "Vince Young"
          ],
          [
           2006,
           "Matt Leinart"
          ],
          [
           2007,
           "Jay Cutler"
          ],
          [
           2008,
           "Jay Cutler"
          ],
          [
           2009,
           "Jay Cutler"
          ],
          [
           2010,
           "Jay Cutler"
          ],
          [
           2011,
           "Jay Cutler"
          ],
          [
           2012,
           "Jay Cutler"
          ],
          [
           2013,
           "Jay Cutler"
          ],
          [
           2014,
           "Jay Cutler"
          ],
          [
           2015,
           "Jay Cutler"
          ],
          [
           2017,
           "Jay Cutler"
          ],
          [
           2007,
           "Kellen Clemens"
          ],
          [
           2013,
           "Kellen Clemens"
          ],
          [
           2007,
           "Tarvaris Jackson"
          ],
          [
           2011,
           "Tarvaris Jackson"
          ],
          [
           2007,
           "Brodie Croyle"
          ],
          [
           2006,
           "Bruce Gradkowski"
          ],
          [
           2008,
           "JaMarcus Russell"
          ],
          [
           2009,
           "JaMarcus Russell"
          ],
          [
           2009,
           "Brady Quinn"
          ],
          [
           2011,
           "Kevin Kolb"
          ],
          [
           2014,
           "Drew Stanton"
          ],
          [
           2007,
           "Trent Edwards"
          ],
          [
           2008,
           "Trent Edwards"
          ],
          [
           2008,
           "Tyler Thigpen"
          ],
          [
           2011,
           "Matt Moore"
          ],
          [
           2008,
           "Matt Ryan"
          ],
          [
           2009,
           "Matt Ryan"
          ],
          [
           2010,
           "Matt Ryan"
          ],
          [
           2011,
           "Matt Ryan"
          ],
          [
           2012,
           "Matt Ryan"
          ],
          [
           2013,
           "Matt Ryan"
          ],
          [
           2014,
           "Matt Ryan"
          ],
          [
           2015,
           "Matt Ryan"
          ],
          [
           2016,
           "Matt Ryan"
          ],
          [
           2017,
           "Matt Ryan"
          ],
          [
           2018,
           "Matt Ryan"
          ],
          [
           2019,
           "Matt Ryan"
          ],
          [
           2020,
           "Matt Ryan"
          ],
          [
           2021,
           "Matt Ryan"
          ],
          [
           2022,
           "Matt Ryan"
          ],
          [
           2008,
           "Joe Flacco"
          ],
          [
           2009,
           "Joe Flacco"
          ],
          [
           2010,
           "Joe Flacco"
          ],
          [
           2011,
           "Joe Flacco"
          ],
          [
           2012,
           "Joe Flacco"
          ],
          [
           2013,
           "Joe Flacco"
          ],
          [
           2014,
           "Joe Flacco"
          ],
          [
           2015,
           "Joe Flacco"
          ],
          [
           2016,
           "Joe Flacco"
          ],
          [
           2017,
           "Joe Flacco"
          ],
          [
           2018,
           "Joe Flacco"
          ],
          [
           2009,
           "Chad Henne"
          ],
          [
           2010,
           "Chad Henne"
          ],
          [
           2012,
           "Chad Henne"
          ],
          [
           2013,
           "Chad Henne"
          ],
          [
           2009,
           "Matthew Stafford"
          ],
          [
           2011,
           "Matthew Stafford"
          ],
          [
           2012,
           "Matthew Stafford"
          ],
          [
           2013,
           "Matthew Stafford"
          ],
          [
           2014,
           "Matthew Stafford"
          ],
          [
           2015,
           "Matthew Stafford"
          ],
          [
           2016,
           "Matthew Stafford"
          ],
          [
           2017,
           "Matthew Stafford"
          ],
          [
           2018,
           "Matthew Stafford"
          ],
          [
           2020,
           "Matthew Stafford"
          ],
          [
           2021,
           "Matthew Stafford"
          ],
          [
           2022,
           "Matthew Stafford"
          ],
          [
           2023,
           "Matthew Stafford"
          ],
          [
           2024,
           "Matthew Stafford"
          ],
          [
           2014,
           "Brian Hoyer"
          ],
          [
           2015,
           "Brian Hoyer"
          ],
          [
           2017,
           "Brian Hoyer"
          ],
          [
           2009,
           "Mark Sanchez"
          ],
          [
           2010,
           "Mark Sanchez"
          ],
          [
           2011,
           "Mark Sanchez"
          ],
          [
           2012,
           "Mark Sanchez"
          ],
          [
           2014,
           "Mark Sanchez"
          ],
          [
           2009,
           "Josh Freeman"
          ],
          [
           2010,
           "Josh Freeman"
          ],
          [
           2011,
           "Josh Freeman"
          ],
          [
           2012,
           "Josh Freeman"
          ],
          [
           2011,
           "Curtis Painter"
          ],
          [
           2010,
           "Jimmy Clausen"
          ],
          [
           2011,
           "Colt McCoy"
          ],
          [
           2010,
           "Sam Bradford"
          ],
          [
           2011,
           "Sam Bradford"
          ],
          [
           2012,
           "Sam Bradford"
          ],
          [
           2015,
           "Sam Bradford"
          ],
          [
           2016,
           "Sam Bradford"
          ],
          [
           2011,
           "Cam Newton"
          ],
          [
           2012,
           "Cam Newton"
          ],
          [
           2013,
           "Cam Newton"
          ],
          [
           2014,
           "Cam Newton"
          ],
          [
           2015,
           "Cam Newton"
          ],
          [
           2016,
           "Cam Newton"
          ],
          [
           2017,
           "Cam Newton"
          ],
          [
           2018,
           "Cam Newton"
          ],
          [
           2020,
           "Cam Newton"
          ],
          [
           2012,
           "Jake Locker"
          ],
          [
           2011,
           "Blaine Gabbert"
          ],
          [
           2012,
           "Blaine Gabbert"
          ],
          [
           2011,
           "Christian Ponder"
          ],
          [
           2012,
           "Christian Ponder"
          ],
          [
           2013,
           "Christian Ponder"
          ],
          [
           2011,
           "Andy Dalton"
          ],
          [
           2012,
           "Andy Dalton"
          ],
          [
           2013,
           "Andy Dalton"
          ],
          [
           2014,
           "Andy Dalton"
          ],
          [
           2015,
           "Andy Dalton"
          ],
          [
           2016,
           "Andy Dalton"
          ],
          [
           2017,
           "Andy Dalton"
          ],
          [
           2018,
           "Andy Dalton"
          ],
          [
           2019,
           "Andy Dalton"
          ],
          [
           2020,
           "Andy Dalton"
          ],
          [
           2022,
           "Andy Dalton"
          ],
          [
           2012,
           "Colin Kaepernick"
          ],
          [
           2013,
           "Colin Kaepernick"
          ],
          [
           2014,
           "Colin Kaepernick"
          ],
          [
           2015,
           "Colin Kaepernick"
          ],
          [
           2016,
           "Colin Kaepernick"
          ],
          [
           2015,
           "Tyrod Taylor"
          ],
          [
           2016,
           "Tyrod Taylor"
          ],
          [
           2017,
           "Tyrod Taylor"
          ],
          [
           2014,
           "Austin Davis"
          ],
          [
           2016,
           "Case Keenum"
          ],
          [
           2017,
           "Case Keenum"
          ],
          [
           2018,
           "Case Keenum"
          ],
          [
           2019,
           "Case Keenum"
          ],
          [
           2012,
           "Russell Wilson"
          ],
          [
           2013,
           "Russell Wilson"
          ],
          [
           2014,
           "Russell Wilson"
          ],
          [
           2015,
           "Russell Wilson"
          ],
          [
           2016,
           "Russell Wilson"
          ],
          [
           2017,
           "Russell Wilson"
          ],
          [
           2018,
           "Russell Wilson"
          ],
          [
           2019,
           "Russell Wilson"
          ],
          [
           2020,
           "Russell Wilson"
          ],
          [
           2021,
           "Russell Wilson"
          ],
          [
           2022,
           "Russell Wilson"
          ],
          [
           2023,
           "Russell Wilson"
          ],
          [
           2024,
           "Russell Wilson"
          ],
          [
           2013,
           "Nick Foles"
          ],
          [
           2015,
           "Nick Foles"
          ],
          [
           2017,
           "Nick Foles"
          ],
          [
           2020,
           "Nick Foles"
          ],
          [
           2015,
           "Kirk Cousins"
          ],
          [
           2016,
           "Kirk Cousins"
          ],
          [
           2017,
           "Kirk Cousins"
          ],
          [
           2018,
           "Kirk Cousins"
          ],
          [
           2019,
           "Kirk Cousins"
          ],
          [
           2020,
           "Kirk Cousins"
          ],
          [
           2021,
           "Kirk Cousins"
          ],
          [
           2022,
           "Kirk Cousins"
          ],
          [
           2024,
           "Kirk Cousins"
          ],
          [
           2012,
           "Robert Griffin"
          ],
          [
           2013,
           "Robert Griffin"
          ],
          [
           2014,
           "Robert Griffin"
          ],
          [
           2012,
           "Andrew Luck"
          ],
          [
           2013,
           "Andrew Luck"
          ],
          [
           2014,
           "Andrew Luck"
          ],
          [
           2016,
           "Andrew Luck"
          ],
          [
           2018,
           "Andrew Luck"
          ],
          [
           2012,
           "Brandon Weeden"
          ],
          [
           2016,
           "Brock Osweiler"
          ],
          [
           2012,
           "Ryan Tannehill"
          ],
          [
           2013,
           "Ryan Tannehill"
          ],
          [
           2014,
           "Ryan Tannehill"
          ],
          [
           2015,
           "Ryan Tannehill"
          ],
          [
           2016,
           "Ryan Tannehill"
          ],
          [
           2018,
           "Ryan Tannehill"
          ],
          [
           2019,
           "Ryan Tannehill"
          ],
          [
           2020,
           "Ryan Tannehill"
          ],
          [
           2021,
           "Ryan Tannehill"
          ],
          [
           2022,
           "Ryan Tannehill"
          ],
          [
           2023,
           "Ryan Tannehill"
          ],
          [
           2013,
           "Mike Glennon"
          ],
          [
           2013,
           "EJ Manuel"
          ],
          [
           2013,
           "Geno Smith"
          ],
          [
           2014,
           "Geno Smith"
          ],
          [
           2022,
           "Geno Smith"
          ],
          [
           2023,
           "Geno Smith"
          ],
          [
           2024,
           "Geno Smith"
          ],
          [
           2014,
           "Teddy Bridgewater"
          ],
          [
           2015,
           "Teddy Bridgewater"
          ],
          [
           2020,
           "Teddy Bridgewater"
          ],
          [
           2021,
           "Teddy Bridgewater"
          ],
          [
           2014,
           "Derek Carr"
          ],
          [
           2015,
           "Derek Carr"
          ],
          [
           2016,
           "Derek Carr"
          ],
          [
           2017,
           "Derek Carr"
          ],
          [
           2018,
           "Derek Carr"
          ],
          [
           2019,
           "Derek Carr"
          ],
          [
           2020,
           "Derek Carr"
          ],
          [
           2021,
           "Derek Carr"
          ],
          [
           2022,
           "Derek Carr"
          ],
          [
           2023,
           "Derek Carr"
          ],
          [
           2024,
           "Derek Carr"
          ],
          [
           2019,
           "Jimmy Garoppolo"
          ],
          [
           2021,
           "Jimmy Garoppolo"
          ],
          [
           2022,
           "Jimmy Garoppolo"
          ],
          [
           2014,
           "Blake Bortles"
          ],
          [
           2015,
           "Blake Bortles"
          ],
          [
           2016,
           "Blake Bortles"
          ],
          [
           2017,
           "Blake Bortles"
          ],
          [
           2018,
           "Blake Bortles"
          ],
          [
           2015,
           "Johnny Manziel"
          ],
          [
           2015,
           "Jameis Winston"
          ],
          [
           2016,
           "Jameis Winston"
          ],
          [
           2017,
           "Jameis Winston"
          ],
          [
           2018,
           "Jameis Winston"
          ],
          [
           2019,
           "Jameis Winston"
          ],
          [
           2024,
           "Jameis Winston"
          ],
          [
           2017,
           "Brett Hundley"
          ],
          [
           2021,
           "Taylor Heinicke"
          ],
          [
           2022,
           "Taylor Heinicke"
          ],
          [
           2016,
           "Trevor Siemian"
          ],
          [
           2017,
           "Trevor Siemian"
          ],
          [
           2015,
           "Marcus Mariota"
          ],
          [
           2016,
           "Marcus Mariota"
          ],
          [
           2017,
           "Marcus Mariota"
          ],
          [
           2018,
           "Marcus Mariota"
          ],
          [
           2022,
           "Marcus Mariota"
          ],
          [
           2016,
           "Carson Wentz"
          ],
          [
           2017,
           "Carson Wentz"
          ],
          [
           2018,
           "Carson Wentz"
          ],
          [
           2019,
           "Carson Wentz"
          ],
          [
           2020,
           "Carson Wentz"
          ],
          [
           2021,
           "Carson Wentz"
          ],
          [
           2016,
           "Dak Prescott"
          ],
          [
           2017,
           "Dak Prescott"
          ],
          [
           2018,
           "Dak Prescott"
          ],
          [
           2019,
           "Dak Prescott"
          ],
          [
           2021,
           "Dak Prescott"
          ],
          [
           2022,
           "Dak Prescott"
          ],
          [
           2023,
           "Dak Prescott"
          ],
          [
           2017,
           "Jared Goff"
          ],
          [
           2018,
           "Jared Goff"
          ],
          [
           2019,
           "Jared Goff"
          ],
          [
           2020,
           "Jared Goff"
          ],
          [
           2021,
           "Jared Goff"
          ],
          [
           2022,
           "Jared Goff"
          ],
          [
           2023,
           "Jared Goff"
          ],
          [
           2024,
           "Jared Goff"
          ],
          [
           2017,
           "Jacoby Brissett"
          ],
          [
           2019,
           "Jacoby Brissett"
          ],
          [
           2021,
           "Jacoby Brissett"
          ],
          [
           2022,
           "Jacoby Brissett"
          ],
          [
           2020,
           "Nick Mullens"
          ],
          [
           2018,
           "Deshaun Watson"
          ],
          [
           2019,
           "Deshaun Watson"
          ],
          [
           2020,
           "Deshaun Watson"
          ],
          [
           2024,
           "Cooper Rush"
          ],
          [
           2017,
           "Mitchell Trubisky"
          ],
          [
           2018,
           "Mitchell Trubisky"
          ],
          [
           2019,
           "Mitchell Trubisky"
          ],
          [
           2020,
           "Mitchell Trubisky"
          ],
          [
           2018,
           "Patrick Mahomes"
          ],
          [
           2019,
           "Patrick Mahomes"
          ],
          [
           2020,
           "Patrick Mahomes"
          ],
          [
           2021,
           "Patrick Mahomes"
          ],
          [
           2022,
           "Patrick Mahomes"
          ],
          [
           2023,
           "Patrick Mahomes"
          ],
          [
           2024,
           "Patrick Mahomes"
          ],
          [
           2017,
           "DeShone Kizer"
          ],
          [
           2023,
           "Joshua Dobbs"
          ],
          [
           2018,
           "Josh Rosen"
          ],
          [
           2019,
           "Kyle Allen"
          ],
          [
           2019,
           "Mason Rudolph"
          ],
          [
           2019,
           "Lamar Jackson"
          ],
          [
           2020,
           "Lamar Jackson"
          ],
          [
           2021,
           "Lamar Jackson"
          ],
          [
           2022,
           "Lamar Jackson"
          ],
          [
           2023,
           "Lamar Jackson"
          ],
          [
           2024,
           "Lamar Jackson"
          ],
          [
           2018,
           "Baker Mayfield"
          ],
          [
           2019,
           "Baker Mayfield"
          ],
          [
           2020,
           "Baker Mayfield"
          ],
          [
           2021,
           "Baker Mayfield"
          ],
          [
           2022,
           "Baker Mayfield"
          ],
          [
           2023,
           "Baker Mayfield"
          ],
          [
           2024,
           "Baker Mayfield"
          ],
          [
           2018,
           "Josh Allen"
          ],
          [
           2019,
           "Josh Allen"
          ],
          [
           2020,
           "Josh Allen"
          ],
          [
           2021,
           "Josh Allen"
          ],
          [
           2022,
           "Josh Allen"
          ],
          [
           2023,
           "Josh Allen"
          ],
          [
           2024,
           "Josh Allen"
          ],
          [
           2018,
           "Sam Darnold"
          ],
          [
           2019,
           "Sam Darnold"
          ],
          [
           2020,
           "Sam Darnold"
          ],
          [
           2021,
           "Sam Darnold"
          ],
          [
           2024,
           "Sam Darnold"
          ],
          [
           2023,
           "Jake Browning"
          ],
          [
           2019,
           "Kyler Murray"
          ],
          [
           2020,
           "Kyler Murray"
          ],
          [
           2021,
           "Kyler Murray"
          ],
          [
           2022,
           "Kyler Murray"
          ],
          [
           2024,
           "Kyler Murray"
          ],
          [
           2019,
           "Dwayne Haskins"
          ],
          [
           2019,
           "Gardner Minshew"
          ],
          [
           2020,
           "Gardner Minshew"
          ],
          [
           2023,
           "Gardner Minshew"
          ],
          [
           2024,
           "Gardner Minshew"
          ],
          [
           2020,
           "Drew Lock"
          ],
          [
           2019,
           "Daniel Jones"
          ],
          [
           2020,
           "Daniel Jones"
          ],
          [
           2021,
           "Daniel Jones"
          ],
          [
           2022,
           "Daniel Jones"
          ],
          [
           2024,
           "Daniel Jones"
          ],
          [
           2020,
           "Tua Tagovailoa"
          ],
          [
           2021,
           "Tua Tagovailoa"
          ],
          [
           2022,
           "Tua Tagovailoa"
          ],
          [
           2023,
           "Tua Tagovailoa"
          ],
          [
           2024,
           "Tua Tagovailoa"
          ],
          [
           2023,
           "Jordan Love"
          ],
          [
           2024,
           "Jordan Love"
          ],
          [
           2020,
           "Justin Herbert"
          ],
          [
           2021,
           "Justin Herbert"
          ],
          [
           2022,
           "Justin Herbert"
          ],
          [
           2023,
           "Justin Herbert"
          ],
          [
           2024,
           "Justin Herbert"
          ],
          [
           2021,
           "Jalen Hurts"
          ],
          [
           2022,
           "Jalen Hurts"
          ],
          [
           2023,
           "Jalen Hurts"
          ],
          [
           2024,
           "Jalen Hurts"
          ],
          [
           2020,
           "Joe Burrow"
          ],
          [
           2021,
           "Joe Burrow"
          ],
          [
           2022,
           "Joe Burrow"
          ],
          [
           2023,
           "Joe Burrow"
          ],
          [
           2024,
           "Joe Burrow"
          ],
          [
           2021,
           "Davis Mills"
          ],
          [
           2022,
           "Davis Mills"
          ],
          [
           2021,
           "Justin Fields"
          ],
          [
           2022,
           "Justin Fields"
          ],
          [
           2023,
           "Justin Fields"
          ],
          [
           2021,
           "Trevor Lawrence"
          ],
          [
           2022,
           "Trevor Lawrence"
          ],
          [
           2023,
           "Trevor Lawrence"
          ],
          [
           2024,
           "Trevor Lawrence"
          ],
          [
           2021,
           "Mac Jones"
          ],
          [
           2022,
           "Mac Jones"
          ],
          [
           2023,
           "Mac Jones"
          ],
          [
           2024,
           "Mac Jones"
          ],
          [
           2021,
           "Zach Wilson"
          ],
          [
           2022,
           "Zach Wilson"
          ],
          [
           2023,
           "Zach Wilson"
          ],
          [
           2023,
           "Sam Howell"
          ],
          [
           2022,
           "Brock Purdy"
          ],
          [
           2023,
           "Brock Purdy"
          ],
          [
           2024,
           "Brock Purdy"
          ],
          [
           2022,
           "Kenny Pickett"
          ],
          [
           2023,
           "Kenny Pickett"
          ],
          [
           2023,
           "Bailey Zappe"
          ],
          [
           2023,
           "Desmond Ridder"
          ],
          [
           2023,
           "Aidan O'Connell"
          ],
          [
           2024,
           "Aidan O'Connell"
          ],
          [
           2023,
           "Bryce Young"
          ],
          [
           2024,
           "Bryce Young"
          ],
          [
           2023,
           "Will Levis"
          ],
          [
           2024,
           "Will Levis"
          ],
          [
           2023,
           "C.J. Stroud"
          ],
          [
           2024,
           "C.J. Stroud"
          ],
          [
           2024,
           "Anthony Richardson"
          ],
          [
           2024,
           "Bo Nix"
          ],
          [
           2024,
           "Drake Maye"
          ],
          [
           2024,
           "Jayden Daniels"
          ],
          [
           2024,
           "Caleb Williams"
          ]
         ],
         "legendgroup": "",
         "marker": {
          "color": [
           3,
           3,
           3,
           3,
           3,
           3,
           3,
           3,
           3,
           3,
           3,
           3,
           3,
           3,
           3,
           3,
           3,
           3,
           3,
           3,
           3,
           3,
           3,
           3,
           3,
           3,
           3,
           3,
           3,
           3,
           3,
           3,
           1,
           3,
           3,
           3,
           3,
           3,
           3,
           3,
           3,
           3,
           3,
           1,
           0,
           3,
           3,
           3,
           3,
           3,
           2,
           2,
           3,
           3,
           3,
           3,
           3,
           0,
           1,
           1,
           3,
           3,
           3,
           3,
           3,
           3,
           3,
           3,
           3,
           3,
           0,
           0,
           0,
           0,
           1,
           3,
           3,
           3,
           3,
           3,
           3,
           3,
           3,
           3,
           3,
           1,
           3,
           3,
           3,
           3,
           3,
           3,
           3,
           3,
           3,
           3,
           1,
           1,
           1,
           3,
           3,
           3,
           3,
           3,
           3,
           3,
           3,
           3,
           3,
           1,
           3,
           3,
           3,
           3,
           3,
           3,
           3,
           3,
           3,
           3,
           3,
           1,
           0,
           0,
           0,
           0,
           3,
           3,
           3,
           4,
           1,
           3,
           3,
           3,
           3,
           3,
           3,
           1,
           3,
           3,
           3,
           3,
           3,
           3,
           3,
           0,
           0,
           1,
           3,
           3,
           3,
           3,
           3,
           3,
           3,
           3,
           3,
           0,
           3,
           0,
           0,
           0,
           0,
           0,
           0,
           0,
           0,
           0,
           3,
           3,
           3,
           3,
           3,
           3,
           3,
           3,
           1,
           1,
           0,
           1,
           1,
           2,
           3,
           3,
           3,
           3,
           3,
           1,
           3,
           3,
           3,
           3,
           3,
           3,
           3,
           3,
           3,
           3,
           3,
           3,
           3,
           3,
           3,
           1,
           3,
           3,
           2,
           3,
           3,
           3,
           3,
           3,
           3,
           3,
           3,
           3,
           3,
           3,
           3,
           3,
           0,
           0,
           0,
           3,
           3,
           3,
           3,
           3,
           0,
           1,
           0,
           3,
           3,
           3,
           3,
           3,
           0,
           4,
           0,
           4,
           0,
           0,
           0,
           0,
           4,
           4,
           4,
           0,
           0,
           0,
           0,
           0,
           3,
           3,
           0,
           1,
           1,
           1,
           3,
           2,
           2,
           2,
           2,
           2,
           2,
           2,
           3,
           3,
           3,
           3,
           0,
           3,
           3,
           3,
           3,
           0,
           0,
           0,
           0,
           0,
           0,
           0,
           0,
           0,
           0,
           0,
           0,
           4,
           4,
           0,
           3,
           1,
           3,
           3,
           3,
           3,
           3,
           1,
           0,
           3,
           3,
           3,
           3,
           0,
           1,
           3,
           3,
           1,
           1,
           1,
           4,
           1,
           1,
           2,
           1,
           3,
           3,
           3,
           3,
           3,
           0,
           0,
           1,
           0,
           0,
           0,
           0,
           0,
           0,
           1,
           0,
           0,
           0,
           0,
           0,
           0,
           4,
           3,
           3,
           1,
           0,
           0,
           3,
           3,
           3,
           1,
           3,
           3,
           3,
           1,
           0,
           0,
           0,
           0,
           0,
           0,
           3,
           0,
           0,
           0,
           0,
           0,
           0,
           0,
           0,
           0,
           0,
           0,
           0,
           0,
           3,
           1,
           3,
           3,
           1,
           4,
           1,
           0,
           1,
           0,
           4,
           0,
           0,
           0,
           0,
           0,
           0,
           0,
           0,
           1,
           0,
           0,
           0,
           0,
           0,
           0,
           4,
           0,
           0,
           0,
           0,
           0,
           0,
           0,
           1,
           0,
           1,
           4,
           4,
           4,
           4,
           4,
           1,
           4,
           1,
           0,
           4,
           4,
           4,
           4,
           4,
           4,
           4,
           4,
           4,
           4,
           4,
           4,
           0,
           4,
           1,
           1,
           1,
           1,
           1,
           1,
           1,
           3,
           1,
           0,
           0,
           1,
           0,
           1,
           0,
           1,
           1,
           1,
           1,
           1,
           1,
           1,
           1,
           1,
           1,
           0,
           0,
           0,
           1,
           1,
           0,
           1,
           1,
           4,
           2,
           1,
           1,
           1,
           1,
           0,
           0,
           1,
           1,
           1,
           0,
           0,
           4,
           0,
           1,
           1,
           1,
           1,
           1,
           1,
           1,
           1,
           1,
           1,
           1,
           1,
           1,
           1,
           1,
           1,
           0,
           0,
           0,
           0,
           0,
           0,
           0,
           4,
           0,
           4,
           0,
           0,
           0,
           0,
           1,
           0,
           1,
           0,
           0,
           0,
           0,
           0,
           0,
           0,
           0,
           0,
           0,
           1,
           1,
           0,
           0,
           0,
           0,
           0,
           4,
           4,
           4,
           0,
           4,
           0,
           1,
           0,
           4,
           1,
           0,
           1,
           1,
           1,
           0,
           1,
           1,
           1,
           4,
           0,
           0,
           1,
           1,
           1,
           0,
           1,
           0,
           0,
           4,
           2,
           2,
           2,
           2,
           2,
           1,
           2,
           2,
           2,
           1,
           1,
           1,
           1,
           1,
           1,
           0,
           0,
           0,
           1,
           4,
           4,
           1,
           4,
           0,
           1,
           1,
           2,
           2,
           2,
           1,
           2,
           2,
           2,
           1,
           1,
           1,
           4,
           0,
           1,
           2,
           1,
           2,
           4,
           1,
           2,
           4,
           4,
           4,
           4,
           1,
           4,
           4,
           4,
           1,
           4,
           0,
           0,
           0,
           0,
           4,
           4,
           4,
           4,
           0,
           0,
           2,
           1,
           1,
           0,
           0,
           0,
           4,
           0,
           0,
           1,
           1,
           1,
           4,
           0,
           1,
           1,
           4,
           4,
           1,
           1,
           1,
           1,
           1,
           1,
           1,
           4,
           4,
           4,
           1,
           1,
           1,
           4,
           0,
           0,
           4,
           0,
           0,
           4,
           4,
           0,
           0,
           4,
           4,
           0,
           0,
           4,
           1,
           0,
           0,
           1,
           1,
           1,
           1,
           0,
           1,
           4,
           0,
           1,
           1,
           1,
           1,
           0,
           1,
           1,
           4,
           1,
           1,
           2,
           0,
           4,
           4,
           4,
           1,
           4,
           4,
           1,
           4,
           4,
           4,
           0,
           4,
           4,
           0,
           0,
           0,
           4,
           4,
           0,
           0,
           1,
           4,
           1,
           1,
           0,
           2,
           2,
           4,
           1,
           1,
           4,
           1,
           4,
           4,
           4,
           4,
           4,
           4,
           4,
           4,
           1,
           2,
           1,
           0,
           1,
           2,
           2,
           2,
           2,
           2,
           2,
           0,
           0,
           4,
           1,
           1,
           4,
           4,
           2,
           2,
           4,
           2,
           2,
           2,
           2,
           1,
           0,
           1,
           1,
           4,
           1,
           2,
           2,
           2,
           2,
           2,
           1,
           4,
           4,
           1,
           1,
           1,
           4,
           1,
           1,
           2,
           1,
           4,
           1,
           4,
           0,
           4,
           4,
           0,
           4,
           4,
           0,
           4,
           4,
           2,
           2,
           2,
           2,
           4,
           4,
           4,
           4,
           4,
           1,
           1,
           2,
           2,
           2,
           1,
           4,
           4,
           1,
           0,
           1,
           1,
           1,
           1,
           1,
           1,
           1,
           4,
           4,
           1,
           1,
           1,
           1,
           1,
           1,
           1,
           1,
           1,
           1,
           1,
           4,
           1,
           2,
           4,
           2,
           2,
           4
          ],
          "coloraxis": "coloraxis",
          "symbol": "circle"
         },
         "mode": "markers",
         "name": "",
         "orientation": "v",
         "showlegend": false,
         "type": "scatter",
         "x": [
          -3.137348522736958,
          -4.5293383347491325,
          -3.2124720178533868,
          -4.741267932586661,
          -3.6362781864294247,
          -3.246387701265582,
          -3.521347880865944,
          -3.2795789219459968,
          -2.448975229104624,
          -3.531535130894361,
          -2.9992448636760756,
          -2.30148613238181,
          -3.157975782650413,
          -2.6670224514013614,
          -3.2504169348317133,
          -3.3306620952743704,
          -2.3084767031192457,
          -3.3529141905067963,
          -3.294330528893491,
          -3.2277452106538727,
          -1.9855517161816876,
          -2.377420034309166,
          -2.311120975703634,
          -1.741327065156569,
          -2.2406105621286136,
          -2.214974679462395,
          -2.848099458698104,
          -2.3309978557771225,
          -2.3909183346458565,
          -2.5702552845936113,
          -4.085734531269298,
          -2.3647456535943885,
          -1.3482600618436769,
          -3.7809907402643086,
          -4.182516640767889,
          -3.47288404701617,
          -3.3250014517968163,
          -3.1721719988823804,
          -3.589527680429519,
          -3.2740455554248715,
          -2.997613213779735,
          -3.41107735161002,
          -3.1564129853369716,
          -0.5751596711542949,
          -0.35365209621323435,
          -3.279347366688841,
          -3.314903166737159,
          -2.6856899183869176,
          -2.8355745189289867,
          -1.101630540688984,
          -1.2296760807385134,
          -1.483328941321875,
          -0.8648129658321956,
          -0.23895627298529037,
          -3.7168133286026035,
          -2.457777977941903,
          -3.085220516060152,
          -0.761041185633459,
          -0.9239837889824603,
          -1.3162728425923318,
          -2.7949181379545216,
          -4.0448579725582405,
          -3.1226265329837184,
          -3.16747065947955,
          -3.2478497588230786,
          -2.635942328895858,
          -2.407428514288382,
          -2.8509190104099353,
          -2.3387224252022367,
          -2.746678264402439,
          -0.6330037992135874,
          -0.1119197423887403,
          -0.48380755679979737,
          0.6105721423697668,
          -1.3731141765118402,
          -3.1486434721703476,
          -2.3489152255029464,
          -2.304216854495264,
          -3.098407962628946,
          -1.9975032838331757,
          -2.1096357662785388,
          -3.296416871316681,
          -3.3041885095015413,
          -3.68623476842209,
          -3.0477464190842594,
          -1.257593010754912,
          -2.4949462451823967,
          -2.167947169413357,
          -1.8830459846480678,
          -2.025579817329822,
          -2.899793299645173,
          -1.1546377550455895,
          -1.993556885839325,
          -1.8950949072043732,
          -1.7904450186292027,
          -2.662530127202263,
          0.3118963195580644,
          -0.3816534965121759,
          0.29014401588327343,
          -2.742221067233924,
          -2.739380017414446,
          -3.582058339079002,
          -2.874067098378638,
          -4.185968194540993,
          -3.5541703119984467,
          -2.0610415388479395,
          -2.1787135283999737,
          -2.049008375399551,
          -2.6523977085921864,
          -1.4201456536475017,
          -3.3505522491543824,
          -1.5484547790277547,
          -3.177818809094213,
          -2.536448223440917,
          -2.6790726817127193,
          -3.620908819836557,
          -3.932199024304738,
          -2.4483132036180346,
          -2.7220493568986037,
          -2.4878913273413623,
          -1.7956954594896448,
          -0.5803629241393226,
          -0.5520628171320303,
          -0.6169986536472571,
          -0.06806862172730993,
          0.25602952374591326,
          -2.825906598713426,
          -2.928045970467234,
          -2.8155499695652155,
          0.3713326222799933,
          -1.6167442377764163,
          -3.288347730961597,
          -3.1671920031707876,
          -2.7073222824734264,
          -2.403665674710702,
          -3.1517988382321245,
          -2.2254559304571777,
          -1.3193332242551696,
          -2.217748206127955,
          -2.4259856317737842,
          -3.9972287714242536,
          -3.791826745232693,
          -3.9120760615050094,
          -2.6793223991948425,
          -2.3364178588168016,
          -0.6388603818758102,
          -1.0178291302096194,
          0.5453700507057685,
          -4.425534575541189,
          -2.5664965551904135,
          -2.2609433396140863,
          -3.1316366705236125,
          -2.5022581895923643,
          -1.9478132888059194,
          -2.2277276498363263,
          -1.7903812581589997,
          -1.593607599019436,
          -0.5294904747500764,
          -1.3398886135072143,
          0.7744101960917361,
          0.25146111344430655,
          0.7018860173344041,
          0.5263675786664268,
          1.7862886325664677,
          1.5645240903431312,
          1.8444002245365623,
          0.993910323367412,
          0.08514986580754014,
          -4.20918868804751,
          -3.647729201978455,
          -1.7882777683766338,
          -1.9707002546413053,
          -0.9280113217872272,
          -2.5888296705810028,
          -1.1492639348293128,
          -2.2259178177148997,
          0.8015670662805174,
          0.39190371959572173,
          0.4637645168682712,
          0.792645578078847,
          -0.27399539421613944,
          -1.5258396585840082,
          -2.560985965742911,
          -1.6385576225805427,
          -1.4536923838558504,
          -1.5158120306015042,
          -2.336913992156224,
          -0.899802407436367,
          -4.203520275107175,
          -2.154663071933013,
          -4.1188390688416305,
          -3.8121638592996843,
          -3.7932801865940915,
          -4.471152800725399,
          -3.7476926703623654,
          -3.828560096363511,
          -4.0535010031702665,
          -3.388962240524229,
          -2.730772558952373,
          -2.8286021168563353,
          -1.5087994731088277,
          -2.4435162160055506,
          -2.282428950827791,
          -1.2287079405769459,
          -3.868461656282277,
          -3.0746211391161227,
          -2.584933776175889,
          -2.207489391602036,
          -2.943850555536782,
          -4.133097427367229,
          -3.9561015202261793,
          -3.5240580286877083,
          -3.067452211691948,
          -3.0819485605363077,
          -3.7437207232003176,
          -2.08119800031258,
          -3.092290437141044,
          -2.774728604459403,
          -3.0379747543018905,
          -2.254055887832448,
          -0.6795867165844764,
          0.08651747873867978,
          0.2148288907916903,
          -2.423947921454831,
          -3.846796870065845,
          -2.44448527694153,
          -2.941186558314343,
          -2.4858334295730273,
          -0.9695787121492749,
          -0.3811263320414204,
          -0.2356270282723181,
          -3.0417988373932077,
          -2.0628630218689956,
          -2.615794756106391,
          -2.418071325027906,
          -1.9134144428476185,
          -0.03618082828399058,
          2.1654012698346032,
          0.5601696969014919,
          1.7396519651794973,
          1.5417127109841435,
          1.6250852859736837,
          0.4958216539385145,
          1.376419394245737,
          2.1064774838916454,
          2.724974735450183,
          2.101618532904599,
          1.0653991068768496,
          1.2412916176159792,
          1.8903987896017787,
          2.558043598814402,
          1.3314800522604435,
          -2.770389685855844,
          -1.9490194436692152,
          0.40270780678705953,
          -0.9434989806884079,
          -0.540901920110495,
          -0.7550311464389677,
          -2.799255358994189,
          -1.5184530049593084,
          -1.7043853332578658,
          -1.6889030743651865,
          1.5562944346584096,
          3.0379826910702175,
          1.3949332826962246,
          0.9125167968768484,
          -3.926917975916515,
          -3.482732022760322,
          -3.033449812296367,
          -3.5950116786737465,
          -0.40927624194774714,
          -2.5467686210514255,
          -2.9111792149302556,
          -1.7193362244891652,
          -2.357332470884877,
          -0.4812172528789078,
          -0.12520656632847685,
          -0.1679584906913193,
          1.2341700589403657,
          0.24409612405736078,
          1.8125927642768804,
          1.2328732335280632,
          1.59637946416129,
          1.3112196055332306,
          1.6576075063072049,
          1.5520818076294507,
          1.0273970531904169,
          2.305095011543085,
          2.2423241105717544,
          1.186816355549334,
          -3.8994518092485166,
          -0.37376422526303804,
          -4.003333336071261,
          -2.874954499848815,
          -2.4303563733459876,
          -2.596413938157501,
          -1.7232663275735052,
          0.13763638471192186,
          0.6408157115782886,
          -4.700236196471625,
          -3.4486320167952016,
          -2.8033787776532506,
          -3.133250478404418,
          -1.0099999731303249,
          -1.014709454046713,
          -2.9783403482793385,
          -3.0465319302294485,
          0.8342706629493105,
          1.4306420988415731,
          0.12679092898879807,
          0.8015909563593869,
          0.21026364119554394,
          0.22943396006869296,
          0.7976735818670249,
          -1.2193143533472015,
          -4.543349205220821,
          -2.9495770742256995,
          -3.177918002775043,
          -2.5969034600863194,
          -1.8164638079437918,
          -0.46589594177579413,
          -0.562718440239818,
          -0.159221197698893,
          -0.24211019573141576,
          -0.36536209346184245,
          0.12065336321611561,
          0.12813281469637902,
          1.4687986198530547,
          0.9688853020043108,
          -0.08550273165105263,
          0.4613526581808378,
          0.33866563397960153,
          0.6646712075707016,
          0.7470618273765959,
          0.8951456688352939,
          1.1032404701396712,
          2.126062039015743,
          -3.2209437623465296,
          -3.0557703537426515,
          -0.3543638850182315,
          -1.999504298736571,
          -0.6270247890891026,
          -4.135410053890894,
          -3.021492902442064,
          -2.567766550426217,
          -0.6652280651533641,
          -2.6372192162424803,
          -1.8527110489673084,
          -1.5852458649866614,
          -1.1619386325788876,
          -0.40077302805858533,
          -0.11661127553656245,
          -0.10727771100503317,
          0.10864694843315502,
          -0.47042059767389927,
          -0.1868493867487046,
          -2.754439756759018,
          -0.7840997909103993,
          -0.5189248071866511,
          -0.15667664118049568,
          0.6013972904048441,
          0.4213206583607891,
          0.7634931402930659,
          0.453487359802236,
          -0.1950249370838082,
          1.454396382060987,
          1.5016207373221506,
          0.9249263901228105,
          0.7656171274127951,
          0.7614426236243396,
          -2.904341062209807,
          -0.732141608274454,
          -2.0095523458082574,
          -1.8685487037156383,
          -0.495611982919703,
          0.9885052594301629,
          -0.5002879508508375,
          0.6700985578290353,
          1.166927448880852,
          0.4456010360192791,
          1.2379602055466106,
          1.2396674793987335,
          1.3871108414774418,
          1.5794991816795394,
          1.2853099669242913,
          1.7888423910315194,
          2.2812325086544023,
          1.7580415676742178,
          1.1177568797146211,
          -0.7087525632040635,
          -0.9692786814205011,
          0.3254897958338947,
          0.7231210906983341,
          0.5374647798181883,
          0.28649830879735677,
          0.24846094566589347,
          1.4634526595120898,
          1.141949938228108,
          1.2132879261814595,
          0.8889946322189816,
          1.1361103808182866,
          1.1592007871292447,
          0.8452559780551402,
          1.259938054574563,
          -1.1802274294810715,
          -0.02395077454137503,
          -0.05184807691751155,
          0.8565332745420373,
          0.9168230546168994,
          1.7151652589430726,
          0.9995094351152526,
          1.7066406585723823,
          1.165318256778973,
          2.7937991794387136,
          1.3475767846876274,
          0.8975979657034208,
          2.2265649228836737,
          1.9569009302142117,
          3.32049621933638,
          2.455944992277993,
          1.663385396840773,
          3.0615439213783997,
          2.400925956889025,
          3.584464524048155,
          4.160704945444717,
          2.4932669393395943,
          3.8905774366629604,
          3.531636907077844,
          1.5437113088646717,
          1.6866743441957863,
          -0.3510451461980201,
          0.015956714150925692,
          -0.15271160151287255,
          0.050965925705923794,
          0.6921316987225727,
          -0.7109178972986505,
          -2.6038798862790116,
          -4.355836047016646,
          -0.5681618082476012,
          -0.10479667785244008,
          0.8411723739187933,
          -0.34872962767960214,
          0.785254249063625,
          -0.6663091212317196,
          -0.40866104755059424,
          -1.4310085502425258,
          -0.539250171459331,
          0.7687353653946741,
          -0.6537676477646979,
          0.30768100865550113,
          0.04684801597438252,
          -0.006418582872201871,
          0.2623493245346072,
          0.041618189883135905,
          -0.43290056794901577,
          0.9012443375747392,
          0.2027084228049564,
          0.6298165538230157,
          1.291824221960805,
          1.1824125317396692,
          1.742700739286293,
          0.19097600082240296,
          1.7608812332681294,
          2.1861235036587536,
          0.43451253406174006,
          -0.2084778003123474,
          0.011387323516557085,
          -0.9304054392812418,
          -0.0466149740042736,
          0.6538455740085198,
          -0.23406143538516308,
          0.01617569438820257,
          -0.46387079013306537,
          0.9023897735131602,
          1.3736068981103602,
          1.4498896387065947,
          1.6311898352682361,
          0.5033491958474846,
          -0.9209652763245495,
          -0.23233761558756671,
          -0.21916914386338654,
          -0.3036484936438428,
          -1.2517644935559167,
          -1.996046919236746,
          -0.1258252386321396,
          -1.498334699198353,
          -0.289039181099773,
          -0.11693244706878617,
          0.9169076897491042,
          -1.197152529044604,
          -0.10859258193400861,
          0.9308498715371036,
          -0.131339740385865,
          -0.38768563298246134,
          -0.1571034207703692,
          0.7594262902917286,
          0.906365190648599,
          1.4008301423759373,
          1.0575730323859556,
          1.2293144404231942,
          0.5053992834973753,
          2.6925556818560126,
          0.9933351108638209,
          2.7299280592145037,
          1.725824708893994,
          1.6372414695793085,
          0.7057883113532873,
          0.8760257259997235,
          -0.49724512857632497,
          -0.5015004210821948,
          0.24149628991039757,
          0.5111659180950583,
          0.9037995048441008,
          0.9500241814998766,
          0.5707293697719691,
          0.44115720549163984,
          0.860214942875443,
          0.5010439636714521,
          1.4332057993647291,
          -0.9478235336024284,
          -1.2903550889969426,
          0.2150301876757803,
          -0.4176808936162898,
          -0.015093280848878576,
          1.471117739062024,
          1.0500946707687862,
          0.586855296766382,
          0.7843795909203782,
          1.5029458384140955,
          1.9052548484395906,
          1.7500139748503003,
          0.9946941216582807,
          1.6873991315458134,
          1.8948140079863616,
          0.6633251048057571,
          1.5141942551080168,
          1.305512702068403,
          -0.17330963645510863,
          1.381512804679771,
          -0.9789606949231616,
          -1.0503911173979543,
          -0.07479993641669877,
          0.046372475024536626,
          -1.0484094524522776,
          1.0930831284896974,
          -0.24998642544635918,
          1.5948333118782865,
          0.2118138485704574,
          0.7061639028217194,
          -0.1464091814009196,
          -2.1920903023494245,
          -0.2662881809601398,
          -0.5347678423311794,
          -0.4306338386362933,
          0.3959222793928691,
          0.6747614026310402,
          1.994953416915598,
          2.264927266337973,
          2.0495020523251424,
          1.8873715944663396,
          1.8257614453333564,
          3.3151888201233786,
          1.7616399610461018,
          2.1713993584671964,
          2.3934342524580896,
          1.6381595686549049,
          0.7388026950712036,
          -1.026294544526405,
          -0.08188561620928424,
          0.15736680563036493,
          0.2828438989120143,
          0.49600974891941807,
          0.15787310342680472,
          0.7793282106024083,
          1.0661568734013063,
          0.6758956987513511,
          2.0725255536590446,
          1.4691302194227964,
          1.0030289502891339,
          1.6133906453781304,
          1.020734855085672,
          0.8714551378285098,
          1.107712741460464,
          2.1469641401154425,
          1.6585174702609906,
          1.6581826390756456,
          0.3330700182008674,
          2.620569854775247,
          2.9916291907409893,
          2.621938606481415,
          1.7222217933321418,
          0.6746691682969336,
          0.30888114673760453,
          1.6679121885114006,
          0.7341904598366147,
          0.4425750897265851,
          1.949613491432736,
          1.6898512959194116,
          2.404209367772326,
          2.53913750731006,
          1.5141305700236198,
          2.8141484697056156,
          2.7946949044842593,
          3.4849547608924114,
          3.140318049561426,
          2.599800927589006,
          1.6101711146711322,
          2.2569243467525637,
          2.1638258133348427,
          4.228942748537305,
          -0.25879862564964357,
          0.8436757058218819,
          0.661223795527528,
          1.612385851561803,
          1.6005913911484766,
          1.2597090561584734,
          1.683478797527483,
          1.1394285736520522,
          1.6556618136475227,
          2.328494122212219,
          1.6215112636529936,
          0.7100414494030216,
          2.6334593069621124,
          1.3710797933757461,
          0.3330430882223161,
          1.1943796608188155,
          1.6771729591675757,
          1.7031389248472304,
          2.0857560645395083,
          2.1497430849525276,
          -0.6386341742700057,
          0.7951149441889613,
          0.23374988701168972,
          1.362585836186244,
          1.831710706514197,
          1.4666788287497878,
          1.0421297645410186,
          1.3173870776518963,
          2.501141192179933,
          2.803336718431558,
          1.4285681013950435,
          1.4048655653169884,
          0.9807016170198039,
          0.4507584035350328,
          0.8154866986608312,
          0.5269913768680728,
          0.36641681305856005,
          2.3919136854433214,
          1.6360160981015506,
          1.921547444564101,
          0.9040889465706581,
          0.572631938948259,
          1.6327579998284447,
          1.5970620923742325,
          0.42497384438520514,
          1.5407172386625896,
          1.8694005396990148,
          1.2069163988586624,
          0.8996798017946472,
          1.1441060835673174,
          1.9070115386590147,
          1.362509464762693,
          1.4029730920218773,
          1.7864049648730604,
          1.790602293386627,
          0.31712105054901857,
          0.6056354122603133,
          1.5705605621667043,
          0.521165224604994,
          1.713791078637228,
          1.5859803448939296,
          1.3044965597282292,
          1.2065959315238506,
          1.0812340872982396,
          1.4170378160050086,
          1.304579238563032,
          1.39576711723023,
          2.240965044153782,
          1.4860890265571634,
          1.2030323807483414,
          1.1498277552881149,
          1.3764265240723639,
          1.5519852580020697,
          0.49787768431354806,
          0.7701890475258747,
          1.8191394235720164,
          2.1402356015697026,
          1.5646682123861486,
          1.219259629613824,
          2.451562110842297,
          0.7182539208358203,
          2.9067243079437226,
          2.0291638716298803,
          1.898856741419276,
          1.6932584236983665,
          1.8255098551936924,
          2.7742675134866017,
          1.8186079956760366,
          2.063977586786174,
          2.6995645733688103,
          2.2231388013616966,
          1.9964513598845341,
          2.781751784598855,
          1.4591713092740173,
          1.212613104180432,
          0.5647033375731672,
          0.9137493691050481,
          1.2508701606690604,
          1.653307125870819,
          1.415932441230269,
          1.4536608352799505,
          0.8886391757959103,
          1.7718446250334539,
          0.8726802663195976,
          1.5561151670937778,
          0.20320853724203955,
          2.7382039696316594,
          2.855760025927058,
          3.4370328282551807,
          0.3658924018374754,
          0.7240945538719077,
          2.658996673282925,
          1.4325652832864566,
          1.7889951742283765,
          3.259182820503478,
          3.627313984473261,
          3.547869651396108,
          2.941258039717616,
          3.1426239086636265,
          2.3842259801171326,
          2.402396161801074,
          0.9332108166672416,
          2.10928795199506,
          0.32093709685824007,
          0.9848480562943666,
          0.9293256059759006,
          4.9449362664115455,
          3.5837346466967026,
          3.1139288349806193,
          3.3634591701744663,
          3.703185848824535,
          5.1396987585127,
          1.7880280296442175,
          0.9371898543237881,
          1.533541448284671,
          0.9927958241273424,
          0.1213883820347818,
          2.062619735737255,
          2.639727293789575,
          2.4144200923827697,
          2.332638307774634,
          3.5615331222861464,
          3.470082275610176,
          3.369019630010869,
          3.4052294372980043,
          4.018413550793835,
          0.8973199645965189,
          1.0557141882696404,
          1.0940546360357077,
          1.0960171348763477,
          2.098276025137278,
          1.6062156511308685,
          2.1539053056144675,
          3.5798888987063764,
          2.5253258904347766,
          2.8115836191452934,
          2.550610829750806,
          0.4420876716427198,
          2.0053245820858043,
          2.4944936962238007,
          1.2657147859634088,
          0.5934759022821796,
          1.0564829128053221,
          2.048202022009733,
          1.513093278613542,
          1.6662588981749056,
          2.6076132565874803,
          1.7484153042857316,
          1.883109332407607,
          1.4144021624964986,
          2.142571650612072,
          1.4615883342742317,
          1.956356400081991,
          2.347988176553578,
          1.570221465231474,
          2.474935362310105,
          2.456800505844251,
          1.5729526100455453,
          2.4802469090363566,
          2.500480045205258,
          3.094088909178527,
          4.298148744761065,
          3.128773364995951,
          3.809177193580483,
          2.283085896174967,
          1.786160862469016,
          2.65376958203869,
          1.9559907227253805,
          3.422532438525488,
          0.7347420796184393,
          0.8002152140327661,
          1.479653811451839,
          2.9901432999033744,
          2.5915758598373277,
          1.0006538634208701,
          2.14559107093222,
          2.217846734666062,
          1.9160461272527463,
          1.0165072851790022,
          1.071892211488274,
          0.7546528134130284,
          1.2431713641444078,
          0.8968895579311257,
          0.9525903632789317,
          0.7296555105311362,
          1.4844529447355823,
          1.5634883403038928,
          2.2227937385893624,
          2.188801374481887,
          1.0213714103897666,
          0.6685559987308137,
          0.28333582200505575,
          1.2385972334021906,
          0.6605532858203249,
          1.0728470845786873,
          1.2216360378662845,
          2.2844535264897923,
          1.4479221571861334,
          1.0811827382088963,
          2.570956478180282,
          1.551107724611128,
          2.8319705742362995,
          2.5696432790556796,
          1.7840581642669993,
          3.470778602804395,
          2.3130155725370622
         ],
         "xaxis": "x",
         "y": [
          -1.4410505466011003,
          -0.6604962124998667,
          0.7173779425923223,
          1.4370748581198853,
          2.2692076972848634,
          1.664186229934935,
          1.45652078460329,
          -0.4112062635809473,
          -1.1186534742417948,
          -0.2681911570876547,
          2.260322028161859,
          2.111277285028521,
          1.1864933955965973,
          1.0671877087322819,
          -0.5415442736816366,
          0.6713006332278758,
          -1.1861958538863169,
          0.36960026675971147,
          -0.0748281325903216,
          0.02044933449424245,
          2.5195116116996004,
          1.177507535825703,
          0.4385416872384493,
          0.36787454905207595,
          0.7995650893108074,
          1.2601066366822726,
          0.7470403402038589,
          0.8816160773882288,
          1.1841804382242787,
          1.2122893737190037,
          1.1220689958183603,
          -0.032078214812069517,
          -0.03131768727633811,
          0.874790570845829,
          1.237389732339413,
          0.5854033794257629,
          0.36499609530881144,
          -1.1611915954152028,
          -0.049832966502253384,
          -1.7238620787766776,
          -1.2841452031462413,
          -1.837541403662539,
          -1.1415701956490396,
          -0.6979466315563895,
          -1.4653209174852617,
          2.9610533618786743,
          0.5424365591568447,
          -0.8504769983557929,
          1.4459317733314405,
          2.0308711236460635,
          3.562060051558217,
          3.551746390745784,
          1.9424693904463477,
          0.5511021960661797,
          -0.30422526356528684,
          -1.1971641603008398,
          -1.029082575399395,
          -1.4950800079049402,
          -0.787471305315459,
          0.007036376868631935,
          1.517690175170693,
          1.3912329770176057,
          -0.12686093401432347,
          -1.325460709987575,
          -1.0394112741100736,
          -1.58955724827358,
          -1.6939356039558005,
          -2.7279061994573004,
          -2.439801140391473,
          -2.0702612404364804,
          -2.0955540434098814,
          -2.6889617221608613,
          -1.5691197256277714,
          -2.836947896064227,
          -0.8244427035112186,
          1.2450849897218785,
          1.3285070996624115,
          0.41152519375057256,
          0.8877170099505831,
          1.5953583358832468,
          2.0732102438104074,
          0.13223555899960363,
          -0.4148285070403388,
          0.30714488114927657,
          -0.519924012395313,
          -0.39193029927022266,
          0.8538700705762697,
          1.9300619186572023,
          -0.5357724163399753,
          -1.034282765218733,
          0.9594317248407871,
          0.36646267291599793,
          0.5489501318709519,
          0.4307236461344003,
          2.424520667896779,
          2.3299700345197825,
          0.6459149651596854,
          0.5105843681417802,
          0.23158356316475107,
          -0.4121163696563657,
          1.0918905496734008,
          -1.7864254536637598,
          -1.0886152045590483,
          -1.2640401891005026,
          -0.1519533903950664,
          -0.07557077669905367,
          -1.2154087836283638,
          -1.6876576133130934,
          -0.5518719810262119,
          0.9302517193302725,
          0.9857234287259066,
          -0.8905626630367446,
          0.12865971640182622,
          -0.5749206221426265,
          -1.3608497251169456,
          0.5484427474884732,
          2.154673185671866,
          0.22946320185059765,
          -0.463322360089128,
          -0.7186160750491347,
          -0.3209640530857541,
          -0.24379149788698554,
          -1.3454608723965213,
          -0.6275397010572609,
          -0.8648382235895459,
          -1.4110405400630426,
          -1.3304911068632421,
          0.600938659777885,
          2.1809367465494076,
          -0.805445665766258,
          -1.2291840030956773,
          -1.309680304584819,
          -0.693113411164562,
          -0.3401483185818858,
          -2.0076911694424164,
          -2.5863390331178273,
          0.276020296428486,
          -0.34650596685069324,
          3.23609011674563,
          2.411277331900675,
          -0.5411652354166817,
          0.8980099094048721,
          -0.8402598981882162,
          -1.0516464692857592,
          -0.819510630383556,
          -0.40103959802042666,
          -1.1224823155386352,
          0.04435268745910059,
          1.141093219095953,
          1.5283260851544378,
          -1.587767005616909,
          -1.2334895464346893,
          -1.1287868346320054,
          -2.1017486913875736,
          -0.7628204125941818,
          -1.6768838746901933,
          -2.5911531653514035,
          -3.012355237972287,
          -1.5275003187141434,
          -2.2118341947346996,
          -3.0137815667691865,
          -2.859866665918238,
          -4.080120215206397,
          -2.66450861351934,
          -3.460675939194604,
          -4.772272503804925,
          -4.100760573458292,
          -1.3627439991529797,
          -2.220687497654605,
          4.572726590702587,
          2.4628988910227783,
          1.7665215647253631,
          2.636538825375641,
          2.246775160562014,
          -0.16568912055524,
          -0.7321409428527397,
          1.3374542655372816,
          0.5319439713477849,
          -0.9514073461192111,
          0.16928853013232534,
          -0.032644592367716226,
          3.789820855810156,
          2.0646872777515117,
          2.5055323614020706,
          1.448953441304723,
          0.2135763618323625,
          -0.5478622601251762,
          -0.25770265842915274,
          3.0140783854848534,
          3.970055044205588,
          -0.9903754701757358,
          -0.8343085983115919,
          2.145384777356743,
          0.9942680137733748,
          1.1191273702366837,
          -0.4915279005286982,
          0.7327700889969101,
          -0.06628076644851986,
          0.04922585255934277,
          1.1229674253076927,
          1.0418062313141299,
          -0.5224946388148844,
          0.34227031448837414,
          0.9404668973338971,
          3.879391824073201,
          2.9092484954103517,
          5.439078142999316,
          3.525059031665514,
          4.278741631661971,
          -2.107791961339153,
          -0.8399473795536333,
          -0.9163305228580222,
          2.1737636499893913,
          -0.852049854908617,
          -0.8319365315175717,
          -1.715865859902857,
          -2.056847125674885,
          -2.318742225258015,
          1.2161247967061937,
          -1.2965974243272196,
          -1.8378030442552866,
          -3.1377478308352753,
          -2.8279901236363294,
          -0.691574648647327,
          0.11255980067700719,
          -0.9151893275349959,
          0.03291603791585491,
          -0.1846243607968417,
          -0.7658918606009648,
          0.07127788203612413,
          -1.1851782579394974,
          -0.14702172511188144,
          -1.1820718744647933,
          -1.1855342071722395,
          -1.3500623679750432,
          -1.5965926109918835,
          -1.4719237891313417,
          -2.962469858790383,
          -2.743041645108946,
          -2.383823466204377,
          -2.2951655912403717,
          -2.8369780685309243,
          -1.86348389841739,
          -2.8378596571001586,
          -2.1638023607879338,
          -2.813070599926888,
          -2.92168026074222,
          -2.716367168298125,
          -1.952798754291408,
          -3.095999192080851,
          -3.197232399159854,
          -3.517116841832347,
          -1.1635631296023892,
          -0.849163471150958,
          -1.2761569266403339,
          -0.5240424143635125,
          -0.21282099695392612,
          -0.1879212670868267,
          -0.20715205462519864,
          4.98855370138193,
          6.539021686946982,
          4.4852113291284255,
          5.536358069303694,
          4.627142323452296,
          2.6412055178301537,
          2.5144384809298352,
          -0.6399547589008581,
          3.6641583448725354,
          0.7915055539312345,
          0.4703680780868523,
          -0.985914823073489,
          -0.9514510658218538,
          -0.4777474686431299,
          -0.6329190453763869,
          -1.741160970452615,
          -2.019709554702773,
          -3.0806812559798447,
          -3.623474389694099,
          -2.7502271506228904,
          -3.9829105275899743,
          -3.7461206049162974,
          -3.8509460862118887,
          -2.7427988017021083,
          -2.9415658099580813,
          -3.255370684776411,
          -3.6425293997589914,
          -2.4500295084177246,
          -2.587965976207597,
          -3.387196889077263,
          -2.7561275025552257,
          1.380792002658806,
          1.696939796039289,
          4.197984805018789,
          1.4152281822549186,
          1.6512908342851396,
          2.6881765770165393,
          1.3244594392712816,
          0.7036001705940171,
          -1.0418926666132693,
          -1.5501293838245451,
          -1.3164365117058117,
          0.12728163040116605,
          0.006460317976213959,
          -1.912415989872273,
          -0.2933312497274847,
          0.6796672988557589,
          1.0121960463233362,
          1.2372656277349467,
          1.0158584837473605,
          2.289596785402395,
          0.6116981485848804,
          0.6989268155232774,
          1.5957991712949848,
          1.8853985737490642,
          2.6263106721003795,
          0.8582146264307805,
          0.537751982519206,
          -0.6878694340019299,
          -1.2911317004459633,
          -2.012932533000465,
          -1.731422632878086,
          -3.0004114136763875,
          -0.32431573213384046,
          -2.1631884829069463,
          -1.5872740027036707,
          -2.22302351162164,
          -2.4061279671255593,
          -2.3868919269943536,
          -1.8901802861235808,
          -0.3019037880612535,
          -1.3312427976670522,
          -1.777191992828683,
          -0.8821682572438694,
          -1.5601366177780198,
          -2.4196032099070615,
          -2.1319573497587423,
          -1.295018817320999,
          0.0402744806800278,
          2.0432266398690277,
          0.17053321206762243,
          -1.634969571713747,
          -1.821768938308993,
          1.441356059014714,
          1.2000928804345177,
          -0.13924139042096895,
          0.6443467795149972,
          -0.1912021865352055,
          -0.03192830992196059,
          0.5022089707594223,
          -0.4681846815503215,
          -0.5182764458484717,
          -2.3559984927236064,
          -2.1311686953597566,
          -1.1850088692732184,
          -2.6242991762740937,
          -1.5056002941567534,
          -0.9146595403594774,
          -1.9179526508271703,
          -1.1712837483091867,
          -1.5221754687074667,
          -1.1318713023566267,
          -2.251354919251577,
          -2.4308083305555668,
          -2.1751866976762018,
          -1.5283684471687258,
          -2.3690029436565725,
          -2.311296066767869,
          -2.8574916815388938,
          -1.6685571329173607,
          -2.0275443117756295,
          2.518346148213075,
          0.8681066613088387,
          1.2561252470363118,
          0.8220089427381418,
          -0.2925590328283035,
          0.2045234597774206,
          0.10572738543332069,
          -0.851678427205863,
          1.099422643322507,
          -1.2281053675963622,
          -1.3383411898237203,
          -1.2227002912754386,
          -2.339031231179844,
          -2.4304666990571158,
          -2.61446713778804,
          -2.5818179582893364,
          -2.7225501613920957,
          -3.776282384828224,
          -2.403162220084982,
          -0.5215151902721189,
          -1.4119424549301414,
          -1.6255064316720647,
          -1.8047128524742122,
          -1.88819968892837,
          -2.551488252627602,
          -1.5467377353678966,
          -2.0116062558127035,
          -1.8504209001808136,
          -2.817257645075049,
          -2.4030109715242216,
          -2.7036678650511625,
          -2.568764471693879,
          -2.4594426481703286,
          -2.9784588034651427,
          0.6346337096950876,
          -1.5629049083591404,
          -0.6443185734369642,
          1.1219526249369716,
          1.0551819858390112,
          0.9734172534865388,
          0.6378357351545983,
          1.8291024086562542,
          -0.06893325608234786,
          -0.06732675580085544,
          0.8825149289685078,
          -0.14376574004983778,
          0.6449927869914989,
          0.5186011005099982,
          -0.8596847246616368,
          -0.6007032497303297,
          -0.3005101569377611,
          -0.6797064934534562,
          -0.36391847748605655,
          -0.6790813831444372,
          -0.5151068728530607,
          -0.8056104272070164,
          -2.203610881029147,
          -1.6420924250038689,
          -1.1051718724089985,
          -1.3975911454396361,
          0.6909461863438342,
          0.7804417215207804,
          0.5363445956429238,
          2.022702375543924,
          -0.3357713947114706,
          1.4305405782760534,
          2.3067867926509438,
          1.0808544508748523,
          -0.5147252948817783,
          -1.5307021615456982,
          -0.8868871841364101,
          -0.4592346812311631,
          -1.849769771978785,
          0.2252353575380576,
          -1.5267040260999298,
          0.6546719750041486,
          0.10071440346169033,
          0.5152114443793792,
          0.966939718814811,
          -0.5896480844725046,
          0.27992772900431756,
          1.349980076146023,
          -0.07017553449581543,
          2.484477097050863,
          2.0244544894495915,
          0.10743975076826302,
          -1.070144822802247,
          -0.5859117425241758,
          0.9291192579223762,
          1.042038359530737,
          -0.7437907550096953,
          -0.05862302952665943,
          0.8400764870036349,
          0.11492195002386582,
          4.6697829794460155,
          2.5396265972559235,
          3.3403576215539723,
          -0.17907521049359962,
          0.3564867934749951,
          -1.4173794586152846,
          -0.9859281584857787,
          1.368356991711009,
          0.015782835048344226,
          0.812852444299333,
          -0.7045616504521288,
          -0.8176751230119322,
          -0.3279800626127162,
          -1.5215722151050295,
          2.1669243995905276,
          0.8322583726995602,
          2.425303722985922,
          0.2252450929565197,
          -0.28381735574065226,
          1.6040991189956184,
          1.2031668030867206,
          1.6021385076636199,
          1.2172014378819658,
          0.5499787884001186,
          0.16004243418149547,
          -0.09948344999771856,
          0.6054719584516118,
          2.0361783815704007,
          0.8201035668719966,
          -0.24427509320502988,
          -1.7025745327148263,
          -1.5081860725035852,
          -1.7337700826794005,
          -2.3236319626416666,
          -2.0612872472388934,
          -2.031025309113991,
          -2.0595351053185267,
          -1.857458214347077,
          -0.9029603537590343,
          -1.8257069022781818,
          -1.573180757058982,
          -1.5944311338493882,
          -0.7432928640212387,
          -1.0306659976831796,
          1.1823788105230408,
          -1.0063769968461902,
          -0.3793957925666682,
          -0.7094408741813283,
          -1.3108738540995064,
          -1.114326574323521,
          -2.05002207755055,
          -1.8090788718661934,
          -2.1583238805577576,
          -1.3170898821829666,
          -2.0445774507286045,
          -1.0403959045074551,
          -0.9283954234207058,
          0.16442335067916408,
          -0.8422169707380165,
          -0.620040597223468,
          -3.0617887121653533,
          -1.6917250208569383,
          -1.7017988329203868,
          -1.0368088701636093,
          -1.4702598435438368,
          -0.7264709547739095,
          -1.397714509991073,
          -1.4586515162910962,
          -1.2684088723320368,
          -2.7269875596928497,
          -1.0386499017091189,
          -1.8712847385840035,
          -1.4734156609782356,
          -0.9812182992518269,
          -0.9667523234833896,
          0.5725072685495375,
          0.2882049346975665,
          -0.35439535503800085,
          -0.014044392756470936,
          -0.539340582580293,
          -0.03270320141623644,
          1.0420673632465858,
          0.5568693689796248,
          -0.11250249276811707,
          -1.199870241371339,
          1.1866010845836081,
          2.2175186778223295,
          0.6621178857832192,
          -1.483926001121254,
          0.20319523013765267,
          -0.6195050630845179,
          -1.8671424022125562,
          -1.4537349935920563,
          3.7418508910165964,
          3.9441783710352816,
          2.7976967094630054,
          2.835662657565276,
          2.9354759638450827,
          1.4433471000088003,
          3.4278070656284862,
          1.324401590084839,
          5.632306029812595,
          2.2858108207665384,
          1.3395849679229008,
          -0.05988288152255425,
          1.7717478804312345,
          0.6285684714143607,
          2.8975230937268477,
          -0.5963701101776395,
          -0.5234280004564896,
          -1.4501523223429005,
          -0.034116218562631424,
          -0.16896882276505654,
          0.2913415883265493,
          -0.6985977227647608,
          -1.1534956233222533,
          -0.7148560404826148,
          -0.09256949658038573,
          -0.9221343655720785,
          5.70017339715169,
          3.580315305539363,
          3.0768364493729226,
          3.819627269428781,
          3.3300991008282113,
          3.331161768873346,
          3.498262777951457,
          2.6698980773805716,
          -0.5170500066946377,
          -0.5680719500165013,
          -1.0420776751262142,
          -0.9540301224136563,
          -0.5783051519881452,
          2.765460494669115,
          2.425403724635704,
          4.269290741942582,
          1.2834996895288064,
          -0.052521133195069,
          1.6201535362383346,
          1.2814444622621262,
          0.956559703961901,
          0.6740782441917915,
          0.19115241417259793,
          1.3847516816191727,
          1.4031257002989905,
          0.7257407540900059,
          0.5471308375199749,
          -0.8147964781428362,
          -0.681189624123729,
          -1.4900829747562505,
          -1.3896108266062965,
          -1.4881399142203549,
          0.1834305213169676,
          -1.5402803063198227,
          -1.0671179281163512,
          -1.160266488630512,
          -1.5730376963402037,
          -1.6084534212589034,
          -1.6195845793070875,
          5.037554312403956,
          2.0086803302749554,
          3.4819141713146395,
          -0.07556175405040243,
          0.18809120653980818,
          -1.176255631432935,
          0.06707365686762756,
          -2.5811263175387706,
          -0.9287288196327973,
          -0.19509334009358406,
          1.0451720062856058,
          0.05796057759526083,
          -0.06903537551087367,
          -0.8908668888206045,
          0.16715636638817705,
          1.0735114623055324,
          1.527081441318855,
          0.1563163099109041,
          0.9591888847357057,
          0.5979305716613246,
          2.011708536974871,
          -0.3316513889128344,
          1.888729755377636,
          2.6763266083773054,
          1.7192834797025554,
          0.0017290377244827198,
          -0.6198795987266096,
          0.19021943104454506,
          0.505200230286015,
          1.1665427238128865,
          0.9685634566367922,
          -0.3868803929785834,
          -1.3599615153709719,
          -1.2955945407927771,
          -2.1624844565569337,
          -1.4279780018498687,
          -1.2392173031014995,
          -0.7570257141512802,
          -0.7805005840890895,
          -1.5643415325687537,
          -1.4007763450399096,
          -1.7536852658204178,
          -1.012590519119009,
          -0.9417640059686285,
          -0.6961104334734458,
          -0.845948107462256,
          1.9033977819544365,
          -0.10428085189456884,
          -0.022997480125620893,
          0.869570937063138,
          1.7393452267829972,
          2.2638876961127767,
          0.31830232516784596,
          -0.9519648638472047,
          -0.2728272105212417,
          0.6352460645333742,
          -1.351786997830823,
          -0.21911929777654549,
          1.9145027318982926,
          0.6185424437953976,
          0.3131331320769955,
          -1.308227807009297,
          0.3456776464017205,
          1.2309278648707391,
          1.1052292526438199,
          1.4518401464349877,
          2.9875975649034414,
          3.870300429605379,
          -0.662731281477364,
          0.04359673499467743,
          -1.681449012682807,
          -0.3051351021467364,
          1.8048835988935905,
          -0.026986177205730683,
          0.6528624640244881,
          1.063331810738947,
          1.4474108614451977,
          -0.8740753542571783,
          -1.3420039692538106,
          -0.9209434010865489,
          -1.1575744834817505,
          -1.615503326100163,
          -1.2862117673768303,
          -2.2013173111717985,
          -1.085709773045067,
          -1.1334752104263448,
          -2.044435825894843,
          -2.2828238429578227,
          -2.5694197768412503,
          2.014949469079345,
          0.9239623718826204,
          0.8126361296781537,
          1.3539101232558843,
          -1.96969199564459,
          2.3699727156697876,
          2.273073657926881,
          0.7733409642395643,
          -0.03842255553600395,
          2.7192451697594993,
          0.7038660595552434,
          -0.03515257851574669,
          0.20186343162101034,
          -1.4328161866882907,
          -0.34956191747168835,
          -1.25965230518351,
          -0.9230384228656177,
          -0.8756634407743834,
          -0.44651965827114376,
          0.31472865024888336,
          2.2462228644667053,
          2.857610814466453,
          1.4383381827906723,
          -0.5073832250392247,
          -1.09573347516401,
          5.39619364369088,
          5.901236050262367,
          4.066966269713454,
          4.577059014451878,
          3.9714599684858207,
          2.6205390338928582,
          -1.4527687406481589,
          -0.4609779368246355,
          -0.6953223918546129,
          0.18031845512765465,
          1.2439368105742847,
          -0.9199641569576555,
          0.09050016257280577,
          5.904616367631613,
          3.7985794894776546,
          0.6331076124661816,
          1.2082906448240545,
          2.3059162889996223,
          2.4249945277711764,
          2.296552974946757,
          0.13393875603014274,
          -0.4369701160042604,
          1.408035389316884,
          1.6506349116672543,
          -0.4054512375308889,
          1.371923219503568,
          1.948983622608261,
          3.2560820945471862,
          1.791500478765702,
          1.9707084750874437,
          1.7279943428303288,
          2.3000935537442517,
          0.7071094397087462,
          -0.28989718220824867,
          -0.11029207047442703,
          -0.15257120637338756,
          0.18518082488602228,
          0.6589212214016328,
          2.203827577624071,
          1.54753701737555,
          3.6746412404823996,
          1.5557969904865374,
          0.42995799273930946,
          0.015469941303003837,
          -1.3594407117310416,
          -1.3328583493102777,
          -1.8996875175904708,
          -0.5478921922146449,
          -1.103553028717173,
          -0.6611630510715564,
          -1.520099993624311,
          -1.6983095279946265,
          0.12425526330026837,
          0.754784366360986,
          4.336172357977096,
          5.191194848165521,
          3.220461118755679,
          5.921123823782174,
          0.3165119409214526,
          -1.1958664374085766,
          -0.6975262307450334,
          -1.3135865874842618,
          -1.6412392141936223,
          -1.185181318427591,
          -0.351369427855015,
          4.630321290758931,
          8.553125897797601,
          4.545471274739352,
          0.30176961262465285,
          -0.16330741219304576,
          0.3987948005924969,
          0.7057826513344104,
          -1.024228791054942,
          -0.1717920979872203,
          -0.5118521501308044,
          0.13374181122972031,
          1.8636598564884665,
          1.3438165873262555,
          2.046735833315549,
          0.3503093801906273,
          -0.10965551643893671,
          -0.5931485252480984,
          1.1507747101010082,
          1.821097068443329,
          0.5361724362959166,
          1.7726804204826285,
          1.8151256204139257,
          -1.1262629384588623,
          -0.23326946494324174,
          1.0811055544301056,
          1.6658599746025589,
          1.0451352246341319,
          1.9667789434970036,
          -0.45474908201982783,
          0.6715274672304495,
          5.576177238720321,
          0.3755322655009448,
          3.104339487160165,
          3.3623157173459104,
          1.6637049618182627
         ],
         "yaxis": "y"
        }
       ],
       "layout": {
        "coloraxis": {
         "colorbar": {
          "title": {
           "text": "color"
          }
         },
         "colorscale": [
          [
           0,
           "#0d0887"
          ],
          [
           0.1111111111111111,
           "#46039f"
          ],
          [
           0.2222222222222222,
           "#7201a8"
          ],
          [
           0.3333333333333333,
           "#9c179e"
          ],
          [
           0.4444444444444444,
           "#bd3786"
          ],
          [
           0.5555555555555556,
           "#d8576b"
          ],
          [
           0.6666666666666666,
           "#ed7953"
          ],
          [
           0.7777777777777778,
           "#fb9f3a"
          ],
          [
           0.8888888888888888,
           "#fdca26"
          ],
          [
           1,
           "#f0f921"
          ]
         ]
        },
        "legend": {
         "tracegroupgap": 0
        },
        "margin": {
         "t": 60
        },
        "template": {
         "data": {
          "bar": [
           {
            "error_x": {
             "color": "#2a3f5f"
            },
            "error_y": {
             "color": "#2a3f5f"
            },
            "marker": {
             "line": {
              "color": "#E5ECF6",
              "width": 0.5
             },
             "pattern": {
              "fillmode": "overlay",
              "size": 10,
              "solidity": 0.2
             }
            },
            "type": "bar"
           }
          ],
          "barpolar": [
           {
            "marker": {
             "line": {
              "color": "#E5ECF6",
              "width": 0.5
             },
             "pattern": {
              "fillmode": "overlay",
              "size": 10,
              "solidity": 0.2
             }
            },
            "type": "barpolar"
           }
          ],
          "carpet": [
           {
            "aaxis": {
             "endlinecolor": "#2a3f5f",
             "gridcolor": "white",
             "linecolor": "white",
             "minorgridcolor": "white",
             "startlinecolor": "#2a3f5f"
            },
            "baxis": {
             "endlinecolor": "#2a3f5f",
             "gridcolor": "white",
             "linecolor": "white",
             "minorgridcolor": "white",
             "startlinecolor": "#2a3f5f"
            },
            "type": "carpet"
           }
          ],
          "choropleth": [
           {
            "colorbar": {
             "outlinewidth": 0,
             "ticks": ""
            },
            "type": "choropleth"
           }
          ],
          "contour": [
           {
            "colorbar": {
             "outlinewidth": 0,
             "ticks": ""
            },
            "colorscale": [
             [
              0,
              "#0d0887"
             ],
             [
              0.1111111111111111,
              "#46039f"
             ],
             [
              0.2222222222222222,
              "#7201a8"
             ],
             [
              0.3333333333333333,
              "#9c179e"
             ],
             [
              0.4444444444444444,
              "#bd3786"
             ],
             [
              0.5555555555555556,
              "#d8576b"
             ],
             [
              0.6666666666666666,
              "#ed7953"
             ],
             [
              0.7777777777777778,
              "#fb9f3a"
             ],
             [
              0.8888888888888888,
              "#fdca26"
             ],
             [
              1,
              "#f0f921"
             ]
            ],
            "type": "contour"
           }
          ],
          "contourcarpet": [
           {
            "colorbar": {
             "outlinewidth": 0,
             "ticks": ""
            },
            "type": "contourcarpet"
           }
          ],
          "heatmap": [
           {
            "colorbar": {
             "outlinewidth": 0,
             "ticks": ""
            },
            "colorscale": [
             [
              0,
              "#0d0887"
             ],
             [
              0.1111111111111111,
              "#46039f"
             ],
             [
              0.2222222222222222,
              "#7201a8"
             ],
             [
              0.3333333333333333,
              "#9c179e"
             ],
             [
              0.4444444444444444,
              "#bd3786"
             ],
             [
              0.5555555555555556,
              "#d8576b"
             ],
             [
              0.6666666666666666,
              "#ed7953"
             ],
             [
              0.7777777777777778,
              "#fb9f3a"
             ],
             [
              0.8888888888888888,
              "#fdca26"
             ],
             [
              1,
              "#f0f921"
             ]
            ],
            "type": "heatmap"
           }
          ],
          "heatmapgl": [
           {
            "colorbar": {
             "outlinewidth": 0,
             "ticks": ""
            },
            "colorscale": [
             [
              0,
              "#0d0887"
             ],
             [
              0.1111111111111111,
              "#46039f"
             ],
             [
              0.2222222222222222,
              "#7201a8"
             ],
             [
              0.3333333333333333,
              "#9c179e"
             ],
             [
              0.4444444444444444,
              "#bd3786"
             ],
             [
              0.5555555555555556,
              "#d8576b"
             ],
             [
              0.6666666666666666,
              "#ed7953"
             ],
             [
              0.7777777777777778,
              "#fb9f3a"
             ],
             [
              0.8888888888888888,
              "#fdca26"
             ],
             [
              1,
              "#f0f921"
             ]
            ],
            "type": "heatmapgl"
           }
          ],
          "histogram": [
           {
            "marker": {
             "pattern": {
              "fillmode": "overlay",
              "size": 10,
              "solidity": 0.2
             }
            },
            "type": "histogram"
           }
          ],
          "histogram2d": [
           {
            "colorbar": {
             "outlinewidth": 0,
             "ticks": ""
            },
            "colorscale": [
             [
              0,
              "#0d0887"
             ],
             [
              0.1111111111111111,
              "#46039f"
             ],
             [
              0.2222222222222222,
              "#7201a8"
             ],
             [
              0.3333333333333333,
              "#9c179e"
             ],
             [
              0.4444444444444444,
              "#bd3786"
             ],
             [
              0.5555555555555556,
              "#d8576b"
             ],
             [
              0.6666666666666666,
              "#ed7953"
             ],
             [
              0.7777777777777778,
              "#fb9f3a"
             ],
             [
              0.8888888888888888,
              "#fdca26"
             ],
             [
              1,
              "#f0f921"
             ]
            ],
            "type": "histogram2d"
           }
          ],
          "histogram2dcontour": [
           {
            "colorbar": {
             "outlinewidth": 0,
             "ticks": ""
            },
            "colorscale": [
             [
              0,
              "#0d0887"
             ],
             [
              0.1111111111111111,
              "#46039f"
             ],
             [
              0.2222222222222222,
              "#7201a8"
             ],
             [
              0.3333333333333333,
              "#9c179e"
             ],
             [
              0.4444444444444444,
              "#bd3786"
             ],
             [
              0.5555555555555556,
              "#d8576b"
             ],
             [
              0.6666666666666666,
              "#ed7953"
             ],
             [
              0.7777777777777778,
              "#fb9f3a"
             ],
             [
              0.8888888888888888,
              "#fdca26"
             ],
             [
              1,
              "#f0f921"
             ]
            ],
            "type": "histogram2dcontour"
           }
          ],
          "mesh3d": [
           {
            "colorbar": {
             "outlinewidth": 0,
             "ticks": ""
            },
            "type": "mesh3d"
           }
          ],
          "parcoords": [
           {
            "line": {
             "colorbar": {
              "outlinewidth": 0,
              "ticks": ""
             }
            },
            "type": "parcoords"
           }
          ],
          "pie": [
           {
            "automargin": true,
            "type": "pie"
           }
          ],
          "scatter": [
           {
            "fillpattern": {
             "fillmode": "overlay",
             "size": 10,
             "solidity": 0.2
            },
            "type": "scatter"
           }
          ],
          "scatter3d": [
           {
            "line": {
             "colorbar": {
              "outlinewidth": 0,
              "ticks": ""
             }
            },
            "marker": {
             "colorbar": {
              "outlinewidth": 0,
              "ticks": ""
             }
            },
            "type": "scatter3d"
           }
          ],
          "scattercarpet": [
           {
            "marker": {
             "colorbar": {
              "outlinewidth": 0,
              "ticks": ""
             }
            },
            "type": "scattercarpet"
           }
          ],
          "scattergeo": [
           {
            "marker": {
             "colorbar": {
              "outlinewidth": 0,
              "ticks": ""
             }
            },
            "type": "scattergeo"
           }
          ],
          "scattergl": [
           {
            "marker": {
             "colorbar": {
              "outlinewidth": 0,
              "ticks": ""
             }
            },
            "type": "scattergl"
           }
          ],
          "scattermapbox": [
           {
            "marker": {
             "colorbar": {
              "outlinewidth": 0,
              "ticks": ""
             }
            },
            "type": "scattermapbox"
           }
          ],
          "scatterpolar": [
           {
            "marker": {
             "colorbar": {
              "outlinewidth": 0,
              "ticks": ""
             }
            },
            "type": "scatterpolar"
           }
          ],
          "scatterpolargl": [
           {
            "marker": {
             "colorbar": {
              "outlinewidth": 0,
              "ticks": ""
             }
            },
            "type": "scatterpolargl"
           }
          ],
          "scatterternary": [
           {
            "marker": {
             "colorbar": {
              "outlinewidth": 0,
              "ticks": ""
             }
            },
            "type": "scatterternary"
           }
          ],
          "surface": [
           {
            "colorbar": {
             "outlinewidth": 0,
             "ticks": ""
            },
            "colorscale": [
             [
              0,
              "#0d0887"
             ],
             [
              0.1111111111111111,
              "#46039f"
             ],
             [
              0.2222222222222222,
              "#7201a8"
             ],
             [
              0.3333333333333333,
              "#9c179e"
             ],
             [
              0.4444444444444444,
              "#bd3786"
             ],
             [
              0.5555555555555556,
              "#d8576b"
             ],
             [
              0.6666666666666666,
              "#ed7953"
             ],
             [
              0.7777777777777778,
              "#fb9f3a"
             ],
             [
              0.8888888888888888,
              "#fdca26"
             ],
             [
              1,
              "#f0f921"
             ]
            ],
            "type": "surface"
           }
          ],
          "table": [
           {
            "cells": {
             "fill": {
              "color": "#EBF0F8"
             },
             "line": {
              "color": "white"
             }
            },
            "header": {
             "fill": {
              "color": "#C8D4E3"
             },
             "line": {
              "color": "white"
             }
            },
            "type": "table"
           }
          ]
         },
         "layout": {
          "annotationdefaults": {
           "arrowcolor": "#2a3f5f",
           "arrowhead": 0,
           "arrowwidth": 1
          },
          "autotypenumbers": "strict",
          "coloraxis": {
           "colorbar": {
            "outlinewidth": 0,
            "ticks": ""
           }
          },
          "colorscale": {
           "diverging": [
            [
             0,
             "#8e0152"
            ],
            [
             0.1,
             "#c51b7d"
            ],
            [
             0.2,
             "#de77ae"
            ],
            [
             0.3,
             "#f1b6da"
            ],
            [
             0.4,
             "#fde0ef"
            ],
            [
             0.5,
             "#f7f7f7"
            ],
            [
             0.6,
             "#e6f5d0"
            ],
            [
             0.7,
             "#b8e186"
            ],
            [
             0.8,
             "#7fbc41"
            ],
            [
             0.9,
             "#4d9221"
            ],
            [
             1,
             "#276419"
            ]
           ],
           "sequential": [
            [
             0,
             "#0d0887"
            ],
            [
             0.1111111111111111,
             "#46039f"
            ],
            [
             0.2222222222222222,
             "#7201a8"
            ],
            [
             0.3333333333333333,
             "#9c179e"
            ],
            [
             0.4444444444444444,
             "#bd3786"
            ],
            [
             0.5555555555555556,
             "#d8576b"
            ],
            [
             0.6666666666666666,
             "#ed7953"
            ],
            [
             0.7777777777777778,
             "#fb9f3a"
            ],
            [
             0.8888888888888888,
             "#fdca26"
            ],
            [
             1,
             "#f0f921"
            ]
           ],
           "sequentialminus": [
            [
             0,
             "#0d0887"
            ],
            [
             0.1111111111111111,
             "#46039f"
            ],
            [
             0.2222222222222222,
             "#7201a8"
            ],
            [
             0.3333333333333333,
             "#9c179e"
            ],
            [
             0.4444444444444444,
             "#bd3786"
            ],
            [
             0.5555555555555556,
             "#d8576b"
            ],
            [
             0.6666666666666666,
             "#ed7953"
            ],
            [
             0.7777777777777778,
             "#fb9f3a"
            ],
            [
             0.8888888888888888,
             "#fdca26"
            ],
            [
             1,
             "#f0f921"
            ]
           ]
          },
          "colorway": [
           "#636efa",
           "#EF553B",
           "#00cc96",
           "#ab63fa",
           "#FFA15A",
           "#19d3f3",
           "#FF6692",
           "#B6E880",
           "#FF97FF",
           "#FECB52"
          ],
          "font": {
           "color": "#2a3f5f"
          },
          "geo": {
           "bgcolor": "white",
           "lakecolor": "white",
           "landcolor": "#E5ECF6",
           "showlakes": true,
           "showland": true,
           "subunitcolor": "white"
          },
          "hoverlabel": {
           "align": "left"
          },
          "hovermode": "closest",
          "mapbox": {
           "style": "light"
          },
          "paper_bgcolor": "white",
          "plot_bgcolor": "#E5ECF6",
          "polar": {
           "angularaxis": {
            "gridcolor": "white",
            "linecolor": "white",
            "ticks": ""
           },
           "bgcolor": "#E5ECF6",
           "radialaxis": {
            "gridcolor": "white",
            "linecolor": "white",
            "ticks": ""
           }
          },
          "scene": {
           "xaxis": {
            "backgroundcolor": "#E5ECF6",
            "gridcolor": "white",
            "gridwidth": 2,
            "linecolor": "white",
            "showbackground": true,
            "ticks": "",
            "zerolinecolor": "white"
           },
           "yaxis": {
            "backgroundcolor": "#E5ECF6",
            "gridcolor": "white",
            "gridwidth": 2,
            "linecolor": "white",
            "showbackground": true,
            "ticks": "",
            "zerolinecolor": "white"
           },
           "zaxis": {
            "backgroundcolor": "#E5ECF6",
            "gridcolor": "white",
            "gridwidth": 2,
            "linecolor": "white",
            "showbackground": true,
            "ticks": "",
            "zerolinecolor": "white"
           }
          },
          "shapedefaults": {
           "line": {
            "color": "#2a3f5f"
           }
          },
          "ternary": {
           "aaxis": {
            "gridcolor": "white",
            "linecolor": "white",
            "ticks": ""
           },
           "baxis": {
            "gridcolor": "white",
            "linecolor": "white",
            "ticks": ""
           },
           "bgcolor": "#E5ECF6",
           "caxis": {
            "gridcolor": "white",
            "linecolor": "white",
            "ticks": ""
           }
          },
          "title": {
           "x": 0.05
          },
          "xaxis": {
           "automargin": true,
           "gridcolor": "white",
           "linecolor": "white",
           "ticks": "",
           "title": {
            "standoff": 15
           },
           "zerolinecolor": "white",
           "zerolinewidth": 2
          },
          "yaxis": {
           "automargin": true,
           "gridcolor": "white",
           "linecolor": "white",
           "ticks": "",
           "title": {
            "standoff": 15
           },
           "zerolinecolor": "white",
           "zerolinewidth": 2
          }
         }
        },
        "xaxis": {
         "anchor": "y",
         "domain": [
          0,
          1
         ],
         "title": {
          "text": "x"
         }
        },
        "yaxis": {
         "anchor": "x",
         "domain": [
          0,
          1
         ],
         "title": {
          "text": "y"
         }
        }
       }
      }
     },
     "metadata": {},
     "output_type": "display_data"
    }
   ],
   "source": [
    "import plotly.express as px\n",
    "intertia = []\n",
    "for K in range(1,20):\n",
    "    kmeans = KMeans(n_clusters=K)\n",
    "    intertia.append(kmeans.fit(X= X_pca).inertia_)\n",
    "\n",
    "kmeans = KMeans(n_clusters=5)\n",
    "groups = kmeans.fit_predict(X=X_pca)\n",
    "    \n",
    "plt.plot(range(1,20), intertia)\n",
    "plt.show()\n",
    "fig = px.scatter(x=X_pca[:, 0], y=X_pca[:,1], color=groups, hover_name=qb_names)\n",
    "fig.show()\n",
    "fig.write_html(file='docs/qb_play_style.html',full_html=True, include_plotlyjs='cdn')\n",
    "pio.write_image(fig, 'images/qb_play_style.png', format='png')"
   ]
  },
  {
   "cell_type": "code",
   "execution_count": null,
   "id": "1106e576",
   "metadata": {},
   "outputs": [],
   "source": []
  },
  {
   "cell_type": "code",
   "execution_count": 15,
   "id": "47103f19",
   "metadata": {},
   "outputs": [],
   "source": [
    "tier_list = weekly_relevant.merge(pass_stats, left_on=['player_id', 'season'], right_on=['player_id', 'season'])\n",
    "tier_list = tier_list.merge(run_stats, left_on=['player_id', 'season'], right_on=['player_id', 'season'])\n",
    "df = tier_list.reset_index().merge(all_qbs[['gsis_id', 'display_name']], left_on='player_id', right_on='gsis_id')\n",
    "qb_names = [(f\"{x['display_name']} {x['season']}\") for idx, x in df.iterrows()]\n",
    "qb_names\n",
    "tier_list['tds_per_game'] = (tier_list['passing_tds'] + tier_list['rushing_tds']) / tier_list['games_played']\n",
    "tier_list['yards_per_game'] = (tier_list['passing_yards'] + tier_list['rushing_yards'])/ tier_list['games_played']\n",
    "tier_list['passing_yards_per_attempt'] = tier_list['passing_yards'] / tier_list['attempts']\n",
    "tier_list['rushing_yards_per_run']  = tier_list['rushing_yards'] / tier_list['total_runs']\n",
    "tier_list['turnovers_per_game'] = (tier_list['interceptions'] + tier_list['sack_fumbles'] + tier_list['rushing_fumbles']) / tier_list['games_played']\n",
    "tier_list['td:turnover'] = tier_list['tds_per_game'] / tier_list['turnovers_per_game']\n",
    "tier_list['passing_epa_per_game'] = tier_list['passing_epa'] / tier_list['games_played']\n",
    "tier_list['rushing_epa_per_game'] = tier_list['rushing_epa'] / tier_list['games_played']\n",
    "\n",
    "\n",
    "tier_list = tier_list[['tds_per_game', 'yards_per_game', 'passing_yards_per_attempt', 'rushing_yards_per_run', \n",
    "                       'turnovers_per_game', 'td:turnover', 'completion_pct', 'passing_epa_per_game', 'rushing_epa_per_game']]"
   ]
  },
  {
   "cell_type": "code",
   "execution_count": 16,
   "id": "bdd5aa94",
   "metadata": {},
   "outputs": [],
   "source": [
    "tiered_pca = PCA(n_components=1)\n",
    "scaler = StandardScaler()\n",
    "X = scaler.fit_transform(tier_list)\n",
    "ranks = tiered_pca.fit_transform(X)\n",
    "ranked_df = pd.DataFrame(data=[qb_names, ranks]).T.reset_index(drop='index').set_index(0)\n",
    "ranked_df.columns = ['scores']\n",
    "ranked_df['scores'] = ranked_df['scores'].apply(lambda x : x[0])\n",
    "ranked_df = ranked_df.sort_values('scores').reset_index()"
   ]
  },
  {
   "cell_type": "code",
   "execution_count": 17,
   "id": "427fc74a",
   "metadata": {},
   "outputs": [
    {
     "data": {
      "text/html": [
       "<div>\n",
       "<style scoped>\n",
       "    .dataframe tbody tr th:only-of-type {\n",
       "        vertical-align: middle;\n",
       "    }\n",
       "\n",
       "    .dataframe tbody tr th {\n",
       "        vertical-align: top;\n",
       "    }\n",
       "\n",
       "    .dataframe thead th {\n",
       "        text-align: right;\n",
       "    }\n",
       "</style>\n",
       "<table border=\"1\" class=\"dataframe\">\n",
       "  <thead>\n",
       "    <tr style=\"text-align: right;\">\n",
       "      <th></th>\n",
       "      <th>Names</th>\n",
       "      <th>Scores</th>\n",
       "    </tr>\n",
       "  </thead>\n",
       "  <tbody>\n",
       "    <tr>\n",
       "      <th>0</th>\n",
       "      <td>Akili Smith 2000</td>\n",
       "      <td>-5.929742</td>\n",
       "    </tr>\n",
       "    <tr>\n",
       "      <th>1</th>\n",
       "      <td>JaMarcus Russell 2009</td>\n",
       "      <td>-5.724111</td>\n",
       "    </tr>\n",
       "    <tr>\n",
       "      <th>2</th>\n",
       "      <td>Jimmy Clausen 2010</td>\n",
       "      <td>-5.555063</td>\n",
       "    </tr>\n",
       "    <tr>\n",
       "      <th>3</th>\n",
       "      <td>Andrew Walter 2006</td>\n",
       "      <td>-5.326875</td>\n",
       "    </tr>\n",
       "    <tr>\n",
       "      <th>4</th>\n",
       "      <td>Donovan McNabb 1999</td>\n",
       "      <td>-5.179581</td>\n",
       "    </tr>\n",
       "    <tr>\n",
       "      <th>...</th>\n",
       "      <td>...</td>\n",
       "      <td>...</td>\n",
       "    </tr>\n",
       "    <tr>\n",
       "      <th>831</th>\n",
       "      <td>Peyton Manning 2004</td>\n",
       "      <td>5.571231</td>\n",
       "    </tr>\n",
       "    <tr>\n",
       "      <th>832</th>\n",
       "      <td>Matt Ryan 2016</td>\n",
       "      <td>5.966620</td>\n",
       "    </tr>\n",
       "    <tr>\n",
       "      <th>833</th>\n",
       "      <td>Drew Brees 2011</td>\n",
       "      <td>6.167853</td>\n",
       "    </tr>\n",
       "    <tr>\n",
       "      <th>834</th>\n",
       "      <td>Aaron Rodgers 2011</td>\n",
       "      <td>6.872441</td>\n",
       "    </tr>\n",
       "    <tr>\n",
       "      <th>835</th>\n",
       "      <td>Aaron Rodgers 2020</td>\n",
       "      <td>6.966155</td>\n",
       "    </tr>\n",
       "  </tbody>\n",
       "</table>\n",
       "<p>836 rows × 2 columns</p>\n",
       "</div>"
      ],
      "text/plain": [
       "                     Names    Scores\n",
       "0         Akili Smith 2000 -5.929742\n",
       "1    JaMarcus Russell 2009 -5.724111\n",
       "2       Jimmy Clausen 2010 -5.555063\n",
       "3       Andrew Walter 2006 -5.326875\n",
       "4      Donovan McNabb 1999 -5.179581\n",
       "..                     ...       ...\n",
       "831    Peyton Manning 2004  5.571231\n",
       "832         Matt Ryan 2016  5.966620\n",
       "833        Drew Brees 2011  6.167853\n",
       "834     Aaron Rodgers 2011  6.872441\n",
       "835     Aaron Rodgers 2020  6.966155\n",
       "\n",
       "[836 rows x 2 columns]"
      ]
     },
     "execution_count": 17,
     "metadata": {},
     "output_type": "execute_result"
    }
   ],
   "source": [
    "ranked_df.columns = ('Names', 'Scores')\n",
    "ranked_df"
   ]
  },
  {
   "cell_type": "code",
   "execution_count": null,
   "id": "a2f1a380",
   "metadata": {},
   "outputs": [],
   "source": [
    "\n"
   ]
  },
  {
   "cell_type": "code",
   "execution_count": null,
   "id": "43bbc85b",
   "metadata": {},
   "outputs": [],
   "source": []
  },
  {
   "cell_type": "code",
   "execution_count": null,
   "id": "0a10512f",
   "metadata": {},
   "outputs": [
    {
     "data": {
      "application/vnd.plotly.v1+json": {
       "config": {
        "plotlyServerURL": "https://plot.ly"
       },
       "data": [
        {
         "alignmentgroup": "True",
         "hovertemplate": "Names=%{x}<br>Scores=%{y}<extra></extra>",
         "legendgroup": "",
         "marker": {
          "color": "#636efa",
          "pattern": {
           "shape": ""
          }
         },
         "name": "",
         "offsetgroup": "",
         "orientation": "v",
         "showlegend": false,
         "textposition": "auto",
         "type": "bar",
         "x": [
          "Akili Smith 2000",
          "JaMarcus Russell 2009",
          "Jimmy Clausen 2010",
          "Andrew Walter 2006",
          "Donovan McNabb 1999",
          "Kyle Orton 2005",
          "Mark Brunell 2004",
          "Ryan Leaf 2000",
          "David Carr 2002",
          "Doug Pederson 1999",
          "Tony Banks 2000",
          "A.J. Feeley 2004",
          "Chad Hutchinson 2002",
          "Doug Pederson 2000",
          "Joey Harrington 2002",
          "Bruce Gradkowski 2006",
          "Mike McMahon 2005",
          "Jake Plummer 1999",
          "Blaine Gabbert 2011",
          "Kyle Boller 2003",
          "Cade McNown 1999",
          "Kellen Clemens 2007",
          "Josh Rosen 2018",
          "Kordell Stewart 2003",
          "Sam Bradford 2011",
          "J.P. Losman 2005",
          "Derek Anderson 2008",
          "Rick Mirer 2003",
          "Patrick Ramsey 2002",
          "Jon Kitna 2001",
          "Bailey Zappe 2023",
          "Jake Delhomme 2009",
          "Chris Weinke 2001",
          "Joey Harrington 2003",
          "Kordell Stewart 1999",
          "Derek Anderson 2010",
          "Brady Quinn 2009",
          "Josh Freeman 2009",
          "Ryan Fitzpatrick 2008",
          "Mark Sanchez 2012",
          "Matt Cassel 2009",
          "Troy Aikman 2000",
          "Kyle Boller 2004",
          "Nick Foles 2015",
          "Zach Wilson 2023",
          "Bryce Young 2023",
          "Curtis Painter 2011",
          "Brian Hoyer 2017",
          "Drew Bledsoe 2003",
          "Jim Miller 2001",
          "Brodie Croyle 2007",
          "DeShone Kizer 2017",
          "Marc Bulger 2009",
          "Tim Couch 1999",
          "Matt Cassel 2012",
          "Dan Marino 1999",
          "Trent Edwards 2007",
          "Drew Brees 2003",
          "Jim Harbaugh 1999",
          "Jake Plummer 2002",
          "Jake Plummer 2006",
          "J.T. O'Sullivan 2008",
          "Tony Banks 2001",
          "Matthew Stafford 2009",
          "Joey Harrington 2006",
          "Dan Orlovsky 2008",
          "Doug Johnson 2003",
          "Brett Favre 2010",
          "Matt Hasselbeck 2001",
          "Jeff Blake 2003",
          "Charlie Batch 2000",
          "Jake Plummer 2000",
          "Brooks Bollinger 2005",
          "Ryan Fitzpatrick 2009",
          "David Carr 2005",
          "Chris Chandler 2000",
          "Joey Harrington 2005",
          "Trent Green 2006",
          "Gus Frerotte 2005",
          "Tim Couch 2003",
          "Cade McNown 2000",
          "Josh McCown 2004",
          "Dwayne Haskins 2019",
          "Blake Bortles 2014",
          "Elvis Grbac 2001",
          "Cooper Rush 2024",
          "Zach Wilson 2021",
          "Marc Bulger 2007",
          "Marc Bulger 2008",
          "Peyton Manning 2015",
          "Kyle Boller 2007",
          "Brad Johnson 2006",
          "Justin Fields 2021",
          "Kerry Collins 2003",
          "Jacoby Brissett 2021",
          "Mark Sanchez 2009",
          "Christian Ponder 2011",
          "Trent Dilfer 2000",
          "Kelly Holcomb 2003",
          "Vince Young 2006",
          "JaMarcus Russell 2008",
          "Ryan Fitzpatrick 2016",
          "Damon Huard 1999",
          "Baker Mayfield 2022",
          "Jim Miller 2002",
          "Rex Grossman 2006",
          "Cleo Lemon 2007",
          "Blaine Gabbert 2012",
          "Tim Couch 2001",
          "Charlie Frye 2006",
          "Colin Kaepernick 2015",
          "Rodney Peete 2002",
          "Kellen Clemens 2013",
          "Quincy Carter 2003",
          "Kerry Collins 2001",
          "Sam Darnold 2020",
          "Kyle Boller 2005",
          "Colt McCoy 2011",
          "Sam Darnold 2021",
          "Kelly Holcomb 2005",
          "Vince Young 2007",
          "Tony Banks 1999",
          "Josh McCown 2014",
          "Vinny Testaverde 2001",
          "Jon Kitna 2000",
          "Matt Hasselbeck 2009",
          "Derek Carr 2014",
          "Brett Hundley 2017",
          "Mitchell Trubisky 2017",
          "David Carr 2006",
          "Anthony Richardson 2024",
          "Patrick Ramsey 2004",
          "Trevor Lawrence 2021",
          "Mark Brunell 2001",
          "Will Levis 2024",
          "Josh McCown 2005",
          "Trent Dilfer 2005",
          "Brock Osweiler 2016",
          "Patrick Ramsey 2003",
          "Drew Bledsoe 2004",
          "Vinny Testaverde 2000",
          "Geno Smith 2013",
          "Mac Jones 2023",
          "Kerry Collins 1999",
          "Chris Simms 2005",
          "Carson Wentz 2020",
          "Trent Dilfer 1999",
          "Damon Huard 2007",
          "Tim Rattay 2004",
          "Kordell Stewart 2000",
          "David Carr 2003",
          "Mark Brunell 2002",
          "Eli Manning 2013",
          "Joe Flacco 2008",
          "Byron Leftwich 2003",
          "Gardner Minshew 2024",
          "Brian Griese 1999",
          "Matt Cassel 2011",
          "Trevor Siemian 2017",
          "Jay Fiedler 2000",
          "Jeff Garcia 2004",
          "Billy Joe Tolliver 1999",
          "Nick Foles 2020",
          "Zach Wilson 2022",
          "Brett Favre 2006",
          "Johnny Manziel 2015",
          "Kent Graham 1999",
          "Tarvaris Jackson 2007",
          "Geno Smith 2014",
          "Joey Harrington 2007",
          "Alex Smith 2006",
          "Joey Harrington 2004",
          "Jake Locker 2012",
          "Tommy Maddox 2003",
          "Kenny Pickett 2022",
          "Gus Frerotte 2008",
          "Matt Schaub 2013",
          "Sam Bradford 2010",
          "Jon Kitna 1999",
          "Eli Manning 2017",
          "Matt Leinart 2006",
          "Case Keenum 2016",
          "Eli Manning 2006",
          "Jay Fiedler 2003",
          "Brandon Weeden 2012",
          "Alex Van Pelt 2001",
          "Chad Henne 2012",
          "Drew Bledsoe 2000",
          "Rex Grossman 2011",
          "Kenny Pickett 2023",
          "Brett Favre 2005",
          "Joshua Dobbs 2023",
          "Chad Henne 2013",
          "Trent Green 2001",
          "Davis Mills 2022",
          "Jason Campbell 2007",
          "Chad Henne 2010",
          "Mason Rudolph 2019",
          "Joe Flacco 2017",
          "Mike Tomczak 1999",
          "Ryan Tannehill 2012",
          "Eli Manning 2007",
          "Mike Vick 2004",
          "Ryan Tannehill 2023",
          "Jay Cutler 2017",
          "Doug Flutie 2001",
          "Drew Lock 2020",
          "EJ Manuel 2013",
          "Jeff Blake 2002",
          "Gus Frerotte 2000",
          "Josh Allen 2018",
          "Tarvaris Jackson 2011",
          "Jeff Blake 1999",
          "Steve McNair 2000",
          "Vince Young 2009",
          "Will Levis 2023",
          "Kyle Orton 2011",
          "Kerry Collins 2008",
          "Brian Griese 2001",
          "Mike Vick 2005",
          "Chad Henne 2009",
          "Christian Ponder 2013",
          "Charlie Batch 2001",
          "Tim Couch 2002",
          "Steve McNair 2006",
          "Mike Vick 2006",
          "Kurt Warner 2004",
          "Tom Brady 2001",
          "Brad Johnson 2001",
          "Robert Griffin 2014",
          "Joe Flacco 2013",
          "Shaun King 2000",
          "Jason Campbell 2013",
          "Daniel Jones 2020",
          "Kerry Collins 2010",
          "Brad Johnson 2000",
          "Matt Ryan 2022",
          "Eli Manning 2005",
          "Brad Johnson 2005",
          "Mark Brunell 2006",
          "J.P. Losman 2006",
          "Vinny Testaverde 2004",
          "Josh Freeman 2011",
          "Mike Vick 2012",
          "Kerry Collins 2005",
          "Kyle Orton 2008",
          "Tyler Thigpen 2008",
          "Mark Brunell 2005",
          "Kerry Collins 2004",
          "Jeff Garcia 2006",
          "Christian Ponder 2012",
          "Mike Glennon 2013",
          "Carson Wentz 2016",
          "Aaron Brooks 2005",
          "Jacoby Brissett 2017",
          "Jay Cutler 2009",
          "Jon Kitna 2007",
          "Daniel Jones 2024",
          "Donovan McNabb 2003",
          "Matt Moore 2011",
          "Matt Hasselbeck 2006",
          "Mark Sanchez 2011",
          "Donovan McNabb 2010",
          "Ben Roethlisberger 2008",
          "Kyle Allen 2019",
          "Brian Hoyer 2014",
          "Mark Sanchez 2010",
          "Desmond Ridder 2023",
          "David Garrard 2006",
          "Brett Favre 2000",
          "Aidan O'Connell 2023",
          "Drake Maye 2024",
          "Mac Jones 2024",
          "Drew Stanton 2014",
          "Andy Dalton 2011",
          "Drew Brees 2002",
          "Sam Darnold 2018",
          "Drew Bledsoe 1999",
          "Jason Campbell 2010",
          "Matt Hasselbeck 2010",
          "Davis Mills 2021",
          "Blake Bortles 2018",
          "Matt Cassel 2013",
          "Steve Beuerlein 2000",
          "Jeff Blake 2000",
          "Aaron Brooks 2001",
          "Chris Chandler 1999",
          "Kevin Kolb 2011",
          "Chad Pennington 2007",
          "Brett Favre 1999",
          "Ray Lucas 1999",
          "Sam Howell 2023",
          "Jake Delhomme 2003",
          "Gardner Minshew 2023",
          "Austin Davis 2014",
          "Case Keenum 2019",
          "Case Keenum 2018",
          "Carson Palmer 2004",
          "Jon Kitna 2002",
          "Alex Smith 2010",
          "Charlie Batch 1999",
          "Jake Delhomme 2006",
          "Jay Cutler 2012",
          "Ben Roethlisberger 2021",
          "Jameis Winston 2024",
          "David Garrard 2009",
          "Mac Jones 2022",
          "Rob Johnson 2000",
          "Mitchell Trubisky 2019",
          "Carson Palmer 2009",
          "Brett Favre 2008",
          "Jake Plummer 2001",
          "Sam Darnold 2019",
          "Doug Flutie 2000",
          "Doug Flutie 1999",
          "Philip Rivers 2007",
          "Aaron Brooks 2002",
          "Jeff Garcia 1999",
          "Seneca Wallace 2008",
          "Alex Smith 2009",
          "Chad Pennington 2006",
          "Kordell Stewart 2001",
          "Steve McNair 2005",
          "Gus Frerotte 1999",
          "Matt Schaub 2007",
          "Matthew Stafford 2022",
          "Ryan Fitzpatrick 2011",
          "Byron Leftwich 2004",
          "Jake Delhomme 2008",
          "Troy Aikman 1999",
          "Andy Dalton 2020",
          "Aidan O'Connell 2024",
          "Andy Dalton 2019",
          "Jon Kitna 2006",
          "Blake Bortles 2016",
          "Drew Bledsoe 2005",
          "Aaron Brooks 2004",
          "Jay Cutler 2011",
          "Joe Flacco 2011",
          "Ryan Fitzpatrick 2012",
          "Ryan Tannehill 2018",
          "Ben Roethlisberger 2006",
          "Taylor Heinicke 2022",
          "Chris Chandler 2001",
          "Sam Bradford 2012",
          "Philip Rivers 2012",
          "Alex Smith 2018",
          "Eli Manning 2008",
          "Daniel Jones 2021",
          "Mark Brunell 1999",
          "Elvis Grbac 1999",
          "Caleb Williams 2024",
          "Joe Flacco 2009",
          "Jason Campbell 2008",
          "Brian Hoyer 2015",
          "Trent Edwards 2008",
          "Daniel Jones 2019",
          "Robert Griffin 2013",
          "Chad Pennington 2003",
          "Brett Favre 2002",
          "Cam Newton 2016",
          "Jay Fiedler 2001",
          "Matt Hasselbeck 2011",
          "Baker Mayfield 2021",
          "David Carr 2004",
          "Taylor Heinicke 2021",
          "Daunte Culpepper 2002",
          "Bryce Young 2024",
          "Justin Fields 2022",
          "Jason Campbell 2009",
          "Matt Ryan 2009",
          "Sam Bradford 2015",
          "Kerry Collins 2000",
          "Tom Brady 2002",
          "Josh Allen 2019",
          "Andy Dalton 2017",
          "Cam Newton 2014",
          "Ryan Fitzpatrick 2010",
          "Andy Dalton 2014",
          "Steve McNair 1999",
          "Ryan Tannehill 2013",
          "Nick Foles 2017",
          "David Garrard 2008",
          "Aaron Brooks 2003",
          "Tom Brady 2003",
          "Jacoby Brissett 2022",
          "Byron Leftwich 2005",
          "Brad Johnson 2003",
          "Nick Mullens 2020",
          "Tua Tagovailoa 2021",
          "Billy Volek 2004",
          "Carson Palmer 2010",
          "Donovan McNabb 2000",
          "Jared Goff 2021",
          "Baker Mayfield 2019",
          "Eli Manning 2016",
          "Andrew Luck 2012",
          "Justin Fields 2023",
          "Shaun Hill 2010",
          "Tom Brady 2006",
          "Russell Wilson 2022",
          "Daunte Culpepper 2001",
          "Teddy Bridgewater 2015",
          "Matt Ryan 2021",
          "Josh Freeman 2012",
          "Jake Delhomme 2005",
          "Damon Huard 2006",
          "Ryan Fitzpatrick 2013",
          "Kirk Cousins 2024",
          "Colin Kaepernick 2014",
          "Joe Flacco 2016",
          "Gardner Minshew 2019",
          "Derek Carr 2017",
          "Marcus Mariota 2022",
          "C.J. Stroud 2024",
          "Brad Johnson 1999",
          "Marc Bulger 2003",
          "Jay Cutler 2010",
          "Aaron Brooks 2000",
          "Mark Brunell 2000",
          "Mike Vick 2002",
          "Philip Rivers 2006",
          "Sage Rosenfels 2007",
          "Trevor Siemian 2016",
          "Jeff Garcia 2007",
          "Colin Kaepernick 2016",
          "Trevor Lawrence 2024",
          "Jeff Garcia 2003",
          "Donovan McNabb 2005",
          "Kurt Warner 2005",
          "Blake Bortles 2017",
          "Carson Palmer 2013",
          "Carson Wentz 2019",
          "Marcus Mariota 2018",
          "Joe Flacco 2015",
          "Tyrod Taylor 2017",
          "Matt Ryan 2008",
          "Donovan McNabb 2001",
          "Andy Dalton 2012",
          "Jacoby Brissett 2019",
          "Jon Kitna 2003",
          "Jay Fiedler 2002",
          "Marcus Mariota 2017",
          "Cam Newton 2020",
          "Cam Newton 2017",
          "Carson Palmer 2016",
          "Tommy Maddox 2002",
          "Teddy Bridgewater 2014",
          "Matthew Stafford 2018",
          "Kyle Orton 2009",
          "Kyler Murray 2022",
          "Jay Cutler 2014",
          "Jay Cutler 2007",
          "Aaron Rodgers 2022",
          "Derek Anderson 2007",
          "Carson Palmer 2012",
          "Eli Manning 2010",
          "Donovan McNabb 2007",
          "Matthew Stafford 2014",
          "Kurt Warner 2007",
          "Derek Carr 2022",
          "Chad Pennington 2004",
          "Jake Delhomme 2004",
          "Derek Carr 2018",
          "Jeff Garcia 2008",
          "Matt Hasselbeck 2007",
          "Joe Flacco 2018",
          "Jake Plummer 2005",
          "Joe Flacco 2010",
          "Ryan Tannehill 2016",
          "Shaun Hill 2008",
          "Andy Dalton 2022",
          "Kyle Orton 2014",
          "Ryan Tannehill 2015",
          "Drew Bledsoe 2002",
          "Tony Romo 2008",
          "Donovan McNabb 2002",
          "Brett Favre 2001",
          "Jeff Garcia 2002",
          "Ryan Fitzpatrick 2019",
          "Brian Griese 2002",
          "Tua Tagovailoa 2020",
          "Trevor Lawrence 2023",
          "Mark Sanchez 2014",
          "Matthew Stafford 2012",
          "Matthew Stafford 2013",
          "Jay Cutler 2013",
          "Jameis Winston 2016",
          "Drew Brees 2005",
          "Eli Manning 2012",
          "Alex Smith 2011",
          "Brett Favre 2003",
          "Marcus Mariota 2015",
          "Carson Palmer 2011",
          "David Garrard 2010",
          "Tom Brady 2013",
          "Jon Kitna 2010",
          "Matt Cassel 2010",
          "Derek Carr 2015",
          "Carson Palmer 2007",
          "Jared Goff 2019",
          "Dak Prescott 2017",
          "Jameis Winston 2017",
          "Kerry Collins 2002",
          "Peyton Manning 2001",
          "Matt Hasselbeck 2002",
          "Mac Jones 2021",
          "Mitchell Trubisky 2020",
          "Brad Johnson 2002",
          "Matt Ryan 2015",
          "Donovan McNabb 2008",
          "Steve McNair 2002",
          "Rich Gannon 2000",
          "Carson Wentz 2021",
          "Matt Hasselbeck 2004",
          "Carson Palmer 2006",
          "Aaron Rodgers 2024",
          "Ryan Tannehill 2021",
          "Alex Smith 2016",
          "Joe Burrow 2023",
          "Blake Bortles 2015",
          "Trent Green 2005",
          "Josh McCown 2017",
          "Kyler Murray 2019",
          "Matt Schaub 2012",
          "Peyton Manning 2002",
          "Jalen Hurts 2021",
          "Jared Goff 2020",
          "Russell Wilson 2023",
          "Donovan McNabb 2009",
          "Derek Carr 2021",
          "Elvis Grbac 2000",
          "Ben Roethlisberger 2004",
          "Colin Kaepernick 2013",
          "Jake Plummer 2003",
          "Matthew Stafford 2024",
          "Drew Brees 2007",
          "Joe Burrow 2020",
          "Jake Plummer 2004",
          "Matt Ryan 2010",
          "Matt Hasselbeck 2003",
          "Kyle Orton 2010",
          "Jameis Winston 2015",
          "Philip Rivers 2016",
          "Geno Smith 2023",
          "Mike Vick 2011",
          "Philip Rivers 2019",
          "Ben Roethlisberger 2011",
          "Rich Gannon 1999",
          "Tom Brady 2019",
          "Kirk Cousins 2017",
          "Tom Brady 2022",
          "Derek Carr 2023",
          "Jay Cutler 2015",
          "Eli Manning 2018",
          "Tony Romo 2006",
          "Matt Cassel 2008",
          "Matt Schaub 2010",
          "Eli Manning 2009",
          "Andy Dalton 2018",
          "Joe Flacco 2012",
          "Matt Schaub 2008",
          "Ryan Tannehill 2014",
          "Geno Smith 2024",
          "Ryan Tannehill 2022",
          "Justin Herbert 2022",
          "Ryan Fitzpatrick 2014",
          "Chad Pennington 2008",
          "Matt Ryan 2013",
          "Jordan Love 2024",
          "Alex Smith 2013",
          "Jameis Winston 2019",
          "Lamar Jackson 2022",
          "Andrew Luck 2013",
          "Ben Roethlisberger 2013",
          "Lamar Jackson 2021",
          "Jake Browning 2023",
          "Brian Griese 2004",
          "Sam Bradford 2016",
          "Aaron Rodgers 2015",
          "Trevor Lawrence 2022",
          "Russell Wilson 2016",
          "Kurt Warner 2009",
          "Andy Dalton 2016",
          "Kirk Cousins 2018",
          "Matt Ryan 2017",
          "Andy Dalton 2013",
          "Jeff George 1999",
          "Russell Wilson 2024",
          "Peyton Manning 1999",
          "Tom Brady 2004",
          "Teddy Bridgewater 2020",
          "Eli Manning 2015",
          "Marc Bulger 2006",
          "Alex Smith 2014",
          "Jimmy Garoppolo 2021",
          "Ryan Fitzpatrick 2015",
          "Jimmy Garoppolo 2019",
          "Philip Rivers 2011",
          "Tyrod Taylor 2016",
          "Cam Newton 2012",
          "Russell Wilson 2013",
          "Daniel Jones 2022",
          "Matt Ryan 2019",
          "Brett Favre 2004",
          "Jeff Garcia 2001",
          "Steve McNair 2001",
          "Philip Rivers 2014",
          "Josh Freeman 2010",
          "Baker Mayfield 2018",
          "Marcus Mariota 2016",
          "Drew Brees 2010",
          "Rich Gannon 2001",
          "Colin Kaepernick 2012",
          "Daunte Culpepper 2003",
          "Justin Herbert 2023",
          "Ben Roethlisberger 2010",
          "Ben Roethlisberger 2020",
          "Baker Mayfield 2020",
          "Kirk Cousins 2022",
          "Baker Mayfield 2023",
          "Brett Favre 2007",
          "Alex Smith 2012",
          "Jay Cutler 2008",
          "Cam Newton 2013",
          "Matt Ryan 2011",
          "Dak Prescott 2018",
          "Jameis Winston 2018",
          "Kyler Murray 2024",
          "Alex Smith 2015",
          "Ben Roethlisberger 2016",
          "Russell Wilson 2017",
          "Aaron Rodgers 2008",
          "Eli Manning 2014",
          "Gardner Minshew 2020",
          "Steve McNair 2003",
          "Russell Wilson 2014",
          "Drew Brees 2006",
          "Tua Tagovailoa 2023",
          "Joe Flacco 2014",
          "Bo Nix 2024",
          "Tom Brady 2005",
          "Lamar Jackson 2020",
          "Trent Green 2003",
          "Kyler Murray 2021",
          "Matthew Stafford 2017",
          "Justin Herbert 2024",
          "Jalen Hurts 2023",
          "Dak Prescott 2022",
          "Teddy Bridgewater 2021",
          "Ben Roethlisberger 2012",
          "Tom Brady 2009",
          "Tony Romo 2012",
          "Drew Brees 2020",
          "Steve Beuerlein 1999",
          "Cam Newton 2018",
          "Matt Ryan 2020",
          "Patrick Mahomes 2023",
          "Case Keenum 2017",
          "Jared Goff 2018",
          "Tony Romo 2013",
          "Carson Wentz 2018",
          "Russell Wilson 2021",
          "Derek Carr 2024",
          "Sam Darnold 2024",
          "Tony Romo 2009",
          "Geno Smith 2022",
          "Andrew Luck 2014",
          "Mitchell Trubisky 2018",
          "Philip Rivers 2015",
          "Philip Rivers 2017",
          "Derek Carr 2020",
          "Jordan Love 2023",
          "Chad Pennington 2002",
          "Kirk Cousins 2019",
          "Trent Green 2002",
          "Jared Goff 2017",
          "Ben Roethlisberger 2007",
          "Matthew Stafford 2015",
          "Matt Ryan 2014",
          "Matt Hasselbeck 2005",
          "Ryan Fitzpatrick 2020",
          "Patrick Mahomes 2024",
          "Aaron Rodgers 2019",
          "Tyrod Taylor 2015",
          "Kurt Warner 2008",
          "Matthew Stafford 2016",
          "Derek Carr 2016",
          "Matthew Stafford 2020",
          "Dak Prescott 2021",
          "Derek Carr 2019",
          "David Garrard 2007",
          "Tua Tagovailoa 2024",
          "Rich Gannon 2002",
          "Jared Goff 2022",
          "Tony Romo 2007",
          "Kirk Cousins 2021",
          "Daunte Culpepper 2000",
          "Tom Brady 2018",
          "Jared Goff 2023",
          "Cam Newton 2011",
          "Trent Green 2004",
          "Matt Schaub 2011",
          "Robert Griffin 2012",
          "Brock Purdy 2024",
          "Philip Rivers 2020",
          "Russell Wilson 2012",
          "Marc Bulger 2004",
          "Eli Manning 2011",
          "Tony Romo 2011",
          "Carson Palmer 2005",
          "Peyton Manning 2000",
          "Matthew Stafford 2023",
          "Drew Brees 2004",
          "Andrew Luck 2018",
          "Kirk Cousins 2015",
          "Ben Roethlisberger 2005",
          "Ben Roethlisberger 2017",
          "Josh Allen 2022",
          "Donovan McNabb 2006",
          "Lamar Jackson 2023",
          "Peyton Manning 2014",
          "Kyler Murray 2020",
          "Kurt Warner 2001",
          "Peyton Manning 2010",
          "Deshaun Watson 2018",
          "Andrew Luck 2016",
          "Peyton Manning 2008",
          "Philip Rivers 2008",
          "Drew Brees 2014",
          "Kirk Cousins 2016",
          "C.J. Stroud 2023",
          "Peyton Manning 2007",
          "Ben Roethlisberger 2015",
          "Tom Brady 2014",
          "Brock Purdy 2022",
          "Peyton Manning 2005",
          "Carson Wentz 2017",
          "Russell Wilson 2018",
          "Peyton Manning 2003",
          "Ben Roethlisberger 2009",
          "Jimmy Garoppolo 2022",
          "Kurt Warner 2000",
          "Peyton Manning 2006",
          "Matt Schaub 2009",
          "Kirk Cousins 2020",
          "Deshaun Watson 2019",
          "Carson Palmer 2015",
          "Drew Brees 2008",
          "Drew Brees 2017",
          "Justin Herbert 2020",
          "Tua Tagovailoa 2022",
          "Ben Roethlisberger 2014",
          "Philip Rivers 2009",
          "Brian Griese 2000",
          "Aaron Rodgers 2013",
          "Joe Burrow 2022",
          "Philip Rivers 2018",
          "Donovan McNabb 2004",
          "Russell Wilson 2020",
          "Aaron Rodgers 2018",
          "Ryan Tannehill 2019",
          "Philip Rivers 2010",
          "Drew Brees 2012",
          "Jalen Hurts 2024",
          "Josh Allen 2023",
          "Peyton Manning 2009",
          "Jayden Daniels 2024",
          "Jeff Garcia 2000",
          "Matthew Stafford 2011",
          "Dak Prescott 2016",
          "Cam Newton 2015",
          "Ben Roethlisberger 2018",
          "Russell Wilson 2015",
          "Baker Mayfield 2024",
          "Mike Vick 2010",
          "Andy Dalton 2015",
          "Drew Brees 2015",
          "Tom Brady 2020",
          "Joe Burrow 2021",
          "Matt Ryan 2012",
          "Josh Allen 2021",
          "Russell Wilson 2019",
          "Drew Brees 2016",
          "Matthew Stafford 2021",
          "Dak Prescott 2019",
          "Tom Brady 2017",
          "Tom Brady 2015",
          "Jared Goff 2024",
          "Tony Romo 2014",
          "Jalen Hurts 2022",
          "Aaron Rodgers 2009",
          "Justin Herbert 2021",
          "Philip Rivers 2013",
          "Aaron Rodgers 2010",
          "Kurt Warner 1999",
          "Patrick Mahomes 2021",
          "Peyton Manning 2012",
          "Brett Favre 2009",
          "Drew Brees 2013",
          "Ryan Tannehill 2020",
          "Tom Brady 2021",
          "Brock Purdy 2023",
          "Joe Burrow 2024",
          "Drew Brees 2009",
          "Dak Prescott 2023",
          "Aaron Rodgers 2012",
          "Matt Ryan 2018",
          "Josh Allen 2020",
          "Alex Smith 2017",
          "Aaron Rodgers 2014",
          "Josh Allen 2024",
          "Daunte Culpepper 2004",
          "Tom Brady 2010",
          "Tom Brady 2012",
          "Aaron Rodgers 2016",
          "Lamar Jackson 2019",
          "Tom Brady 2011",
          "Deshaun Watson 2020",
          "Drew Brees 2018",
          "Patrick Mahomes 2022",
          "Patrick Mahomes 2019",
          "Tom Brady 2016",
          "Nick Foles 2013",
          "Patrick Mahomes 2020",
          "Peyton Manning 2013",
          "Aaron Rodgers 2021",
          "Lamar Jackson 2024",
          "Drew Brees 2019",
          "Patrick Mahomes 2018",
          "Tom Brady 2007",
          "Peyton Manning 2004",
          "Matt Ryan 2016",
          "Drew Brees 2011",
          "Aaron Rodgers 2011",
          "Aaron Rodgers 2020"
         ],
         "xaxis": "x",
         "y": [
          -5.929742264516113,
          -5.724110557974358,
          -5.5550632103040325,
          -5.326874515298801,
          -5.179580805950011,
          -5.0532075939015035,
          -4.963756946986607,
          -4.71895073184747,
          -4.542388109445444,
          -4.536700631776404,
          -4.524545436279321,
          -4.488983678251906,
          -4.465646904721044,
          -4.459891946338632,
          -4.391416935530092,
          -4.3840207970650145,
          -4.280469882204099,
          -4.274189175747287,
          -4.272379867412668,
          -4.262119901976241,
          -4.037439588290408,
          -4.026736817228293,
          -3.9556361158538444,
          -3.9097529373955684,
          -3.8154745581370837,
          -3.798147195135784,
          -3.7323161534499896,
          -3.726666651442123,
          -3.6342749052010284,
          -3.603943855115616,
          -3.5834341749698995,
          -3.5730088124706243,
          -3.571554308975186,
          -3.558034657162237,
          -3.5314639291158287,
          -3.5119435218967685,
          -3.5117265136218414,
          -3.4875129849824575,
          -3.4524916644523636,
          -3.429660246267653,
          -3.330761994215653,
          -3.312792111371852,
          -3.3060021483384014,
          -3.265839117509802,
          -3.2498914229933518,
          -3.220355221061769,
          -3.1792520700110054,
          -3.1229890516328274,
          -3.1051966429031825,
          -3.0913446132502447,
          -3.0898621504008346,
          -3.076005545211166,
          -3.0632984846738904,
          -3.0443199946004604,
          -3.0290899445816746,
          -3.027150477813342,
          -3.011312552448503,
          -2.996327865173548,
          -2.9729503994975333,
          -2.9705052024462475,
          -2.954615832286653,
          -2.933791687078172,
          -2.921321510946748,
          -2.9023074253536283,
          -2.889681283382893,
          -2.8826873156001938,
          -2.8752609862473935,
          -2.873831454501464,
          -2.8598072521044884,
          -2.858359325045634,
          -2.844936515852102,
          -2.792611098939963,
          -2.7888288119925226,
          -2.7872679579685173,
          -2.780176587962424,
          -2.762533032039406,
          -2.736636721831808,
          -2.7009363845579353,
          -2.690418249087149,
          -2.6835311284742027,
          -2.6418222853918167,
          -2.640496892276871,
          -2.6378059873892767,
          -2.6370866992240116,
          -2.6165703390709507,
          -2.590128695620174,
          -2.5859019717376586,
          -2.5812648491855232,
          -2.5702903777519763,
          -2.568565538296735,
          -2.5525864382662404,
          -2.5401622807169346,
          -2.5276031590615586,
          -2.4942475661789585,
          -2.481847047680195,
          -2.481500293282621,
          -2.467429598124255,
          -2.438233072173187,
          -2.4203643449767847,
          -2.4151920094628583,
          -2.391540324636641,
          -2.3749753960207576,
          -2.3727480748666463,
          -2.3593089378796552,
          -2.330071555142389,
          -2.3268671341538707,
          -2.3261240994016745,
          -2.315246071455399,
          -2.305018462712639,
          -2.2664938651715656,
          -2.2554596946891134,
          -2.2473291015323027,
          -2.2465391848931113,
          -2.244717011434009,
          -2.2368129682711326,
          -2.2331994797534183,
          -2.23259385777897,
          -2.222124527070858,
          -2.2170824508388933,
          -2.2148899559807655,
          -2.1882277402243338,
          -2.187601353970372,
          -2.1793150725026664,
          -2.1788338644471286,
          -2.177590526493459,
          -2.170034992856781,
          -2.1654953011599947,
          -2.1450693137610455,
          -2.1422138601374274,
          -2.1344169809835045,
          -2.1288779492653975,
          -2.1105383024878717,
          -2.1077418183490852,
          -2.1074869742571805,
          -2.106167122088982,
          -2.0994887189128852,
          -2.099455731857891,
          -2.098292982384247,
          -2.092573357417921,
          -2.0818104752162268,
          -2.081309980959926,
          -2.080178918311989,
          -2.058809036040557,
          -2.0530519754116097,
          -2.043107744319191,
          -2.040769318280898,
          -2.040480288745464,
          -2.038070548513344,
          -2.0368066195225665,
          -2.0150228953357643,
          -1.9634875124078368,
          -1.9634048921734677,
          -1.959599356402234,
          -1.9406982842888854,
          -1.9385087793476017,
          -1.9202560023223716,
          -1.9180455896490751,
          -1.9051257963901462,
          -1.8935596241432504,
          -1.879545690683984,
          -1.8780732365157011,
          -1.871020317383458,
          -1.8647310658667982,
          -1.8612162768286165,
          -1.845896084181527,
          -1.827651112772826,
          -1.8200437389017459,
          -1.8188944706351875,
          -1.8174882670790533,
          -1.8125707285737482,
          -1.8088139352931019,
          -1.8040903864239586,
          -1.795950435749786,
          -1.7956452181056148,
          -1.790304669393105,
          -1.788770224581731,
          -1.7881414601430865,
          -1.771919845073965,
          -1.7706249266748886,
          -1.7481877237296868,
          -1.7248894517254192,
          -1.7154905516214887,
          -1.7131638167457008,
          -1.7117792605319189,
          -1.7091223594199285,
          -1.6987820432866696,
          -1.6973213447547155,
          -1.6803090575285529,
          -1.6797646413379808,
          -1.672828532019954,
          -1.6688389306813403,
          -1.666676967242417,
          -1.657017674354538,
          -1.6551615584118107,
          -1.6359442885640476,
          -1.631707684331753,
          -1.6306183156046583,
          -1.6239049136115775,
          -1.6231964809227801,
          -1.6180536798758953,
          -1.5994349986441037,
          -1.5981687623538126,
          -1.569410975218135,
          -1.5669647465216066,
          -1.5649982751354221,
          -1.5561146170911542,
          -1.5511159056037946,
          -1.5459671476725478,
          -1.5455434836154183,
          -1.5425044518792685,
          -1.539375869789118,
          -1.5378284050727336,
          -1.5346865484826901,
          -1.5313223823653093,
          -1.5133504167194658,
          -1.5043380508533126,
          -1.4832446168083142,
          -1.4727226537780256,
          -1.4646725421315194,
          -1.4597499357154593,
          -1.4591331396896203,
          -1.4578838774113922,
          -1.4486697359201859,
          -1.428245008173269,
          -1.408258168218662,
          -1.4014322596170015,
          -1.4000954528008756,
          -1.390172157452152,
          -1.3655441006600755,
          -1.3637433661664062,
          -1.349180904003643,
          -1.3424008884931682,
          -1.3408834393396387,
          -1.3278531788694314,
          -1.3204868118504829,
          -1.3167011833126934,
          -1.3071626659956714,
          -1.3059945569260722,
          -1.2880741013124228,
          -1.2873706980826105,
          -1.2805635580898411,
          -1.2778390476409909,
          -1.2664608423377128,
          -1.2600689113553163,
          -1.2597529768417592,
          -1.2564669266234885,
          -1.2481046448205895,
          -1.247428016565741,
          -1.2436352074071042,
          -1.2408606243752762,
          -1.23857520503326,
          -1.2382591461212389,
          -1.2378079481035096,
          -1.2289396989155645,
          -1.2217729699622704,
          -1.2143938560503058,
          -1.1950919952641983,
          -1.1923084238355965,
          -1.1843889785443722,
          -1.1766860216196124,
          -1.1709696606698181,
          -1.1664324753721005,
          -1.1465166101703024,
          -1.1414107892111451,
          -1.134439163586582,
          -1.1310906117531665,
          -1.1219690115966896,
          -1.1161663334049456,
          -1.1129106704067993,
          -1.1054418773896018,
          -1.0829708338007078,
          -1.0689076350394864,
          -1.066495809972869,
          -1.0630043825404778,
          -1.0599264549902527,
          -1.0563807073945706,
          -1.0342435909258656,
          -1.026413462907659,
          -1.0244327936797353,
          -1.0188447188525525,
          -1.0146185293693526,
          -1.014321479598376,
          -1.0053038703397088,
          -1.002848032863544,
          -1.000705739540447,
          -0.9990843316454637,
          -0.9859958419430224,
          -0.9821683188734911,
          -0.9770884536048643,
          -0.9652937271344995,
          -0.9493604462842238,
          -0.9424562553576169,
          -0.9324856038590692,
          -0.9232190073458426,
          -0.9194506579968512,
          -0.9078317856491541,
          -0.9073230329195191,
          -0.8963243564735934,
          -0.8955867806048274,
          -0.8949945845382397,
          -0.8900575483615045,
          -0.889537615875043,
          -0.8882268816945839,
          -0.8864587203699225,
          -0.8622512158062077,
          -0.8602948883709843,
          -0.8572400768444335,
          -0.8485640169390486,
          -0.841459644520447,
          -0.8347782605903459,
          -0.8329952470885497,
          -0.8312949091783898,
          -0.8273347705860422,
          -0.8266523330378599,
          -0.8192367858704332,
          -0.8165689832734409,
          -0.8073158215983302,
          -0.8001202251630966,
          -0.7960575083102445,
          -0.7925961793016602,
          -0.7924631793647294,
          -0.7827754647361139,
          -0.7815061361412606,
          -0.7385408918538742,
          -0.736193647609156,
          -0.7323665634488253,
          -0.7316622936782436,
          -0.7260066209544244,
          -0.7212632527872512,
          -0.7191375933273204,
          -0.7089365995737079,
          -0.703499428684753,
          -0.7019557080218372,
          -0.699365230513245,
          -0.6993528615985742,
          -0.6932249308400713,
          -0.6880404023203059,
          -0.6865503629173226,
          -0.6839095524539347,
          -0.669111856738845,
          -0.6579375858377786,
          -0.6507143846070255,
          -0.6446233901672085,
          -0.6347714956717383,
          -0.6221437597314998,
          -0.619711800742004,
          -0.6163092625950695,
          -0.6122949182580512,
          -0.6111449653549682,
          -0.6012498453108388,
          -0.5959677442503941,
          -0.5932480017800241,
          -0.5905284277596202,
          -0.5735350329571735,
          -0.5697709535683178,
          -0.5668554800402626,
          -0.5586336841340045,
          -0.5410132719277899,
          -0.5317797281045845,
          -0.5256680103753744,
          -0.5162310889716911,
          -0.5157513146006384,
          -0.5070727134945395,
          -0.5061965721298262,
          -0.5048531409496579,
          -0.4942588055916789,
          -0.4849647466204762,
          -0.47971984080547453,
          -0.4740369332832693,
          -0.4638483457595436,
          -0.46036753439214845,
          -0.45768317048905965,
          -0.45158356527388066,
          -0.4506557426378406,
          -0.44907153096777724,
          -0.4362841585567273,
          -0.43588506420648393,
          -0.43404666265011105,
          -0.4235573697122271,
          -0.4066183756649005,
          -0.4024523589619455,
          -0.4009465270074664,
          -0.3886748367376948,
          -0.38710722010829696,
          -0.38599699838370194,
          -0.3806942798838414,
          -0.37483143137451913,
          -0.3670260586329652,
          -0.36457595197625753,
          -0.3635144145296082,
          -0.35563003927046344,
          -0.3499065385489069,
          -0.3496754328054862,
          -0.3485944069502606,
          -0.33316749842589855,
          -0.331521383186807,
          -0.3102833061621244,
          -0.30970098360600806,
          -0.2965541028048677,
          -0.2896306322980327,
          -0.28107189124742216,
          -0.2787881390245055,
          -0.27818151123980367,
          -0.2594044620390233,
          -0.24495497172917652,
          -0.2431651139109023,
          -0.24221574729706666,
          -0.24017388565820105,
          -0.23856227403710686,
          -0.22039878486824532,
          -0.21293725373334804,
          -0.20195789362042366,
          -0.16597296654516347,
          -0.1489645048936505,
          -0.14064558591431145,
          -0.12663727660528046,
          -0.10593610052108493,
          -0.09759828900907828,
          -0.09241908563770143,
          -0.0896346806292007,
          -0.08275924151349141,
          -0.0765518171648268,
          -0.06618735265488213,
          -0.06251356137579295,
          -0.05025777926876412,
          -0.04650054473503881,
          -0.04229349892625135,
          -0.037330924428135154,
          -0.03039742500833461,
          -0.018082453461815726,
          -0.011579671076920726,
          -0.005760245810356488,
          0.0021126869407262286,
          0.009550016782755237,
          0.016031590122461754,
          0.020544454748952192,
          0.03609525136219368,
          0.048009614301947626,
          0.055688740426253505,
          0.07236457572903723,
          0.07480782387941878,
          0.07794197299701364,
          0.09843549395053684,
          0.10954868595997835,
          0.10978584688841217,
          0.11296385095149539,
          0.12674698833065892,
          0.12683502324129275,
          0.13577767002255317,
          0.14281462159832153,
          0.14584830347800698,
          0.1541727412007665,
          0.1666579698221986,
          0.20472775543644567,
          0.21544968239638132,
          0.21971326080773848,
          0.230795494427761,
          0.24122426708793987,
          0.24837912562968745,
          0.25022789130980466,
          0.2602968401181566,
          0.2620916856990466,
          0.2670310942453091,
          0.26984895386212027,
          0.27464628440586347,
          0.2755266862155869,
          0.2755786557262371,
          0.27661481760108025,
          0.2823280521260396,
          0.3025442203892157,
          0.32001494797700303,
          0.32277345637276456,
          0.32844154358233635,
          0.328513221414606,
          0.3373205430811477,
          0.3516772859554216,
          0.35241605373929713,
          0.35384561897497646,
          0.356934584267913,
          0.3663777565422302,
          0.3721335028657328,
          0.37464481295233576,
          0.3800683936118742,
          0.38068800574345807,
          0.38865372350449523,
          0.3900428096283493,
          0.39565844224973734,
          0.3974212297774036,
          0.4055287901235774,
          0.41104880393566073,
          0.4153213690574159,
          0.4168732005796587,
          0.4168945297509478,
          0.42144367811705125,
          0.421491612397595,
          0.45733452175836087,
          0.45996792969111844,
          0.46551186808791595,
          0.467583659224071,
          0.4779028430588219,
          0.4822293367777613,
          0.4890333681386373,
          0.4943200088046018,
          0.496161509620856,
          0.4973550952781377,
          0.5013325049196913,
          0.5018748961274495,
          0.5168159809093675,
          0.5228407823511193,
          0.5324837129658546,
          0.5339403418630444,
          0.5380450297802163,
          0.5485900555204078,
          0.5570315042668442,
          0.5594914377742258,
          0.5638783632995465,
          0.5683296169841551,
          0.5744797817782624,
          0.576746523103621,
          0.5952411778067407,
          0.6115861414612085,
          0.6282314125149208,
          0.6394334911298364,
          0.6454256403583004,
          0.6521660507217041,
          0.6522630208625614,
          0.6546672301454735,
          0.6593041573383849,
          0.6895263391715191,
          0.7035284233477497,
          0.7094972218616781,
          0.7142174813358705,
          0.7378567961550652,
          0.7406292092325036,
          0.742505937928737,
          0.7473806955312501,
          0.7588999598261029,
          0.7757208619964325,
          0.7825824155648787,
          0.7967505616906051,
          0.7967606153274723,
          0.8059704647437411,
          0.8124255501720961,
          0.8144654599086065,
          0.820458615859239,
          0.8211122312047748,
          0.8277930211390876,
          0.8332779189757019,
          0.8358329622750023,
          0.8387389107042769,
          0.8697017831718257,
          0.8734287102391307,
          0.8842629733602582,
          0.890499888975748,
          0.9018677928059978,
          0.9370657359397951,
          0.9506738634272434,
          0.9583300381768166,
          0.9683016149805495,
          0.9833363354999419,
          0.9958507042302267,
          1.000274405781583,
          1.014867617151397,
          1.0224434613218396,
          1.0269910608651385,
          1.029310169780679,
          1.0485902479987872,
          1.0648791622567826,
          1.0669202185296423,
          1.0686168612178444,
          1.0688124911937251,
          1.0725756433862168,
          1.0781854070235908,
          1.0796634504573814,
          1.0892653098861327,
          1.0923912629423524,
          1.1067794832219366,
          1.1142869960740949,
          1.119705881414296,
          1.1253880958516138,
          1.125987859340969,
          1.1294337954960347,
          1.1456321372672886,
          1.1596054034853167,
          1.1634714789333274,
          1.1655841372212108,
          1.1683005660056691,
          1.1763936153577856,
          1.177440194402274,
          1.1833114089173178,
          1.185541662538741,
          1.2015014091098797,
          1.2239252388314752,
          1.2292372820487285,
          1.2292834474762893,
          1.2340582770853394,
          1.2451736953512993,
          1.2455387199842123,
          1.2519156336542447,
          1.252951908270883,
          1.2558369456950442,
          1.2589725444379407,
          1.2660969942818812,
          1.2693854034904615,
          1.2741292003855926,
          1.2762826978219608,
          1.288194546840205,
          1.3089439380140675,
          1.3130966736014693,
          1.313311333682833,
          1.3138394041513664,
          1.31503918011861,
          1.319430701353732,
          1.3530813418786487,
          1.3533729082640145,
          1.3746074478217836,
          1.3797050005436466,
          1.386099879194479,
          1.3903530656361247,
          1.3917216201328235,
          1.4037488212052143,
          1.4050427513536194,
          1.405967379598637,
          1.4144045334906776,
          1.4154460736979597,
          1.4162057978140616,
          1.4325262196015416,
          1.444211522771053,
          1.4558739510142782,
          1.4615633911218278,
          1.468994057415388,
          1.4841249016295752,
          1.4913492367982697,
          1.495569665385164,
          1.5038275461890283,
          1.5204020252517887,
          1.5222859183453104,
          1.5253473989399862,
          1.5315274517379318,
          1.5407874924776994,
          1.5671414478516428,
          1.5704280606581325,
          1.574979046443226,
          1.5900892608616732,
          1.6043465823139187,
          1.6057246231448068,
          1.6189640236740017,
          1.6325799939547398,
          1.640856004453759,
          1.6415141616237898,
          1.6452760529087889,
          1.6532129109371365,
          1.657095102566836,
          1.669940728881062,
          1.7109380901597295,
          1.7117990097739746,
          1.732435910484815,
          1.7451041618341625,
          1.746440504549723,
          1.762074158985207,
          1.7694373819078073,
          1.7714378850058181,
          1.7771011541099853,
          1.7781554967466615,
          1.7910956568950847,
          1.8022458685337661,
          1.8078740534178224,
          1.8213481223844281,
          1.8249883225248624,
          1.827893622446304,
          1.8409235030289708,
          1.848883432023295,
          1.8489166295624522,
          1.866070351128897,
          1.8762676634366344,
          1.8845843204955737,
          1.8953930433703146,
          1.8974175118397174,
          1.922497730810663,
          1.9266830642060502,
          1.9320694581177478,
          1.967472217259127,
          1.9765956387164958,
          1.9772602408038753,
          1.9779211954341425,
          1.981969682834785,
          1.9820040204306573,
          1.9882795248680487,
          2.001631021263332,
          2.003783300730966,
          2.0038150262770316,
          2.011745857576138,
          2.0169404848710064,
          2.023870558281956,
          2.0258682591832997,
          2.0266184369416114,
          2.044073225223565,
          2.056983141372113,
          2.0659616540017516,
          2.0712024853555615,
          2.0791832492836364,
          2.0832801043335163,
          2.0868292303190183,
          2.1195463894447943,
          2.154153498966324,
          2.1550500820050056,
          2.171351616378794,
          2.1865735973553506,
          2.1874852099661264,
          2.1906017325940366,
          2.2259985902811916,
          2.251884136447747,
          2.253774519612661,
          2.2644806787682024,
          2.2800875647843792,
          2.3083189443718584,
          2.3222885507511513,
          2.3364684367245117,
          2.3600990538231557,
          2.375449877625007,
          2.375452268314709,
          2.3774372725932644,
          2.3855276628686894,
          2.3871713323066017,
          2.3940126231862084,
          2.403280587343649,
          2.4131375804290327,
          2.4421419863236,
          2.461839312977066,
          2.4681138568506595,
          2.481427494574063,
          2.4905648905115974,
          2.4984736990939638,
          2.5211134023324253,
          2.5372080172599336,
          2.560471676778591,
          2.5814089306174512,
          2.58456447285795,
          2.587516174402013,
          2.59418920250162,
          2.595537865087891,
          2.610104683690201,
          2.6143034195999433,
          2.6612358195577537,
          2.6963193894376762,
          2.696777890212365,
          2.698588921314601,
          2.7166957982149547,
          2.7189469244704707,
          2.77779426040995,
          2.808199856065902,
          2.809452552034679,
          2.8180520166326555,
          2.8801076511725543,
          2.886729400094809,
          2.9174650192227194,
          2.941476243013986,
          2.978513897440551,
          3.0301132645609195,
          3.0327996582898145,
          3.033617003293646,
          3.033827064451814,
          3.034541164506875,
          3.0544015053486633,
          3.0587839785361575,
          3.060079815830872,
          3.066659913797399,
          3.075601161489706,
          3.1084200636432793,
          3.164164749082475,
          3.1679613783994864,
          3.169004869721355,
          3.170504409747605,
          3.173621953152452,
          3.2034927297876075,
          3.241837434850623,
          3.281257652399156,
          3.288967860528425,
          3.3066743380545804,
          3.3093532231573155,
          3.313184498480362,
          3.361989608788146,
          3.3781146302906406,
          3.4154212111608646,
          3.4568842546531915,
          3.4943700892169236,
          3.49816366886356,
          3.4982273749917123,
          3.5014170561247684,
          3.5050426731721918,
          3.5621206512585077,
          3.5629382223806947,
          3.615167372938368,
          3.6195412504315185,
          3.628499343360381,
          3.633716380350753,
          3.648149700531828,
          3.6628589393992725,
          3.680695062126896,
          3.684923694601454,
          3.710269191581202,
          3.717510284665671,
          3.7404195771377617,
          3.7536123654458518,
          3.8034695632984574,
          3.8056962024963514,
          3.831021123731033,
          3.986793733394977,
          3.991015854124652,
          4.069274085671867,
          4.0866004089137125,
          4.107954828893905,
          4.280068176185696,
          4.329180946049879,
          4.346132196423051,
          4.373498945539964,
          4.424407096911146,
          4.599733168431574,
          4.6295611586663306,
          4.693303742596404,
          4.737444498803922,
          4.839470577649444,
          4.9375046363368,
          4.938697252648832,
          5.03859740858835,
          5.047892078703851,
          5.137203935966467,
          5.1868520476633995,
          5.2151076228201205,
          5.281754913398981,
          5.511695699032241,
          5.571230501704402,
          5.966619898961754,
          6.1678531671229155,
          6.872440823728448,
          6.966154958437051
         ],
         "yaxis": "y"
        }
       ],
       "layout": {
        "barmode": "relative",
        "legend": {
         "tracegroupgap": 0
        },
        "margin": {
         "t": 60
        },
        "template": {
         "data": {
          "bar": [
           {
            "error_x": {
             "color": "#2a3f5f"
            },
            "error_y": {
             "color": "#2a3f5f"
            },
            "marker": {
             "line": {
              "color": "#E5ECF6",
              "width": 0.5
             },
             "pattern": {
              "fillmode": "overlay",
              "size": 10,
              "solidity": 0.2
             }
            },
            "type": "bar"
           }
          ],
          "barpolar": [
           {
            "marker": {
             "line": {
              "color": "#E5ECF6",
              "width": 0.5
             },
             "pattern": {
              "fillmode": "overlay",
              "size": 10,
              "solidity": 0.2
             }
            },
            "type": "barpolar"
           }
          ],
          "carpet": [
           {
            "aaxis": {
             "endlinecolor": "#2a3f5f",
             "gridcolor": "white",
             "linecolor": "white",
             "minorgridcolor": "white",
             "startlinecolor": "#2a3f5f"
            },
            "baxis": {
             "endlinecolor": "#2a3f5f",
             "gridcolor": "white",
             "linecolor": "white",
             "minorgridcolor": "white",
             "startlinecolor": "#2a3f5f"
            },
            "type": "carpet"
           }
          ],
          "choropleth": [
           {
            "colorbar": {
             "outlinewidth": 0,
             "ticks": ""
            },
            "type": "choropleth"
           }
          ],
          "contour": [
           {
            "colorbar": {
             "outlinewidth": 0,
             "ticks": ""
            },
            "colorscale": [
             [
              0,
              "#0d0887"
             ],
             [
              0.1111111111111111,
              "#46039f"
             ],
             [
              0.2222222222222222,
              "#7201a8"
             ],
             [
              0.3333333333333333,
              "#9c179e"
             ],
             [
              0.4444444444444444,
              "#bd3786"
             ],
             [
              0.5555555555555556,
              "#d8576b"
             ],
             [
              0.6666666666666666,
              "#ed7953"
             ],
             [
              0.7777777777777778,
              "#fb9f3a"
             ],
             [
              0.8888888888888888,
              "#fdca26"
             ],
             [
              1,
              "#f0f921"
             ]
            ],
            "type": "contour"
           }
          ],
          "contourcarpet": [
           {
            "colorbar": {
             "outlinewidth": 0,
             "ticks": ""
            },
            "type": "contourcarpet"
           }
          ],
          "heatmap": [
           {
            "colorbar": {
             "outlinewidth": 0,
             "ticks": ""
            },
            "colorscale": [
             [
              0,
              "#0d0887"
             ],
             [
              0.1111111111111111,
              "#46039f"
             ],
             [
              0.2222222222222222,
              "#7201a8"
             ],
             [
              0.3333333333333333,
              "#9c179e"
             ],
             [
              0.4444444444444444,
              "#bd3786"
             ],
             [
              0.5555555555555556,
              "#d8576b"
             ],
             [
              0.6666666666666666,
              "#ed7953"
             ],
             [
              0.7777777777777778,
              "#fb9f3a"
             ],
             [
              0.8888888888888888,
              "#fdca26"
             ],
             [
              1,
              "#f0f921"
             ]
            ],
            "type": "heatmap"
           }
          ],
          "heatmapgl": [
           {
            "colorbar": {
             "outlinewidth": 0,
             "ticks": ""
            },
            "colorscale": [
             [
              0,
              "#0d0887"
             ],
             [
              0.1111111111111111,
              "#46039f"
             ],
             [
              0.2222222222222222,
              "#7201a8"
             ],
             [
              0.3333333333333333,
              "#9c179e"
             ],
             [
              0.4444444444444444,
              "#bd3786"
             ],
             [
              0.5555555555555556,
              "#d8576b"
             ],
             [
              0.6666666666666666,
              "#ed7953"
             ],
             [
              0.7777777777777778,
              "#fb9f3a"
             ],
             [
              0.8888888888888888,
              "#fdca26"
             ],
             [
              1,
              "#f0f921"
             ]
            ],
            "type": "heatmapgl"
           }
          ],
          "histogram": [
           {
            "marker": {
             "pattern": {
              "fillmode": "overlay",
              "size": 10,
              "solidity": 0.2
             }
            },
            "type": "histogram"
           }
          ],
          "histogram2d": [
           {
            "colorbar": {
             "outlinewidth": 0,
             "ticks": ""
            },
            "colorscale": [
             [
              0,
              "#0d0887"
             ],
             [
              0.1111111111111111,
              "#46039f"
             ],
             [
              0.2222222222222222,
              "#7201a8"
             ],
             [
              0.3333333333333333,
              "#9c179e"
             ],
             [
              0.4444444444444444,
              "#bd3786"
             ],
             [
              0.5555555555555556,
              "#d8576b"
             ],
             [
              0.6666666666666666,
              "#ed7953"
             ],
             [
              0.7777777777777778,
              "#fb9f3a"
             ],
             [
              0.8888888888888888,
              "#fdca26"
             ],
             [
              1,
              "#f0f921"
             ]
            ],
            "type": "histogram2d"
           }
          ],
          "histogram2dcontour": [
           {
            "colorbar": {
             "outlinewidth": 0,
             "ticks": ""
            },
            "colorscale": [
             [
              0,
              "#0d0887"
             ],
             [
              0.1111111111111111,
              "#46039f"
             ],
             [
              0.2222222222222222,
              "#7201a8"
             ],
             [
              0.3333333333333333,
              "#9c179e"
             ],
             [
              0.4444444444444444,
              "#bd3786"
             ],
             [
              0.5555555555555556,
              "#d8576b"
             ],
             [
              0.6666666666666666,
              "#ed7953"
             ],
             [
              0.7777777777777778,
              "#fb9f3a"
             ],
             [
              0.8888888888888888,
              "#fdca26"
             ],
             [
              1,
              "#f0f921"
             ]
            ],
            "type": "histogram2dcontour"
           }
          ],
          "mesh3d": [
           {
            "colorbar": {
             "outlinewidth": 0,
             "ticks": ""
            },
            "type": "mesh3d"
           }
          ],
          "parcoords": [
           {
            "line": {
             "colorbar": {
              "outlinewidth": 0,
              "ticks": ""
             }
            },
            "type": "parcoords"
           }
          ],
          "pie": [
           {
            "automargin": true,
            "type": "pie"
           }
          ],
          "scatter": [
           {
            "fillpattern": {
             "fillmode": "overlay",
             "size": 10,
             "solidity": 0.2
            },
            "type": "scatter"
           }
          ],
          "scatter3d": [
           {
            "line": {
             "colorbar": {
              "outlinewidth": 0,
              "ticks": ""
             }
            },
            "marker": {
             "colorbar": {
              "outlinewidth": 0,
              "ticks": ""
             }
            },
            "type": "scatter3d"
           }
          ],
          "scattercarpet": [
           {
            "marker": {
             "colorbar": {
              "outlinewidth": 0,
              "ticks": ""
             }
            },
            "type": "scattercarpet"
           }
          ],
          "scattergeo": [
           {
            "marker": {
             "colorbar": {
              "outlinewidth": 0,
              "ticks": ""
             }
            },
            "type": "scattergeo"
           }
          ],
          "scattergl": [
           {
            "marker": {
             "colorbar": {
              "outlinewidth": 0,
              "ticks": ""
             }
            },
            "type": "scattergl"
           }
          ],
          "scattermapbox": [
           {
            "marker": {
             "colorbar": {
              "outlinewidth": 0,
              "ticks": ""
             }
            },
            "type": "scattermapbox"
           }
          ],
          "scatterpolar": [
           {
            "marker": {
             "colorbar": {
              "outlinewidth": 0,
              "ticks": ""
             }
            },
            "type": "scatterpolar"
           }
          ],
          "scatterpolargl": [
           {
            "marker": {
             "colorbar": {
              "outlinewidth": 0,
              "ticks": ""
             }
            },
            "type": "scatterpolargl"
           }
          ],
          "scatterternary": [
           {
            "marker": {
             "colorbar": {
              "outlinewidth": 0,
              "ticks": ""
             }
            },
            "type": "scatterternary"
           }
          ],
          "surface": [
           {
            "colorbar": {
             "outlinewidth": 0,
             "ticks": ""
            },
            "colorscale": [
             [
              0,
              "#0d0887"
             ],
             [
              0.1111111111111111,
              "#46039f"
             ],
             [
              0.2222222222222222,
              "#7201a8"
             ],
             [
              0.3333333333333333,
              "#9c179e"
             ],
             [
              0.4444444444444444,
              "#bd3786"
             ],
             [
              0.5555555555555556,
              "#d8576b"
             ],
             [
              0.6666666666666666,
              "#ed7953"
             ],
             [
              0.7777777777777778,
              "#fb9f3a"
             ],
             [
              0.8888888888888888,
              "#fdca26"
             ],
             [
              1,
              "#f0f921"
             ]
            ],
            "type": "surface"
           }
          ],
          "table": [
           {
            "cells": {
             "fill": {
              "color": "#EBF0F8"
             },
             "line": {
              "color": "white"
             }
            },
            "header": {
             "fill": {
              "color": "#C8D4E3"
             },
             "line": {
              "color": "white"
             }
            },
            "type": "table"
           }
          ]
         },
         "layout": {
          "annotationdefaults": {
           "arrowcolor": "#2a3f5f",
           "arrowhead": 0,
           "arrowwidth": 1
          },
          "autotypenumbers": "strict",
          "coloraxis": {
           "colorbar": {
            "outlinewidth": 0,
            "ticks": ""
           }
          },
          "colorscale": {
           "diverging": [
            [
             0,
             "#8e0152"
            ],
            [
             0.1,
             "#c51b7d"
            ],
            [
             0.2,
             "#de77ae"
            ],
            [
             0.3,
             "#f1b6da"
            ],
            [
             0.4,
             "#fde0ef"
            ],
            [
             0.5,
             "#f7f7f7"
            ],
            [
             0.6,
             "#e6f5d0"
            ],
            [
             0.7,
             "#b8e186"
            ],
            [
             0.8,
             "#7fbc41"
            ],
            [
             0.9,
             "#4d9221"
            ],
            [
             1,
             "#276419"
            ]
           ],
           "sequential": [
            [
             0,
             "#0d0887"
            ],
            [
             0.1111111111111111,
             "#46039f"
            ],
            [
             0.2222222222222222,
             "#7201a8"
            ],
            [
             0.3333333333333333,
             "#9c179e"
            ],
            [
             0.4444444444444444,
             "#bd3786"
            ],
            [
             0.5555555555555556,
             "#d8576b"
            ],
            [
             0.6666666666666666,
             "#ed7953"
            ],
            [
             0.7777777777777778,
             "#fb9f3a"
            ],
            [
             0.8888888888888888,
             "#fdca26"
            ],
            [
             1,
             "#f0f921"
            ]
           ],
           "sequentialminus": [
            [
             0,
             "#0d0887"
            ],
            [
             0.1111111111111111,
             "#46039f"
            ],
            [
             0.2222222222222222,
             "#7201a8"
            ],
            [
             0.3333333333333333,
             "#9c179e"
            ],
            [
             0.4444444444444444,
             "#bd3786"
            ],
            [
             0.5555555555555556,
             "#d8576b"
            ],
            [
             0.6666666666666666,
             "#ed7953"
            ],
            [
             0.7777777777777778,
             "#fb9f3a"
            ],
            [
             0.8888888888888888,
             "#fdca26"
            ],
            [
             1,
             "#f0f921"
            ]
           ]
          },
          "colorway": [
           "#636efa",
           "#EF553B",
           "#00cc96",
           "#ab63fa",
           "#FFA15A",
           "#19d3f3",
           "#FF6692",
           "#B6E880",
           "#FF97FF",
           "#FECB52"
          ],
          "font": {
           "color": "#2a3f5f"
          },
          "geo": {
           "bgcolor": "white",
           "lakecolor": "white",
           "landcolor": "#E5ECF6",
           "showlakes": true,
           "showland": true,
           "subunitcolor": "white"
          },
          "hoverlabel": {
           "align": "left"
          },
          "hovermode": "closest",
          "mapbox": {
           "style": "light"
          },
          "paper_bgcolor": "white",
          "plot_bgcolor": "#E5ECF6",
          "polar": {
           "angularaxis": {
            "gridcolor": "white",
            "linecolor": "white",
            "ticks": ""
           },
           "bgcolor": "#E5ECF6",
           "radialaxis": {
            "gridcolor": "white",
            "linecolor": "white",
            "ticks": ""
           }
          },
          "scene": {
           "xaxis": {
            "backgroundcolor": "#E5ECF6",
            "gridcolor": "white",
            "gridwidth": 2,
            "linecolor": "white",
            "showbackground": true,
            "ticks": "",
            "zerolinecolor": "white"
           },
           "yaxis": {
            "backgroundcolor": "#E5ECF6",
            "gridcolor": "white",
            "gridwidth": 2,
            "linecolor": "white",
            "showbackground": true,
            "ticks": "",
            "zerolinecolor": "white"
           },
           "zaxis": {
            "backgroundcolor": "#E5ECF6",
            "gridcolor": "white",
            "gridwidth": 2,
            "linecolor": "white",
            "showbackground": true,
            "ticks": "",
            "zerolinecolor": "white"
           }
          },
          "shapedefaults": {
           "line": {
            "color": "#2a3f5f"
           }
          },
          "ternary": {
           "aaxis": {
            "gridcolor": "white",
            "linecolor": "white",
            "ticks": ""
           },
           "baxis": {
            "gridcolor": "white",
            "linecolor": "white",
            "ticks": ""
           },
           "bgcolor": "#E5ECF6",
           "caxis": {
            "gridcolor": "white",
            "linecolor": "white",
            "ticks": ""
           }
          },
          "title": {
           "x": 0.05
          },
          "xaxis": {
           "automargin": true,
           "gridcolor": "white",
           "linecolor": "white",
           "ticks": "",
           "title": {
            "standoff": 15
           },
           "zerolinecolor": "white",
           "zerolinewidth": 2
          },
          "yaxis": {
           "automargin": true,
           "gridcolor": "white",
           "linecolor": "white",
           "ticks": "",
           "title": {
            "standoff": 15
           },
           "zerolinecolor": "white",
           "zerolinewidth": 2
          }
         }
        },
        "xaxis": {
         "anchor": "y",
         "domain": [
          0,
          1
         ],
         "title": {
          "text": "Names"
         },
         "visible": false
        },
        "yaxis": {
         "anchor": "x",
         "categoryorder": "total ascending",
         "domain": [
          0,
          1
         ],
         "title": {
          "text": "Scores"
         }
        }
       }
      }
     },
     "metadata": {},
     "output_type": "display_data"
    }
   ],
   "source": [
    "ranked_df = ranked_df.sort_values(by='Scores')\n",
    "fig = px.bar(data_frame=ranked_df, x=ranked_df.Names, y=ranked_df.Scores)\n",
    "fig.update_layout(yaxis={'categoryorder':'total ascending'})\n",
    "fig.update_xaxes(visible=False)\n",
    "fig.show()\n",
    "fig.write_html(file='docs/tier_list.html',full_html=True, include_plotlyjs='cdn')\n",
    "pio.write_image(fig, 'images/tier_list.png', format='png')"
   ]
  },
  {
   "cell_type": "code",
   "execution_count": 136,
   "id": "a6f04edd",
   "metadata": {},
   "outputs": [
    {
     "data": {
      "text/html": [
       "<div>\n",
       "<style scoped>\n",
       "    .dataframe tbody tr th:only-of-type {\n",
       "        vertical-align: middle;\n",
       "    }\n",
       "\n",
       "    .dataframe tbody tr th {\n",
       "        vertical-align: top;\n",
       "    }\n",
       "\n",
       "    .dataframe thead th {\n",
       "        text-align: right;\n",
       "    }\n",
       "</style>\n",
       "<table border=\"1\" class=\"dataframe\">\n",
       "  <thead>\n",
       "    <tr style=\"text-align: right;\">\n",
       "      <th></th>\n",
       "      <th>Names</th>\n",
       "      <th>Scores</th>\n",
       "    </tr>\n",
       "  </thead>\n",
       "  <tbody>\n",
       "    <tr>\n",
       "      <th>835</th>\n",
       "      <td>Aaron Rodgers 2020</td>\n",
       "      <td>6.966155</td>\n",
       "    </tr>\n",
       "    <tr>\n",
       "      <th>834</th>\n",
       "      <td>Aaron Rodgers 2011</td>\n",
       "      <td>6.872441</td>\n",
       "    </tr>\n",
       "    <tr>\n",
       "      <th>833</th>\n",
       "      <td>Drew Brees 2011</td>\n",
       "      <td>6.167853</td>\n",
       "    </tr>\n",
       "    <tr>\n",
       "      <th>832</th>\n",
       "      <td>Matt Ryan 2016</td>\n",
       "      <td>5.966620</td>\n",
       "    </tr>\n",
       "    <tr>\n",
       "      <th>831</th>\n",
       "      <td>Peyton Manning 2004</td>\n",
       "      <td>5.571231</td>\n",
       "    </tr>\n",
       "    <tr>\n",
       "      <th>830</th>\n",
       "      <td>Tom Brady 2007</td>\n",
       "      <td>5.511696</td>\n",
       "    </tr>\n",
       "    <tr>\n",
       "      <th>829</th>\n",
       "      <td>Patrick Mahomes 2018</td>\n",
       "      <td>5.281755</td>\n",
       "    </tr>\n",
       "    <tr>\n",
       "      <th>828</th>\n",
       "      <td>Drew Brees 2019</td>\n",
       "      <td>5.215108</td>\n",
       "    </tr>\n",
       "    <tr>\n",
       "      <th>827</th>\n",
       "      <td>Lamar Jackson 2024</td>\n",
       "      <td>5.186852</td>\n",
       "    </tr>\n",
       "    <tr>\n",
       "      <th>826</th>\n",
       "      <td>Aaron Rodgers 2021</td>\n",
       "      <td>5.137204</td>\n",
       "    </tr>\n",
       "  </tbody>\n",
       "</table>\n",
       "</div>"
      ],
      "text/plain": [
       "                    Names    Scores\n",
       "835    Aaron Rodgers 2020  6.966155\n",
       "834    Aaron Rodgers 2011  6.872441\n",
       "833       Drew Brees 2011  6.167853\n",
       "832        Matt Ryan 2016  5.966620\n",
       "831   Peyton Manning 2004  5.571231\n",
       "830        Tom Brady 2007  5.511696\n",
       "829  Patrick Mahomes 2018  5.281755\n",
       "828       Drew Brees 2019  5.215108\n",
       "827    Lamar Jackson 2024  5.186852\n",
       "826    Aaron Rodgers 2021  5.137204"
      ]
     },
     "execution_count": 136,
     "metadata": {},
     "output_type": "execute_result"
    }
   ],
   "source": [
    "ranked_df.sort_values(by='Scores', ascending=False).head(10)"
   ]
  },
  {
   "cell_type": "markdown",
   "id": "e2c48578",
   "metadata": {},
   "source": []
  },
  {
   "cell_type": "code",
   "execution_count": 137,
   "id": "43fa4a79",
   "metadata": {},
   "outputs": [
    {
     "data": {
      "text/html": [
       "<div>\n",
       "<style scoped>\n",
       "    .dataframe tbody tr th:only-of-type {\n",
       "        vertical-align: middle;\n",
       "    }\n",
       "\n",
       "    .dataframe tbody tr th {\n",
       "        vertical-align: top;\n",
       "    }\n",
       "\n",
       "    .dataframe thead th {\n",
       "        text-align: right;\n",
       "    }\n",
       "</style>\n",
       "<table border=\"1\" class=\"dataframe\">\n",
       "  <thead>\n",
       "    <tr style=\"text-align: right;\">\n",
       "      <th></th>\n",
       "      <th>Names</th>\n",
       "      <th>Scores</th>\n",
       "    </tr>\n",
       "  </thead>\n",
       "  <tbody>\n",
       "    <tr>\n",
       "      <th>0</th>\n",
       "      <td>Akili Smith 2000</td>\n",
       "      <td>-5.929742</td>\n",
       "    </tr>\n",
       "    <tr>\n",
       "      <th>1</th>\n",
       "      <td>JaMarcus Russell 2009</td>\n",
       "      <td>-5.724111</td>\n",
       "    </tr>\n",
       "    <tr>\n",
       "      <th>2</th>\n",
       "      <td>Jimmy Clausen 2010</td>\n",
       "      <td>-5.555063</td>\n",
       "    </tr>\n",
       "    <tr>\n",
       "      <th>3</th>\n",
       "      <td>Andrew Walter 2006</td>\n",
       "      <td>-5.326875</td>\n",
       "    </tr>\n",
       "    <tr>\n",
       "      <th>4</th>\n",
       "      <td>Donovan McNabb 1999</td>\n",
       "      <td>-5.179581</td>\n",
       "    </tr>\n",
       "    <tr>\n",
       "      <th>5</th>\n",
       "      <td>Kyle Orton 2005</td>\n",
       "      <td>-5.053208</td>\n",
       "    </tr>\n",
       "    <tr>\n",
       "      <th>6</th>\n",
       "      <td>Mark Brunell 2004</td>\n",
       "      <td>-4.963757</td>\n",
       "    </tr>\n",
       "    <tr>\n",
       "      <th>7</th>\n",
       "      <td>Ryan Leaf 2000</td>\n",
       "      <td>-4.718951</td>\n",
       "    </tr>\n",
       "    <tr>\n",
       "      <th>8</th>\n",
       "      <td>David Carr 2002</td>\n",
       "      <td>-4.542388</td>\n",
       "    </tr>\n",
       "    <tr>\n",
       "      <th>9</th>\n",
       "      <td>Doug Pederson 1999</td>\n",
       "      <td>-4.536701</td>\n",
       "    </tr>\n",
       "  </tbody>\n",
       "</table>\n",
       "</div>"
      ],
      "text/plain": [
       "                   Names    Scores\n",
       "0       Akili Smith 2000 -5.929742\n",
       "1  JaMarcus Russell 2009 -5.724111\n",
       "2     Jimmy Clausen 2010 -5.555063\n",
       "3     Andrew Walter 2006 -5.326875\n",
       "4    Donovan McNabb 1999 -5.179581\n",
       "5        Kyle Orton 2005 -5.053208\n",
       "6      Mark Brunell 2004 -4.963757\n",
       "7         Ryan Leaf 2000 -4.718951\n",
       "8        David Carr 2002 -4.542388\n",
       "9     Doug Pederson 1999 -4.536701"
      ]
     },
     "execution_count": 137,
     "metadata": {},
     "output_type": "execute_result"
    }
   ],
   "source": [
    "ranked_df.sort_values(by='Scores', ascending=True).head(10)"
   ]
  },
  {
   "cell_type": "code",
   "execution_count": 156,
   "id": "b0530905",
   "metadata": {},
   "outputs": [
    {
     "data": {
      "text/plain": [
       "'(0.4120634649151468 x tds_per_game) + (0.3842366232514156 x yards_per_game) + (0.38828090812189764 x passing_yards_per_attempt) + (0.05884966120517504 x rushing_yards_per_run) + (-0.2317954047577885 x turnovers_per_game) + (0.39920983716438196 x td:turnover) + (0.3546404510366818 x completion_pct) + (0.4237529340875973 x passing_epa_per_game) + (0.09953175163512724 x rushing_epa_per_game)'"
      ]
     },
     "execution_count": 156,
     "metadata": {},
     "output_type": "execute_result"
    }
   ],
   "source": [
    "pca_com = tiered_pca.components_[0]\n",
    "\" + \".join([f\"({pca_com[i]} x {tier_list.columns[i]})\"  for i in range(len(pca_com))])"
   ]
  },
  {
   "cell_type": "code",
   "execution_count": null,
   "id": "afb9380f",
   "metadata": {},
   "outputs": [],
   "source": []
  },
  {
   "cell_type": "code",
   "execution_count": null,
   "id": "809550ef",
   "metadata": {},
   "outputs": [],
   "source": []
  }
 ],
 "metadata": {
  "kernelspec": {
   "display_name": "base",
   "language": "python",
   "name": "python3"
  },
  "language_info": {
   "codemirror_mode": {
    "name": "ipython",
    "version": 3
   },
   "file_extension": ".py",
   "mimetype": "text/x-python",
   "name": "python",
   "nbconvert_exporter": "python",
   "pygments_lexer": "ipython3",
   "version": "3.11.7"
  }
 },
 "nbformat": 4,
 "nbformat_minor": 5
}
