{
 "cells": [
  {
   "cell_type": "code",
   "execution_count": 373,
   "id": "7e510296",
   "metadata": {},
   "outputs": [],
   "source": [
    "import nfl_data_py as nfl\n",
    "import pandas as pd\n",
    "import numpy as np\n",
    "\n",
    "pd.set_option('display.max_columns', None)\n",
    "\n",
    "# Optional: also set width to avoid line wrapping\n",
    "pd.set_option('display.width', None)\n",
    "\n",
    "# Optional: disable column width truncation\n",
    "pd.set_option('display.max_colwidth', None)"
   ]
  },
  {
   "cell_type": "code",
   "execution_count": null,
   "id": "078a28f3",
   "metadata": {},
   "outputs": [],
   "source": [
    "all_players = nfl.import_players()\n",
    "all_qbs = all_players[all_players['position'] == 'QB']\n",
    "all_qbs.reset_index(inplace=True, drop='index')\n",
    "all_qbs_id = list(all_qbs.gsis_id)"
   ]
  },
  {
   "cell_type": "code",
   "execution_count": null,
   "id": "d12555a2",
   "metadata": {},
   "outputs": [
    {
     "data": {
      "text/plain": [
       "[1999,\n",
       " 2000,\n",
       " 2001,\n",
       " 2002,\n",
       " 2003,\n",
       " 2004,\n",
       " 2005,\n",
       " 2006,\n",
       " 2007,\n",
       " 2008,\n",
       " 2009,\n",
       " 2010,\n",
       " 2011,\n",
       " 2012,\n",
       " 2013,\n",
       " 2014,\n",
       " 2015,\n",
       " 2016,\n",
       " 2017,\n",
       " 2018,\n",
       " 2019,\n",
       " 2020,\n",
       " 2021,\n",
       " 2022,\n",
       " 2023]"
      ]
     },
     "execution_count": 435,
     "metadata": {},
     "output_type": "execute_result"
    }
   ],
   "source": []
  },
  {
   "cell_type": "code",
   "execution_count": null,
   "id": "a08c1fc2",
   "metadata": {},
   "outputs": [],
   "source": []
  },
  {
   "cell_type": "code",
   "execution_count": 487,
   "id": "435f6f63",
   "metadata": {},
   "outputs": [
    {
     "name": "stdout",
     "output_type": "stream",
     "text": [
      "Downcasting floats.\n"
     ]
    }
   ],
   "source": [
    "weekly_data = nfl.import_weekly_data(years=[i for i in range(1999,2025)])\n",
    "weekly_data['completion_pct'] = weekly_data.completions / weekly_data.attempts\n",
    "weekly_relevant = weekly_data[weekly_data['player_id'].isin(all_qbs_id)][['player_id', 'season', 'passing_tds', 'interceptions', \n",
    "                                                                          'sacks', 'sack_fumbles', 'rushing_tds', \n",
    "                                                                          'rushing_fumbles', 'completion_pct', 'passing_air_yards', 'attempts',\n",
    "                                                                          'passing_yards', 'passing_epa', 'rushing_epa']]\n",
    "weekly_relevant = weekly_relevant.groupby(['player_id', 'season']).agg({\n",
    "    'passing_tds' : 'sum', \n",
    "    'interceptions' : 'sum',\n",
    "    'sacks' : 'sum',\n",
    "    'sack_fumbles' : 'sum',\n",
    "    'rushing_tds' : 'sum',\n",
    "    'rushing_fumbles' : 'sum', \n",
    "    'completion_pct' : 'mean',\n",
    "    'passing_air_yards' : 'sum',\n",
    "    'attempts' : 'sum',\n",
    "    'player_id' : 'count',\n",
    "    'passing_yards' : 'sum',\n",
    "    'passing_epa' : 'sum',\n",
    "    'rushing_epa' : 'sum'})\n",
    "\n",
    "weekly_relevant = weekly_relevant.rename(columns={'player_id' : 'games_played'})\n",
    "weekly_relevant = weekly_relevant[(weekly_relevant['attempts'] > 200) & (weekly_relevant['games_played'] > 8)]\n",
    "weekly_relevant = weekly_relevant.reset_index()\n"
   ]
  },
  {
   "cell_type": "code",
   "execution_count": 488,
   "id": "08580f66",
   "metadata": {},
   "outputs": [
    {
     "name": "stdout",
     "output_type": "stream",
     "text": [
      "1999 done.\n",
      "2000 done.\n",
      "2001 done.\n",
      "2002 done.\n",
      "2003 done.\n",
      "2004 done.\n",
      "2005 done.\n",
      "2006 done.\n",
      "2007 done.\n",
      "2008 done.\n",
      "2009 done.\n",
      "2010 done.\n",
      "2011 done.\n",
      "2012 done.\n",
      "2013 done.\n",
      "2014 done.\n",
      "2015 done.\n",
      "2016 done.\n",
      "2017 done.\n",
      "2018 done.\n",
      "2019 done.\n",
      "2020 done.\n",
      "2021 done.\n",
      "2022 done.\n",
      "2023 done.\n",
      "2024 done.\n",
      "Downcasting floats.\n"
     ]
    }
   ],
   "source": [
    "stats2024 = nfl.import_pbp_data(years=[i for i in range(1999,2025)])\n",
    "stats2024 = stats2024[(stats2024['qb_kneel'] == 0.0) & (stats2024['play_type'] != 'no_play')]\n",
    "relevant = stats2024[['play_type', 'shotgun', 'qb_dropback', 'qb_scramble', 'air_yards', 'rushing_yards', 'id', 'season']]"
   ]
  },
  {
   "cell_type": "code",
   "execution_count": null,
   "id": "5b5c0cdf",
   "metadata": {},
   "outputs": [],
   "source": []
  },
  {
   "cell_type": "code",
   "execution_count": 493,
   "id": "28bb0bc9",
   "metadata": {},
   "outputs": [],
   "source": [
    "relevant = relevant.rename(columns={'id' : 'player_id'})\n",
    "pass_stats = relevant[relevant['play_type'] == 'pass'].groupby(['player_id', 'season']).agg({'shotgun' : sum, 'qb_dropback' : sum})\n",
    "pass_stats['shotgun'] = pass_stats.shotgun / pass_stats.qb_dropback\n",
    "pass_stats.columns = ['shotgun_rate', 'total_passes']\n",
    "pass_stats = pass_stats.reset_index()"
   ]
  },
  {
   "cell_type": "code",
   "execution_count": 494,
   "id": "b36ff773",
   "metadata": {},
   "outputs": [
    {
     "data": {
      "text/html": [
       "<div>\n",
       "<style scoped>\n",
       "    .dataframe tbody tr th:only-of-type {\n",
       "        vertical-align: middle;\n",
       "    }\n",
       "\n",
       "    .dataframe tbody tr th {\n",
       "        vertical-align: top;\n",
       "    }\n",
       "\n",
       "    .dataframe thead th {\n",
       "        text-align: right;\n",
       "    }\n",
       "</style>\n",
       "<table border=\"1\" class=\"dataframe\">\n",
       "  <thead>\n",
       "    <tr style=\"text-align: right;\">\n",
       "      <th></th>\n",
       "      <th>player_id</th>\n",
       "      <th>season</th>\n",
       "      <th>passing_tds</th>\n",
       "      <th>interceptions</th>\n",
       "      <th>sacks</th>\n",
       "      <th>sack_fumbles</th>\n",
       "      <th>rushing_tds</th>\n",
       "      <th>rushing_fumbles</th>\n",
       "      <th>completion_pct</th>\n",
       "      <th>passing_air_yards</th>\n",
       "      <th>attempts</th>\n",
       "      <th>games_played</th>\n",
       "      <th>passing_yards</th>\n",
       "      <th>passing_epa</th>\n",
       "      <th>rushing_epa</th>\n",
       "    </tr>\n",
       "  </thead>\n",
       "  <tbody>\n",
       "    <tr>\n",
       "      <th>0</th>\n",
       "      <td>00-0000104</td>\n",
       "      <td>1999</td>\n",
       "      <td>17</td>\n",
       "      <td>11.0</td>\n",
       "      <td>20.0</td>\n",
       "      <td>5</td>\n",
       "      <td>1</td>\n",
       "      <td>2.0</td>\n",
       "      <td>0.604938</td>\n",
       "      <td>0.0</td>\n",
       "      <td>466</td>\n",
       "      <td>15</td>\n",
       "      <td>3206.0</td>\n",
       "      <td>39.995293</td>\n",
       "      <td>-8.846872</td>\n",
       "    </tr>\n",
       "    <tr>\n",
       "      <th>1</th>\n",
       "      <td>00-0000104</td>\n",
       "      <td>2000</td>\n",
       "      <td>7</td>\n",
       "      <td>14.0</td>\n",
       "      <td>13.0</td>\n",
       "      <td>2</td>\n",
       "      <td>0</td>\n",
       "      <td>0.0</td>\n",
       "      <td>0.567402</td>\n",
       "      <td>0.0</td>\n",
       "      <td>259</td>\n",
       "      <td>11</td>\n",
       "      <td>1616.0</td>\n",
       "      <td>-29.087923</td>\n",
       "      <td>-2.118868</td>\n",
       "    </tr>\n",
       "    <tr>\n",
       "      <th>2</th>\n",
       "      <td>00-0000722</td>\n",
       "      <td>1999</td>\n",
       "      <td>16</td>\n",
       "      <td>8.0</td>\n",
       "      <td>33.0</td>\n",
       "      <td>9</td>\n",
       "      <td>0</td>\n",
       "      <td>2.0</td>\n",
       "      <td>0.524115</td>\n",
       "      <td>0.0</td>\n",
       "      <td>318</td>\n",
       "      <td>11</td>\n",
       "      <td>2093.0</td>\n",
       "      <td>-31.089670</td>\n",
       "      <td>-5.022597</td>\n",
       "    </tr>\n",
       "    <tr>\n",
       "      <th>3</th>\n",
       "      <td>00-0000722</td>\n",
       "      <td>2000</td>\n",
       "      <td>8</td>\n",
       "      <td>8.0</td>\n",
       "      <td>20.0</td>\n",
       "      <td>4</td>\n",
       "      <td>0</td>\n",
       "      <td>1.0</td>\n",
       "      <td>0.419681</td>\n",
       "      <td>0.0</td>\n",
       "      <td>275</td>\n",
       "      <td>14</td>\n",
       "      <td>1538.0</td>\n",
       "      <td>-19.097155</td>\n",
       "      <td>-11.708343</td>\n",
       "    </tr>\n",
       "    <tr>\n",
       "      <th>4</th>\n",
       "      <td>00-0000722</td>\n",
       "      <td>2001</td>\n",
       "      <td>10</td>\n",
       "      <td>10.0</td>\n",
       "      <td>29.0</td>\n",
       "      <td>2</td>\n",
       "      <td>2</td>\n",
       "      <td>8.0</td>\n",
       "      <td>0.536239</td>\n",
       "      <td>0.0</td>\n",
       "      <td>370</td>\n",
       "      <td>15</td>\n",
       "      <td>2386.0</td>\n",
       "      <td>-38.900604</td>\n",
       "      <td>-9.998593</td>\n",
       "    </tr>\n",
       "    <tr>\n",
       "      <th>...</th>\n",
       "      <td>...</td>\n",
       "      <td>...</td>\n",
       "      <td>...</td>\n",
       "      <td>...</td>\n",
       "      <td>...</td>\n",
       "      <td>...</td>\n",
       "      <td>...</td>\n",
       "      <td>...</td>\n",
       "      <td>...</td>\n",
       "      <td>...</td>\n",
       "      <td>...</td>\n",
       "      <td>...</td>\n",
       "      <td>...</td>\n",
       "      <td>...</td>\n",
       "      <td>...</td>\n",
       "    </tr>\n",
       "    <tr>\n",
       "      <th>831</th>\n",
       "      <td>00-0039164</td>\n",
       "      <td>2024</td>\n",
       "      <td>8</td>\n",
       "      <td>12.0</td>\n",
       "      <td>14.0</td>\n",
       "      <td>3</td>\n",
       "      <td>6</td>\n",
       "      <td>6.0</td>\n",
       "      <td>0.508737</td>\n",
       "      <td>3224.0</td>\n",
       "      <td>264</td>\n",
       "      <td>11</td>\n",
       "      <td>1814.0</td>\n",
       "      <td>-38.218216</td>\n",
       "      <td>22.734995</td>\n",
       "    </tr>\n",
       "    <tr>\n",
       "      <th>832</th>\n",
       "      <td>00-0039732</td>\n",
       "      <td>2024</td>\n",
       "      <td>30</td>\n",
       "      <td>12.0</td>\n",
       "      <td>26.0</td>\n",
       "      <td>2</td>\n",
       "      <td>4</td>\n",
       "      <td>1.0</td>\n",
       "      <td>0.659797</td>\n",
       "      <td>4376.0</td>\n",
       "      <td>589</td>\n",
       "      <td>18</td>\n",
       "      <td>3919.0</td>\n",
       "      <td>27.950514</td>\n",
       "      <td>24.429207</td>\n",
       "    </tr>\n",
       "    <tr>\n",
       "      <th>833</th>\n",
       "      <td>00-0039851</td>\n",
       "      <td>2024</td>\n",
       "      <td>15</td>\n",
       "      <td>10.0</td>\n",
       "      <td>34.0</td>\n",
       "      <td>5</td>\n",
       "      <td>2</td>\n",
       "      <td>4.0</td>\n",
       "      <td>0.595147</td>\n",
       "      <td>2473.0</td>\n",
       "      <td>338</td>\n",
       "      <td>13</td>\n",
       "      <td>2276.0</td>\n",
       "      <td>-27.612309</td>\n",
       "      <td>20.108276</td>\n",
       "    </tr>\n",
       "    <tr>\n",
       "      <th>834</th>\n",
       "      <td>00-0039910</td>\n",
       "      <td>2024</td>\n",
       "      <td>30</td>\n",
       "      <td>10.0</td>\n",
       "      <td>51.0</td>\n",
       "      <td>2</td>\n",
       "      <td>7</td>\n",
       "      <td>3.0</td>\n",
       "      <td>0.701405</td>\n",
       "      <td>4275.0</td>\n",
       "      <td>594</td>\n",
       "      <td>20</td>\n",
       "      <td>4390.0</td>\n",
       "      <td>89.848495</td>\n",
       "      <td>61.298084</td>\n",
       "    </tr>\n",
       "    <tr>\n",
       "      <th>835</th>\n",
       "      <td>00-0039918</td>\n",
       "      <td>2024</td>\n",
       "      <td>20</td>\n",
       "      <td>6.0</td>\n",
       "      <td>68.0</td>\n",
       "      <td>7</td>\n",
       "      <td>0</td>\n",
       "      <td>3.0</td>\n",
       "      <td>0.626378</td>\n",
       "      <td>4486.0</td>\n",
       "      <td>562</td>\n",
       "      <td>17</td>\n",
       "      <td>3541.0</td>\n",
       "      <td>-43.804840</td>\n",
       "      <td>11.632084</td>\n",
       "    </tr>\n",
       "  </tbody>\n",
       "</table>\n",
       "<p>836 rows × 15 columns</p>\n",
       "</div>"
      ],
      "text/plain": [
       "      player_id  season  passing_tds  interceptions  sacks  sack_fumbles  \\\n",
       "0    00-0000104    1999           17           11.0   20.0             5   \n",
       "1    00-0000104    2000            7           14.0   13.0             2   \n",
       "2    00-0000722    1999           16            8.0   33.0             9   \n",
       "3    00-0000722    2000            8            8.0   20.0             4   \n",
       "4    00-0000722    2001           10           10.0   29.0             2   \n",
       "..          ...     ...          ...            ...    ...           ...   \n",
       "831  00-0039164    2024            8           12.0   14.0             3   \n",
       "832  00-0039732    2024           30           12.0   26.0             2   \n",
       "833  00-0039851    2024           15           10.0   34.0             5   \n",
       "834  00-0039910    2024           30           10.0   51.0             2   \n",
       "835  00-0039918    2024           20            6.0   68.0             7   \n",
       "\n",
       "     rushing_tds  rushing_fumbles  completion_pct  passing_air_yards  \\\n",
       "0              1              2.0        0.604938                0.0   \n",
       "1              0              0.0        0.567402                0.0   \n",
       "2              0              2.0        0.524115                0.0   \n",
       "3              0              1.0        0.419681                0.0   \n",
       "4              2              8.0        0.536239                0.0   \n",
       "..           ...              ...             ...                ...   \n",
       "831            6              6.0        0.508737             3224.0   \n",
       "832            4              1.0        0.659797             4376.0   \n",
       "833            2              4.0        0.595147             2473.0   \n",
       "834            7              3.0        0.701405             4275.0   \n",
       "835            0              3.0        0.626378             4486.0   \n",
       "\n",
       "     attempts  games_played  passing_yards  passing_epa  rushing_epa  \n",
       "0         466            15         3206.0    39.995293    -8.846872  \n",
       "1         259            11         1616.0   -29.087923    -2.118868  \n",
       "2         318            11         2093.0   -31.089670    -5.022597  \n",
       "3         275            14         1538.0   -19.097155   -11.708343  \n",
       "4         370            15         2386.0   -38.900604    -9.998593  \n",
       "..        ...           ...            ...          ...          ...  \n",
       "831       264            11         1814.0   -38.218216    22.734995  \n",
       "832       589            18         3919.0    27.950514    24.429207  \n",
       "833       338            13         2276.0   -27.612309    20.108276  \n",
       "834       594            20         4390.0    89.848495    61.298084  \n",
       "835       562            17         3541.0   -43.804840    11.632084  \n",
       "\n",
       "[836 rows x 15 columns]"
      ]
     },
     "execution_count": 494,
     "metadata": {},
     "output_type": "execute_result"
    }
   ],
   "source": [
    "weekly_relevant"
   ]
  },
  {
   "cell_type": "code",
   "execution_count": 507,
   "id": "a0d2b4d6",
   "metadata": {},
   "outputs": [
    {
     "data": {
      "text/html": [
       "<div>\n",
       "<style scoped>\n",
       "    .dataframe tbody tr th:only-of-type {\n",
       "        vertical-align: middle;\n",
       "    }\n",
       "\n",
       "    .dataframe tbody tr th {\n",
       "        vertical-align: top;\n",
       "    }\n",
       "\n",
       "    .dataframe thead th {\n",
       "        text-align: right;\n",
       "    }\n",
       "</style>\n",
       "<table border=\"1\" class=\"dataframe\">\n",
       "  <thead>\n",
       "    <tr style=\"text-align: right;\">\n",
       "      <th></th>\n",
       "      <th>player_id</th>\n",
       "      <th>season</th>\n",
       "      <th>qb_scramble_rate</th>\n",
       "      <th>total_runs</th>\n",
       "      <th>rushing_yards</th>\n",
       "    </tr>\n",
       "  </thead>\n",
       "  <tbody>\n",
       "    <tr>\n",
       "      <th>0</th>\n",
       "      <td>0</td>\n",
       "      <td>2000</td>\n",
       "      <td>0.000000</td>\n",
       "      <td>1</td>\n",
       "      <td>0.0</td>\n",
       "    </tr>\n",
       "    <tr>\n",
       "      <th>1</th>\n",
       "      <td>00-0000003</td>\n",
       "      <td>1999</td>\n",
       "      <td>0.006993</td>\n",
       "      <td>143</td>\n",
       "      <td>443.0</td>\n",
       "    </tr>\n",
       "    <tr>\n",
       "      <th>2</th>\n",
       "      <td>00-0000003</td>\n",
       "      <td>2000</td>\n",
       "      <td>0.000000</td>\n",
       "      <td>1</td>\n",
       "      <td>-2.0</td>\n",
       "    </tr>\n",
       "    <tr>\n",
       "      <th>3</th>\n",
       "      <td>00-0000007</td>\n",
       "      <td>1999</td>\n",
       "      <td>0.000000</td>\n",
       "      <td>5</td>\n",
       "      <td>12.0</td>\n",
       "    </tr>\n",
       "    <tr>\n",
       "      <th>4</th>\n",
       "      <td>00-0000007</td>\n",
       "      <td>2000</td>\n",
       "      <td>0.000000</td>\n",
       "      <td>16</td>\n",
       "      <td>70.0</td>\n",
       "    </tr>\n",
       "    <tr>\n",
       "      <th>...</th>\n",
       "      <td>...</td>\n",
       "      <td>...</td>\n",
       "      <td>...</td>\n",
       "      <td>...</td>\n",
       "      <td>...</td>\n",
       "    </tr>\n",
       "    <tr>\n",
       "      <th>8729</th>\n",
       "      <td>00-0039917</td>\n",
       "      <td>2024</td>\n",
       "      <td>0.800000</td>\n",
       "      <td>5</td>\n",
       "      <td>14.0</td>\n",
       "    </tr>\n",
       "    <tr>\n",
       "      <th>8730</th>\n",
       "      <td>00-0039918</td>\n",
       "      <td>2024</td>\n",
       "      <td>0.666667</td>\n",
       "      <td>75</td>\n",
       "      <td>495.0</td>\n",
       "    </tr>\n",
       "    <tr>\n",
       "      <th>8731</th>\n",
       "      <td>00-0039919</td>\n",
       "      <td>2024</td>\n",
       "      <td>0.000000</td>\n",
       "      <td>3</td>\n",
       "      <td>15.0</td>\n",
       "    </tr>\n",
       "    <tr>\n",
       "      <th>8732</th>\n",
       "      <td>00-0039920</td>\n",
       "      <td>2024</td>\n",
       "      <td>0.000000</td>\n",
       "      <td>2</td>\n",
       "      <td>26.0</td>\n",
       "    </tr>\n",
       "    <tr>\n",
       "      <th>8733</th>\n",
       "      <td>00-0039921</td>\n",
       "      <td>2024</td>\n",
       "      <td>0.000000</td>\n",
       "      <td>63</td>\n",
       "      <td>291.0</td>\n",
       "    </tr>\n",
       "  </tbody>\n",
       "</table>\n",
       "<p>8734 rows × 5 columns</p>\n",
       "</div>"
      ],
      "text/plain": [
       "       player_id  season  qb_scramble_rate  total_runs  rushing_yards\n",
       "0              0    2000          0.000000           1            0.0\n",
       "1     00-0000003    1999          0.006993         143          443.0\n",
       "2     00-0000003    2000          0.000000           1           -2.0\n",
       "3     00-0000007    1999          0.000000           5           12.0\n",
       "4     00-0000007    2000          0.000000          16           70.0\n",
       "...          ...     ...               ...         ...            ...\n",
       "8729  00-0039917    2024          0.800000           5           14.0\n",
       "8730  00-0039918    2024          0.666667          75          495.0\n",
       "8731  00-0039919    2024          0.000000           3           15.0\n",
       "8732  00-0039920    2024          0.000000           2           26.0\n",
       "8733  00-0039921    2024          0.000000          63          291.0\n",
       "\n",
       "[8734 rows x 5 columns]"
      ]
     },
     "execution_count": 507,
     "metadata": {},
     "output_type": "execute_result"
    }
   ],
   "source": [
    "run_stats = relevant[relevant['play_type'] == 'run'].groupby(['player_id', 'season']).agg({'qb_scramble' : ['sum', 'count'], 'rushing_yards' : 'sum'})\n",
    "run_stats.columns = ['qb_scramble_sum', 'total_runs', 'rushing_yards']\n",
    "run_stats['qb_scramble_rate'] = run_stats.qb_scramble_sum / run_stats.total_runs\n",
    "run_stats = run_stats[['qb_scramble_rate', 'total_runs', 'rushing_yards']]\n",
    "run_stats = run_stats.reset_index()\n",
    "run_stats"
   ]
  },
  {
   "cell_type": "code",
   "execution_count": 509,
   "id": "e72b5a70",
   "metadata": {},
   "outputs": [],
   "source": [
    "total_data = weekly_relevant.merge(pass_stats, left_on=['player_id', 'season'], right_on=['player_id', 'season'])\n",
    "total_data = total_data.merge(run_stats, left_on=['player_id', 'season'], right_on=['player_id', 'season'])\n",
    "total_data.set_index(['player_id', 'season'])\n",
    "#total_data = weekly_relevant.join(pass_stats).join(run_stats)\n",
    "\n",
    "total_data['sacks_per_dropback'] = total_data['sacks'] / total_data['total_passes']\n",
    "total_data['sack_fumbles'] = total_data['sack_fumbles'] / total_data['total_passes']\n",
    "\n",
    "total_data['interceptions_per_game'] = total_data['interceptions'] / total_data['games_played']\n",
    "total_data['passing_tds_per_game'] = total_data['passing_tds'] / total_data['games_played']\n",
    "total_data['passing_air_yards_per_attempt'] = total_data['passing_air_yards'] / total_data['attempts']\n",
    "total_data['passing_yards_per_game'] = total_data['passing_yards'] / total_data['games_played']\n",
    "\n",
    "total_data['rushing_tds_per_game'] = total_data['rushing_tds'] / total_data['games_played']\n",
    "total_data['rushing_fumbles_per_game'] = total_data['rushing_fumbles'] / total_data['games_played']\n",
    "total_data['rushing_yards_per_game'] = total_data['rushing_yards'] / total_data['games_played']\n",
    "total_data['rushing_yards_per_attempt'] = total_data['rushing_yards'] / total_data['total_runs']\n",
    "\n",
    "total_data['pass_pct'] = total_data.total_passes / (total_data.total_passes + total_data.total_runs)\n",
    "\n",
    "total_data['runs_per_game'] = total_data['total_runs'] / total_data['games_played']\n",
    "total_data['attempts_per_game'] = total_data['attempts'] / total_data['games_played']\n",
    "\n",
    "total_data['td:int'] = total_data['passing_tds'] / total_data['interceptions']\n",
    "total_data['air_yard:completion_pct'] = total_data['passing_air_yards_per_attempt'] / total_data['completion_pct']\n",
    "\n",
    "total_data = total_data[['player_id', 'season', 'sacks_per_dropback', 'attempts_per_game', 'rushing_tds_per_game', 'passing_tds_per_game', 'interceptions', \n",
    "                         'shotgun_rate', 'passing_air_yards_per_attempt', 'completion_pct',\n",
    "                         'rushing_fumbles_per_game', 'rushing_yards_per_game', 'rushing_yards_per_attempt', 'pass_pct',\n",
    "                         'air_yard:completion_pct', 'td:int']]"
   ]
  },
  {
   "cell_type": "code",
   "execution_count": 535,
   "id": "af14c784",
   "metadata": {},
   "outputs": [
    {
     "data": {
      "text/plain": [
       "[(1999, 'Troy Aikman'),\n",
       " (2000, 'Troy Aikman'),\n",
       " (1999, 'Tony Banks'),\n",
       " (2000, 'Tony Banks'),\n",
       " (2001, 'Tony Banks'),\n",
       " (1999, 'Charlie Batch'),\n",
       " (2000, 'Charlie Batch'),\n",
       " (2001, 'Charlie Batch'),\n",
       " (1999, 'Steve Beuerlein'),\n",
       " (2000, 'Steve Beuerlein'),\n",
       " (1999, 'Jeff Blake'),\n",
       " (2000, 'Jeff Blake'),\n",
       " (2002, 'Jeff Blake'),\n",
       " (2003, 'Jeff Blake'),\n",
       " (1999, 'Drew Bledsoe'),\n",
       " (2000, 'Drew Bledsoe'),\n",
       " (2002, 'Drew Bledsoe'),\n",
       " (2003, 'Drew Bledsoe'),\n",
       " (2004, 'Drew Bledsoe'),\n",
       " (2005, 'Drew Bledsoe'),\n",
       " (2000, 'Aaron Brooks'),\n",
       " (2001, 'Aaron Brooks'),\n",
       " (2002, 'Aaron Brooks'),\n",
       " (2003, 'Aaron Brooks'),\n",
       " (2004, 'Aaron Brooks'),\n",
       " (2005, 'Aaron Brooks'),\n",
       " (1999, 'Mark Brunell'),\n",
       " (2000, 'Mark Brunell'),\n",
       " (2001, 'Mark Brunell'),\n",
       " (2002, 'Mark Brunell'),\n",
       " (2004, 'Mark Brunell'),\n",
       " (2005, 'Mark Brunell'),\n",
       " (2006, 'Mark Brunell'),\n",
       " (1999, 'Chris Chandler'),\n",
       " (2000, 'Chris Chandler'),\n",
       " (2001, 'Chris Chandler'),\n",
       " (1999, 'Kerry Collins'),\n",
       " (2000, 'Kerry Collins'),\n",
       " (2001, 'Kerry Collins'),\n",
       " (2002, 'Kerry Collins'),\n",
       " (2003, 'Kerry Collins'),\n",
       " (2004, 'Kerry Collins'),\n",
       " (2005, 'Kerry Collins'),\n",
       " (2008, 'Kerry Collins'),\n",
       " (2010, 'Kerry Collins'),\n",
       " (1999, 'Tim Couch'),\n",
       " (2001, 'Tim Couch'),\n",
       " (2002, 'Tim Couch'),\n",
       " (2003, 'Tim Couch'),\n",
       " (2000, 'Daunte Culpepper'),\n",
       " (2001, 'Daunte Culpepper'),\n",
       " (2002, 'Daunte Culpepper'),\n",
       " (2003, 'Daunte Culpepper'),\n",
       " (2004, 'Daunte Culpepper'),\n",
       " (2003, 'Jake Delhomme'),\n",
       " (2004, 'Jake Delhomme'),\n",
       " (2005, 'Jake Delhomme'),\n",
       " (2006, 'Jake Delhomme'),\n",
       " (2008, 'Jake Delhomme'),\n",
       " (2009, 'Jake Delhomme'),\n",
       " (1999, 'Trent Dilfer'),\n",
       " (2000, 'Trent Dilfer'),\n",
       " (2005, 'Trent Dilfer'),\n",
       " (1999, 'Brett Favre'),\n",
       " (2000, 'Brett Favre'),\n",
       " (2001, 'Brett Favre'),\n",
       " (2002, 'Brett Favre'),\n",
       " (2003, 'Brett Favre'),\n",
       " (2004, 'Brett Favre'),\n",
       " (2005, 'Brett Favre'),\n",
       " (2006, 'Brett Favre'),\n",
       " (2007, 'Brett Favre'),\n",
       " (2008, 'Brett Favre'),\n",
       " (2009, 'Brett Favre'),\n",
       " (2010, 'Brett Favre'),\n",
       " (2000, 'Jay Fiedler'),\n",
       " (2001, 'Jay Fiedler'),\n",
       " (2002, 'Jay Fiedler'),\n",
       " (2003, 'Jay Fiedler'),\n",
       " (1999, 'Doug Flutie'),\n",
       " (2000, 'Doug Flutie'),\n",
       " (2001, 'Doug Flutie'),\n",
       " (1999, 'Gus Frerotte'),\n",
       " (2000, 'Gus Frerotte'),\n",
       " (2005, 'Gus Frerotte'),\n",
       " (2008, 'Gus Frerotte'),\n",
       " (1999, 'Rich Gannon'),\n",
       " (2000, 'Rich Gannon'),\n",
       " (2001, 'Rich Gannon'),\n",
       " (2002, 'Rich Gannon'),\n",
       " (1999, 'Jeff Garcia'),\n",
       " (2000, 'Jeff Garcia'),\n",
       " (2001, 'Jeff Garcia'),\n",
       " (2002, 'Jeff Garcia'),\n",
       " (2003, 'Jeff Garcia'),\n",
       " (2004, 'Jeff Garcia'),\n",
       " (2006, 'Jeff Garcia'),\n",
       " (2007, 'Jeff Garcia'),\n",
       " (2008, 'Jeff Garcia'),\n",
       " (1999, 'Jeff George'),\n",
       " (1999, 'Kent Graham'),\n",
       " (1999, 'Elvis Grbac'),\n",
       " (2000, 'Elvis Grbac'),\n",
       " (2001, 'Elvis Grbac'),\n",
       " (2001, 'Trent Green'),\n",
       " (2002, 'Trent Green'),\n",
       " (2003, 'Trent Green'),\n",
       " (2004, 'Trent Green'),\n",
       " (2005, 'Trent Green'),\n",
       " (2006, 'Trent Green'),\n",
       " (1999, 'Brian Griese'),\n",
       " (2000, 'Brian Griese'),\n",
       " (2001, 'Brian Griese'),\n",
       " (2002, 'Brian Griese'),\n",
       " (2004, 'Brian Griese'),\n",
       " (1999, 'Jim Harbaugh'),\n",
       " (2001, 'Matt Hasselbeck'),\n",
       " (2002, 'Matt Hasselbeck'),\n",
       " (2003, 'Matt Hasselbeck'),\n",
       " (2004, 'Matt Hasselbeck'),\n",
       " (2005, 'Matt Hasselbeck'),\n",
       " (2006, 'Matt Hasselbeck'),\n",
       " (2007, 'Matt Hasselbeck'),\n",
       " (2009, 'Matt Hasselbeck'),\n",
       " (2010, 'Matt Hasselbeck'),\n",
       " (2011, 'Matt Hasselbeck'),\n",
       " (2003, 'Kelly Holcomb'),\n",
       " (2005, 'Kelly Holcomb'),\n",
       " (1999, 'Damon Huard'),\n",
       " (2006, 'Damon Huard'),\n",
       " (2007, 'Damon Huard'),\n",
       " (1999, 'Brad Johnson'),\n",
       " (2000, 'Brad Johnson'),\n",
       " (2001, 'Brad Johnson'),\n",
       " (2002, 'Brad Johnson'),\n",
       " (2003, 'Brad Johnson'),\n",
       " (2005, 'Brad Johnson'),\n",
       " (2006, 'Brad Johnson'),\n",
       " (2000, 'Rob Johnson'),\n",
       " (2000, 'Shaun King'),\n",
       " (1999, 'Jon Kitna'),\n",
       " (2000, 'Jon Kitna'),\n",
       " (2001, 'Jon Kitna'),\n",
       " (2002, 'Jon Kitna'),\n",
       " (2003, 'Jon Kitna'),\n",
       " (2006, 'Jon Kitna'),\n",
       " (2007, 'Jon Kitna'),\n",
       " (2010, 'Jon Kitna'),\n",
       " (2000, 'Ryan Leaf'),\n",
       " (1999, 'Ray Lucas'),\n",
       " (2002, 'Tommy Maddox'),\n",
       " (2003, 'Tommy Maddox'),\n",
       " (1999, 'Peyton Manning'),\n",
       " (2000, 'Peyton Manning'),\n",
       " (2001, 'Peyton Manning'),\n",
       " (2002, 'Peyton Manning'),\n",
       " (2003, 'Peyton Manning'),\n",
       " (2004, 'Peyton Manning'),\n",
       " (2005, 'Peyton Manning'),\n",
       " (2006, 'Peyton Manning'),\n",
       " (2007, 'Peyton Manning'),\n",
       " (2008, 'Peyton Manning'),\n",
       " (2009, 'Peyton Manning'),\n",
       " (2010, 'Peyton Manning'),\n",
       " (2012, 'Peyton Manning'),\n",
       " (2013, 'Peyton Manning'),\n",
       " (2014, 'Peyton Manning'),\n",
       " (2015, 'Peyton Manning'),\n",
       " (1999, 'Dan Marino'),\n",
       " (1999, 'Donovan McNabb'),\n",
       " (2000, 'Donovan McNabb'),\n",
       " (2001, 'Donovan McNabb'),\n",
       " (2002, 'Donovan McNabb'),\n",
       " (2003, 'Donovan McNabb'),\n",
       " (2004, 'Donovan McNabb'),\n",
       " (2005, 'Donovan McNabb'),\n",
       " (2006, 'Donovan McNabb'),\n",
       " (2007, 'Donovan McNabb'),\n",
       " (2008, 'Donovan McNabb'),\n",
       " (2009, 'Donovan McNabb'),\n",
       " (2010, 'Donovan McNabb'),\n",
       " (1999, 'Steve McNair'),\n",
       " (2000, 'Steve McNair'),\n",
       " (2001, 'Steve McNair'),\n",
       " (2002, 'Steve McNair'),\n",
       " (2003, 'Steve McNair'),\n",
       " (2005, 'Steve McNair'),\n",
       " (2006, 'Steve McNair'),\n",
       " (1999, 'Cade McNown'),\n",
       " (2000, 'Cade McNown'),\n",
       " (2001, 'Jim Miller'),\n",
       " (2002, 'Jim Miller'),\n",
       " (2003, 'Rick Mirer'),\n",
       " (1999, 'Doug Pederson'),\n",
       " (2000, 'Doug Pederson'),\n",
       " (2002, 'Rodney Peete'),\n",
       " (1999, 'Jake Plummer'),\n",
       " (2000, 'Jake Plummer'),\n",
       " (2001, 'Jake Plummer'),\n",
       " (2002, 'Jake Plummer'),\n",
       " (2003, 'Jake Plummer'),\n",
       " (2004, 'Jake Plummer'),\n",
       " (2005, 'Jake Plummer'),\n",
       " (2006, 'Jake Plummer'),\n",
       " (2000, 'Akili Smith'),\n",
       " (1999, 'Kordell Stewart'),\n",
       " (2000, 'Kordell Stewart'),\n",
       " (2001, 'Kordell Stewart'),\n",
       " (2003, 'Kordell Stewart'),\n",
       " (2000, 'Vinny Testaverde'),\n",
       " (2001, 'Vinny Testaverde'),\n",
       " (2004, 'Vinny Testaverde'),\n",
       " (1999, 'Billy Joe Tolliver'),\n",
       " (1999, 'Mike Tomczak'),\n",
       " (2001, 'Alex Van Pelt'),\n",
       " (1999, 'Kurt Warner'),\n",
       " (2000, 'Kurt Warner'),\n",
       " (2001, 'Kurt Warner'),\n",
       " (2004, 'Kurt Warner'),\n",
       " (2005, 'Kurt Warner'),\n",
       " (2007, 'Kurt Warner'),\n",
       " (2008, 'Kurt Warner'),\n",
       " (2009, 'Kurt Warner'),\n",
       " (2004, 'Billy Volek'),\n",
       " (2003, 'Doug Johnson'),\n",
       " (2002, 'Chad Pennington'),\n",
       " (2003, 'Chad Pennington'),\n",
       " (2004, 'Chad Pennington'),\n",
       " (2006, 'Chad Pennington'),\n",
       " (2007, 'Chad Pennington'),\n",
       " (2008, 'Chad Pennington'),\n",
       " (2001, 'Tom Brady'),\n",
       " (2002, 'Tom Brady'),\n",
       " (2003, 'Tom Brady'),\n",
       " (2004, 'Tom Brady'),\n",
       " (2005, 'Tom Brady'),\n",
       " (2006, 'Tom Brady'),\n",
       " (2007, 'Tom Brady'),\n",
       " (2009, 'Tom Brady'),\n",
       " (2010, 'Tom Brady'),\n",
       " (2011, 'Tom Brady'),\n",
       " (2012, 'Tom Brady'),\n",
       " (2013, 'Tom Brady'),\n",
       " (2014, 'Tom Brady'),\n",
       " (2015, 'Tom Brady'),\n",
       " (2016, 'Tom Brady'),\n",
       " (2017, 'Tom Brady'),\n",
       " (2018, 'Tom Brady'),\n",
       " (2019, 'Tom Brady'),\n",
       " (2020, 'Tom Brady'),\n",
       " (2021, 'Tom Brady'),\n",
       " (2022, 'Tom Brady'),\n",
       " (2003, 'Marc Bulger'),\n",
       " (2004, 'Marc Bulger'),\n",
       " (2006, 'Marc Bulger'),\n",
       " (2007, 'Marc Bulger'),\n",
       " (2008, 'Marc Bulger'),\n",
       " (2009, 'Marc Bulger'),\n",
       " (2004, 'Tim Rattay'),\n",
       " (2002, 'Mike Vick'),\n",
       " (2004, 'Mike Vick'),\n",
       " (2005, 'Mike Vick'),\n",
       " (2006, 'Mike Vick'),\n",
       " (2010, 'Mike Vick'),\n",
       " (2011, 'Mike Vick'),\n",
       " (2012, 'Mike Vick'),\n",
       " (2004, 'A.J. Feeley'),\n",
       " (2005, 'Mike McMahon'),\n",
       " (2003, 'Quincy Carter'),\n",
       " (2001, 'Chris Weinke'),\n",
       " (2007, 'Sage Rosenfels'),\n",
       " (2002, 'Drew Brees'),\n",
       " (2003, 'Drew Brees'),\n",
       " (2004, 'Drew Brees'),\n",
       " (2005, 'Drew Brees'),\n",
       " (2006, 'Drew Brees'),\n",
       " (2007, 'Drew Brees'),\n",
       " (2008, 'Drew Brees'),\n",
       " (2009, 'Drew Brees'),\n",
       " (2010, 'Drew Brees'),\n",
       " (2011, 'Drew Brees'),\n",
       " (2012, 'Drew Brees'),\n",
       " (2013, 'Drew Brees'),\n",
       " (2014, 'Drew Brees'),\n",
       " (2015, 'Drew Brees'),\n",
       " (2016, 'Drew Brees'),\n",
       " (2017, 'Drew Brees'),\n",
       " (2018, 'Drew Brees'),\n",
       " (2019, 'Drew Brees'),\n",
       " (2020, 'Drew Brees'),\n",
       " (2002, 'Chad Hutchinson'),\n",
       " (2007, 'Cleo Lemon'),\n",
       " (2002, 'David Carr'),\n",
       " (2003, 'David Carr'),\n",
       " (2004, 'David Carr'),\n",
       " (2005, 'David Carr'),\n",
       " (2006, 'David Carr'),\n",
       " (2008, 'Shaun Hill'),\n",
       " (2010, 'Shaun Hill'),\n",
       " (2002, 'Joey Harrington'),\n",
       " (2003, 'Joey Harrington'),\n",
       " (2004, 'Joey Harrington'),\n",
       " (2005, 'Joey Harrington'),\n",
       " (2006, 'Joey Harrington'),\n",
       " (2007, 'Joey Harrington'),\n",
       " (2004, 'Josh McCown'),\n",
       " (2005, 'Josh McCown'),\n",
       " (2014, 'Josh McCown'),\n",
       " (2017, 'Josh McCown'),\n",
       " (2006, 'David Garrard'),\n",
       " (2007, 'David Garrard'),\n",
       " (2008, 'David Garrard'),\n",
       " (2009, 'David Garrard'),\n",
       " (2010, 'David Garrard'),\n",
       " (2008, \"J.T. O'Sullivan\"),\n",
       " (2002, 'Patrick Ramsey'),\n",
       " (2003, 'Patrick Ramsey'),\n",
       " (2004, 'Patrick Ramsey'),\n",
       " (2004, 'Carson Palmer'),\n",
       " (2005, 'Carson Palmer'),\n",
       " (2006, 'Carson Palmer'),\n",
       " (2007, 'Carson Palmer'),\n",
       " (2009, 'Carson Palmer'),\n",
       " (2010, 'Carson Palmer'),\n",
       " (2011, 'Carson Palmer'),\n",
       " (2012, 'Carson Palmer'),\n",
       " (2013, 'Carson Palmer'),\n",
       " (2015, 'Carson Palmer'),\n",
       " (2016, 'Carson Palmer'),\n",
       " (2006, 'Tony Romo'),\n",
       " (2007, 'Tony Romo'),\n",
       " (2008, 'Tony Romo'),\n",
       " (2009, 'Tony Romo'),\n",
       " (2011, 'Tony Romo'),\n",
       " (2012, 'Tony Romo'),\n",
       " (2013, 'Tony Romo'),\n",
       " (2014, 'Tony Romo'),\n",
       " (2005, 'Chris Simms'),\n",
       " (2005, 'Brooks Bollinger'),\n",
       " (2008, 'Seneca Wallace'),\n",
       " (2006, 'Rex Grossman'),\n",
       " (2011, 'Rex Grossman'),\n",
       " (2003, 'Kyle Boller'),\n",
       " (2004, 'Kyle Boller'),\n",
       " (2005, 'Kyle Boller'),\n",
       " (2007, 'Kyle Boller'),\n",
       " (2003, 'Byron Leftwich'),\n",
       " (2004, 'Byron Leftwich'),\n",
       " (2005, 'Byron Leftwich'),\n",
       " (2007, 'Matt Schaub'),\n",
       " (2008, 'Matt Schaub'),\n",
       " (2009, 'Matt Schaub'),\n",
       " (2010, 'Matt Schaub'),\n",
       " (2011, 'Matt Schaub'),\n",
       " (2012, 'Matt Schaub'),\n",
       " (2013, 'Matt Schaub'),\n",
       " (2005, 'Eli Manning'),\n",
       " (2006, 'Eli Manning'),\n",
       " (2007, 'Eli Manning'),\n",
       " (2008, 'Eli Manning'),\n",
       " (2009, 'Eli Manning'),\n",
       " (2010, 'Eli Manning'),\n",
       " (2011, 'Eli Manning'),\n",
       " (2012, 'Eli Manning'),\n",
       " (2013, 'Eli Manning'),\n",
       " (2014, 'Eli Manning'),\n",
       " (2015, 'Eli Manning'),\n",
       " (2016, 'Eli Manning'),\n",
       " (2017, 'Eli Manning'),\n",
       " (2018, 'Eli Manning'),\n",
       " (2005, 'J.P. Losman'),\n",
       " (2006, 'J.P. Losman'),\n",
       " (2004, 'Ben Roethlisberger'),\n",
       " (2005, 'Ben Roethlisberger'),\n",
       " (2006, 'Ben Roethlisberger'),\n",
       " (2007, 'Ben Roethlisberger'),\n",
       " (2008, 'Ben Roethlisberger'),\n",
       " (2009, 'Ben Roethlisberger'),\n",
       " (2010, 'Ben Roethlisberger'),\n",
       " (2011, 'Ben Roethlisberger'),\n",
       " (2012, 'Ben Roethlisberger'),\n",
       " (2013, 'Ben Roethlisberger'),\n",
       " (2014, 'Ben Roethlisberger'),\n",
       " (2015, 'Ben Roethlisberger'),\n",
       " (2016, 'Ben Roethlisberger'),\n",
       " (2017, 'Ben Roethlisberger'),\n",
       " (2018, 'Ben Roethlisberger'),\n",
       " (2020, 'Ben Roethlisberger'),\n",
       " (2021, 'Ben Roethlisberger'),\n",
       " (2006, 'Philip Rivers'),\n",
       " (2007, 'Philip Rivers'),\n",
       " (2008, 'Philip Rivers'),\n",
       " (2009, 'Philip Rivers'),\n",
       " (2010, 'Philip Rivers'),\n",
       " (2011, 'Philip Rivers'),\n",
       " (2012, 'Philip Rivers'),\n",
       " (2013, 'Philip Rivers'),\n",
       " (2014, 'Philip Rivers'),\n",
       " (2015, 'Philip Rivers'),\n",
       " (2016, 'Philip Rivers'),\n",
       " (2017, 'Philip Rivers'),\n",
       " (2018, 'Philip Rivers'),\n",
       " (2019, 'Philip Rivers'),\n",
       " (2020, 'Philip Rivers'),\n",
       " (2006, 'Alex Smith'),\n",
       " (2009, 'Alex Smith'),\n",
       " (2010, 'Alex Smith'),\n",
       " (2011, 'Alex Smith'),\n",
       " (2012, 'Alex Smith'),\n",
       " (2013, 'Alex Smith'),\n",
       " (2014, 'Alex Smith'),\n",
       " (2015, 'Alex Smith'),\n",
       " (2016, 'Alex Smith'),\n",
       " (2017, 'Alex Smith'),\n",
       " (2018, 'Alex Smith'),\n",
       " (2008, 'Aaron Rodgers'),\n",
       " (2009, 'Aaron Rodgers'),\n",
       " (2010, 'Aaron Rodgers'),\n",
       " (2011, 'Aaron Rodgers'),\n",
       " (2012, 'Aaron Rodgers'),\n",
       " (2013, 'Aaron Rodgers'),\n",
       " (2014, 'Aaron Rodgers'),\n",
       " (2015, 'Aaron Rodgers'),\n",
       " (2016, 'Aaron Rodgers'),\n",
       " (2018, 'Aaron Rodgers'),\n",
       " (2019, 'Aaron Rodgers'),\n",
       " (2020, 'Aaron Rodgers'),\n",
       " (2021, 'Aaron Rodgers'),\n",
       " (2022, 'Aaron Rodgers'),\n",
       " (2024, 'Aaron Rodgers'),\n",
       " (2007, 'Jason Campbell'),\n",
       " (2008, 'Jason Campbell'),\n",
       " (2009, 'Jason Campbell'),\n",
       " (2010, 'Jason Campbell'),\n",
       " (2013, 'Jason Campbell'),\n",
       " (2006, 'Charlie Frye'),\n",
       " (2006, 'Andrew Walter'),\n",
       " (2005, 'Kyle Orton'),\n",
       " (2008, 'Kyle Orton'),\n",
       " (2009, 'Kyle Orton'),\n",
       " (2010, 'Kyle Orton'),\n",
       " (2011, 'Kyle Orton'),\n",
       " (2014, 'Kyle Orton'),\n",
       " (2008, 'Dan Orlovsky'),\n",
       " (2007, 'Derek Anderson'),\n",
       " (2008, 'Derek Anderson'),\n",
       " (2010, 'Derek Anderson'),\n",
       " (2008, 'Matt Cassel'),\n",
       " (2009, 'Matt Cassel'),\n",
       " (2010, 'Matt Cassel'),\n",
       " (2011, 'Matt Cassel'),\n",
       " (2012, 'Matt Cassel'),\n",
       " (2013, 'Matt Cassel'),\n",
       " (2008, 'Ryan Fitzpatrick'),\n",
       " (2009, 'Ryan Fitzpatrick'),\n",
       " (2010, 'Ryan Fitzpatrick'),\n",
       " (2011, 'Ryan Fitzpatrick'),\n",
       " (2012, 'Ryan Fitzpatrick'),\n",
       " (2013, 'Ryan Fitzpatrick'),\n",
       " (2014, 'Ryan Fitzpatrick'),\n",
       " (2015, 'Ryan Fitzpatrick'),\n",
       " (2016, 'Ryan Fitzpatrick'),\n",
       " (2019, 'Ryan Fitzpatrick'),\n",
       " (2020, 'Ryan Fitzpatrick'),\n",
       " (2006, 'Vince Young'),\n",
       " (2007, 'Vince Young'),\n",
       " (2009, 'Vince Young'),\n",
       " (2006, 'Matt Leinart'),\n",
       " (2007, 'Jay Cutler'),\n",
       " (2008, 'Jay Cutler'),\n",
       " (2009, 'Jay Cutler'),\n",
       " (2010, 'Jay Cutler'),\n",
       " (2011, 'Jay Cutler'),\n",
       " (2012, 'Jay Cutler'),\n",
       " (2013, 'Jay Cutler'),\n",
       " (2014, 'Jay Cutler'),\n",
       " (2015, 'Jay Cutler'),\n",
       " (2017, 'Jay Cutler'),\n",
       " (2007, 'Kellen Clemens'),\n",
       " (2013, 'Kellen Clemens'),\n",
       " (2007, 'Tarvaris Jackson'),\n",
       " (2011, 'Tarvaris Jackson'),\n",
       " (2007, 'Brodie Croyle'),\n",
       " (2006, 'Bruce Gradkowski'),\n",
       " (2008, 'JaMarcus Russell'),\n",
       " (2009, 'JaMarcus Russell'),\n",
       " (2009, 'Brady Quinn'),\n",
       " (2011, 'Kevin Kolb'),\n",
       " (2014, 'Drew Stanton'),\n",
       " (2007, 'Trent Edwards'),\n",
       " (2008, 'Trent Edwards'),\n",
       " (2008, 'Tyler Thigpen'),\n",
       " (2011, 'Matt Moore'),\n",
       " (2008, 'Matt Ryan'),\n",
       " (2009, 'Matt Ryan'),\n",
       " (2010, 'Matt Ryan'),\n",
       " (2011, 'Matt Ryan'),\n",
       " (2012, 'Matt Ryan'),\n",
       " (2013, 'Matt Ryan'),\n",
       " (2014, 'Matt Ryan'),\n",
       " (2015, 'Matt Ryan'),\n",
       " (2016, 'Matt Ryan'),\n",
       " (2017, 'Matt Ryan'),\n",
       " (2018, 'Matt Ryan'),\n",
       " (2019, 'Matt Ryan'),\n",
       " (2020, 'Matt Ryan'),\n",
       " (2021, 'Matt Ryan'),\n",
       " (2022, 'Matt Ryan'),\n",
       " (2008, 'Joe Flacco'),\n",
       " (2009, 'Joe Flacco'),\n",
       " (2010, 'Joe Flacco'),\n",
       " (2011, 'Joe Flacco'),\n",
       " (2012, 'Joe Flacco'),\n",
       " (2013, 'Joe Flacco'),\n",
       " (2014, 'Joe Flacco'),\n",
       " (2015, 'Joe Flacco'),\n",
       " (2016, 'Joe Flacco'),\n",
       " (2017, 'Joe Flacco'),\n",
       " (2018, 'Joe Flacco'),\n",
       " (2009, 'Chad Henne'),\n",
       " (2010, 'Chad Henne'),\n",
       " (2012, 'Chad Henne'),\n",
       " (2013, 'Chad Henne'),\n",
       " (2009, 'Matthew Stafford'),\n",
       " (2011, 'Matthew Stafford'),\n",
       " (2012, 'Matthew Stafford'),\n",
       " (2013, 'Matthew Stafford'),\n",
       " (2014, 'Matthew Stafford'),\n",
       " (2015, 'Matthew Stafford'),\n",
       " (2016, 'Matthew Stafford'),\n",
       " (2017, 'Matthew Stafford'),\n",
       " (2018, 'Matthew Stafford'),\n",
       " (2020, 'Matthew Stafford'),\n",
       " (2021, 'Matthew Stafford'),\n",
       " (2022, 'Matthew Stafford'),\n",
       " (2023, 'Matthew Stafford'),\n",
       " (2024, 'Matthew Stafford'),\n",
       " (2014, 'Brian Hoyer'),\n",
       " (2015, 'Brian Hoyer'),\n",
       " (2017, 'Brian Hoyer'),\n",
       " (2009, 'Mark Sanchez'),\n",
       " (2010, 'Mark Sanchez'),\n",
       " (2011, 'Mark Sanchez'),\n",
       " (2012, 'Mark Sanchez'),\n",
       " (2014, 'Mark Sanchez'),\n",
       " (2009, 'Josh Freeman'),\n",
       " (2010, 'Josh Freeman'),\n",
       " (2011, 'Josh Freeman'),\n",
       " (2012, 'Josh Freeman'),\n",
       " (2011, 'Curtis Painter'),\n",
       " (2010, 'Jimmy Clausen'),\n",
       " (2011, 'Colt McCoy'),\n",
       " (2010, 'Sam Bradford'),\n",
       " (2011, 'Sam Bradford'),\n",
       " (2012, 'Sam Bradford'),\n",
       " (2015, 'Sam Bradford'),\n",
       " (2016, 'Sam Bradford'),\n",
       " (2011, 'Cam Newton'),\n",
       " (2012, 'Cam Newton'),\n",
       " (2013, 'Cam Newton'),\n",
       " (2014, 'Cam Newton'),\n",
       " (2015, 'Cam Newton'),\n",
       " (2016, 'Cam Newton'),\n",
       " (2017, 'Cam Newton'),\n",
       " (2018, 'Cam Newton'),\n",
       " (2020, 'Cam Newton'),\n",
       " (2012, 'Jake Locker'),\n",
       " (2011, 'Blaine Gabbert'),\n",
       " (2012, 'Blaine Gabbert'),\n",
       " (2011, 'Christian Ponder'),\n",
       " (2012, 'Christian Ponder'),\n",
       " (2013, 'Christian Ponder'),\n",
       " (2011, 'Andy Dalton'),\n",
       " (2012, 'Andy Dalton'),\n",
       " (2013, 'Andy Dalton'),\n",
       " (2014, 'Andy Dalton'),\n",
       " (2015, 'Andy Dalton'),\n",
       " (2016, 'Andy Dalton'),\n",
       " (2017, 'Andy Dalton'),\n",
       " (2018, 'Andy Dalton'),\n",
       " (2019, 'Andy Dalton'),\n",
       " (2020, 'Andy Dalton'),\n",
       " (2022, 'Andy Dalton'),\n",
       " (2012, 'Colin Kaepernick'),\n",
       " (2013, 'Colin Kaepernick'),\n",
       " (2014, 'Colin Kaepernick'),\n",
       " (2015, 'Colin Kaepernick'),\n",
       " (2016, 'Colin Kaepernick'),\n",
       " (2015, 'Tyrod Taylor'),\n",
       " (2016, 'Tyrod Taylor'),\n",
       " (2017, 'Tyrod Taylor'),\n",
       " (2014, 'Austin Davis'),\n",
       " (2016, 'Case Keenum'),\n",
       " (2017, 'Case Keenum'),\n",
       " (2018, 'Case Keenum'),\n",
       " (2019, 'Case Keenum'),\n",
       " (2012, 'Russell Wilson'),\n",
       " (2013, 'Russell Wilson'),\n",
       " (2014, 'Russell Wilson'),\n",
       " (2015, 'Russell Wilson'),\n",
       " (2016, 'Russell Wilson'),\n",
       " (2017, 'Russell Wilson'),\n",
       " (2018, 'Russell Wilson'),\n",
       " (2019, 'Russell Wilson'),\n",
       " (2020, 'Russell Wilson'),\n",
       " (2021, 'Russell Wilson'),\n",
       " (2022, 'Russell Wilson'),\n",
       " (2023, 'Russell Wilson'),\n",
       " (2024, 'Russell Wilson'),\n",
       " (2013, 'Nick Foles'),\n",
       " (2015, 'Nick Foles'),\n",
       " (2017, 'Nick Foles'),\n",
       " (2020, 'Nick Foles'),\n",
       " (2015, 'Kirk Cousins'),\n",
       " (2016, 'Kirk Cousins'),\n",
       " (2017, 'Kirk Cousins'),\n",
       " (2018, 'Kirk Cousins'),\n",
       " (2019, 'Kirk Cousins'),\n",
       " (2020, 'Kirk Cousins'),\n",
       " (2021, 'Kirk Cousins'),\n",
       " (2022, 'Kirk Cousins'),\n",
       " (2024, 'Kirk Cousins'),\n",
       " (2012, 'Robert Griffin'),\n",
       " (2013, 'Robert Griffin'),\n",
       " (2014, 'Robert Griffin'),\n",
       " (2012, 'Andrew Luck'),\n",
       " (2013, 'Andrew Luck'),\n",
       " (2014, 'Andrew Luck'),\n",
       " (2016, 'Andrew Luck'),\n",
       " (2018, 'Andrew Luck'),\n",
       " (2012, 'Brandon Weeden'),\n",
       " (2016, 'Brock Osweiler'),\n",
       " (2012, 'Ryan Tannehill'),\n",
       " (2013, 'Ryan Tannehill'),\n",
       " (2014, 'Ryan Tannehill'),\n",
       " (2015, 'Ryan Tannehill'),\n",
       " (2016, 'Ryan Tannehill'),\n",
       " (2018, 'Ryan Tannehill'),\n",
       " (2019, 'Ryan Tannehill'),\n",
       " (2020, 'Ryan Tannehill'),\n",
       " (2021, 'Ryan Tannehill'),\n",
       " (2022, 'Ryan Tannehill'),\n",
       " (2023, 'Ryan Tannehill'),\n",
       " (2013, 'Mike Glennon'),\n",
       " (2013, 'EJ Manuel'),\n",
       " (2013, 'Geno Smith'),\n",
       " (2014, 'Geno Smith'),\n",
       " (2022, 'Geno Smith'),\n",
       " (2023, 'Geno Smith'),\n",
       " (2024, 'Geno Smith'),\n",
       " (2014, 'Teddy Bridgewater'),\n",
       " (2015, 'Teddy Bridgewater'),\n",
       " (2020, 'Teddy Bridgewater'),\n",
       " (2021, 'Teddy Bridgewater'),\n",
       " (2014, 'Derek Carr'),\n",
       " (2015, 'Derek Carr'),\n",
       " (2016, 'Derek Carr'),\n",
       " (2017, 'Derek Carr'),\n",
       " (2018, 'Derek Carr'),\n",
       " (2019, 'Derek Carr'),\n",
       " (2020, 'Derek Carr'),\n",
       " (2021, 'Derek Carr'),\n",
       " (2022, 'Derek Carr'),\n",
       " (2023, 'Derek Carr'),\n",
       " (2024, 'Derek Carr'),\n",
       " (2019, 'Jimmy Garoppolo'),\n",
       " (2021, 'Jimmy Garoppolo'),\n",
       " (2022, 'Jimmy Garoppolo'),\n",
       " (2014, 'Blake Bortles'),\n",
       " (2015, 'Blake Bortles'),\n",
       " (2016, 'Blake Bortles'),\n",
       " (2017, 'Blake Bortles'),\n",
       " (2018, 'Blake Bortles'),\n",
       " (2015, 'Johnny Manziel'),\n",
       " (2015, 'Jameis Winston'),\n",
       " (2016, 'Jameis Winston'),\n",
       " (2017, 'Jameis Winston'),\n",
       " (2018, 'Jameis Winston'),\n",
       " (2019, 'Jameis Winston'),\n",
       " (2024, 'Jameis Winston'),\n",
       " (2017, 'Brett Hundley'),\n",
       " (2021, 'Taylor Heinicke'),\n",
       " (2022, 'Taylor Heinicke'),\n",
       " (2016, 'Trevor Siemian'),\n",
       " (2017, 'Trevor Siemian'),\n",
       " (2015, 'Marcus Mariota'),\n",
       " (2016, 'Marcus Mariota'),\n",
       " (2017, 'Marcus Mariota'),\n",
       " (2018, 'Marcus Mariota'),\n",
       " (2022, 'Marcus Mariota'),\n",
       " (2016, 'Carson Wentz'),\n",
       " (2017, 'Carson Wentz'),\n",
       " (2018, 'Carson Wentz'),\n",
       " (2019, 'Carson Wentz'),\n",
       " (2020, 'Carson Wentz'),\n",
       " (2021, 'Carson Wentz'),\n",
       " (2016, 'Dak Prescott'),\n",
       " (2017, 'Dak Prescott'),\n",
       " (2018, 'Dak Prescott'),\n",
       " (2019, 'Dak Prescott'),\n",
       " (2021, 'Dak Prescott'),\n",
       " (2022, 'Dak Prescott'),\n",
       " (2023, 'Dak Prescott'),\n",
       " (2017, 'Jared Goff'),\n",
       " (2018, 'Jared Goff'),\n",
       " (2019, 'Jared Goff'),\n",
       " (2020, 'Jared Goff'),\n",
       " (2021, 'Jared Goff'),\n",
       " (2022, 'Jared Goff'),\n",
       " (2023, 'Jared Goff'),\n",
       " (2024, 'Jared Goff'),\n",
       " (2017, 'Jacoby Brissett'),\n",
       " (2019, 'Jacoby Brissett'),\n",
       " (2021, 'Jacoby Brissett'),\n",
       " (2022, 'Jacoby Brissett'),\n",
       " (2020, 'Nick Mullens'),\n",
       " (2018, 'Deshaun Watson'),\n",
       " (2019, 'Deshaun Watson'),\n",
       " (2020, 'Deshaun Watson'),\n",
       " (2024, 'Cooper Rush'),\n",
       " (2017, 'Mitchell Trubisky'),\n",
       " (2018, 'Mitchell Trubisky'),\n",
       " (2019, 'Mitchell Trubisky'),\n",
       " (2020, 'Mitchell Trubisky'),\n",
       " (2018, 'Patrick Mahomes'),\n",
       " (2019, 'Patrick Mahomes'),\n",
       " (2020, 'Patrick Mahomes'),\n",
       " (2021, 'Patrick Mahomes'),\n",
       " (2022, 'Patrick Mahomes'),\n",
       " (2023, 'Patrick Mahomes'),\n",
       " (2024, 'Patrick Mahomes'),\n",
       " (2017, 'DeShone Kizer'),\n",
       " (2023, 'Joshua Dobbs'),\n",
       " (2018, 'Josh Rosen'),\n",
       " (2019, 'Kyle Allen'),\n",
       " (2019, 'Mason Rudolph'),\n",
       " (2019, 'Lamar Jackson'),\n",
       " (2020, 'Lamar Jackson'),\n",
       " (2021, 'Lamar Jackson'),\n",
       " (2022, 'Lamar Jackson'),\n",
       " (2023, 'Lamar Jackson'),\n",
       " (2024, 'Lamar Jackson'),\n",
       " (2018, 'Baker Mayfield'),\n",
       " (2019, 'Baker Mayfield'),\n",
       " (2020, 'Baker Mayfield'),\n",
       " (2021, 'Baker Mayfield'),\n",
       " (2022, 'Baker Mayfield'),\n",
       " (2023, 'Baker Mayfield'),\n",
       " (2024, 'Baker Mayfield'),\n",
       " (2018, 'Josh Allen'),\n",
       " (2019, 'Josh Allen'),\n",
       " (2020, 'Josh Allen'),\n",
       " (2021, 'Josh Allen'),\n",
       " (2022, 'Josh Allen'),\n",
       " (2023, 'Josh Allen'),\n",
       " (2024, 'Josh Allen'),\n",
       " (2018, 'Sam Darnold'),\n",
       " (2019, 'Sam Darnold'),\n",
       " (2020, 'Sam Darnold'),\n",
       " (2021, 'Sam Darnold'),\n",
       " (2024, 'Sam Darnold'),\n",
       " (2023, 'Jake Browning'),\n",
       " (2019, 'Kyler Murray'),\n",
       " (2020, 'Kyler Murray'),\n",
       " (2021, 'Kyler Murray'),\n",
       " (2022, 'Kyler Murray'),\n",
       " (2024, 'Kyler Murray'),\n",
       " (2019, 'Dwayne Haskins'),\n",
       " (2019, 'Gardner Minshew'),\n",
       " (2020, 'Gardner Minshew'),\n",
       " (2023, 'Gardner Minshew'),\n",
       " (2024, 'Gardner Minshew'),\n",
       " (2020, 'Drew Lock'),\n",
       " (2019, 'Daniel Jones'),\n",
       " (2020, 'Daniel Jones'),\n",
       " (2021, 'Daniel Jones'),\n",
       " (2022, 'Daniel Jones'),\n",
       " (2024, 'Daniel Jones'),\n",
       " (2020, 'Tua Tagovailoa'),\n",
       " (2021, 'Tua Tagovailoa'),\n",
       " (2022, 'Tua Tagovailoa'),\n",
       " (2023, 'Tua Tagovailoa'),\n",
       " (2024, 'Tua Tagovailoa'),\n",
       " (2023, 'Jordan Love'),\n",
       " (2024, 'Jordan Love'),\n",
       " (2020, 'Justin Herbert'),\n",
       " (2021, 'Justin Herbert'),\n",
       " (2022, 'Justin Herbert'),\n",
       " (2023, 'Justin Herbert'),\n",
       " (2024, 'Justin Herbert'),\n",
       " (2021, 'Jalen Hurts'),\n",
       " (2022, 'Jalen Hurts'),\n",
       " (2023, 'Jalen Hurts'),\n",
       " (2024, 'Jalen Hurts'),\n",
       " (2020, 'Joe Burrow'),\n",
       " (2021, 'Joe Burrow'),\n",
       " (2022, 'Joe Burrow'),\n",
       " (2023, 'Joe Burrow'),\n",
       " (2024, 'Joe Burrow'),\n",
       " (2021, 'Davis Mills'),\n",
       " (2022, 'Davis Mills'),\n",
       " (2021, 'Justin Fields'),\n",
       " (2022, 'Justin Fields'),\n",
       " (2023, 'Justin Fields'),\n",
       " (2021, 'Trevor Lawrence'),\n",
       " (2022, 'Trevor Lawrence'),\n",
       " (2023, 'Trevor Lawrence'),\n",
       " (2024, 'Trevor Lawrence'),\n",
       " (2021, 'Mac Jones'),\n",
       " (2022, 'Mac Jones'),\n",
       " (2023, 'Mac Jones'),\n",
       " (2024, 'Mac Jones'),\n",
       " (2021, 'Zach Wilson'),\n",
       " (2022, 'Zach Wilson'),\n",
       " (2023, 'Zach Wilson'),\n",
       " (2023, 'Sam Howell'),\n",
       " (2022, 'Brock Purdy'),\n",
       " (2023, 'Brock Purdy'),\n",
       " (2024, 'Brock Purdy'),\n",
       " (2022, 'Kenny Pickett'),\n",
       " (2023, 'Kenny Pickett'),\n",
       " (2023, 'Bailey Zappe'),\n",
       " (2023, 'Desmond Ridder'),\n",
       " (2023, \"Aidan O'Connell\"),\n",
       " (2024, \"Aidan O'Connell\"),\n",
       " (2023, 'Bryce Young'),\n",
       " (2024, 'Bryce Young'),\n",
       " (2023, 'Will Levis'),\n",
       " (2024, 'Will Levis'),\n",
       " (2023, 'C.J. Stroud'),\n",
       " (2024, 'C.J. Stroud'),\n",
       " (2024, 'Anthony Richardson'),\n",
       " (2024, 'Bo Nix'),\n",
       " (2024, 'Drake Maye'),\n",
       " (2024, 'Jayden Daniels'),\n",
       " (2024, 'Caleb Williams')]"
      ]
     },
     "execution_count": 535,
     "metadata": {},
     "output_type": "execute_result"
    }
   ],
   "source": [
    "df = total_data.reset_index().merge(all_qbs[['gsis_id', 'display_name']], left_on='player_id', right_on='gsis_id')\n",
    "\n",
    "qb_names = [(x['season'], x['display_name']) for idx, x in df.iterrows()]\n",
    "qb_names"
   ]
  },
  {
   "cell_type": "code",
   "execution_count": 536,
   "id": "08ab9780",
   "metadata": {},
   "outputs": [
    {
     "data": {
      "text/html": [
       "<div>\n",
       "<style scoped>\n",
       "    .dataframe tbody tr th:only-of-type {\n",
       "        vertical-align: middle;\n",
       "    }\n",
       "\n",
       "    .dataframe tbody tr th {\n",
       "        vertical-align: top;\n",
       "    }\n",
       "\n",
       "    .dataframe thead th {\n",
       "        text-align: right;\n",
       "    }\n",
       "</style>\n",
       "<table border=\"1\" class=\"dataframe\">\n",
       "  <thead>\n",
       "    <tr style=\"text-align: right;\">\n",
       "      <th></th>\n",
       "      <th></th>\n",
       "      <th>sacks_per_dropback</th>\n",
       "      <th>attempts_per_game</th>\n",
       "      <th>rushing_tds_per_game</th>\n",
       "      <th>passing_tds_per_game</th>\n",
       "      <th>interceptions</th>\n",
       "      <th>shotgun_rate</th>\n",
       "      <th>passing_air_yards_per_attempt</th>\n",
       "      <th>completion_pct</th>\n",
       "      <th>rushing_fumbles_per_game</th>\n",
       "      <th>rushing_yards_per_game</th>\n",
       "      <th>rushing_yards_per_attempt</th>\n",
       "      <th>pass_pct</th>\n",
       "      <th>air_yard:completion_pct</th>\n",
       "      <th>td:int</th>\n",
       "    </tr>\n",
       "    <tr>\n",
       "      <th>player_id</th>\n",
       "      <th>season</th>\n",
       "      <th></th>\n",
       "      <th></th>\n",
       "      <th></th>\n",
       "      <th></th>\n",
       "      <th></th>\n",
       "      <th></th>\n",
       "      <th></th>\n",
       "      <th></th>\n",
       "      <th></th>\n",
       "      <th></th>\n",
       "      <th></th>\n",
       "      <th></th>\n",
       "      <th></th>\n",
       "      <th></th>\n",
       "    </tr>\n",
       "  </thead>\n",
       "  <tbody>\n",
       "    <tr>\n",
       "      <th rowspan=\"2\" valign=\"top\">00-0000104</th>\n",
       "      <th>1999</th>\n",
       "      <td>0.041152</td>\n",
       "      <td>31.066667</td>\n",
       "      <td>0.066667</td>\n",
       "      <td>1.133333</td>\n",
       "      <td>11.0</td>\n",
       "      <td>0.320988</td>\n",
       "      <td>0.000000</td>\n",
       "      <td>0.604938</td>\n",
       "      <td>0.133333</td>\n",
       "      <td>1.266667</td>\n",
       "      <td>1.583333</td>\n",
       "      <td>0.975904</td>\n",
       "      <td>0.000000</td>\n",
       "      <td>1.545455</td>\n",
       "    </tr>\n",
       "    <tr>\n",
       "      <th>2000</th>\n",
       "      <td>0.047619</td>\n",
       "      <td>23.545455</td>\n",
       "      <td>0.000000</td>\n",
       "      <td>0.636364</td>\n",
       "      <td>14.0</td>\n",
       "      <td>0.003663</td>\n",
       "      <td>0.000000</td>\n",
       "      <td>0.567402</td>\n",
       "      <td>0.000000</td>\n",
       "      <td>1.181818</td>\n",
       "      <td>1.300000</td>\n",
       "      <td>0.964664</td>\n",
       "      <td>0.000000</td>\n",
       "      <td>0.500000</td>\n",
       "    </tr>\n",
       "    <tr>\n",
       "      <th rowspan=\"3\" valign=\"top\">00-0000722</th>\n",
       "      <th>1999</th>\n",
       "      <td>0.094017</td>\n",
       "      <td>28.909091</td>\n",
       "      <td>0.000000</td>\n",
       "      <td>1.454545</td>\n",
       "      <td>8.0</td>\n",
       "      <td>0.173789</td>\n",
       "      <td>0.000000</td>\n",
       "      <td>0.524115</td>\n",
       "      <td>0.181818</td>\n",
       "      <td>8.727273</td>\n",
       "      <td>4.571429</td>\n",
       "      <td>0.943548</td>\n",
       "      <td>0.000000</td>\n",
       "      <td>2.000000</td>\n",
       "    </tr>\n",
       "    <tr>\n",
       "      <th>2000</th>\n",
       "      <td>0.067797</td>\n",
       "      <td>19.642857</td>\n",
       "      <td>0.000000</td>\n",
       "      <td>0.571429</td>\n",
       "      <td>8.0</td>\n",
       "      <td>0.179661</td>\n",
       "      <td>0.000000</td>\n",
       "      <td>0.419681</td>\n",
       "      <td>0.071429</td>\n",
       "      <td>4.000000</td>\n",
       "      <td>2.947368</td>\n",
       "      <td>0.939490</td>\n",
       "      <td>0.000000</td>\n",
       "      <td>1.000000</td>\n",
       "    </tr>\n",
       "    <tr>\n",
       "      <th>2001</th>\n",
       "      <td>0.072319</td>\n",
       "      <td>24.666667</td>\n",
       "      <td>0.133333</td>\n",
       "      <td>0.666667</td>\n",
       "      <td>10.0</td>\n",
       "      <td>0.256858</td>\n",
       "      <td>0.000000</td>\n",
       "      <td>0.536239</td>\n",
       "      <td>0.533333</td>\n",
       "      <td>10.133333</td>\n",
       "      <td>3.234043</td>\n",
       "      <td>0.895089</td>\n",
       "      <td>0.000000</td>\n",
       "      <td>1.000000</td>\n",
       "    </tr>\n",
       "    <tr>\n",
       "      <th>...</th>\n",
       "      <th>...</th>\n",
       "      <td>...</td>\n",
       "      <td>...</td>\n",
       "      <td>...</td>\n",
       "      <td>...</td>\n",
       "      <td>...</td>\n",
       "      <td>...</td>\n",
       "      <td>...</td>\n",
       "      <td>...</td>\n",
       "      <td>...</td>\n",
       "      <td>...</td>\n",
       "      <td>...</td>\n",
       "      <td>...</td>\n",
       "      <td>...</td>\n",
       "      <td>...</td>\n",
       "    </tr>\n",
       "    <tr>\n",
       "      <th>00-0039164</th>\n",
       "      <th>2024</th>\n",
       "      <td>0.050542</td>\n",
       "      <td>24.000000</td>\n",
       "      <td>0.545455</td>\n",
       "      <td>0.727273</td>\n",
       "      <td>12.0</td>\n",
       "      <td>0.960289</td>\n",
       "      <td>12.212121</td>\n",
       "      <td>0.508737</td>\n",
       "      <td>0.545455</td>\n",
       "      <td>46.181818</td>\n",
       "      <td>6.350000</td>\n",
       "      <td>0.775910</td>\n",
       "      <td>24.004784</td>\n",
       "      <td>0.666667</td>\n",
       "    </tr>\n",
       "    <tr>\n",
       "      <th>00-0039732</th>\n",
       "      <th>2024</th>\n",
       "      <td>0.042276</td>\n",
       "      <td>32.722222</td>\n",
       "      <td>0.222222</td>\n",
       "      <td>1.666667</td>\n",
       "      <td>12.0</td>\n",
       "      <td>0.856911</td>\n",
       "      <td>7.429542</td>\n",
       "      <td>0.659797</td>\n",
       "      <td>0.055556</td>\n",
       "      <td>27.277778</td>\n",
       "      <td>6.061728</td>\n",
       "      <td>0.883621</td>\n",
       "      <td>11.260352</td>\n",
       "      <td>2.500000</td>\n",
       "    </tr>\n",
       "    <tr>\n",
       "      <th>00-0039851</th>\n",
       "      <th>2024</th>\n",
       "      <td>0.090909</td>\n",
       "      <td>26.000000</td>\n",
       "      <td>0.153846</td>\n",
       "      <td>1.153846</td>\n",
       "      <td>10.0</td>\n",
       "      <td>0.882353</td>\n",
       "      <td>7.316568</td>\n",
       "      <td>0.595147</td>\n",
       "      <td>0.307692</td>\n",
       "      <td>32.538462</td>\n",
       "      <td>8.134615</td>\n",
       "      <td>0.877934</td>\n",
       "      <td>12.293706</td>\n",
       "      <td>1.500000</td>\n",
       "    </tr>\n",
       "    <tr>\n",
       "      <th>00-0039910</th>\n",
       "      <th>2024</th>\n",
       "      <td>0.078704</td>\n",
       "      <td>29.700000</td>\n",
       "      <td>0.350000</td>\n",
       "      <td>1.500000</td>\n",
       "      <td>10.0</td>\n",
       "      <td>0.962963</td>\n",
       "      <td>7.196970</td>\n",
       "      <td>0.701405</td>\n",
       "      <td>0.150000</td>\n",
       "      <td>52.200000</td>\n",
       "      <td>6.177515</td>\n",
       "      <td>0.793146</td>\n",
       "      <td>10.260790</td>\n",
       "      <td>3.000000</td>\n",
       "    </tr>\n",
       "    <tr>\n",
       "      <th>00-0039918</th>\n",
       "      <th>2024</th>\n",
       "      <td>0.106918</td>\n",
       "      <td>33.058824</td>\n",
       "      <td>0.000000</td>\n",
       "      <td>1.176471</td>\n",
       "      <td>6.0</td>\n",
       "      <td>0.860063</td>\n",
       "      <td>7.982206</td>\n",
       "      <td>0.626378</td>\n",
       "      <td>0.176471</td>\n",
       "      <td>29.117647</td>\n",
       "      <td>6.600000</td>\n",
       "      <td>0.894515</td>\n",
       "      <td>12.743442</td>\n",
       "      <td>3.333333</td>\n",
       "    </tr>\n",
       "  </tbody>\n",
       "</table>\n",
       "<p>836 rows × 14 columns</p>\n",
       "</div>"
      ],
      "text/plain": [
       "                   sacks_per_dropback  attempts_per_game  \\\n",
       "player_id  season                                          \n",
       "00-0000104 1999              0.041152          31.066667   \n",
       "           2000              0.047619          23.545455   \n",
       "00-0000722 1999              0.094017          28.909091   \n",
       "           2000              0.067797          19.642857   \n",
       "           2001              0.072319          24.666667   \n",
       "...                               ...                ...   \n",
       "00-0039164 2024              0.050542          24.000000   \n",
       "00-0039732 2024              0.042276          32.722222   \n",
       "00-0039851 2024              0.090909          26.000000   \n",
       "00-0039910 2024              0.078704          29.700000   \n",
       "00-0039918 2024              0.106918          33.058824   \n",
       "\n",
       "                   rushing_tds_per_game  passing_tds_per_game  interceptions  \\\n",
       "player_id  season                                                              \n",
       "00-0000104 1999                0.066667              1.133333           11.0   \n",
       "           2000                0.000000              0.636364           14.0   \n",
       "00-0000722 1999                0.000000              1.454545            8.0   \n",
       "           2000                0.000000              0.571429            8.0   \n",
       "           2001                0.133333              0.666667           10.0   \n",
       "...                                 ...                   ...            ...   \n",
       "00-0039164 2024                0.545455              0.727273           12.0   \n",
       "00-0039732 2024                0.222222              1.666667           12.0   \n",
       "00-0039851 2024                0.153846              1.153846           10.0   \n",
       "00-0039910 2024                0.350000              1.500000           10.0   \n",
       "00-0039918 2024                0.000000              1.176471            6.0   \n",
       "\n",
       "                   shotgun_rate  passing_air_yards_per_attempt  \\\n",
       "player_id  season                                                \n",
       "00-0000104 1999        0.320988                       0.000000   \n",
       "           2000        0.003663                       0.000000   \n",
       "00-0000722 1999        0.173789                       0.000000   \n",
       "           2000        0.179661                       0.000000   \n",
       "           2001        0.256858                       0.000000   \n",
       "...                         ...                            ...   \n",
       "00-0039164 2024        0.960289                      12.212121   \n",
       "00-0039732 2024        0.856911                       7.429542   \n",
       "00-0039851 2024        0.882353                       7.316568   \n",
       "00-0039910 2024        0.962963                       7.196970   \n",
       "00-0039918 2024        0.860063                       7.982206   \n",
       "\n",
       "                   completion_pct  rushing_fumbles_per_game  \\\n",
       "player_id  season                                             \n",
       "00-0000104 1999          0.604938                  0.133333   \n",
       "           2000          0.567402                  0.000000   \n",
       "00-0000722 1999          0.524115                  0.181818   \n",
       "           2000          0.419681                  0.071429   \n",
       "           2001          0.536239                  0.533333   \n",
       "...                           ...                       ...   \n",
       "00-0039164 2024          0.508737                  0.545455   \n",
       "00-0039732 2024          0.659797                  0.055556   \n",
       "00-0039851 2024          0.595147                  0.307692   \n",
       "00-0039910 2024          0.701405                  0.150000   \n",
       "00-0039918 2024          0.626378                  0.176471   \n",
       "\n",
       "                   rushing_yards_per_game  rushing_yards_per_attempt  \\\n",
       "player_id  season                                                      \n",
       "00-0000104 1999                  1.266667                   1.583333   \n",
       "           2000                  1.181818                   1.300000   \n",
       "00-0000722 1999                  8.727273                   4.571429   \n",
       "           2000                  4.000000                   2.947368   \n",
       "           2001                 10.133333                   3.234043   \n",
       "...                                   ...                        ...   \n",
       "00-0039164 2024                 46.181818                   6.350000   \n",
       "00-0039732 2024                 27.277778                   6.061728   \n",
       "00-0039851 2024                 32.538462                   8.134615   \n",
       "00-0039910 2024                 52.200000                   6.177515   \n",
       "00-0039918 2024                 29.117647                   6.600000   \n",
       "\n",
       "                   pass_pct  air_yard:completion_pct    td:int  \n",
       "player_id  season                                               \n",
       "00-0000104 1999    0.975904                 0.000000  1.545455  \n",
       "           2000    0.964664                 0.000000  0.500000  \n",
       "00-0000722 1999    0.943548                 0.000000  2.000000  \n",
       "           2000    0.939490                 0.000000  1.000000  \n",
       "           2001    0.895089                 0.000000  1.000000  \n",
       "...                     ...                      ...       ...  \n",
       "00-0039164 2024    0.775910                24.004784  0.666667  \n",
       "00-0039732 2024    0.883621                11.260352  2.500000  \n",
       "00-0039851 2024    0.877934                12.293706  1.500000  \n",
       "00-0039910 2024    0.793146                10.260790  3.000000  \n",
       "00-0039918 2024    0.894515                12.743442  3.333333  \n",
       "\n",
       "[836 rows x 14 columns]"
      ]
     },
     "execution_count": 536,
     "metadata": {},
     "output_type": "execute_result"
    }
   ],
   "source": [
    "from sklearn.cluster import KMeans\n",
    "from sklearn.decomposition import PCA\n",
    "from sklearn.preprocessing import StandardScaler\n",
    "import matplotlib.pyplot as plt\n",
    "import seaborn as sns\n",
    "total_data"
   ]
  },
  {
   "cell_type": "code",
   "execution_count": 537,
   "id": "9a3ddec3",
   "metadata": {},
   "outputs": [
    {
     "name": "stdout",
     "output_type": "stream",
     "text": [
      "0.2510470324121162\n",
      "0.49544490541099595\n",
      "0.6165099624410073\n",
      "0.7182316112912088\n",
      "0.7884865329730897\n",
      "0.838963816702917\n",
      "0.8852784988774501\n",
      "0.9176010601799967\n",
      "0.9477446036723567\n"
     ]
    }
   ],
   "source": [
    "scaler = StandardScaler()\n",
    "X = scaler.fit_transform(total_data)\n",
    "for P in range(1, 10):\n",
    "    pca = PCA(n_components=P)\n",
    "    pca.fit(X)\n",
    "    print(pca.explained_variance_ratio_.sum())\n",
    "\n",
    "pca = PCA(n_components=7)\n",
    "X_pca = pca.fit_transform(X)\n"
   ]
  },
  {
   "cell_type": "code",
   "execution_count": 546,
   "id": "3b9a31c1",
   "metadata": {},
   "outputs": [
    {
     "name": "stderr",
     "output_type": "stream",
     "text": [
      "/opt/anaconda3/lib/python3.11/site-packages/sklearn/cluster/_kmeans.py:870: FutureWarning:\n",
      "\n",
      "The default value of `n_init` will change from 10 to 'auto' in 1.4. Set the value of `n_init` explicitly to suppress the warning\n",
      "\n",
      "/opt/anaconda3/lib/python3.11/site-packages/sklearn/cluster/_kmeans.py:870: FutureWarning:\n",
      "\n",
      "The default value of `n_init` will change from 10 to 'auto' in 1.4. Set the value of `n_init` explicitly to suppress the warning\n",
      "\n",
      "/opt/anaconda3/lib/python3.11/site-packages/sklearn/cluster/_kmeans.py:870: FutureWarning:\n",
      "\n",
      "The default value of `n_init` will change from 10 to 'auto' in 1.4. Set the value of `n_init` explicitly to suppress the warning\n",
      "\n",
      "/opt/anaconda3/lib/python3.11/site-packages/sklearn/cluster/_kmeans.py:870: FutureWarning:\n",
      "\n",
      "The default value of `n_init` will change from 10 to 'auto' in 1.4. Set the value of `n_init` explicitly to suppress the warning\n",
      "\n",
      "/opt/anaconda3/lib/python3.11/site-packages/sklearn/cluster/_kmeans.py:870: FutureWarning:\n",
      "\n",
      "The default value of `n_init` will change from 10 to 'auto' in 1.4. Set the value of `n_init` explicitly to suppress the warning\n",
      "\n",
      "/opt/anaconda3/lib/python3.11/site-packages/sklearn/cluster/_kmeans.py:870: FutureWarning:\n",
      "\n",
      "The default value of `n_init` will change from 10 to 'auto' in 1.4. Set the value of `n_init` explicitly to suppress the warning\n",
      "\n",
      "/opt/anaconda3/lib/python3.11/site-packages/sklearn/cluster/_kmeans.py:870: FutureWarning:\n",
      "\n",
      "The default value of `n_init` will change from 10 to 'auto' in 1.4. Set the value of `n_init` explicitly to suppress the warning\n",
      "\n",
      "/opt/anaconda3/lib/python3.11/site-packages/sklearn/cluster/_kmeans.py:870: FutureWarning:\n",
      "\n",
      "The default value of `n_init` will change from 10 to 'auto' in 1.4. Set the value of `n_init` explicitly to suppress the warning\n",
      "\n",
      "/opt/anaconda3/lib/python3.11/site-packages/sklearn/cluster/_kmeans.py:870: FutureWarning:\n",
      "\n",
      "The default value of `n_init` will change from 10 to 'auto' in 1.4. Set the value of `n_init` explicitly to suppress the warning\n",
      "\n",
      "/opt/anaconda3/lib/python3.11/site-packages/sklearn/cluster/_kmeans.py:870: FutureWarning:\n",
      "\n",
      "The default value of `n_init` will change from 10 to 'auto' in 1.4. Set the value of `n_init` explicitly to suppress the warning\n",
      "\n",
      "/opt/anaconda3/lib/python3.11/site-packages/sklearn/cluster/_kmeans.py:870: FutureWarning:\n",
      "\n",
      "The default value of `n_init` will change from 10 to 'auto' in 1.4. Set the value of `n_init` explicitly to suppress the warning\n",
      "\n",
      "/opt/anaconda3/lib/python3.11/site-packages/sklearn/cluster/_kmeans.py:870: FutureWarning:\n",
      "\n",
      "The default value of `n_init` will change from 10 to 'auto' in 1.4. Set the value of `n_init` explicitly to suppress the warning\n",
      "\n",
      "/opt/anaconda3/lib/python3.11/site-packages/sklearn/cluster/_kmeans.py:870: FutureWarning:\n",
      "\n",
      "The default value of `n_init` will change from 10 to 'auto' in 1.4. Set the value of `n_init` explicitly to suppress the warning\n",
      "\n",
      "/opt/anaconda3/lib/python3.11/site-packages/sklearn/cluster/_kmeans.py:870: FutureWarning:\n",
      "\n",
      "The default value of `n_init` will change from 10 to 'auto' in 1.4. Set the value of `n_init` explicitly to suppress the warning\n",
      "\n",
      "/opt/anaconda3/lib/python3.11/site-packages/sklearn/cluster/_kmeans.py:870: FutureWarning:\n",
      "\n",
      "The default value of `n_init` will change from 10 to 'auto' in 1.4. Set the value of `n_init` explicitly to suppress the warning\n",
      "\n",
      "/opt/anaconda3/lib/python3.11/site-packages/sklearn/cluster/_kmeans.py:870: FutureWarning:\n",
      "\n",
      "The default value of `n_init` will change from 10 to 'auto' in 1.4. Set the value of `n_init` explicitly to suppress the warning\n",
      "\n",
      "/opt/anaconda3/lib/python3.11/site-packages/sklearn/cluster/_kmeans.py:870: FutureWarning:\n",
      "\n",
      "The default value of `n_init` will change from 10 to 'auto' in 1.4. Set the value of `n_init` explicitly to suppress the warning\n",
      "\n",
      "/opt/anaconda3/lib/python3.11/site-packages/sklearn/cluster/_kmeans.py:870: FutureWarning:\n",
      "\n",
      "The default value of `n_init` will change from 10 to 'auto' in 1.4. Set the value of `n_init` explicitly to suppress the warning\n",
      "\n",
      "/opt/anaconda3/lib/python3.11/site-packages/sklearn/cluster/_kmeans.py:870: FutureWarning:\n",
      "\n",
      "The default value of `n_init` will change from 10 to 'auto' in 1.4. Set the value of `n_init` explicitly to suppress the warning\n",
      "\n",
      "/opt/anaconda3/lib/python3.11/site-packages/sklearn/cluster/_kmeans.py:870: FutureWarning:\n",
      "\n",
      "The default value of `n_init` will change from 10 to 'auto' in 1.4. Set the value of `n_init` explicitly to suppress the warning\n",
      "\n"
     ]
    },
    {
     "data": {
      "image/png": "[encoded data removed]",
      "text/plain": [
       "<Figure size 640x480 with 1 Axes>"
      ]
     },
     "metadata": {},
     "output_type": "display_data"
    },
    {
     "data": {
      "application/vnd.plotly.v1+json": {
       "config": {
        "plotlyServerURL": "https://plot.ly"
       },
       "data": [
        {
         "hovertemplate": "<b>%{hovertext}</b><br><br>x=%{x}<br>y=%{y}<br>color=%{marker.color}<extra></extra>",
         "hovertext": [
          [
           1999,
           "Troy Aikman"
          ],
          [
           2000,
           "Troy Aikman"
          ],
          [
           1999,
           "Tony Banks"
          ],
          [
           2000,
           "Tony Banks"
          ],
          [
           2001,
           "Tony Banks"
          ],
          [
           1999,
           "Charlie Batch"
          ],
          [
           2000,
           "Charlie Batch"
          ],
          [
           2001,
           "Charlie Batch"
          ],
          [
           1999,
           "Steve Beuerlein"
          ],
          [
           2000,
           "Steve Beuerlein"
          ],
          [
           1999,
           "Jeff Blake"
          ],
          [
           2000,
           "Jeff Blake"
          ],
          [
           2002,
           "Jeff Blake"
          ],
          [
           2003,
           "Jeff Blake"
          ],
          [
           1999,
           "Drew Bledsoe"
          ],
          [
           2000,
           "Drew Bledsoe"
          ],
          [
           2002,
           "Drew Bledsoe"
          ],
          [
           2003,
           "Drew Bledsoe"
          ],
          [
           2004,
           "Drew Bledsoe"
          ],
          [
           2005,
           "Drew Bledsoe"
          ],
          [
           2000,
           "Aaron Brooks"
          ],
          [
           2001,
           "Aaron Brooks"
          ],
          [
           2002,
           "Aaron Brooks"
          ],
          [
           2003,
           "Aaron Brooks"
          ],
          [
           2004,
           "Aaron Brooks"
          ],
          [
           2005,
           "Aaron Brooks"
          ],
          [
           1999,
           "Mark Brunell"
          ],
          [
           2000,
           "Mark Brunell"
          ],
          [
           2001,
           "Mark Brunell"
          ],
          [
           2002,
           "Mark Brunell"
          ],
          [
           2004,
           "Mark Brunell"
          ],
          [
           2005,
           "Mark Brunell"
          ],
          [
           2006,
           "Mark Brunell"
          ],
          [
           1999,
           "Chris Chandler"
          ],
          [
           2000,
           "Chris Chandler"
          ],
          [
           2001,
           "Chris Chandler"
          ],
          [
           1999,
           "Kerry Collins"
          ],
          [
           2000,
           "Kerry Collins"
          ],
          [
           2001,
           "Kerry Collins"
          ],
          [
           2002,
           "Kerry Collins"
          ],
          [
           2003,
           "Kerry Collins"
          ],
          [
           2004,
           "Kerry Collins"
          ],
          [
           2005,
           "Kerry Collins"
          ],
          [
           2008,
           "Kerry Collins"
          ],
          [
           2010,
           "Kerry Collins"
          ],
          [
           1999,
           "Tim Couch"
          ],
          [
           2001,
           "Tim Couch"
          ],
          [
           2002,
           "Tim Couch"
          ],
          [
           2003,
           "Tim Couch"
          ],
          [
           2000,
           "Daunte Culpepper"
          ],
          [
           2001,
           "Daunte Culpepper"
          ],
          [
           2002,
           "Daunte Culpepper"
          ],
          [
           2003,
           "Daunte Culpepper"
          ],
          [
           2004,
           "Daunte Culpepper"
          ],
          [
           2003,
           "Jake Delhomme"
          ],
          [
           2004,
           "Jake Delhomme"
          ],
          [
           2005,
           "Jake Delhomme"
          ],
          [
           2006,
           "Jake Delhomme"
          ],
          [
           2008,
           "Jake Delhomme"
          ],
          [
           2009,
           "Jake Delhomme"
          ],
          [
           1999,
           "Trent Dilfer"
          ],
          [
           2000,
           "Trent Dilfer"
          ],
          [
           2005,
           "Trent Dilfer"
          ],
          [
           1999,
           "Brett Favre"
          ],
          [
           2000,
           "Brett Favre"
          ],
          [
           2001,
           "Brett Favre"
          ],
          [
           2002,
           "Brett Favre"
          ],
          [
           2003,
           "Brett Favre"
          ],
          [
           2004,
           "Brett Favre"
          ],
          [
           2005,
           "Brett Favre"
          ],
          [
           2006,
           "Brett Favre"
          ],
          [
           2007,
           "Brett Favre"
          ],
          [
           2008,
           "Brett Favre"
          ],
          [
           2009,
           "Brett Favre"
          ],
          [
           2010,
           "Brett Favre"
          ],
          [
           2000,
           "Jay Fiedler"
          ],
          [
           2001,
           "Jay Fiedler"
          ],
          [
           2002,
           "Jay Fiedler"
          ],
          [
           2003,
           "Jay Fiedler"
          ],
          [
           1999,
           "Doug Flutie"
          ],
          [
           2000,
           "Doug Flutie"
          ],
          [
           2001,
           "Doug Flutie"
          ],
          [
           1999,
           "Gus Frerotte"
          ],
          [
           2000,
           "Gus Frerotte"
          ],
          [
           2005,
           "Gus Frerotte"
          ],
          [
           2008,
           "Gus Frerotte"
          ],
          [
           1999,
           "Rich Gannon"
          ],
          [
           2000,
           "Rich Gannon"
          ],
          [
           2001,
           "Rich Gannon"
          ],
          [
           2002,
           "Rich Gannon"
          ],
          [
           1999,
           "Jeff Garcia"
          ],
          [
           2000,
           "Jeff Garcia"
          ],
          [
           2001,
           "Jeff Garcia"
          ],
          [
           2002,
           "Jeff Garcia"
          ],
          [
           2003,
           "Jeff Garcia"
          ],
          [
           2004,
           "Jeff Garcia"
          ],
          [
           2006,
           "Jeff Garcia"
          ],
          [
           2007,
           "Jeff Garcia"
          ],
          [
           2008,
           "Jeff Garcia"
          ],
          [
           1999,
           "Jeff George"
          ],
          [
           1999,
           "Kent Graham"
          ],
          [
           1999,
           "Elvis Grbac"
          ],
          [
           2000,
           "Elvis Grbac"
          ],
          [
           2001,
           "Elvis Grbac"
          ],
          [
           2001,
           "Trent Green"
          ],
          [
           2002,
           "Trent Green"
          ],
          [
           2003,
           "Trent Green"
          ],
          [
           2004,
           "Trent Green"
          ],
          [
           2005,
           "Trent Green"
          ],
          [
           2006,
           "Trent Green"
          ],
          [
           1999,
           "Brian Griese"
          ],
          [
           2000,
           "Brian Griese"
          ],
          [
           2001,
           "Brian Griese"
          ],
          [
           2002,
           "Brian Griese"
          ],
          [
           2004,
           "Brian Griese"
          ],
          [
           1999,
           "Jim Harbaugh"
          ],
          [
           2001,
           "Matt Hasselbeck"
          ],
          [
           2002,
           "Matt Hasselbeck"
          ],
          [
           2003,
           "Matt Hasselbeck"
          ],
          [
           2004,
           "Matt Hasselbeck"
          ],
          [
           2005,
           "Matt Hasselbeck"
          ],
          [
           2006,
           "Matt Hasselbeck"
          ],
          [
           2007,
           "Matt Hasselbeck"
          ],
          [
           2009,
           "Matt Hasselbeck"
          ],
          [
           2010,
           "Matt Hasselbeck"
          ],
          [
           2011,
           "Matt Hasselbeck"
          ],
          [
           2003,
           "Kelly Holcomb"
          ],
          [
           2005,
           "Kelly Holcomb"
          ],
          [
           1999,
           "Damon Huard"
          ],
          [
           2006,
           "Damon Huard"
          ],
          [
           2007,
           "Damon Huard"
          ],
          [
           1999,
           "Brad Johnson"
          ],
          [
           2000,
           "Brad Johnson"
          ],
          [
           2001,
           "Brad Johnson"
          ],
          [
           2002,
           "Brad Johnson"
          ],
          [
           2003,
           "Brad Johnson"
          ],
          [
           2005,
           "Brad Johnson"
          ],
          [
           2006,
           "Brad Johnson"
          ],
          [
           2000,
           "Rob Johnson"
          ],
          [
           2000,
           "Shaun King"
          ],
          [
           1999,
           "Jon Kitna"
          ],
          [
           2000,
           "Jon Kitna"
          ],
          [
           2001,
           "Jon Kitna"
          ],
          [
           2002,
           "Jon Kitna"
          ],
          [
           2003,
           "Jon Kitna"
          ],
          [
           2006,
           "Jon Kitna"
          ],
          [
           2007,
           "Jon Kitna"
          ],
          [
           2010,
           "Jon Kitna"
          ],
          [
           2000,
           "Ryan Leaf"
          ],
          [
           1999,
           "Ray Lucas"
          ],
          [
           2002,
           "Tommy Maddox"
          ],
          [
           2003,
           "Tommy Maddox"
          ],
          [
           1999,
           "Peyton Manning"
          ],
          [
           2000,
           "Peyton Manning"
          ],
          [
           2001,
           "Peyton Manning"
          ],
          [
           2002,
           "Peyton Manning"
          ],
          [
           2003,
           "Peyton Manning"
          ],
          [
           2004,
           "Peyton Manning"
          ],
          [
           2005,
           "Peyton Manning"
          ],
          [
           2006,
           "Peyton Manning"
          ],
          [
           2007,
           "Peyton Manning"
          ],
          [
           2008,
           "Peyton Manning"
          ],
          [
           2009,
           "Peyton Manning"
          ],
          [
           2010,
           "Peyton Manning"
          ],
          [
           2012,
           "Peyton Manning"
          ],
          [
           2013,
           "Peyton Manning"
          ],
          [
           2014,
           "Peyton Manning"
          ],
          [
           2015,
           "Peyton Manning"
          ],
          [
           1999,
           "Dan Marino"
          ],
          [
           1999,
           "Donovan McNabb"
          ],
          [
           2000,
           "Donovan McNabb"
          ],
          [
           2001,
           "Donovan McNabb"
          ],
          [
           2002,
           "Donovan McNabb"
          ],
          [
           2003,
           "Donovan McNabb"
          ],
          [
           2004,
           "Donovan McNabb"
          ],
          [
           2005,
           "Donovan McNabb"
          ],
          [
           2006,
           "Donovan McNabb"
          ],
          [
           2007,
           "Donovan McNabb"
          ],
          [
           2008,
           "Donovan McNabb"
          ],
          [
           2009,
           "Donovan McNabb"
          ],
          [
           2010,
           "Donovan McNabb"
          ],
          [
           1999,
           "Steve McNair"
          ],
          [
           2000,
           "Steve McNair"
          ],
          [
           2001,
           "Steve McNair"
          ],
          [
           2002,
           "Steve McNair"
          ],
          [
           2003,
           "Steve McNair"
          ],
          [
           2005,
           "Steve McNair"
          ],
          [
           2006,
           "Steve McNair"
          ],
          [
           1999,
           "Cade McNown"
          ],
          [
           2000,
           "Cade McNown"
          ],
          [
           2001,
           "Jim Miller"
          ],
          [
           2002,
           "Jim Miller"
          ],
          [
           2003,
           "Rick Mirer"
          ],
          [
           1999,
           "Doug Pederson"
          ],
          [
           2000,
           "Doug Pederson"
          ],
          [
           2002,
           "Rodney Peete"
          ],
          [
           1999,
           "Jake Plummer"
          ],
          [
           2000,
           "Jake Plummer"
          ],
          [
           2001,
           "Jake Plummer"
          ],
          [
           2002,
           "Jake Plummer"
          ],
          [
           2003,
           "Jake Plummer"
          ],
          [
           2004,
           "Jake Plummer"
          ],
          [
           2005,
           "Jake Plummer"
          ],
          [
           2006,
           "Jake Plummer"
          ],
          [
           2000,
           "Akili Smith"
          ],
          [
           1999,
           "Kordell Stewart"
          ],
          [
           2000,
           "Kordell Stewart"
          ],
          [
           2001,
           "Kordell Stewart"
          ],
          [
           2003,
           "Kordell Stewart"
          ],
          [
           2000,
           "Vinny Testaverde"
          ],
          [
           2001,
           "Vinny Testaverde"
          ],
          [
           2004,
           "Vinny Testaverde"
          ],
          [
           1999,
           "Billy Joe Tolliver"
          ],
          [
           1999,
           "Mike Tomczak"
          ],
          [
           2001,
           "Alex Van Pelt"
          ],
          [
           1999,
           "Kurt Warner"
          ],
          [
           2000,
           "Kurt Warner"
          ],
          [
           2001,
           "Kurt Warner"
          ],
          [
           2004,
           "Kurt Warner"
          ],
          [
           2005,
           "Kurt Warner"
          ],
          [
           2007,
           "Kurt Warner"
          ],
          [
           2008,
           "Kurt Warner"
          ],
          [
           2009,
           "Kurt Warner"
          ],
          [
           2004,
           "Billy Volek"
          ],
          [
           2003,
           "Doug Johnson"
          ],
          [
           2002,
           "Chad Pennington"
          ],
          [
           2003,
           "Chad Pennington"
          ],
          [
           2004,
           "Chad Pennington"
          ],
          [
           2006,
           "Chad Pennington"
          ],
          [
           2007,
           "Chad Pennington"
          ],
          [
           2008,
           "Chad Pennington"
          ],
          [
           2001,
           "Tom Brady"
          ],
          [
           2002,
           "Tom Brady"
          ],
          [
           2003,
           "Tom Brady"
          ],
          [
           2004,
           "Tom Brady"
          ],
          [
           2005,
           "Tom Brady"
          ],
          [
           2006,
           "Tom Brady"
          ],
          [
           2007,
           "Tom Brady"
          ],
          [
           2009,
           "Tom Brady"
          ],
          [
           2010,
           "Tom Brady"
          ],
          [
           2011,
           "Tom Brady"
          ],
          [
           2012,
           "Tom Brady"
          ],
          [
           2013,
           "Tom Brady"
          ],
          [
           2014,
           "Tom Brady"
          ],
          [
           2015,
           "Tom Brady"
          ],
          [
           2016,
           "Tom Brady"
          ],
          [
           2017,
           "Tom Brady"
          ],
          [
           2018,
           "Tom Brady"
          ],
          [
           2019,
           "Tom Brady"
          ],
          [
           2020,
           "Tom Brady"
          ],
          [
           2021,
           "Tom Brady"
          ],
          [
           2022,
           "Tom Brady"
          ],
          [
           2003,
           "Marc Bulger"
          ],
          [
           2004,
           "Marc Bulger"
          ],
          [
           2006,
           "Marc Bulger"
          ],
          [
           2007,
           "Marc Bulger"
          ],
          [
           2008,
           "Marc Bulger"
          ],
          [
           2009,
           "Marc Bulger"
          ],
          [
           2004,
           "Tim Rattay"
          ],
          [
           2002,
           "Mike Vick"
          ],
          [
           2004,
           "Mike Vick"
          ],
          [
           2005,
           "Mike Vick"
          ],
          [
           2006,
           "Mike Vick"
          ],
          [
           2010,
           "Mike Vick"
          ],
          [
           2011,
           "Mike Vick"
          ],
          [
           2012,
           "Mike Vick"
          ],
          [
           2004,
           "A.J. Feeley"
          ],
          [
           2005,
           "Mike McMahon"
          ],
          [
           2003,
           "Quincy Carter"
          ],
          [
           2001,
           "Chris Weinke"
          ],
          [
           2007,
           "Sage Rosenfels"
          ],
          [
           2002,
           "Drew Brees"
          ],
          [
           2003,
           "Drew Brees"
          ],
          [
           2004,
           "Drew Brees"
          ],
          [
           2005,
           "Drew Brees"
          ],
          [
           2006,
           "Drew Brees"
          ],
          [
           2007,
           "Drew Brees"
          ],
          [
           2008,
           "Drew Brees"
          ],
          [
           2009,
           "Drew Brees"
          ],
          [
           2010,
           "Drew Brees"
          ],
          [
           2011,
           "Drew Brees"
          ],
          [
           2012,
           "Drew Brees"
          ],
          [
           2013,
           "Drew Brees"
          ],
          [
           2014,
           "Drew Brees"
          ],
          [
           2015,
           "Drew Brees"
          ],
          [
           2016,
           "Drew Brees"
          ],
          [
           2017,
           "Drew Brees"
          ],
          [
           2018,
           "Drew Brees"
          ],
          [
           2019,
           "Drew Brees"
          ],
          [
           2020,
           "Drew Brees"
          ],
          [
           2002,
           "Chad Hutchinson"
          ],
          [
           2007,
           "Cleo Lemon"
          ],
          [
           2002,
           "David Carr"
          ],
          [
           2003,
           "David Carr"
          ],
          [
           2004,
           "David Carr"
          ],
          [
           2005,
           "David Carr"
          ],
          [
           2006,
           "David Carr"
          ],
          [
           2008,
           "Shaun Hill"
          ],
          [
           2010,
           "Shaun Hill"
          ],
          [
           2002,
           "Joey Harrington"
          ],
          [
           2003,
           "Joey Harrington"
          ],
          [
           2004,
           "Joey Harrington"
          ],
          [
           2005,
           "Joey Harrington"
          ],
          [
           2006,
           "Joey Harrington"
          ],
          [
           2007,
           "Joey Harrington"
          ],
          [
           2004,
           "Josh McCown"
          ],
          [
           2005,
           "Josh McCown"
          ],
          [
           2014,
           "Josh McCown"
          ],
          [
           2017,
           "Josh McCown"
          ],
          [
           2006,
           "David Garrard"
          ],
          [
           2007,
           "David Garrard"
          ],
          [
           2008,
           "David Garrard"
          ],
          [
           2009,
           "David Garrard"
          ],
          [
           2010,
           "David Garrard"
          ],
          [
           2008,
           "J.T. O'Sullivan"
          ],
          [
           2002,
           "Patrick Ramsey"
          ],
          [
           2003,
           "Patrick Ramsey"
          ],
          [
           2004,
           "Patrick Ramsey"
          ],
          [
           2004,
           "Carson Palmer"
          ],
          [
           2005,
           "Carson Palmer"
          ],
          [
           2006,
           "Carson Palmer"
          ],
          [
           2007,
           "Carson Palmer"
          ],
          [
           2009,
           "Carson Palmer"
          ],
          [
           2010,
           "Carson Palmer"
          ],
          [
           2011,
           "Carson Palmer"
          ],
          [
           2012,
           "Carson Palmer"
          ],
          [
           2013,
           "Carson Palmer"
          ],
          [
           2015,
           "Carson Palmer"
          ],
          [
           2016,
           "Carson Palmer"
          ],
          [
           2006,
           "Tony Romo"
          ],
          [
           2007,
           "Tony Romo"
          ],
          [
           2008,
           "Tony Romo"
          ],
          [
           2009,
           "Tony Romo"
          ],
          [
           2011,
           "Tony Romo"
          ],
          [
           2012,
           "Tony Romo"
          ],
          [
           2013,
           "Tony Romo"
          ],
          [
           2014,
           "Tony Romo"
          ],
          [
           2005,
           "Chris Simms"
          ],
          [
           2005,
           "Brooks Bollinger"
          ],
          [
           2008,
           "Seneca Wallace"
          ],
          [
           2006,
           "Rex Grossman"
          ],
          [
           2011,
           "Rex Grossman"
          ],
          [
           2003,
           "Kyle Boller"
          ],
          [
           2004,
           "Kyle Boller"
          ],
          [
           2005,
           "Kyle Boller"
          ],
          [
           2007,
           "Kyle Boller"
          ],
          [
           2003,
           "Byron Leftwich"
          ],
          [
           2004,
           "Byron Leftwich"
          ],
          [
           2005,
           "Byron Leftwich"
          ],
          [
           2007,
           "Matt Schaub"
          ],
          [
           2008,
           "Matt Schaub"
          ],
          [
           2009,
           "Matt Schaub"
          ],
          [
           2010,
           "Matt Schaub"
          ],
          [
           2011,
           "Matt Schaub"
          ],
          [
           2012,
           "Matt Schaub"
          ],
          [
           2013,
           "Matt Schaub"
          ],
          [
           2005,
           "Eli Manning"
          ],
          [
           2006,
           "Eli Manning"
          ],
          [
           2007,
           "Eli Manning"
          ],
          [
           2008,
           "Eli Manning"
          ],
          [
           2009,
           "Eli Manning"
          ],
          [
           2010,
           "Eli Manning"
          ],
          [
           2011,
           "Eli Manning"
          ],
          [
           2012,
           "Eli Manning"
          ],
          [
           2013,
           "Eli Manning"
          ],
          [
           2014,
           "Eli Manning"
          ],
          [
           2015,
           "Eli Manning"
          ],
          [
           2016,
           "Eli Manning"
          ],
          [
           2017,
           "Eli Manning"
          ],
          [
           2018,
           "Eli Manning"
          ],
          [
           2005,
           "J.P. Losman"
          ],
          [
           2006,
           "J.P. Losman"
          ],
          [
           2004,
           "Ben Roethlisberger"
          ],
          [
           2005,
           "Ben Roethlisberger"
          ],
          [
           2006,
           "Ben Roethlisberger"
          ],
          [
           2007,
           "Ben Roethlisberger"
          ],
          [
           2008,
           "Ben Roethlisberger"
          ],
          [
           2009,
           "Ben Roethlisberger"
          ],
          [
           2010,
           "Ben Roethlisberger"
          ],
          [
           2011,
           "Ben Roethlisberger"
          ],
          [
           2012,
           "Ben Roethlisberger"
          ],
          [
           2013,
           "Ben Roethlisberger"
          ],
          [
           2014,
           "Ben Roethlisberger"
          ],
          [
           2015,
           "Ben Roethlisberger"
          ],
          [
           2016,
           "Ben Roethlisberger"
          ],
          [
           2017,
           "Ben Roethlisberger"
          ],
          [
           2018,
           "Ben Roethlisberger"
          ],
          [
           2020,
           "Ben Roethlisberger"
          ],
          [
           2021,
           "Ben Roethlisberger"
          ],
          [
           2006,
           "Philip Rivers"
          ],
          [
           2007,
           "Philip Rivers"
          ],
          [
           2008,
           "Philip Rivers"
          ],
          [
           2009,
           "Philip Rivers"
          ],
          [
           2010,
           "Philip Rivers"
          ],
          [
           2011,
           "Philip Rivers"
          ],
          [
           2012,
           "Philip Rivers"
          ],
          [
           2013,
           "Philip Rivers"
          ],
          [
           2014,
           "Philip Rivers"
          ],
          [
           2015,
           "Philip Rivers"
          ],
          [
           2016,
           "Philip Rivers"
          ],
          [
           2017,
           "Philip Rivers"
          ],
          [
           2018,
           "Philip Rivers"
          ],
          [
           2019,
           "Philip Rivers"
          ],
          [
           2020,
           "Philip Rivers"
          ],
          [
           2006,
           "Alex Smith"
          ],
          [
           2009,
           "Alex Smith"
          ],
          [
           2010,
           "Alex Smith"
          ],
          [
           2011,
           "Alex Smith"
          ],
          [
           2012,
           "Alex Smith"
          ],
          [
           2013,
           "Alex Smith"
          ],
          [
           2014,
           "Alex Smith"
          ],
          [
           2015,
           "Alex Smith"
          ],
          [
           2016,
           "Alex Smith"
          ],
          [
           2017,
           "Alex Smith"
          ],
          [
           2018,
           "Alex Smith"
          ],
          [
           2008,
           "Aaron Rodgers"
          ],
          [
           2009,
           "Aaron Rodgers"
          ],
          [
           2010,
           "Aaron Rodgers"
          ],
          [
           2011,
           "Aaron Rodgers"
          ],
          [
           2012,
           "Aaron Rodgers"
          ],
          [
           2013,
           "Aaron Rodgers"
          ],
          [
           2014,
           "Aaron Rodgers"
          ],
          [
           2015,
           "Aaron Rodgers"
          ],
          [
           2016,
           "Aaron Rodgers"
          ],
          [
           2018,
           "Aaron Rodgers"
          ],
          [
           2019,
           "Aaron Rodgers"
          ],
          [
           2020,
           "Aaron Rodgers"
          ],
          [
           2021,
           "Aaron Rodgers"
          ],
          [
           2022,
           "Aaron Rodgers"
          ],
          [
           2024,
           "Aaron Rodgers"
          ],
          [
           2007,
           "Jason Campbell"
          ],
          [
           2008,
           "Jason Campbell"
          ],
          [
           2009,
           "Jason Campbell"
          ],
          [
           2010,
           "Jason Campbell"
          ],
          [
           2013,
           "Jason Campbell"
          ],
          [
           2006,
           "Charlie Frye"
          ],
          [
           2006,
           "Andrew Walter"
          ],
          [
           2005,
           "Kyle Orton"
          ],
          [
           2008,
           "Kyle Orton"
          ],
          [
           2009,
           "Kyle Orton"
          ],
          [
           2010,
           "Kyle Orton"
          ],
          [
           2011,
           "Kyle Orton"
          ],
          [
           2014,
           "Kyle Orton"
          ],
          [
           2008,
           "Dan Orlovsky"
          ],
          [
           2007,
           "Derek Anderson"
          ],
          [
           2008,
           "Derek Anderson"
          ],
          [
           2010,
           "Derek Anderson"
          ],
          [
           2008,
           "Matt Cassel"
          ],
          [
           2009,
           "Matt Cassel"
          ],
          [
           2010,
           "Matt Cassel"
          ],
          [
           2011,
           "Matt Cassel"
          ],
          [
           2012,
           "Matt Cassel"
          ],
          [
           2013,
           "Matt Cassel"
          ],
          [
           2008,
           "Ryan Fitzpatrick"
          ],
          [
           2009,
           "Ryan Fitzpatrick"
          ],
          [
           2010,
           "Ryan Fitzpatrick"
          ],
          [
           2011,
           "Ryan Fitzpatrick"
          ],
          [
           2012,
           "Ryan Fitzpatrick"
          ],
          [
           2013,
           "Ryan Fitzpatrick"
          ],
          [
           2014,
           "Ryan Fitzpatrick"
          ],
          [
           2015,
           "Ryan Fitzpatrick"
          ],
          [
           2016,
           "Ryan Fitzpatrick"
          ],
          [
           2019,
           "Ryan Fitzpatrick"
          ],
          [
           2020,
           "Ryan Fitzpatrick"
          ],
          [
           2006,
           "Vince Young"
          ],
          [
           2007,
           "Vince Young"
          ],
          [
           2009,
           "Vince Young"
          ],
          [
           2006,
           "Matt Leinart"
          ],
          [
           2007,
           "Jay Cutler"
          ],
          [
           2008,
           "Jay Cutler"
          ],
          [
           2009,
           "Jay Cutler"
          ],
          [
           2010,
           "Jay Cutler"
          ],
          [
           2011,
           "Jay Cutler"
          ],
          [
           2012,
           "Jay Cutler"
          ],
          [
           2013,
           "Jay Cutler"
          ],
          [
           2014,
           "Jay Cutler"
          ],
          [
           2015,
           "Jay Cutler"
          ],
          [
           2017,
           "Jay Cutler"
          ],
          [
           2007,
           "Kellen Clemens"
          ],
          [
           2013,
           "Kellen Clemens"
          ],
          [
           2007,
           "Tarvaris Jackson"
          ],
          [
           2011,
           "Tarvaris Jackson"
          ],
          [
           2007,
           "Brodie Croyle"
          ],
          [
           2006,
           "Bruce Gradkowski"
          ],
          [
           2008,
           "JaMarcus Russell"
          ],
          [
           2009,
           "JaMarcus Russell"
          ],
          [
           2009,
           "Brady Quinn"
          ],
          [
           2011,
           "Kevin Kolb"
          ],
          [
           2014,
           "Drew Stanton"
          ],
          [
           2007,
           "Trent Edwards"
          ],
          [
           2008,
           "Trent Edwards"
          ],
          [
           2008,
           "Tyler Thigpen"
          ],
          [
           2011,
           "Matt Moore"
          ],
          [
           2008,
           "Matt Ryan"
          ],
          [
           2009,
           "Matt Ryan"
          ],
          [
           2010,
           "Matt Ryan"
          ],
          [
           2011,
           "Matt Ryan"
          ],
          [
           2012,
           "Matt Ryan"
          ],
          [
           2013,
           "Matt Ryan"
          ],
          [
           2014,
           "Matt Ryan"
          ],
          [
           2015,
           "Matt Ryan"
          ],
          [
           2016,
           "Matt Ryan"
          ],
          [
           2017,
           "Matt Ryan"
          ],
          [
           2018,
           "Matt Ryan"
          ],
          [
           2019,
           "Matt Ryan"
          ],
          [
           2020,
           "Matt Ryan"
          ],
          [
           2021,
           "Matt Ryan"
          ],
          [
           2022,
           "Matt Ryan"
          ],
          [
           2008,
           "Joe Flacco"
          ],
          [
           2009,
           "Joe Flacco"
          ],
          [
           2010,
           "Joe Flacco"
          ],
          [
           2011,
           "Joe Flacco"
          ],
          [
           2012,
           "Joe Flacco"
          ],
          [
           2013,
           "Joe Flacco"
          ],
          [
           2014,
           "Joe Flacco"
          ],
          [
           2015,
           "Joe Flacco"
          ],
          [
           2016,
           "Joe Flacco"
          ],
          [
           2017,
           "Joe Flacco"
          ],
          [
           2018,
           "Joe Flacco"
          ],
          [
           2009,
           "Chad Henne"
          ],
          [
           2010,
           "Chad Henne"
          ],
          [
           2012,
           "Chad Henne"
          ],
          [
           2013,
           "Chad Henne"
          ],
          [
           2009,
           "Matthew Stafford"
          ],
          [
           2011,
           "Matthew Stafford"
          ],
          [
           2012,
           "Matthew Stafford"
          ],
          [
           2013,
           "Matthew Stafford"
          ],
          [
           2014,
           "Matthew Stafford"
          ],
          [
           2015,
           "Matthew Stafford"
          ],
          [
           2016,
           "Matthew Stafford"
          ],
          [
           2017,
           "Matthew Stafford"
          ],
          [
           2018,
           "Matthew Stafford"
          ],
          [
           2020,
           "Matthew Stafford"
          ],
          [
           2021,
           "Matthew Stafford"
          ],
          [
           2022,
           "Matthew Stafford"
          ],
          [
           2023,
           "Matthew Stafford"
          ],
          [
           2024,
           "Matthew Stafford"
          ],
          [
           2014,
           "Brian Hoyer"
          ],
          [
           2015,
           "Brian Hoyer"
          ],
          [
           2017,
           "Brian Hoyer"
          ],
          [
           2009,
           "Mark Sanchez"
          ],
          [
           2010,
           "Mark Sanchez"
          ],
          [
           2011,
           "Mark Sanchez"
          ],
          [
           2012,
           "Mark Sanchez"
          ],
          [
           2014,
           "Mark Sanchez"
          ],
          [
           2009,
           "Josh Freeman"
          ],
          [
           2010,
           "Josh Freeman"
          ],
          [
           2011,
           "Josh Freeman"
          ],
          [
           2012,
           "Josh Freeman"
          ],
          [
           2011,
           "Curtis Painter"
          ],
          [
           2010,
           "Jimmy Clausen"
          ],
          [
           2011,
           "Colt McCoy"
          ],
          [
           2010,
           "Sam Bradford"
          ],
          [
           2011,
           "Sam Bradford"
          ],
          [
           2012,
           "Sam Bradford"
          ],
          [
           2015,
           "Sam Bradford"
          ],
          [
           2016,
           "Sam Bradford"
          ],
          [
           2011,
           "Cam Newton"
          ],
          [
           2012,
           "Cam Newton"
          ],
          [
           2013,
           "Cam Newton"
          ],
          [
           2014,
           "Cam Newton"
          ],
          [
           2015,
           "Cam Newton"
          ],
          [
           2016,
           "Cam Newton"
          ],
          [
           2017,
           "Cam Newton"
          ],
          [
           2018,
           "Cam Newton"
          ],
          [
           2020,
           "Cam Newton"
          ],
          [
           2012,
           "Jake Locker"
          ],
          [
           2011,
           "Blaine Gabbert"
          ],
          [
           2012,
           "Blaine Gabbert"
          ],
          [
           2011,
           "Christian Ponder"
          ],
          [
           2012,
           "Christian Ponder"
          ],
          [
           2013,
           "Christian Ponder"
          ],
          [
           2011,
           "Andy Dalton"
          ],
          [
           2012,
           "Andy Dalton"
          ],
          [
           2013,
           "Andy Dalton"
          ],
          [
           2014,
           "Andy Dalton"
          ],
          [
           2015,
           "Andy Dalton"
          ],
          [
           2016,
           "Andy Dalton"
          ],
          [
           2017,
           "Andy Dalton"
          ],
          [
           2018,
           "Andy Dalton"
          ],
          [
           2019,
           "Andy Dalton"
          ],
          [
           2020,
           "Andy Dalton"
          ],
          [
           2022,
           "Andy Dalton"
          ],
          [
           2012,
           "Colin Kaepernick"
          ],
          [
           2013,
           "Colin Kaepernick"
          ],
          [
           2014,
           "Colin Kaepernick"
          ],
          [
           2015,
           "Colin Kaepernick"
          ],
          [
           2016,
           "Colin Kaepernick"
          ],
          [
           2015,
           "Tyrod Taylor"
          ],
          [
           2016,
           "Tyrod Taylor"
          ],
          [
           2017,
           "Tyrod Taylor"
          ],
          [
           2014,
           "Austin Davis"
          ],
          [
           2016,
           "Case Keenum"
          ],
          [
           2017,
           "Case Keenum"
          ],
          [
           2018,
           "Case Keenum"
          ],
          [
           2019,
           "Case Keenum"
          ],
          [
           2012,
           "Russell Wilson"
          ],
          [
           2013,
           "Russell Wilson"
          ],
          [
           2014,
           "Russell Wilson"
          ],
          [
           2015,
           "Russell Wilson"
          ],
          [
           2016,
           "Russell Wilson"
          ],
          [
           2017,
           "Russell Wilson"
          ],
          [
           2018,
           "Russell Wilson"
          ],
          [
           2019,
           "Russell Wilson"
          ],
          [
           2020,
           "Russell Wilson"
          ],
          [
           2021,
           "Russell Wilson"
          ],
          [
           2022,
           "Russell Wilson"
          ],
          [
           2023,
           "Russell Wilson"
          ],
          [
           2024,
           "Russell Wilson"
          ],
          [
           2013,
           "Nick Foles"
          ],
          [
           2015,
           "Nick Foles"
          ],
          [
           2017,
           "Nick Foles"
          ],
          [
           2020,
           "Nick Foles"
          ],
          [
           2015,
           "Kirk Cousins"
          ],
          [
           2016,
           "Kirk Cousins"
          ],
          [
           2017,
           "Kirk Cousins"
          ],
          [
           2018,
           "Kirk Cousins"
          ],
          [
           2019,
           "Kirk Cousins"
          ],
          [
           2020,
           "Kirk Cousins"
          ],
          [
           2021,
           "Kirk Cousins"
          ],
          [
           2022,
           "Kirk Cousins"
          ],
          [
           2024,
           "Kirk Cousins"
          ],
          [
           2012,
           "Robert Griffin"
          ],
          [
           2013,
           "Robert Griffin"
          ],
          [
           2014,
           "Robert Griffin"
          ],
          [
           2012,
           "Andrew Luck"
          ],
          [
           2013,
           "Andrew Luck"
          ],
          [
           2014,
           "Andrew Luck"
          ],
          [
           2016,
           "Andrew Luck"
          ],
          [
           2018,
           "Andrew Luck"
          ],
          [
           2012,
           "Brandon Weeden"
          ],
          [
           2016,
           "Brock Osweiler"
          ],
          [
           2012,
           "Ryan Tannehill"
          ],
          [
           2013,
           "Ryan Tannehill"
          ],
          [
           2014,
           "Ryan Tannehill"
          ],
          [
           2015,
           "Ryan Tannehill"
          ],
          [
           2016,
           "Ryan Tannehill"
          ],
          [
           2018,
           "Ryan Tannehill"
          ],
          [
           2019,
           "Ryan Tannehill"
          ],
          [
           2020,
           "Ryan Tannehill"
          ],
          [
           2021,
           "Ryan Tannehill"
          ],
          [
           2022,
           "Ryan Tannehill"
          ],
          [
           2023,
           "Ryan Tannehill"
          ],
          [
           2013,
           "Mike Glennon"
          ],
          [
           2013,
           "EJ Manuel"
          ],
          [
           2013,
           "Geno Smith"
          ],
          [
           2014,
           "Geno Smith"
          ],
          [
           2022,
           "Geno Smith"
          ],
          [
           2023,
           "Geno Smith"
          ],
          [
           2024,
           "Geno Smith"
          ],
          [
           2014,
           "Teddy Bridgewater"
          ],
          [
           2015,
           "Teddy Bridgewater"
          ],
          [
           2020,
           "Teddy Bridgewater"
          ],
          [
           2021,
           "Teddy Bridgewater"
          ],
          [
           2014,
           "Derek Carr"
          ],
          [
           2015,
           "Derek Carr"
          ],
          [
           2016,
           "Derek Carr"
          ],
          [
           2017,
           "Derek Carr"
          ],
          [
           2018,
           "Derek Carr"
          ],
          [
           2019,
           "Derek Carr"
          ],
          [
           2020,
           "Derek Carr"
          ],
          [
           2021,
           "Derek Carr"
          ],
          [
           2022,
           "Derek Carr"
          ],
          [
           2023,
           "Derek Carr"
          ],
          [
           2024,
           "Derek Carr"
          ],
          [
           2019,
           "Jimmy Garoppolo"
          ],
          [
           2021,
           "Jimmy Garoppolo"
          ],
          [
           2022,
           "Jimmy Garoppolo"
          ],
          [
           2014,
           "Blake Bortles"
          ],
          [
           2015,
           "Blake Bortles"
          ],
          [
           2016,
           "Blake Bortles"
          ],
          [
           2017,
           "Blake Bortles"
          ],
          [
           2018,
           "Blake Bortles"
          ],
          [
           2015,
           "Johnny Manziel"
          ],
          [
           2015,
           "Jameis Winston"
          ],
          [
           2016,
           "Jameis Winston"
          ],
          [
           2017,
           "Jameis Winston"
          ],
          [
           2018,
           "Jameis Winston"
          ],
          [
           2019,
           "Jameis Winston"
          ],
          [
           2024,
           "Jameis Winston"
          ],
          [
           2017,
           "Brett Hundley"
          ],
          [
           2021,
           "Taylor Heinicke"
          ],
          [
           2022,
           "Taylor Heinicke"
          ],
          [
           2016,
           "Trevor Siemian"
          ],
          [
           2017,
           "Trevor Siemian"
          ],
          [
           2015,
           "Marcus Mariota"
          ],
          [
           2016,
           "Marcus Mariota"
          ],
          [
           2017,
           "Marcus Mariota"
          ],
          [
           2018,
           "Marcus Mariota"
          ],
          [
           2022,
           "Marcus Mariota"
          ],
          [
           2016,
           "Carson Wentz"
          ],
          [
           2017,
           "Carson Wentz"
          ],
          [
           2018,
           "Carson Wentz"
          ],
          [
           2019,
           "Carson Wentz"
          ],
          [
           2020,
           "Carson Wentz"
          ],
          [
           2021,
           "Carson Wentz"
          ],
          [
           2016,
           "Dak Prescott"
          ],
          [
           2017,
           "Dak Prescott"
          ],
          [
           2018,
           "Dak Prescott"
          ],
          [
           2019,
           "Dak Prescott"
          ],
          [
           2021,
           "Dak Prescott"
          ],
          [
           2022,
           "Dak Prescott"
          ],
          [
           2023,
           "Dak Prescott"
          ],
          [
           2017,
           "Jared Goff"
          ],
          [
           2018,
           "Jared Goff"
          ],
          [
           2019,
           "Jared Goff"
          ],
          [
           2020,
           "Jared Goff"
          ],
          [
           2021,
           "Jared Goff"
          ],
          [
           2022,
           "Jared Goff"
          ],
          [
           2023,
           "Jared Goff"
          ],
          [
           2024,
           "Jared Goff"
          ],
          [
           2017,
           "Jacoby Brissett"
          ],
          [
           2019,
           "Jacoby Brissett"
          ],
          [
           2021,
           "Jacoby Brissett"
          ],
          [
           2022,
           "Jacoby Brissett"
          ],
          [
           2020,
           "Nick Mullens"
          ],
          [
           2018,
           "Deshaun Watson"
          ],
          [
           2019,
           "Deshaun Watson"
          ],
          [
           2020,
           "Deshaun Watson"
          ],
          [
           2024,
           "Cooper Rush"
          ],
          [
           2017,
           "Mitchell Trubisky"
          ],
          [
           2018,
           "Mitchell Trubisky"
          ],
          [
           2019,
           "Mitchell Trubisky"
          ],
          [
           2020,
           "Mitchell Trubisky"
          ],
          [
           2018,
           "Patrick Mahomes"
          ],
          [
           2019,
           "Patrick Mahomes"
          ],
          [
           2020,
           "Patrick Mahomes"
          ],
          [
           2021,
           "Patrick Mahomes"
          ],
          [
           2022,
           "Patrick Mahomes"
          ],
          [
           2023,
           "Patrick Mahomes"
          ],
          [
           2024,
           "Patrick Mahomes"
          ],
          [
           2017,
           "DeShone Kizer"
          ],
          [
           2023,
           "Joshua Dobbs"
          ],
          [
           2018,
           "Josh Rosen"
          ],
          [
           2019,
           "Kyle Allen"
          ],
          [
           2019,
           "Mason Rudolph"
          ],
          [
           2019,
           "Lamar Jackson"
          ],
          [
           2020,
           "Lamar Jackson"
          ],
          [
           2021,
           "Lamar Jackson"
          ],
          [
           2022,
           "Lamar Jackson"
          ],
          [
           2023,
           "Lamar Jackson"
          ],
          [
           2024,
           "Lamar Jackson"
          ],
          [
           2018,
           "Baker Mayfield"
          ],
          [
           2019,
           "Baker Mayfield"
          ],
          [
           2020,
           "Baker Mayfield"
          ],
          [
           2021,
           "Baker Mayfield"
          ],
          [
           2022,
           "Baker Mayfield"
          ],
          [
           2023,
           "Baker Mayfield"
          ],
          [
           2024,
           "Baker Mayfield"
          ],
          [
           2018,
           "Josh Allen"
          ],
          [
           2019,
           "Josh Allen"
          ],
          [
           2020,
           "Josh Allen"
          ],
          [
           2021,
           "Josh Allen"
          ],
          [
           2022,
           "Josh Allen"
          ],
          [
           2023,
           "Josh Allen"
          ],
          [
           2024,
           "Josh Allen"
          ],
          [
           2018,
           "Sam Darnold"
          ],
          [
           2019,
           "Sam Darnold"
          ],
          [
           2020,
           "Sam Darnold"
          ],
          [
           2021,
           "Sam Darnold"
          ],
          [
           2024,
           "Sam Darnold"
          ],
          [
           2023,
           "Jake Browning"
          ],
          [
           2019,
           "Kyler Murray"
          ],
          [
           2020,
           "Kyler Murray"
          ],
          [
           2021,
           "Kyler Murray"
          ],
          [
           2022,
           "Kyler Murray"
          ],
          [
           2024,
           "Kyler Murray"
          ],
          [
           2019,
           "Dwayne Haskins"
          ],
          [
           2019,
           "Gardner Minshew"
          ],
          [
           2020,
           "Gardner Minshew"
          ],
          [
           2023,
           "Gardner Minshew"
          ],
          [
           2024,
           "Gardner Minshew"
          ],
          [
           2020,
           "Drew Lock"
          ],
          [
           2019,
           "Daniel Jones"
          ],
          [
           2020,
           "Daniel Jones"
          ],
          [
           2021,
           "Daniel Jones"
          ],
          [
           2022,
           "Daniel Jones"
          ],
          [
           2024,
           "Daniel Jones"
          ],
          [
           2020,
           "Tua Tagovailoa"
          ],
          [
           2021,
           "Tua Tagovailoa"
          ],
          [
           2022,
           "Tua Tagovailoa"
          ],
          [
           2023,
           "Tua Tagovailoa"
          ],
          [
           2024,
           "Tua Tagovailoa"
          ],
          [
           2023,
           "Jordan Love"
          ],
          [
           2024,
           "Jordan Love"
          ],
          [
           2020,
           "Justin Herbert"
          ],
          [
           2021,
           "Justin Herbert"
          ],
          [
           2022,
           "Justin Herbert"
          ],
          [
           2023,
           "Justin Herbert"
          ],
          [
           2024,
           "Justin Herbert"
          ],
          [
           2021,
           "Jalen Hurts"
          ],
          [
           2022,
           "Jalen Hurts"
          ],
          [
           2023,
           "Jalen Hurts"
          ],
          [
           2024,
           "Jalen Hurts"
          ],
          [
           2020,
           "Joe Burrow"
          ],
          [
           2021,
           "Joe Burrow"
          ],
          [
           2022,
           "Joe Burrow"
          ],
          [
           2023,
           "Joe Burrow"
          ],
          [
           2024,
           "Joe Burrow"
          ],
          [
           2021,
           "Davis Mills"
          ],
          [
           2022,
           "Davis Mills"
          ],
          [
           2021,
           "Justin Fields"
          ],
          [
           2022,
           "Justin Fields"
          ],
          [
           2023,
           "Justin Fields"
          ],
          [
           2021,
           "Trevor Lawrence"
          ],
          [
           2022,
           "Trevor Lawrence"
          ],
          [
           2023,
           "Trevor Lawrence"
          ],
          [
           2024,
           "Trevor Lawrence"
          ],
          [
           2021,
           "Mac Jones"
          ],
          [
           2022,
           "Mac Jones"
          ],
          [
           2023,
           "Mac Jones"
          ],
          [
           2024,
           "Mac Jones"
          ],
          [
           2021,
           "Zach Wilson"
          ],
          [
           2022,
           "Zach Wilson"
          ],
          [
           2023,
           "Zach Wilson"
          ],
          [
           2023,
           "Sam Howell"
          ],
          [
           2022,
           "Brock Purdy"
          ],
          [
           2023,
           "Brock Purdy"
          ],
          [
           2024,
           "Brock Purdy"
          ],
          [
           2022,
           "Kenny Pickett"
          ],
          [
           2023,
           "Kenny Pickett"
          ],
          [
           2023,
           "Bailey Zappe"
          ],
          [
           2023,
           "Desmond Ridder"
          ],
          [
           2023,
           "Aidan O'Connell"
          ],
          [
           2024,
           "Aidan O'Connell"
          ],
          [
           2023,
           "Bryce Young"
          ],
          [
           2024,
           "Bryce Young"
          ],
          [
           2023,
           "Will Levis"
          ],
          [
           2024,
           "Will Levis"
          ],
          [
           2023,
           "C.J. Stroud"
          ],
          [
           2024,
           "C.J. Stroud"
          ],
          [
           2024,
           "Anthony Richardson"
          ],
          [
           2024,
           "Bo Nix"
          ],
          [
           2024,
           "Drake Maye"
          ],
          [
           2024,
           "Jayden Daniels"
          ],
          [
           2024,
           "Caleb Williams"
          ]
         ],
         "legendgroup": "",
         "marker": {
          "color": [
           2,
           2,
           6,
           6,
           6,
           6,
           6,
           2,
           2,
           2,
           6,
           6,
           6,
           6,
           2,
           6,
           2,
           6,
           2,
           2,
           6,
           2,
           2,
           2,
           2,
           6,
           6,
           6,
           6,
           6,
           6,
           2,
           1,
           6,
           6,
           6,
           2,
           2,
           2,
           2,
           2,
           2,
           2,
           1,
           1,
           6,
           6,
           2,
           6,
           3,
           3,
           3,
           6,
           0,
           2,
           2,
           2,
           1,
           1,
           1,
           6,
           6,
           2,
           2,
           2,
           2,
           2,
           2,
           2,
           2,
           5,
           5,
           5,
           5,
           1,
           6,
           6,
           2,
           6,
           6,
           6,
           2,
           2,
           6,
           2,
           1,
           6,
           6,
           2,
           2,
           6,
           2,
           2,
           2,
           6,
           6,
           0,
           1,
           4,
           2,
           6,
           2,
           2,
           2,
           2,
           2,
           2,
           2,
           2,
           1,
           6,
           2,
           2,
           2,
           2,
           6,
           6,
           2,
           2,
           2,
           2,
           1,
           5,
           1,
           1,
           5,
           2,
           6,
           6,
           0,
           1,
           2,
           2,
           2,
           2,
           2,
           6,
           1,
           6,
           6,
           2,
           6,
           2,
           2,
           2,
           5,
           1,
           4,
           6,
           6,
           2,
           2,
           2,
           2,
           2,
           2,
           2,
           0,
           2,
           5,
           5,
           5,
           5,
           5,
           5,
           5,
           5,
           1,
           2,
           6,
           6,
           6,
           3,
           6,
           2,
           2,
           4,
           4,
           5,
           4,
           1,
           3,
           6,
           6,
           2,
           2,
           2,
           1,
           6,
           6,
           2,
           2,
           6,
           6,
           6,
           2,
           2,
           2,
           2,
           6,
           6,
           2,
           2,
           1,
           6,
           6,
           6,
           6,
           6,
           2,
           2,
           2,
           6,
           2,
           2,
           2,
           2,
           2,
           6,
           2,
           5,
           5,
           5,
           2,
           6,
           2,
           2,
           2,
           1,
           1,
           1,
           2,
           2,
           2,
           2,
           2,
           5,
           0,
           5,
           0,
           5,
           5,
           5,
           5,
           0,
           0,
           0,
           5,
           5,
           5,
           5,
           5,
           2,
           2,
           5,
           1,
           1,
           1,
           2,
           3,
           3,
           6,
           3,
           3,
           3,
           4,
           2,
           6,
           2,
           2,
           5,
           2,
           2,
           2,
           2,
           5,
           5,
           5,
           5,
           5,
           5,
           5,
           5,
           5,
           5,
           5,
           5,
           0,
           0,
           5,
           6,
           1,
           6,
           6,
           6,
           6,
           6,
           4,
           5,
           2,
           2,
           2,
           2,
           1,
           1,
           6,
           6,
           4,
           4,
           4,
           0,
           4,
           4,
           4,
           4,
           6,
           6,
           2,
           2,
           2,
           5,
           5,
           1,
           5,
           1,
           5,
           5,
           5,
           5,
           1,
           5,
           5,
           5,
           5,
           5,
           5,
           0,
           6,
           6,
           1,
           1,
           1,
           6,
           6,
           2,
           1,
           2,
           2,
           6,
           1,
           1,
           5,
           5,
           1,
           5,
           1,
           2,
           5,
           1,
           1,
           5,
           5,
           5,
           5,
           1,
           5,
           5,
           5,
           5,
           5,
           6,
           1,
           6,
           6,
           1,
           4,
           1,
           5,
           4,
           5,
           0,
           5,
           5,
           5,
           5,
           5,
           5,
           5,
           5,
           1,
           1,
           5,
           5,
           5,
           5,
           5,
           5,
           5,
           5,
           5,
           5,
           5,
           5,
           5,
           1,
           5,
           1,
           4,
           4,
           0,
           4,
           4,
           4,
           0,
           4,
           5,
           0,
           0,
           0,
           0,
           0,
           0,
           0,
           0,
           0,
           0,
           0,
           0,
           5,
           5,
           1,
           4,
           4,
           4,
           1,
           4,
           1,
           6,
           1,
           5,
           5,
           1,
           5,
           1,
           5,
           1,
           1,
           4,
           1,
           1,
           1,
           1,
           1,
           4,
           4,
           4,
           5,
           5,
           4,
           4,
           5,
           1,
           4,
           4,
           3,
           4,
           4,
           1,
           1,
           5,
           5,
           4,
           1,
           4,
           5,
           5,
           4,
           1,
           1,
           1,
           4,
           1,
           1,
           6,
           4,
           1,
           1,
           4,
           1,
           1,
           1,
           4,
           1,
           1,
           5,
           5,
           5,
           5,
           5,
           5,
           5,
           0,
           5,
           0,
           5,
           5,
           1,
           5,
           1,
           1,
           1,
           1,
           1,
           5,
           5,
           5,
           5,
           5,
           5,
           1,
           1,
           1,
           1,
           5,
           5,
           5,
           5,
           5,
           5,
           5,
           5,
           5,
           5,
           5,
           1,
           5,
           5,
           1,
           5,
           1,
           1,
           1,
           1,
           1,
           1,
           1,
           0,
           5,
           5,
           1,
           1,
           1,
           5,
           1,
           1,
           5,
           0,
           3,
           3,
           3,
           3,
           3,
           4,
           3,
           3,
           3,
           4,
           1,
           1,
           4,
           4,
           4,
           1,
           5,
           5,
           1,
           0,
           4,
           1,
           5,
           5,
           1,
           1,
           3,
           3,
           4,
           4,
           3,
           3,
           3,
           4,
           1,
           1,
           5,
           5,
           1,
           3,
           4,
           3,
           0,
           4,
           3,
           0,
           0,
           0,
           0,
           4,
           4,
           4,
           0,
           1,
           1,
           1,
           5,
           5,
           4,
           5,
           0,
           5,
           0,
           5,
           5,
           3,
           4,
           4,
           5,
           4,
           5,
           0,
           5,
           1,
           1,
           4,
           4,
           0,
           5,
           4,
           4,
           4,
           0,
           4,
           4,
           4,
           1,
           4,
           4,
           4,
           0,
           5,
           4,
           4,
           4,
           4,
           4,
           5,
           5,
           0,
           5,
           5,
           5,
           0,
           5,
           5,
           5,
           0,
           5,
           1,
           0,
           4,
           5,
           5,
           4,
           4,
           4,
           4,
           5,
           1,
           4,
           5,
           1,
           4,
           4,
           4,
           1,
           4,
           4,
           4,
           4,
           4,
           3,
           5,
           0,
           0,
           0,
           4,
           0,
           0,
           4,
           4,
           0,
           0,
           5,
           0,
           0,
           5,
           5,
           5,
           5,
           0,
           5,
           5,
           4,
           4,
           4,
           4,
           5,
           3,
           3,
           0,
           1,
           4,
           4,
           4,
           4,
           0,
           0,
           0,
           0,
           0,
           5,
           4,
           4,
           3,
           4,
           5,
           1,
           3,
           3,
           3,
           3,
           3,
           0,
           5,
           5,
           0,
           4,
           1,
           5,
           0,
           3,
           3,
           0,
           3,
           3,
           3,
           3,
           1,
           1,
           4,
           4,
           0,
           4,
           4,
           3,
           3,
           3,
           3,
           4,
           0,
           0,
           1,
           1,
           1,
           4,
           4,
           4,
           3,
           4,
           4,
           4,
           0,
           5,
           0,
           0,
           5,
           0,
           5,
           5,
           0,
           4,
           3,
           3,
           3,
           3,
           0,
           5,
           0,
           0,
           0,
           1,
           1,
           4,
           3,
           3,
           4,
           5,
           4,
           4,
           5,
           1,
           1,
           1,
           4,
           4,
           4,
           4,
           0,
           0,
           4,
           4,
           1,
           4,
           4,
           1,
           1,
           4,
           4,
           4,
           4,
           0,
           4,
           3,
           0,
           4,
           3,
           4
          ],
          "coloraxis": "coloraxis",
          "symbol": "circle"
         },
         "mode": "markers",
         "name": "",
         "orientation": "v",
         "showlegend": false,
         "type": "scatter",
         "x": [
          -2.955128276560116,
          -4.363490860557923,
          -2.484663494692237,
          -4.115309070648924,
          -2.723455556260977,
          -2.3108421929026295,
          -2.709111882651727,
          -2.96021222670258,
          -1.9865783456229444,
          -3.125485226127832,
          -1.8330759305860271,
          -1.2187801301393537,
          -2.479063965705199,
          -2.0462585111789524,
          -2.8548595057746713,
          -2.6585111119009,
          -2.145646610422788,
          -3.049461746400362,
          -3.088872349769777,
          -3.0048096055420483,
          -0.754637392710334,
          -1.528563633919255,
          -1.693130806690785,
          -1.1815670827411215,
          -1.6830818399429828,
          -1.6123258408428447,
          -2.0926454754246944,
          -1.5577771301509225,
          -1.6888858409914673,
          -1.9156282013055295,
          -3.6553647636678757,
          -2.112657025558207,
          -1.2003145098172012,
          -3.067400763224387,
          -3.5411879759391542,
          -2.944447046909716,
          -2.7253817281508628,
          -2.9222778837993673,
          -3.1803729530352673,
          -3.2996135728900584,
          -2.995689321318378,
          -3.557515052453671,
          -3.1969480122408065,
          -0.668899249887013,
          -0.769625634735584,
          -2.042962666909267,
          -2.8031518413192957,
          -2.487220803008205,
          -2.250278121988853,
          0.17987912220491525,
          0.31914240157906304,
          0.005830467895776507,
          0.21666268845462233,
          0.5455607906180626,
          -3.488815256209555,
          -2.3715920497199274,
          -3.08389344655829,
          -0.8669335148320483,
          -1.0571286050258912,
          -1.3680559794312968,
          -1.884310093312401,
          -3.3048642209982346,
          -2.98344437452467,
          -2.878214962301165,
          -2.9732304643851983,
          -2.470902003744809,
          -2.3438947600317133,
          -3.1166397225579763,
          -2.5161602672843584,
          -2.954572204677819,
          -0.9277769511559764,
          -0.5124466748670368,
          -0.7360549837776885,
          0.1373095644990669,
          -1.7255535072458488,
          -2.356072207992978,
          -1.4840880208523872,
          -1.728307395046875,
          -2.555115419063411,
          -0.9021400456637142,
          -1.0185766066868072,
          -2.8187114525273778,
          -2.885283812201281,
          -3.171002724351411,
          -2.9977808739121046,
          -1.3567543313462525,
          -1.595805040999807,
          -0.9855025689399811,
          -1.3495789753432137,
          -1.6799247480095654,
          -2.0409118256053747,
          -0.23237904490138983,
          -1.1770067313807353,
          -1.1942247760438054,
          -0.655044501024209,
          -1.8055631972319408,
          0.8289670841416295,
          -0.06713827710918226,
          0.5220317870403857,
          -2.1973393682070177,
          -1.9229912099661952,
          -3.4737972655551226,
          -2.5373929705451252,
          -4.131398427821723,
          -3.1631323446600126,
          -1.534206141260849,
          -2.0120774868530935,
          -2.041429510637808,
          -2.540767238388285,
          -1.0901334644068017,
          -2.5544326043532757,
          -1.0029756458496453,
          -2.6439243502484393,
          -2.2375406686502006,
          -2.6690080097971247,
          -3.0153518467563507,
          -3.1043259554885227,
          -1.9105044848834323,
          -2.4134780286253217,
          -2.261847744409286,
          -1.4737406474268584,
          -0.3712519309561277,
          -0.6217582975778314,
          -0.7053961266705292,
          -0.2556072411844642,
          -0.1062116909492799,
          -2.8956420741341042,
          -2.6314090190034585,
          -1.7835619386394037,
          0.6043527647367348,
          -1.9162941967933487,
          -3.021708208078252,
          -2.8686357387859345,
          -2.352859138779798,
          -2.369555347669174,
          -3.3835976662443046,
          -1.9195535412033244,
          -1.2581593645679268,
          -0.9021846812570438,
          -1.2783496653009168,
          -3.5875193324954564,
          -3.0823064550910706,
          -3.7342280280000875,
          -2.4636275547052695,
          -2.0973422088424067,
          -0.46408869431421085,
          -1.1580353369181806,
          0.6857991093837859,
          -3.7689305158753372,
          -1.478152842088151,
          -2.178694682356796,
          -3.1664770099792285,
          -2.0946221039026462,
          -1.7857117145815506,
          -1.8247309705013088,
          -1.6478041553532055,
          -1.7274777518677054,
          -0.6437505057119762,
          -1.3524417740897194,
          0.6220321987484632,
          -0.20867968774861909,
          0.23520781943477073,
          -0.2881314984393991,
          1.4097657688949607,
          0.826031273136944,
          0.8308486400349337,
          -0.09637762775647638,
          -0.6185941833426972,
          -4.314957738012187,
          -2.0314710261952835,
          -0.43960949485973655,
          -0.8603102819648261,
          0.4468277369338989,
          -1.6243039078382535,
          -0.6143416802629302,
          -2.0534355209699036,
          1.5850459690566208,
          0.806783351218467,
          0.4769705919710083,
          0.9970362940356208,
          -0.25837449156837783,
          0.1847559613400439,
          -1.4849757713765623,
          -0.39994030046665013,
          -0.474121772739295,
          -0.9553867952555029,
          -2.1568771753345035,
          -0.7343883782321833,
          -3.092099261706973,
          -0.6109549972097746,
          -4.037423931823921,
          -3.6800077835539113,
          -3.081700343375391,
          -3.845208518237747,
          -3.147585587599515,
          -3.652095471681126,
          -3.376832151614071,
          -2.901677170191105,
          -2.243013221344185,
          -2.105748619215323,
          -0.7339956315235617,
          -2.1530709274655324,
          -1.8941430628270088,
          -0.8346836889083911,
          -2.60134623116535,
          -1.8692864437663652,
          -0.707108266104106,
          -0.7768255136098375,
          -1.5298953476004011,
          -4.162743912475218,
          -3.7745639173003465,
          -3.5239726500534654,
          -1.9987482514312713,
          -2.762223014349347,
          -3.572724397614368,
          -1.6953015005547865,
          -3.0208765480008832,
          -2.760725461719935,
          -2.581496894015696,
          -2.3109739647228453,
          -0.8959071404447035,
          -0.44410805195531444,
          -0.3315485135438733,
          -2.226008513404738,
          -3.62753134116298,
          -2.174067949736963,
          -2.5755401814354335,
          -2.1720626162579477,
          -0.9483091507778466,
          -0.24491924751429883,
          -0.3712671561694805,
          -2.6759905027851225,
          -1.8214292507539431,
          -2.497900047390334,
          -2.395863135418029,
          -1.9739035627445223,
          -0.10057847468185861,
          1.9957814986277935,
          0.059560844310679054,
          1.4543507066053596,
          1.193264361827951,
          1.0612977200388494,
          -0.0746759241117985,
          0.6863308852743655,
          1.5727049190868452,
          2.0681119475211265,
          1.2309900412148942,
          0.07920297134739995,
          0.3786781100860612,
          0.811214907819207,
          1.479753530846804,
          -0.079312315587301,
          -2.628346156578021,
          -1.75680609443697,
          0.4134421241124804,
          -1.0097670903467961,
          -0.5699698207630681,
          -0.8613591361887245,
          -2.5901660439754135,
          0.33738789647882655,
          0.34923096519305385,
          -0.20173504730152414,
          3.34570202294559,
          4.601880132061835,
          2.21830586021024,
          1.5501025208192911,
          -3.902659555339173,
          -2.4478555920821665,
          -2.470093243762584,
          -3.0206740373522973,
          -0.3820245143144604,
          -2.3547865118825433,
          -2.7181384975768723,
          -1.4073303512688349,
          -2.495978824934589,
          -0.6541735769701783,
          -0.5569706294137614,
          -0.8139988644897423,
          0.877992876867668,
          -0.5886049094634751,
          1.2069924560415206,
          0.4199554453999007,
          1.0087156714613732,
          0.5731136711176447,
          0.797735169142707,
          0.5598107982466173,
          0.15346622422794992,
          1.5207425489654776,
          1.2074812828244914,
          0.10523008041706212,
          -3.3156282201774165,
          0.2015637543804539,
          -2.7102628586418973,
          -2.194646291213259,
          -1.731217425921631,
          -1.7470102204364175,
          -1.2177051210349927,
          0.549250724565321,
          0.4884226124178151,
          -4.8325249776598,
          -3.4169156083416827,
          -2.470726021222384,
          -2.9586388961024945,
          -1.3216236193404889,
          -1.0530897748567365,
          -2.5674106648898753,
          -2.5852578961469512,
          0.8997378161303614,
          1.4189617224082094,
          0.9484638635508984,
          1.2919396147979625,
          0.5526755507328569,
          0.742005637556721,
          1.4164647591873263,
          -0.5734091952174708,
          -4.141864741815242,
          -2.488203183180541,
          -3.105144081234881,
          -2.572904630685015,
          -1.9201303510939245,
          -0.6137474674451449,
          -1.0638011223947128,
          -0.1632942035606011,
          -0.7169861911327524,
          -0.8336802131035916,
          -0.47683125867855614,
          -0.6062226973529437,
          0.777448888204114,
          0.2625609565104292,
          0.11457978024142132,
          0.4995344726943475,
          0.12707685579239178,
          0.6314239983821465,
          0.4432919646199163,
          0.3236152004603567,
          0.5566486313220397,
          1.8182704074070122,
          -3.05327728571258,
          -2.434875964622163,
          -0.12851506388486814,
          -2.2396336440276547,
          -1.1641979618149503,
          -3.59046110202712,
          -2.4717467771635975,
          -2.3747511994222084,
          -0.4507552204958041,
          -2.350953935620319,
          -1.5296863126552447,
          -1.1673679379017103,
          -1.178923944144405,
          -0.3377447994494616,
          -0.517776252078681,
          -0.5836845875585526,
          -0.18635047453535938,
          -1.2174554970252267,
          -0.7561213873227067,
          -2.7180021356348396,
          -1.0275152223296118,
          -0.6202306232988455,
          -0.4342856388549051,
          0.4799129566820565,
          0.013968854766061231,
          0.2441932719555296,
          -0.1287610524546093,
          -0.78180899957412,
          0.8174963745498085,
          0.8630611006996703,
          -0.02678649051737623,
          0.020033218549317618,
          -0.16051222182233668,
          -2.1355865611662272,
          -0.3256399326025019,
          -1.3700388410561088,
          -1.3553456611384163,
          -0.36409731912908033,
          1.379834726879619,
          -0.408135609985787,
          0.6209857541184036,
          1.5766262520467118,
          0.1255767737556498,
          0.9842386885948152,
          0.9198818134723525,
          0.7529347450557442,
          0.8333700526337167,
          0.4583369821995925,
          0.960462197033145,
          1.4403169268368579,
          0.4954470152140201,
          -0.02999018782977241,
          -0.6260243881420755,
          -1.1779623094468121,
          0.17407576537311567,
          0.4490579851204805,
          0.1778265174918215,
          -0.3314264267759517,
          -0.22097984962215478,
          0.9610185879507933,
          0.5851870524299806,
          0.36493760849478335,
          0.07350229767588563,
          0.18912666846242107,
          0.19498870753725778,
          -0.22112254174018098,
          0.058221048994113324,
          -0.8263214929860898,
          -0.29984351544954996,
          -0.20346127023588315,
          1.216155467018133,
          1.1529935728890144,
          2.0526193302295876,
          1.04329112981778,
          2.061522045355367,
          0.9097900604991487,
          2.7039570723314252,
          1.19296287365784,
          1.1522145511939184,
          2.762081949816962,
          2.379019363351211,
          3.5456827023432345,
          2.52869712539086,
          1.593665045122422,
          3.0814230091282693,
          2.310558971396262,
          3.5488099423512596,
          4.096182979263164,
          2.0483464681618675,
          3.3384664534865967,
          2.9542386398832523,
          0.7163192045861659,
          0.6940284958599875,
          0.020963773616933797,
          0.3962374932434329,
          0.10260746458159441,
          0.5488856463165457,
          0.510404491940632,
          -0.14003400947493524,
          -2.1382556082704074,
          -4.0411063719640445,
          -0.5700253126855535,
          -0.399126014518209,
          0.7257040469170251,
          -0.5601207353176814,
          0.16686055397793584,
          -0.6256287732111103,
          -0.49804610877582256,
          -1.2687423285915254,
          -0.6784748915292175,
          1.1154002994998178,
          -0.39520651283201597,
          0.2543043904217907,
          0.05199534207994281,
          0.18485911884658357,
          0.0780287985481821,
          0.7757727004144637,
          0.05151471034289631,
          1.0872559195481077,
          -0.01495269767917114,
          0.457114945214697,
          1.484734772539813,
          1.3248369763798542,
          1.508436350888678,
          -0.20686588602781522,
          1.604021725022122,
          1.835016789997775,
          1.910043407515713,
          0.599335170761925,
          0.9218664792124283,
          -0.8084959069251949,
          0.2837006771811956,
          0.5899297345843224,
          -0.3200814523644854,
          0.4382573521784321,
          -0.5128018504480101,
          1.0726336125075517,
          1.1796655565929404,
          1.2330407988198737,
          1.410519280899374,
          -0.2555810979894531,
          -0.40478514521167214,
          -0.29756331651017337,
          0.5684269667966255,
          -0.3576265062902301,
          -1.2878170171572572,
          -1.4818060504519674,
          0.25481809516273335,
          -1.3297646173122954,
          -0.008411867583259477,
          -0.1041360404104627,
          0.6999972675685107,
          -1.1589878928473913,
          0.15662049808896564,
          1.6719034239684947,
          -0.007366030642690246,
          -0.33484797967351926,
          -0.4702302351242885,
          0.5318059586180658,
          0.569880589020921,
          0.968521163763752,
          0.5353845317931314,
          0.685730731383733,
          -0.21266254376020077,
          2.2749842041831245,
          0.4679284742413389,
          2.1676716774611746,
          1.0131230862006229,
          0.8415352181716946,
          -0.0661848309009031,
          -0.016226993097410693,
          -0.13265777863086173,
          -0.7296576136387117,
          0.2188272181270397,
          0.3382154560653628,
          0.5673153903529813,
          0.5693107942330771,
          -0.0038563062363098422,
          -0.19284411518578087,
          0.08735095635862208,
          -0.16439614267129302,
          0.5836614291393286,
          -1.207497473588494,
          -1.5830930835587462,
          0.10557706322532978,
          -0.865929395856236,
          -0.061031217750317945,
          0.9186579343698452,
          0.6483476539759785,
          0.1173990451626187,
          0.3828610754052291,
          1.0630236437436693,
          1.5686563031004352,
          1.1687665899413513,
          0.24698596744823315,
          0.9392320921530667,
          0.8414832470175326,
          -0.2919533329610065,
          0.433617393726253,
          0.23883108955147445,
          -0.7305212332532253,
          0.971135620824773,
          -1.458232698728131,
          -0.9979403839345391,
          -0.12040631096975056,
          0.07771832422904924,
          -1.433953466244866,
          0.9441824578344525,
          0.0407153041271405,
          1.9544612407967223,
          0.2278135607066622,
          0.3993185851961163,
          0.01759997040265697,
          -1.939991931632597,
          -0.13450033816158008,
          -0.8973366538406652,
          -0.5851115230361238,
          0.19367283172720995,
          -0.019669213327454735,
          1.5030879965025319,
          3.4486794004545236,
          3.1519136660426916,
          2.6285734360598156,
          2.4975981997847274,
          4.148352378886994,
          1.9039294876484245,
          2.8762335650712956,
          2.5609703280317335,
          2.6320331441362774,
          1.2114062380542825,
          -0.8870490664319999,
          -0.2738088769773748,
          0.5508235466461268,
          0.3958975297014341,
          1.0507933580762996,
          -0.0022194009435685656,
          0.63062540358306,
          0.7299881216558234,
          0.518589282506854,
          1.9840215797153002,
          1.3254880435415912,
          0.5067708293953873,
          1.0450022274403463,
          0.4089478030739413,
          0.3185147443714849,
          0.23105989197203383,
          3.675193358398895,
          2.5618442571686573,
          2.3418750313031014,
          0.9632465848140797,
          3.3554799509216853,
          3.8151628311861168,
          3.376764547706324,
          2.1133042250411953,
          0.32868766021754514,
          -0.20737719392157306,
          1.197736379180385,
          0.10647437592199417,
          -0.232490069195176,
          2.76140496883981,
          2.3013169937781544,
          3.5075383945265592,
          2.886209134530028,
          1.2911377182123398,
          3.163461564681131,
          2.9605151653726325,
          3.588330768427734,
          3.124439079180617,
          2.2461921630346255,
          1.3419892617968177,
          2.096824248244159,
          1.7148035952607537,
          4.766377107182216,
          -0.8398207833381095,
          0.30033804312656665,
          -0.30255904177978,
          1.1920881262458818,
          1.0858930340143573,
          1.0689690736682174,
          1.0571701614241111,
          0.5135895276044039,
          1.0345567782281468,
          1.6151667435789778,
          0.7254940719949485,
          -0.4839098588878616,
          4.116307568471713,
          1.8347178146564482,
          0.8781721264710631,
          1.2095552525016278,
          1.790546441880866,
          1.4784465618450287,
          2.035972620184061,
          1.3581369318549605,
          -1.0023920893961582,
          0.4682456551459978,
          0.37126564682814206,
          1.33054101250045,
          1.804304867262993,
          1.0858694193566185,
          0.8391026738344469,
          1.191467520074708,
          2.606583584845405,
          2.6335515615684373,
          1.188525808960596,
          0.9278604427513205,
          0.6622084391350458,
          0.2199245425120559,
          1.1677315247505722,
          1.0327160967415916,
          0.5485210650547311,
          1.9614777862313089,
          0.8712350509556513,
          1.3270483943179192,
          0.8549470903886304,
          0.5870455180659334,
          1.4569085907187678,
          0.9821119250100612,
          -0.08077830026707061,
          1.132997347760983,
          1.2421956465265047,
          0.5674747057113283,
          0.1837807977071118,
          0.5696293634929932,
          1.350066218563243,
          0.4561426156918253,
          0.4842098614974003,
          0.7504813882082769,
          0.9153484036347638,
          -0.37735502792409487,
          -0.16818263510053547,
          0.8049101915226815,
          0.7865488441397759,
          1.639414754083037,
          1.4249645426647752,
          1.2836790867049543,
          1.2757311691406885,
          1.375141774516477,
          1.3651165493733879,
          0.8701257665916876,
          1.0343033726483732,
          2.1548695919313436,
          0.837181435626179,
          0.36407826387131603,
          1.294832890672496,
          1.0091259941241912,
          1.0271788598522065,
          -0.13242956603574085,
          0.4638563314362856,
          2.0006335328601246,
          2.3123965391439314,
          1.6551725205100436,
          1.547327426853755,
          2.8859652076602536,
          0.2725173285361243,
          2.8745957091676466,
          1.3541101846309311,
          1.5135142654850817,
          1.6996682795067328,
          1.3744083533496119,
          2.9177981821893995,
          1.8811509302215903,
          2.1721964391427773,
          2.274625498528104,
          1.554736828144258,
          1.3271603647317893,
          2.074566704026524,
          0.8439425376416767,
          0.5976879199634781,
          -0.4092844353987267,
          0.1948829538478713,
          0.45146175744855616,
          0.6644098571379178,
          0.27347086554881794,
          0.2194381514269304,
          1.008925346484225,
          1.6420553715259723,
          0.3728703101708802,
          1.2719291631999106,
          -0.862333097282973,
          3.143062659162387,
          3.2113703267957443,
          3.432075784042609,
          -0.4821442244499364,
          0.9923955115018579,
          2.6522019323759967,
          1.000312689868974,
          1.4470706939358753,
          2.8782800381036218,
          3.464637778531095,
          3.117142509044951,
          2.490465689405814,
          2.663277352684726,
          1.8185806967303377,
          1.9493810595954884,
          1.1435711859125344,
          2.2669586662900856,
          0.16262557021574198,
          0.40352967027989295,
          0.16220604723159482,
          6.402075882730545,
          4.866298536264395,
          3.780490458535736,
          4.151633461901298,
          4.327850777733534,
          5.656492965720865,
          1.159689235423177,
          0.3902092413053024,
          0.9706104413081968,
          0.43149182243731765,
          -0.3259376779127073,
          1.2775296203342839,
          2.214561228398193,
          3.62303453834965,
          2.9868789281155688,
          3.601261027101503,
          3.6220735511370075,
          3.6717091301183014,
          3.690395885790681,
          4.267289351381196,
          0.5180015167551401,
          0.5068414420880314,
          0.8949732989810996,
          0.9439664692042563,
          1.4077155221066027,
          1.3053744836907517,
          2.3260190843734705,
          4.253539113707918,
          2.6178402407830603,
          2.897321382303649,
          2.4516904931052994,
          0.38808585211865504,
          1.8773020189385288,
          2.0975046621072972,
          0.525500048675139,
          -0.28408941932057397,
          0.6200758871281496,
          1.918228816988926,
          1.5781920713281976,
          1.5547121158185544,
          3.0928088796271798,
          1.4367823548192096,
          1.5395985899229554,
          0.895764927161723,
          1.3086029086995692,
          0.5253733992528392,
          0.8820041202057263,
          1.7412915236471327,
          0.6188802179904453,
          2.0715642924177557,
          1.7888961059663575,
          0.6460093649328312,
          2.001095592712888,
          2.0862636528211027,
          3.8405409810283277,
          5.37765278012848,
          3.501008993496633,
          4.860580206087198,
          1.9833378597939524,
          1.0290041793626796,
          2.110642114466392,
          1.043470767435962,
          2.6219076422348757,
          -0.18898202430250213,
          0.06951441669085799,
          2.00730722963311,
          4.691724281557461,
          3.1940781324468617,
          0.5022907478623506,
          1.66326304356463,
          1.7736604620088865,
          1.382330202484897,
          0.22564242388742892,
          0.3700155051530953,
          -0.11245876345432693,
          0.4943958322452648,
          0.7190941427698808,
          0.5385616142629465,
          0.45469518602673775,
          0.9349052696761988,
          0.9501375437021468,
          1.5555501286421654,
          1.8652177046552303,
          0.7897323948304217,
          -0.009969582512843418,
          -0.15734625396269217,
          0.9840341690217339,
          -0.3829511430998786,
          0.22928784026111892,
          0.7360674474844464,
          2.0453436424779836,
          0.9405170723514876,
          0.7491093738224553,
          1.9550687680668066,
          0.9938338062953307,
          3.5823656143321596,
          2.151266451460432,
          1.8778866972942267,
          3.8715684602338665,
          2.089119666354027
         ],
         "xaxis": "x",
         "y": [
          -0.754138675423975,
          0.41945548615552675,
          1.35269127337198,
          2.5236933690412537,
          3.02304486699072,
          2.286689465608458,
          2.176609356009273,
          0.3143574740221859,
          -0.6781531188697163,
          0.5019277974812508,
          2.775819871552508,
          2.46743930933365,
          1.8413534632301012,
          1.608938211407482,
          0.1490077698294423,
          1.3506643068611277,
          -0.6950817748577891,
          1.151824220250671,
          0.7019642333137859,
          0.7782505179715682,
          2.7680975733860658,
          1.5821300178876132,
          0.8634277403438759,
          0.6617314349236619,
          1.23946144294912,
          1.6995344929676366,
          1.2824908847656,
          1.2852518122030403,
          1.6376685409156098,
          1.7263735473443498,
          2.0846873484642208,
          0.4951988974999184,
          0.26906159619142384,
          1.6659027243284423,
          2.168156228115924,
          1.3404051791145242,
          1.0521936024557437,
          -0.4744802044559112,
          0.7428835900269468,
          -0.9536329701583307,
          -0.5735909493574487,
          -1.001919844758814,
          -0.3728539805226737,
          -0.5511340713652049,
          -1.3118775741249382,
          3.5575943576109577,
          1.2604433659376588,
          -0.2593283005942676,
          2.058443483920038,
          2.017348365898018,
          3.566600436976368,
          3.6377847018903497,
          1.9237499834050387,
          0.4013937143321503,
          0.5634953085991319,
          -0.646620789992094,
          -0.2862870949239539,
          -1.3312744687816835,
          -0.5438469955151727,
          0.36017547261652666,
          2.026496345212896,
          2.263607160661969,
          0.6234110951012943,
          -0.6584180499222468,
          -0.3355321428358539,
          -1.0331890031504336,
          -1.1698737513244666,
          -2.037181608908102,
          -1.8942015086400417,
          -1.3958801531811489,
          -1.9332215913585096,
          -2.6542129158190906,
          -1.4361030229130147,
          -2.9717201540617144,
          -0.40278281669573945,
          1.8669536088727736,
          1.7277272113165525,
          0.8462621482935154,
          1.5548317699959815,
          1.8482378591447892,
          2.376426355247515,
          0.8376770190229855,
          0.2878805962697412,
          1.1088478207846508,
          0.2212087923438156,
          -0.05643040206335919,
          1.2602852750143825,
          2.2136359687097302,
          -0.236638599199422,
          -0.6644226141362394,
          1.4857606722938514,
          0.40234318005452874,
          0.8377400641122873,
          0.7239980508972408,
          2.646147506398352,
          2.8537632477139465,
          0.44168767809332327,
          0.5376547318913781,
          0.09988715806580223,
          0.10933899379542929,
          1.5963789285551793,
          -0.9791551777066207,
          -0.500997033891876,
          -0.2651155372352868,
          0.6329070803999538,
          0.2907688780417418,
          -0.7604959673671685,
          -1.2388264470103678,
          0.06835567491439157,
          1.2362549622334067,
          1.6468950069533943,
          -0.6951808760853934,
          0.7865447249740628,
          -0.04027794986483682,
          -0.7381555132395488,
          1.3173887521580372,
          3.0047791280217315,
          0.704433096876142,
          0.11980960848600536,
          -0.18186405359692154,
          0.027346528588104154,
          -0.16636114709990257,
          -1.2401087294466258,
          -0.469563792103611,
          -0.8273318548347964,
          -1.427482932687609,
          -0.643782977200136,
          1.2857865187912423,
          2.687410330147966,
          -1.0026939029566657,
          -0.7775214784152079,
          -0.604353007253061,
          -0.0016950749476074458,
          0.23216690775579735,
          -1.4894720273048685,
          -1.823147040483919,
          0.7652493756113224,
          -0.040882165211226076,
          3.5499988097664876,
          2.792627103328403,
          0.3348310881144961,
          1.693182592887025,
          0.07016686514365586,
          -0.47650430054148324,
          -0.3289963109560296,
          -0.30559632383294955,
          -0.8672053538315935,
          -0.13418576038684885,
          2.124576694712864,
          1.92484240489604,
          -1.1019447964080635,
          -0.4753128842130867,
          -0.6585199946168254,
          -1.7413789797049293,
          -0.34621044142035096,
          -1.3331863229409568,
          -2.2544219748148953,
          -2.9716683822662806,
          -1.2464546014814284,
          -2.4562407044994323,
          -3.0676278620996897,
          -3.0201125576440493,
          -4.144451821598356,
          -3.1207310926812726,
          -3.7869066997275853,
          -5.144902907518993,
          -4.204363876580149,
          -1.2320554308759095,
          -1.2077906890755699,
          5.2185855672375725,
          2.6227612129844147,
          2.013957492640663,
          2.575834102295407,
          2.715976436891053,
          -0.039329821451978345,
          -0.24716036877265768,
          0.9578664613631009,
          0.3326294616080292,
          -1.1129325984997305,
          -0.08513162759906737,
          0.0322228235539582,
          3.831928428596737,
          2.4867736998823338,
          2.662118850043883,
          1.5900094499003923,
          0.4429421747150402,
          -0.02859406486888677,
          -0.08666857522845488,
          3.886386420532215,
          4.2305781229348804,
          -0.004550586516390666,
          0.06423753657865755,
          2.993885000505527,
          1.9931740832470253,
          1.9466719173644476,
          0.41296632413329265,
          1.5980959253907068,
          0.651704778066824,
          0.6041056991692951,
          1.6777937081107195,
          1.2407356987861993,
          -0.008134688223279353,
          0.8235617288903201,
          1.1787901840233426,
          4.656492884467973,
          3.46084501213973,
          5.772130683610473,
          3.812855982621835,
          4.791060689513489,
          -1.133316243451777,
          0.08052668183576162,
          -0.05583543297457558,
          2.7326031445032375,
          -0.19499599738705398,
          0.03827593078036187,
          -1.3721402485448728,
          -1.3758074418349162,
          -1.7133252154857743,
          1.9083474527009687,
          -0.759318869103275,
          -1.677209694582125,
          -3.134447645975154,
          -2.839430514267476,
          -0.16118012093085501,
          1.0347465248174266,
          -0.4103915733528113,
          0.6762760557695006,
          0.3484649665158104,
          -0.5556788019961767,
          0.1330709315972458,
          -1.1337690442074486,
          0.5154581959712358,
          -0.7773435499987862,
          -0.6032612981938289,
          -0.7968491016521368,
          -1.1581113523019588,
          -1.5041721940483934,
          -3.589631262902614,
          -2.852423489228434,
          -2.843802490984752,
          -2.682386382503217,
          -3.204320624083991,
          -1.8989409084320077,
          -3.104904086237801,
          -2.635091359802965,
          -3.4335764945155396,
          -3.3237857999465215,
          -2.8113849616274424,
          -2.097046209325262,
          -3.390778045981448,
          -3.667328652217418,
          -3.588720986737749,
          -0.5484482496790198,
          -0.444968799868388,
          -1.4341662988505022,
          -0.2834281987253999,
          -0.07283559967769405,
          0.030320427784640433,
          0.4367838356269692,
          5.035466338278442,
          6.640297244343637,
          4.663626529406229,
          4.84419640737274,
          3.5831253145209634,
          2.1526310832801587,
          2.198905934593311,
          0.32792239792112654,
          4.4006712048650884,
          1.431648044135002,
          1.237107191429198,
          -0.9305617677283948,
          -0.39817223787796874,
          0.1882632202897986,
          -0.3142517859019855,
          -1.1723822301427878,
          -1.9301358673900852,
          -3.0505505844658107,
          -3.5418063517189182,
          -3.0756001943995086,
          -3.966398848208393,
          -4.188168512075233,
          -4.087431573348054,
          -3.092161038649306,
          -3.182048033077778,
          -3.5613316463958578,
          -3.899279879626199,
          -2.557285930720241,
          -3.0544350157711433,
          -3.797388336010501,
          -2.8563531630277237,
          2.262157931781148,
          1.6949225479790888,
          5.013896052671351,
          2.0071834612433084,
          2.13408720336971,
          3.2127110525739533,
          1.670904031500636,
          0.5766865104398634,
          -1.2033656336592347,
          -0.3765770746318466,
          -0.5017718809036428,
          0.7493395867627888,
          0.7545942330433629,
          -1.6410044654755636,
          -0.03303549728264518,
          1.3468229787594859,
          1.6953262214220173,
          1.05863146994993,
          0.6966169380627938,
          2.112351978729929,
          0.28872899629077375,
          0.5745790860924209,
          1.4536358743598357,
          1.5782336297511337,
          2.858675130253944,
          1.9357776167391934,
          1.1767062556561945,
          0.07263014087604161,
          -0.6903155437774757,
          -1.604523030774909,
          -1.6403448673821848,
          -2.8340139846131946,
          -0.294975287366532,
          -2.0513818475462484,
          -1.4211024306267863,
          -2.170145313973973,
          -2.3220405245201112,
          -2.657454380941939,
          -2.0077915975531244,
          -0.35042860931251557,
          -1.5159409664049983,
          -1.8748595529533472,
          -1.0782531265393003,
          -1.7260776368947088,
          -2.580367660383959,
          -2.3411665451997252,
          -1.8008494822581778,
          0.8143111871886703,
          2.7258114769701325,
          0.20204966163914165,
          -1.1213799068289114,
          -1.5784721647857707,
          2.396335282190624,
          1.858910237863714,
          0.45290830409669475,
          0.7803678193767731,
          0.389300767660592,
          0.34419977919718137,
          0.8043100627602466,
          -0.18480250432589207,
          -0.4561558073505981,
          -2.306595346401212,
          -2.0517766115726266,
          -1.1746556836475137,
          -2.3932573795870886,
          -1.35189209677515,
          -0.2615398283617333,
          -1.7250454899651895,
          -1.0568121501778787,
          -1.4621964819118078,
          -1.295863983548861,
          -2.332683469671873,
          -2.5736560554746624,
          -2.209238225682557,
          -1.368099507314288,
          -2.651130410985543,
          -2.6031913277049994,
          -2.931954234925436,
          -1.7134346228963073,
          -2.0342678703759276,
          3.1383967345575843,
          0.972884957843986,
          1.6326361058288543,
          1.181145266055413,
          -0.2153682204676361,
          -0.15382594584663195,
          0.21233768776606454,
          -1.0429328891717988,
          0.7276320891079199,
          -1.2975015930304636,
          -1.6352528581025907,
          -1.4954985254689248,
          -2.6036914063738377,
          -2.7144304649332693,
          -2.807964108508388,
          -2.9021855266836787,
          -3.1714919738538487,
          -4.011649949267841,
          -2.4504445019223273,
          -0.38547126870258186,
          -1.160938402794778,
          -1.7314751285316727,
          -1.9829855354037424,
          -1.9976685819794624,
          -2.548358970330731,
          -1.5354646236147775,
          -2.3206780141560004,
          -2.0546770500866236,
          -2.99428335685448,
          -2.4897751007140023,
          -2.8272428326777916,
          -2.6877507953933817,
          -2.4632272941005726,
          -3.070190455277927,
          0.8590682206275202,
          -1.5399542095994982,
          -0.6120456922395949,
          0.8446010147713179,
          0.7964272843333486,
          0.47620894665584657,
          0.39673900088669944,
          1.3652770413125785,
          -0.29367456643604206,
          -0.7574128373887565,
          0.6215600342179268,
          -0.45359507390115267,
          -0.05430335653910561,
          -0.0838615334484198,
          -1.8107267912355747,
          -1.274485060873095,
          -0.7164881406762971,
          -1.4963225424396247,
          -0.9654035463026182,
          -1.613208076618637,
          -1.5810208806489072,
          -1.3448332526614641,
          -3.1286341194692917,
          -2.4437937201224567,
          -1.301640620808764,
          -1.5943918863801485,
          0.7007052688202188,
          0.6975819417813902,
          0.5228203136773376,
          1.9488353614405973,
          -0.47192248345317156,
          1.504500726116878,
          2.9337413222009845,
          2.1448740870709013,
          -0.3898013344848387,
          -1.480136253288197,
          -1.1034640350724267,
          -0.3255132202440911,
          -1.9444013347112565,
          0.3955159823344278,
          -1.4598084739160373,
          1.0009312302843916,
          0.2866474367214894,
          0.23930586928210087,
          1.0991448070670766,
          -0.6763950470887403,
          0.2795714224265314,
          1.3529720133011183,
          -0.0845261727639563,
          2.362616746746629,
          2.0787175158603652,
          -0.17247473220957937,
          -1.1023511404364343,
          -0.7195258345507386,
          0.5819576276612358,
          0.7423827875410344,
          -1.1508676860823843,
          0.008809619280069582,
          0.4720425580376267,
          -0.33491955015439717,
          4.3200871124087525,
          2.4620136940617976,
          3.2097602948903536,
          0.016525800972859255,
          0.28665604805399286,
          -1.6244385723281975,
          -0.9419690214873504,
          1.2974297494481977,
          0.14997991771837718,
          0.5676042541493439,
          -1.0266868978962633,
          -1.158292580457353,
          -0.692373279055082,
          -1.489095106594242,
          2.3435698273210646,
          0.9474976495092499,
          2.351620579921394,
          0.32957472942697746,
          0.03650552023821282,
          2.0300280689932615,
          1.1754318519210107,
          2.0053463329899865,
          1.2613021516123255,
          0.6008992910611334,
          -0.0009224114064340782,
          0.19248115781604325,
          0.5815382427393228,
          1.6662502737579366,
          0.8526928925166005,
          -0.16993273603255002,
          -1.6405256699986066,
          -1.6974884156050474,
          -1.9378916054262167,
          -2.651327340739822,
          -2.2632774662930832,
          -2.2695450251870097,
          -2.0626702708125357,
          -2.5003763066822526,
          -1.039002830476146,
          -2.4340120737907447,
          -1.869622476549617,
          -1.8446529003280965,
          -0.7269513679055347,
          -1.0344477316230254,
          1.2528121273772872,
          -0.851775549564605,
          -0.44944510304456925,
          -0.8173564182572818,
          -1.4961940701832237,
          -1.2898198464953197,
          -2.1124357720223403,
          -1.8106149523174293,
          -2.2400759819470033,
          -1.3036511910981836,
          -2.2448829982183787,
          -0.7641740501840211,
          -0.5507780670497352,
          0.1504408996188049,
          -0.6374099974257337,
          -0.6275963362154642,
          -3.4026775711707757,
          -1.911434653906908,
          -1.7842627497279675,
          -1.1613447531832333,
          -1.7859979192305786,
          -1.1436216061607176,
          -1.7311558313346747,
          -1.5526512730392223,
          -1.5312887653808074,
          -3.015135665971515,
          -0.9693246841904717,
          -2.0176076284138977,
          -1.5540659940935233,
          -0.8118582056512594,
          -1.2377387756137779,
          0.9895740383052811,
          0.5542826894986117,
          -0.33581584784075724,
          -0.035664184854691944,
          -0.17890611089613176,
          -0.268417797930953,
          1.0652749877984957,
          0.06746803918901129,
          -0.17595333530798804,
          -1.338951545559164,
          1.2272243883084955,
          2.7978491646234698,
          0.7193834829365928,
          -1.3018668298051126,
          0.36973298375481684,
          -0.6860256250591826,
          -1.912043887728136,
          -1.878625654689632,
          2.970546192337582,
          3.260938733693594,
          2.2143967765004677,
          2.290236803983581,
          1.9655606385172255,
          1.0129732737370416,
          2.8083318580719334,
          0.7183311405909986,
          5.155473353892468,
          2.0551563646894837,
          1.618147034501157,
          0.016809442289318126,
          1.6910686674266366,
          0.5497018453992646,
          2.729505957739206,
          -0.6134975681741551,
          -0.6996226926791743,
          -1.6840375014303364,
          -0.16128329676548883,
          -0.6790751251262451,
          -0.028760123339599025,
          -0.8368432050508212,
          -1.4458984815976474,
          -0.8247354374667942,
          -0.15546790540786978,
          -0.9845295334069102,
          4.940116679343379,
          3.0406392505749613,
          2.5812842583215616,
          3.709678984328701,
          2.583847352854063,
          2.464216856286846,
          2.7529715815382367,
          2.2270929460177413,
          -0.6074388211391605,
          -0.5172144122831634,
          -1.3728227065404772,
          -0.9960146565482846,
          -0.5157490420682087,
          2.144179573858391,
          1.9156528467316356,
          3.508514049933172,
          0.5861689256890412,
          -0.3749620370088522,
          0.865735301101142,
          0.5723440957585821,
          0.07576276793840264,
          -0.09601499846206295,
          -0.3602638499084686,
          1.1111852862915055,
          0.9318215242850557,
          0.33575357008378,
          -0.6692072306107567,
          -0.609939273113603,
          -0.7639979800467288,
          -1.435934189504434,
          -1.7356554460675364,
          -1.807313538077573,
          -0.07463887321124262,
          -1.8503613821384235,
          -1.218641560588539,
          -1.4492860105749015,
          -2.0240260528221015,
          -1.8262518248155342,
          -1.5165015001608235,
          4.137874055455787,
          1.606552842263809,
          3.3834472455148865,
          -0.3873323079513525,
          -0.265677347334264,
          -1.5947689007036845,
          -0.44844321657917596,
          -3.0053823637156256,
          -0.6965791360459392,
          -0.3091726474592518,
          0.9900434818102212,
          -0.27696028975765585,
          -0.5313634794562715,
          -1.189419379355412,
          -0.031708847217256704,
          0.820106392434065,
          0.9212033000332711,
          -0.5040720338897445,
          0.7047252765508736,
          0.40534045632441235,
          1.940777299448885,
          -0.3913278263830674,
          1.6566153690491343,
          2.505753920735755,
          1.6451376720079183,
          -0.4827443510581429,
          -0.8382009542547447,
          -0.11764415538252088,
          0.31103991115040897,
          1.0658052678518395,
          0.6436743230268406,
          -0.6292080475633479,
          -1.3756048181894727,
          -1.622772972976664,
          -2.5455570059895054,
          -1.606831479683682,
          -1.3090796563375107,
          -0.9117529079538602,
          -1.1362306098126382,
          -1.7103410811728441,
          -1.546500756830321,
          -1.9777565654770959,
          -1.2546845906740465,
          -0.8576825298147681,
          -0.6516747561678812,
          -1.056762009129297,
          1.7726369980244088,
          -0.5244286919185481,
          -0.3813481299035786,
          0.5788509880931515,
          1.4839025239992583,
          1.9974355790425085,
          -0.014447876544702226,
          -1.1963348742467435,
          -0.533229984764686,
          0.11525858239031546,
          -1.5967934546682827,
          -0.28745379641417623,
          1.6588844111159615,
          0.40126576236581146,
          0.0851360314839753,
          -1.3034272513454646,
          0.2550102009284998,
          0.765174815455508,
          0.5542907430792985,
          1.086867018378201,
          2.705200608749405,
          3.278408669544129,
          -0.7419120222080738,
          -0.6877292870982408,
          -2.07064695429083,
          -0.689313655964878,
          1.4463141087104996,
          -0.3615299863164248,
          -0.07085569527498993,
          0.6249424730005451,
          0.9488106749268006,
          -1.475018894118438,
          -1.7699019072084075,
          -1.2728477418417203,
          -1.7088580805142102,
          -1.8742436216650527,
          -1.4685357481783519,
          -2.1506306014378977,
          -1.1530738931673346,
          -1.264697409443641,
          -2.2612656677161125,
          -2.4037784688342256,
          -2.6854621871118045,
          1.837763525089228,
          0.5485729205885862,
          0.77268784262257,
          1.097640097041937,
          -1.7895041472117217,
          1.650319681620007,
          1.5334033299801488,
          -0.07120357403301551,
          0.11675277598840436,
          2.5699922857096924,
          0.05627013553162537,
          -0.27438815913463427,
          -0.14588355462321137,
          -2.2136820263145194,
          -1.2433469690173815,
          -2.092574620301502,
          -1.5814476729721225,
          -1.5752258082963422,
          -0.9084374137389198,
          -0.15317449060512559,
          2.0405177086523665,
          2.391302920937101,
          1.464647096219478,
          -0.6081864334355329,
          -1.1516351849931967,
          3.927182658309744,
          4.853513344139627,
          3.2449210481783086,
          3.6763480430365796,
          3.006522095043383,
          1.2624618124411164,
          -1.784648221211905,
          -0.5579822324782737,
          -0.950376996982001,
          0.10061087357666998,
          1.3973217657138908,
          -1.2538296578988841,
          -0.4563811012055181,
          5.1789444181250905,
          3.1685934401407208,
          -0.2631509016917708,
          0.3257992732460892,
          1.4511793410429046,
          1.5706644625736268,
          1.2910631114886562,
          0.023054983775421607,
          -0.5625678174742287,
          1.2471450216362157,
          1.4846606116591208,
          -0.755213636826084,
          1.1078233714608727,
          1.4296000222415293,
          2.277780392784852,
          1.193289644963767,
          1.309027607930356,
          1.1768975849029457,
          2.301146527638747,
          0.26221102453197764,
          -0.8220905240647421,
          -0.21920553966181155,
          -0.05133572500060737,
          0.05197614044296516,
          0.20151536887415744,
          1.8908947079552894,
          1.219562203392786,
          3.018457836737539,
          1.2662385407209182,
          0.06884760735305864,
          -0.19209375627435463,
          -1.7173483486114969,
          -1.4862534121922863,
          -2.1627137726836203,
          -0.992454392778982,
          -1.2702442676994672,
          -1.2031545905209262,
          -2.015412406396517,
          -1.8983877816719978,
          -0.36303922099068914,
          0.26993898180433795,
          3.506687660873959,
          3.9906074393257227,
          2.445248880328128,
          4.884451265169066,
          -0.16476284457195067,
          -1.478883997704989,
          -1.2453580372748672,
          -1.5989929155191227,
          -2.349209685926225,
          -1.149293001477222,
          -0.35484191611376864,
          4.291716995146244,
          7.644763008523421,
          3.8956215713692295,
          0.20606411148235595,
          -0.5767141851776677,
          -0.02031002000074034,
          0.4039988866086664,
          -1.0935504992061678,
          -0.24518317243211254,
          -0.4699536732921839,
          0.04313921015268974,
          1.7659331238547602,
          1.2804653789221132,
          2.0278410249128145,
          0.14783661869160025,
          -0.33241886446433894,
          -0.9893240032498202,
          0.7348788467703682,
          1.7053682171244273,
          0.5889353535708691,
          1.9059317856475462,
          1.6500303659306244,
          -1.0337921022319259,
          -0.26781855447470265,
          0.9586125604357574,
          1.222837283731131,
          0.8703760739120476,
          1.8715838206907165,
          -0.9489374499424266,
          0.4681509095707769,
          4.865436017862404,
          -0.14276697530352114,
          2.7507017556739006,
          2.4970009621850964,
          1.2087170583970572
         ],
         "yaxis": "y"
        }
       ],
       "layout": {
        "coloraxis": {
         "colorbar": {
          "title": {
           "text": "color"
          }
         },
         "colorscale": [
          [
           0,
           "#0d0887"
          ],
          [
           0.1111111111111111,
           "#46039f"
          ],
          [
           0.2222222222222222,
           "#7201a8"
          ],
          [
           0.3333333333333333,
           "#9c179e"
          ],
          [
           0.4444444444444444,
           "#bd3786"
          ],
          [
           0.5555555555555556,
           "#d8576b"
          ],
          [
           0.6666666666666666,
           "#ed7953"
          ],
          [
           0.7777777777777778,
           "#fb9f3a"
          ],
          [
           0.8888888888888888,
           "#fdca26"
          ],
          [
           1,
           "#f0f921"
          ]
         ]
        },
        "legend": {
         "tracegroupgap": 0
        },
        "margin": {
         "t": 60
        },
        "template": {
         "data": {
          "bar": [
           {
            "error_x": {
             "color": "#2a3f5f"
            },
            "error_y": {
             "color": "#2a3f5f"
            },
            "marker": {
             "line": {
              "color": "#E5ECF6",
              "width": 0.5
             },
             "pattern": {
              "fillmode": "overlay",
              "size": 10,
              "solidity": 0.2
             }
            },
            "type": "bar"
           }
          ],
          "barpolar": [
           {
            "marker": {
             "line": {
              "color": "#E5ECF6",
              "width": 0.5
             },
             "pattern": {
              "fillmode": "overlay",
              "size": 10,
              "solidity": 0.2
             }
            },
            "type": "barpolar"
           }
          ],
          "carpet": [
           {
            "aaxis": {
             "endlinecolor": "#2a3f5f",
             "gridcolor": "white",
             "linecolor": "white",
             "minorgridcolor": "white",
             "startlinecolor": "#2a3f5f"
            },
            "baxis": {
             "endlinecolor": "#2a3f5f",
             "gridcolor": "white",
             "linecolor": "white",
             "minorgridcolor": "white",
             "startlinecolor": "#2a3f5f"
            },
            "type": "carpet"
           }
          ],
          "choropleth": [
           {
            "colorbar": {
             "outlinewidth": 0,
             "ticks": ""
            },
            "type": "choropleth"
           }
          ],
          "contour": [
           {
            "colorbar": {
             "outlinewidth": 0,
             "ticks": ""
            },
            "colorscale": [
             [
              0,
              "#0d0887"
             ],
             [
              0.1111111111111111,
              "#46039f"
             ],
             [
              0.2222222222222222,
              "#7201a8"
             ],
             [
              0.3333333333333333,
              "#9c179e"
             ],
             [
              0.4444444444444444,
              "#bd3786"
             ],
             [
              0.5555555555555556,
              "#d8576b"
             ],
             [
              0.6666666666666666,
              "#ed7953"
             ],
             [
              0.7777777777777778,
              "#fb9f3a"
             ],
             [
              0.8888888888888888,
              "#fdca26"
             ],
             [
              1,
              "#f0f921"
             ]
            ],
            "type": "contour"
           }
          ],
          "contourcarpet": [
           {
            "colorbar": {
             "outlinewidth": 0,
             "ticks": ""
            },
            "type": "contourcarpet"
           }
          ],
          "heatmap": [
           {
            "colorbar": {
             "outlinewidth": 0,
             "ticks": ""
            },
            "colorscale": [
             [
              0,
              "#0d0887"
             ],
             [
              0.1111111111111111,
              "#46039f"
             ],
             [
              0.2222222222222222,
              "#7201a8"
             ],
             [
              0.3333333333333333,
              "#9c179e"
             ],
             [
              0.4444444444444444,
              "#bd3786"
             ],
             [
              0.5555555555555556,
              "#d8576b"
             ],
             [
              0.6666666666666666,
              "#ed7953"
             ],
             [
              0.7777777777777778,
              "#fb9f3a"
             ],
             [
              0.8888888888888888,
              "#fdca26"
             ],
             [
              1,
              "#f0f921"
             ]
            ],
            "type": "heatmap"
           }
          ],
          "heatmapgl": [
           {
            "colorbar": {
             "outlinewidth": 0,
             "ticks": ""
            },
            "colorscale": [
             [
              0,
              "#0d0887"
             ],
             [
              0.1111111111111111,
              "#46039f"
             ],
             [
              0.2222222222222222,
              "#7201a8"
             ],
             [
              0.3333333333333333,
              "#9c179e"
             ],
             [
              0.4444444444444444,
              "#bd3786"
             ],
             [
              0.5555555555555556,
              "#d8576b"
             ],
             [
              0.6666666666666666,
              "#ed7953"
             ],
             [
              0.7777777777777778,
              "#fb9f3a"
             ],
             [
              0.8888888888888888,
              "#fdca26"
             ],
             [
              1,
              "#f0f921"
             ]
            ],
            "type": "heatmapgl"
           }
          ],
          "histogram": [
           {
            "marker": {
             "pattern": {
              "fillmode": "overlay",
              "size": 10,
              "solidity": 0.2
             }
            },
            "type": "histogram"
           }
          ],
          "histogram2d": [
           {
            "colorbar": {
             "outlinewidth": 0,
             "ticks": ""
            },
            "colorscale": [
             [
              0,
              "#0d0887"
             ],
             [
              0.1111111111111111,
              "#46039f"
             ],
             [
              0.2222222222222222,
              "#7201a8"
             ],
             [
              0.3333333333333333,
              "#9c179e"
             ],
             [
              0.4444444444444444,
              "#bd3786"
             ],
             [
              0.5555555555555556,
              "#d8576b"
             ],
             [
              0.6666666666666666,
              "#ed7953"
             ],
             [
              0.7777777777777778,
              "#fb9f3a"
             ],
             [
              0.8888888888888888,
              "#fdca26"
             ],
             [
              1,
              "#f0f921"
             ]
            ],
            "type": "histogram2d"
           }
          ],
          "histogram2dcontour": [
           {
            "colorbar": {
             "outlinewidth": 0,
             "ticks": ""
            },
            "colorscale": [
             [
              0,
              "#0d0887"
             ],
             [
              0.1111111111111111,
              "#46039f"
             ],
             [
              0.2222222222222222,
              "#7201a8"
             ],
             [
              0.3333333333333333,
              "#9c179e"
             ],
             [
              0.4444444444444444,
              "#bd3786"
             ],
             [
              0.5555555555555556,
              "#d8576b"
             ],
             [
              0.6666666666666666,
              "#ed7953"
             ],
             [
              0.7777777777777778,
              "#fb9f3a"
             ],
             [
              0.8888888888888888,
              "#fdca26"
             ],
             [
              1,
              "#f0f921"
             ]
            ],
            "type": "histogram2dcontour"
           }
          ],
          "mesh3d": [
           {
            "colorbar": {
             "outlinewidth": 0,
             "ticks": ""
            },
            "type": "mesh3d"
           }
          ],
          "parcoords": [
           {
            "line": {
             "colorbar": {
              "outlinewidth": 0,
              "ticks": ""
             }
            },
            "type": "parcoords"
           }
          ],
          "pie": [
           {
            "automargin": true,
            "type": "pie"
           }
          ],
          "scatter": [
           {
            "fillpattern": {
             "fillmode": "overlay",
             "size": 10,
             "solidity": 0.2
            },
            "type": "scatter"
           }
          ],
          "scatter3d": [
           {
            "line": {
             "colorbar": {
              "outlinewidth": 0,
              "ticks": ""
             }
            },
            "marker": {
             "colorbar": {
              "outlinewidth": 0,
              "ticks": ""
             }
            },
            "type": "scatter3d"
           }
          ],
          "scattercarpet": [
           {
            "marker": {
             "colorbar": {
              "outlinewidth": 0,
              "ticks": ""
             }
            },
            "type": "scattercarpet"
           }
          ],
          "scattergeo": [
           {
            "marker": {
             "colorbar": {
              "outlinewidth": 0,
              "ticks": ""
             }
            },
            "type": "scattergeo"
           }
          ],
          "scattergl": [
           {
            "marker": {
             "colorbar": {
              "outlinewidth": 0,
              "ticks": ""
             }
            },
            "type": "scattergl"
           }
          ],
          "scattermapbox": [
           {
            "marker": {
             "colorbar": {
              "outlinewidth": 0,
              "ticks": ""
             }
            },
            "type": "scattermapbox"
           }
          ],
          "scatterpolar": [
           {
            "marker": {
             "colorbar": {
              "outlinewidth": 0,
              "ticks": ""
             }
            },
            "type": "scatterpolar"
           }
          ],
          "scatterpolargl": [
           {
            "marker": {
             "colorbar": {
              "outlinewidth": 0,
              "ticks": ""
             }
            },
            "type": "scatterpolargl"
           }
          ],
          "scatterternary": [
           {
            "marker": {
             "colorbar": {
              "outlinewidth": 0,
              "ticks": ""
             }
            },
            "type": "scatterternary"
           }
          ],
          "surface": [
           {
            "colorbar": {
             "outlinewidth": 0,
             "ticks": ""
            },
            "colorscale": [
             [
              0,
              "#0d0887"
             ],
             [
              0.1111111111111111,
              "#46039f"
             ],
             [
              0.2222222222222222,
              "#7201a8"
             ],
             [
              0.3333333333333333,
              "#9c179e"
             ],
             [
              0.4444444444444444,
              "#bd3786"
             ],
             [
              0.5555555555555556,
              "#d8576b"
             ],
             [
              0.6666666666666666,
              "#ed7953"
             ],
             [
              0.7777777777777778,
              "#fb9f3a"
             ],
             [
              0.8888888888888888,
              "#fdca26"
             ],
             [
              1,
              "#f0f921"
             ]
            ],
            "type": "surface"
           }
          ],
          "table": [
           {
            "cells": {
             "fill": {
              "color": "#EBF0F8"
             },
             "line": {
              "color": "white"
             }
            },
            "header": {
             "fill": {
              "color": "#C8D4E3"
             },
             "line": {
              "color": "white"
             }
            },
            "type": "table"
           }
          ]
         },
         "layout": {
          "annotationdefaults": {
           "arrowcolor": "#2a3f5f",
           "arrowhead": 0,
           "arrowwidth": 1
          },
          "autotypenumbers": "strict",
          "coloraxis": {
           "colorbar": {
            "outlinewidth": 0,
            "ticks": ""
           }
          },
          "colorscale": {
           "diverging": [
            [
             0,
             "#8e0152"
            ],
            [
             0.1,
             "#c51b7d"
            ],
            [
             0.2,
             "#de77ae"
            ],
            [
             0.3,
             "#f1b6da"
            ],
            [
             0.4,
             "#fde0ef"
            ],
            [
             0.5,
             "#f7f7f7"
            ],
            [
             0.6,
             "#e6f5d0"
            ],
            [
             0.7,
             "#b8e186"
            ],
            [
             0.8,
             "#7fbc41"
            ],
            [
             0.9,
             "#4d9221"
            ],
            [
             1,
             "#276419"
            ]
           ],
           "sequential": [
            [
             0,
             "#0d0887"
            ],
            [
             0.1111111111111111,
             "#46039f"
            ],
            [
             0.2222222222222222,
             "#7201a8"
            ],
            [
             0.3333333333333333,
             "#9c179e"
            ],
            [
             0.4444444444444444,
             "#bd3786"
            ],
            [
             0.5555555555555556,
             "#d8576b"
            ],
            [
             0.6666666666666666,
             "#ed7953"
            ],
            [
             0.7777777777777778,
             "#fb9f3a"
            ],
            [
             0.8888888888888888,
             "#fdca26"
            ],
            [
             1,
             "#f0f921"
            ]
           ],
           "sequentialminus": [
            [
             0,
             "#0d0887"
            ],
            [
             0.1111111111111111,
             "#46039f"
            ],
            [
             0.2222222222222222,
             "#7201a8"
            ],
            [
             0.3333333333333333,
             "#9c179e"
            ],
            [
             0.4444444444444444,
             "#bd3786"
            ],
            [
             0.5555555555555556,
             "#d8576b"
            ],
            [
             0.6666666666666666,
             "#ed7953"
            ],
            [
             0.7777777777777778,
             "#fb9f3a"
            ],
            [
             0.8888888888888888,
             "#fdca26"
            ],
            [
             1,
             "#f0f921"
            ]
           ]
          },
          "colorway": [
           "#636efa",
           "#EF553B",
           "#00cc96",
           "#ab63fa",
           "#FFA15A",
           "#19d3f3",
           "#FF6692",
           "#B6E880",
           "#FF97FF",
           "#FECB52"
          ],
          "font": {
           "color": "#2a3f5f"
          },
          "geo": {
           "bgcolor": "white",
           "lakecolor": "white",
           "landcolor": "#E5ECF6",
           "showlakes": true,
           "showland": true,
           "subunitcolor": "white"
          },
          "hoverlabel": {
           "align": "left"
          },
          "hovermode": "closest",
          "mapbox": {
           "style": "light"
          },
          "paper_bgcolor": "white",
          "plot_bgcolor": "#E5ECF6",
          "polar": {
           "angularaxis": {
            "gridcolor": "white",
            "linecolor": "white",
            "ticks": ""
           },
           "bgcolor": "#E5ECF6",
           "radialaxis": {
            "gridcolor": "white",
            "linecolor": "white",
            "ticks": ""
           }
          },
          "scene": {
           "xaxis": {
            "backgroundcolor": "#E5ECF6",
            "gridcolor": "white",
            "gridwidth": 2,
            "linecolor": "white",
            "showbackground": true,
            "ticks": "",
            "zerolinecolor": "white"
           },
           "yaxis": {
            "backgroundcolor": "#E5ECF6",
            "gridcolor": "white",
            "gridwidth": 2,
            "linecolor": "white",
            "showbackground": true,
            "ticks": "",
            "zerolinecolor": "white"
           },
           "zaxis": {
            "backgroundcolor": "#E5ECF6",
            "gridcolor": "white",
            "gridwidth": 2,
            "linecolor": "white",
            "showbackground": true,
            "ticks": "",
            "zerolinecolor": "white"
           }
          },
          "shapedefaults": {
           "line": {
            "color": "#2a3f5f"
           }
          },
          "ternary": {
           "aaxis": {
            "gridcolor": "white",
            "linecolor": "white",
            "ticks": ""
           },
           "baxis": {
            "gridcolor": "white",
            "linecolor": "white",
            "ticks": ""
           },
           "bgcolor": "#E5ECF6",
           "caxis": {
            "gridcolor": "white",
            "linecolor": "white",
            "ticks": ""
           }
          },
          "title": {
           "x": 0.05
          },
          "xaxis": {
           "automargin": true,
           "gridcolor": "white",
           "linecolor": "white",
           "ticks": "",
           "title": {
            "standoff": 15
           },
           "zerolinecolor": "white",
           "zerolinewidth": 2
          },
          "yaxis": {
           "automargin": true,
           "gridcolor": "white",
           "linecolor": "white",
           "ticks": "",
           "title": {
            "standoff": 15
           },
           "zerolinecolor": "white",
           "zerolinewidth": 2
          }
         }
        },
        "xaxis": {
         "anchor": "y",
         "domain": [
          0,
          1
         ],
         "title": {
          "text": "x"
         }
        },
        "yaxis": {
         "anchor": "x",
         "domain": [
          0,
          1
         ],
         "title": {
          "text": "y"
         }
        }
       }
      }
     },
     "metadata": {},
     "output_type": "display_data"
    }
   ],
   "source": [
    "import plotly.express as px\n",
    "intertia = []\n",
    "for K in range(1,20):\n",
    "    kmeans = KMeans(n_clusters=K)\n",
    "    intertia.append(kmeans.fit(X= X_pca).inertia_)\n",
    "\n",
    "kmeans = KMeans(n_clusters=7)\n",
    "groups = kmeans.fit_predict(X=X_pca)\n",
    "    \n",
    "plt.plot(range(1,20), intertia)\n",
    "plt.show()\n",
    "fig = px.scatter(x=X_pca[:, 0], y=X_pca[:,1], color=groups, hover_name=qb_names)\n",
    "fig.show()"
   ]
  },
  {
   "cell_type": "code",
   "execution_count": null,
   "id": "1106e576",
   "metadata": {},
   "outputs": [],
   "source": [
    "\n"
   ]
  },
  {
   "cell_type": "code",
   "execution_count": 539,
   "id": "47103f19",
   "metadata": {},
   "outputs": [
    {
     "data": {
      "text/plain": [
       "Index(['tds_per_game', 'yards_per_game', 'passing_yards_per_attempt',\n",
       "       'rushing_yards_per_run', 'turnovers_per_game', 'td:turnover',\n",
       "       'completion_pct', 'passing_epa_per_game', 'rushing_epa_per_game'],\n",
       "      dtype='object')"
      ]
     },
     "execution_count": 539,
     "metadata": {},
     "output_type": "execute_result"
    }
   ],
   "source": [
    "tier_list = weekly_relevant.merge(pass_stats, left_on=['player_id', 'season'], right_on=['player_id', 'season'])\n",
    "tier_list = tier_list.merge(run_stats, left_on=['player_id', 'season'], right_on=['player_id', 'season'])\n",
    "tier_list['tds_per_game'] = (tier_list['passing_tds'] + tier_list['rushing_tds']) / tier_list['games_played']\n",
    "tier_list['yards_per_game'] = (tier_list['passing_yards'] + tier_list['rushing_yards'])/ tier_list['games_played']\n",
    "tier_list['passing_yards_per_attempt'] = tier_list['passing_yards'] / tier_list['attempts']\n",
    "tier_list['rushing_yards_per_run']  = tier_list['rushing_yards'] / tier_list['total_runs']\n",
    "tier_list['turnovers_per_game'] = (tier_list['interceptions'] + tier_list['sack_fumbles'] + tier_list['rushing_fumbles']) / tier_list['games_played']\n",
    "tier_list['td:turnover'] = tier_list['tds_per_game'] / tier_list['turnovers_per_game']\n",
    "tier_list['passing_epa_per_game'] = tier_list['passing_epa'] / tier_list['games_played']\n",
    "tier_list['rushing_epa_per_game'] = tier_list['rushing_epa'] / tier_list['games_played']\n",
    "\n",
    "\n",
    "tier_list = tier_list[['tds_per_game', 'yards_per_game', 'passing_yards_per_attempt', 'rushing_yards_per_run', \n",
    "                       'turnovers_per_game', 'td:turnover', 'completion_pct', 'passing_epa_per_game', 'rushing_epa_per_game']]\n",
    "tier_list.columns"
   ]
  },
  {
   "cell_type": "code",
   "execution_count": 540,
   "id": "bdd5aa94",
   "metadata": {},
   "outputs": [],
   "source": [
    "tiered_pca = PCA(n_components=1)\n",
    "scaler = StandardScaler()\n",
    "X = scaler.fit_transform(tier_list)\n",
    "ranks = tiered_pca.fit_transform(X)\n",
    "ranked_df = pd.DataFrame(data=[qb_names, ranks]).T.reset_index(drop='index').set_index(0)\n",
    "ranked_df.columns = ['scores']\n",
    "ranked_df['scores'] = ranked_df['scores'].apply(lambda x : x[0])\n"
   ]
  },
  {
   "cell_type": "code",
   "execution_count": 541,
   "id": "0a10512f",
   "metadata": {},
   "outputs": [
    {
     "data": {
      "text/html": [
       "<div>\n",
       "<style scoped>\n",
       "    .dataframe tbody tr th:only-of-type {\n",
       "        vertical-align: middle;\n",
       "    }\n",
       "\n",
       "    .dataframe tbody tr th {\n",
       "        vertical-align: top;\n",
       "    }\n",
       "\n",
       "    .dataframe thead th {\n",
       "        text-align: right;\n",
       "    }\n",
       "</style>\n",
       "<table border=\"1\" class=\"dataframe\">\n",
       "  <thead>\n",
       "    <tr style=\"text-align: right;\">\n",
       "      <th></th>\n",
       "      <th>scores</th>\n",
       "    </tr>\n",
       "    <tr>\n",
       "      <th>0</th>\n",
       "      <th></th>\n",
       "    </tr>\n",
       "  </thead>\n",
       "  <tbody>\n",
       "    <tr>\n",
       "      <th>(2020, Aaron Rodgers)</th>\n",
       "      <td>6.966155</td>\n",
       "    </tr>\n",
       "    <tr>\n",
       "      <th>(2011, Aaron Rodgers)</th>\n",
       "      <td>6.872441</td>\n",
       "    </tr>\n",
       "    <tr>\n",
       "      <th>(2011, Drew Brees)</th>\n",
       "      <td>6.167853</td>\n",
       "    </tr>\n",
       "    <tr>\n",
       "      <th>(2016, Matt Ryan)</th>\n",
       "      <td>5.966620</td>\n",
       "    </tr>\n",
       "    <tr>\n",
       "      <th>(2004, Peyton Manning)</th>\n",
       "      <td>5.571231</td>\n",
       "    </tr>\n",
       "    <tr>\n",
       "      <th>(2007, Tom Brady)</th>\n",
       "      <td>5.511696</td>\n",
       "    </tr>\n",
       "    <tr>\n",
       "      <th>(2018, Patrick Mahomes)</th>\n",
       "      <td>5.281755</td>\n",
       "    </tr>\n",
       "    <tr>\n",
       "      <th>(2019, Drew Brees)</th>\n",
       "      <td>5.215108</td>\n",
       "    </tr>\n",
       "    <tr>\n",
       "      <th>(2024, Lamar Jackson)</th>\n",
       "      <td>5.186852</td>\n",
       "    </tr>\n",
       "    <tr>\n",
       "      <th>(2021, Aaron Rodgers)</th>\n",
       "      <td>5.137204</td>\n",
       "    </tr>\n",
       "    <tr>\n",
       "      <th>(2013, Peyton Manning)</th>\n",
       "      <td>5.047892</td>\n",
       "    </tr>\n",
       "    <tr>\n",
       "      <th>(2020, Patrick Mahomes)</th>\n",
       "      <td>5.038597</td>\n",
       "    </tr>\n",
       "    <tr>\n",
       "      <th>(2013, Nick Foles)</th>\n",
       "      <td>4.938697</td>\n",
       "    </tr>\n",
       "    <tr>\n",
       "      <th>(2016, Tom Brady)</th>\n",
       "      <td>4.937505</td>\n",
       "    </tr>\n",
       "    <tr>\n",
       "      <th>(2019, Patrick Mahomes)</th>\n",
       "      <td>4.839471</td>\n",
       "    </tr>\n",
       "    <tr>\n",
       "      <th>(2022, Patrick Mahomes)</th>\n",
       "      <td>4.737444</td>\n",
       "    </tr>\n",
       "    <tr>\n",
       "      <th>(2018, Drew Brees)</th>\n",
       "      <td>4.693304</td>\n",
       "    </tr>\n",
       "    <tr>\n",
       "      <th>(2020, Deshaun Watson)</th>\n",
       "      <td>4.629561</td>\n",
       "    </tr>\n",
       "    <tr>\n",
       "      <th>(2011, Tom Brady)</th>\n",
       "      <td>4.599733</td>\n",
       "    </tr>\n",
       "    <tr>\n",
       "      <th>(2019, Lamar Jackson)</th>\n",
       "      <td>4.424407</td>\n",
       "    </tr>\n",
       "    <tr>\n",
       "      <th>(2016, Aaron Rodgers)</th>\n",
       "      <td>4.373499</td>\n",
       "    </tr>\n",
       "    <tr>\n",
       "      <th>(2012, Tom Brady)</th>\n",
       "      <td>4.346132</td>\n",
       "    </tr>\n",
       "    <tr>\n",
       "      <th>(2010, Tom Brady)</th>\n",
       "      <td>4.329181</td>\n",
       "    </tr>\n",
       "    <tr>\n",
       "      <th>(2004, Daunte Culpepper)</th>\n",
       "      <td>4.280068</td>\n",
       "    </tr>\n",
       "    <tr>\n",
       "      <th>(2024, Josh Allen)</th>\n",
       "      <td>4.107955</td>\n",
       "    </tr>\n",
       "  </tbody>\n",
       "</table>\n",
       "</div>"
      ],
      "text/plain": [
       "                            scores\n",
       "0                                 \n",
       "(2020, Aaron Rodgers)     6.966155\n",
       "(2011, Aaron Rodgers)     6.872441\n",
       "(2011, Drew Brees)        6.167853\n",
       "(2016, Matt Ryan)         5.966620\n",
       "(2004, Peyton Manning)    5.571231\n",
       "(2007, Tom Brady)         5.511696\n",
       "(2018, Patrick Mahomes)   5.281755\n",
       "(2019, Drew Brees)        5.215108\n",
       "(2024, Lamar Jackson)     5.186852\n",
       "(2021, Aaron Rodgers)     5.137204\n",
       "(2013, Peyton Manning)    5.047892\n",
       "(2020, Patrick Mahomes)   5.038597\n",
       "(2013, Nick Foles)        4.938697\n",
       "(2016, Tom Brady)         4.937505\n",
       "(2019, Patrick Mahomes)   4.839471\n",
       "(2022, Patrick Mahomes)   4.737444\n",
       "(2018, Drew Brees)        4.693304\n",
       "(2020, Deshaun Watson)    4.629561\n",
       "(2011, Tom Brady)         4.599733\n",
       "(2019, Lamar Jackson)     4.424407\n",
       "(2016, Aaron Rodgers)     4.373499\n",
       "(2012, Tom Brady)         4.346132\n",
       "(2010, Tom Brady)         4.329181\n",
       "(2004, Daunte Culpepper)  4.280068\n",
       "(2024, Josh Allen)        4.107955"
      ]
     },
     "execution_count": 541,
     "metadata": {},
     "output_type": "execute_result"
    }
   ],
   "source": [
    "ranked_df.sort_values('scores', ascending=False).head(25)"
   ]
  },
  {
   "cell_type": "code",
   "execution_count": null,
   "id": "a6f04edd",
   "metadata": {},
   "outputs": [],
   "source": []
  },
  {
   "cell_type": "markdown",
   "id": "e2c48578",
   "metadata": {},
   "source": []
  },
  {
   "cell_type": "code",
   "execution_count": null,
   "id": "43fa4a79",
   "metadata": {},
   "outputs": [],
   "source": []
  },
  {
   "cell_type": "code",
   "execution_count": null,
   "id": "b0530905",
   "metadata": {},
   "outputs": [],
   "source": []
  }
 ],
 "metadata": {
  "kernelspec": {
   "display_name": "base",
   "language": "python",
   "name": "python3"
  },
  "language_info": {
   "codemirror_mode": {
    "name": "ipython",
    "version": 3
   },
   "file_extension": ".py",
   "mimetype": "text/x-python",
   "name": "python",
   "nbconvert_exporter": "python",
   "pygments_lexer": "ipython3",
   "version": "3.11.7"
  }
 },
 "nbformat": 4,
 "nbformat_minor": 5
}
