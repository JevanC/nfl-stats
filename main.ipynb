{
 "cells": [
  {
   "cell_type": "code",
   "execution_count": 37,
   "id": "7e510296",
   "metadata": {},
   "outputs": [],
   "source": [
    "import nfl_data_py as nfl\n",
    "import pandas as pd\n",
    "import numpy as np\n",
    "\n",
    "pd.set_option('display.max_columns', 10)\n",
    "\n",
    "# Optional: also set width to avoid line wrapping\n",
    "pd.set_option('display.width', 10)\n",
    "\n",
    "# Optional: disable column width truncation\n",
    "pd.set_option('display.max_colwidth', 10)"
   ]
  },
  {
   "cell_type": "code",
   "execution_count": null,
   "id": "078a28f3",
   "metadata": {},
   "outputs": [],
   "source": [
    "all_players = nfl.import_players()\n",
    "all_qbs = all_players[all_players['position'] == 'QB']\n",
    "all_qbs.reset_index(inplace=True, drop='index')\n",
    "all_qbs_id = list(all_qbs.gsis_id)"
   ]
  },
  {
   "cell_type": "code",
   "execution_count": 233,
   "id": "435f6f63",
   "metadata": {},
   "outputs": [
    {
     "name": "stdout",
     "output_type": "stream",
     "text": [
      "Downcasting floats.\n"
     ]
    }
   ],
   "source": [
    "weekly_data = nfl.import_weekly_data(years=[2024])\n",
    "weekly_data['completion_pct'] = weekly_data.completions / weekly_data.attempts\n",
    "weekly_relevant = weekly_data[weekly_data['player_id'].isin(all_qbs_id)][['player_id', 'passing_tds', 'interceptions', \n",
    "                                                                          'sacks', 'sack_fumbles', 'rushing_tds', \n",
    "                                                                          'rushing_fumbles', 'completion_pct', 'passing_air_yards', 'attempts',\n",
    "                                                                          'passing_yards']]\n",
    "weekly_relevant = weekly_relevant.groupby('player_id').agg({\n",
    "    'passing_tds' : 'sum', \n",
    "    'interceptions' : 'sum',\n",
    "    'sacks' : 'sum',\n",
    "    'sack_fumbles' : 'sum',\n",
    "    'rushing_tds' : 'sum',\n",
    "    'rushing_fumbles' : 'sum', \n",
    "    'completion_pct' : 'mean',\n",
    "    'passing_air_yards' : 'sum',\n",
    "    'attempts' : 'sum',\n",
    "    'player_id' : 'count',\n",
    "    'passing_yards' : 'sum'})\n",
    "weekly_relevant = weekly_relevant.rename(columns={'player_id' : 'games_played'})\n",
    "weekly_relevant = weekly_relevant[weekly_relevant['attempts'] > 100]\n"
   ]
  },
  {
   "cell_type": "code",
   "execution_count": 234,
   "id": "08580f66",
   "metadata": {},
   "outputs": [
    {
     "name": "stdout",
     "output_type": "stream",
     "text": [
      "2024 done.\n",
      "Downcasting floats.\n"
     ]
    }
   ],
   "source": [
    "stats2024 = nfl.import_pbp_data(years=[2024])\n",
    "stats2024 = stats2024[(stats2024['qb_kneel'] == 0.0) & (stats2024['play_type'] != 'no_play')]\n",
    "relevant = stats2024[['play_type', 'shotgun', 'qb_dropback', 'qb_scramble', 'air_yards', 'rushing_yards', 'id']]"
   ]
  },
  {
   "cell_type": "code",
   "execution_count": 235,
   "id": "28bb0bc9",
   "metadata": {},
   "outputs": [
    {
     "data": {
      "text/html": [
       "<div>\n",
       "<style scoped>\n",
       "    .dataframe tbody tr th:only-of-type {\n",
       "        vertical-align: middle;\n",
       "    }\n",
       "\n",
       "    .dataframe tbody tr th {\n",
       "        vertical-align: top;\n",
       "    }\n",
       "\n",
       "    .dataframe thead th {\n",
       "        text-align: right;\n",
       "    }\n",
       "</style>\n",
       "<table border=\"1\" class=\"dataframe\">\n",
       "  <thead>\n",
       "    <tr style=\"text-align: right;\">\n",
       "      <th></th>\n",
       "      <th>shotgun_rate</th>\n",
       "      <th>total_passes</th>\n",
       "    </tr>\n",
       "    <tr>\n",
       "      <th>id</th>\n",
       "      <th></th>\n",
       "      <th></th>\n",
       "    </tr>\n",
       "  </thead>\n",
       "  <tbody>\n",
       "    <tr>\n",
       "      <th>00-0023459</th>\n",
       "      <td>0.842105</td>\n",
       "      <td>627.0</td>\n",
       "    </tr>\n",
       "    <tr>\n",
       "      <th>00-0026158</th>\n",
       "      <td>0.932584</td>\n",
       "      <td>267.0</td>\n",
       "    </tr>\n",
       "    <tr>\n",
       "      <th>00-0026300</th>\n",
       "      <td>0.500000</td>\n",
       "      <td>4.0</td>\n",
       "    </tr>\n",
       "    <tr>\n",
       "      <th>00-0026498</th>\n",
       "      <td>0.706731</td>\n",
       "      <td>624.0</td>\n",
       "    </tr>\n",
       "    <tr>\n",
       "      <th>00-0027973</th>\n",
       "      <td>0.797619</td>\n",
       "      <td>168.0</td>\n",
       "    </tr>\n",
       "    <tr>\n",
       "      <th>...</th>\n",
       "      <td>...</td>\n",
       "      <td>...</td>\n",
       "    </tr>\n",
       "    <tr>\n",
       "      <th>00-0039890</th>\n",
       "      <td>1.000000</td>\n",
       "      <td>1.0</td>\n",
       "    </tr>\n",
       "    <tr>\n",
       "      <th>00-0039910</th>\n",
       "      <td>0.962963</td>\n",
       "      <td>648.0</td>\n",
       "    </tr>\n",
       "    <tr>\n",
       "      <th>00-0039916</th>\n",
       "      <td>0.000000</td>\n",
       "      <td>1.0</td>\n",
       "    </tr>\n",
       "    <tr>\n",
       "      <th>00-0039917</th>\n",
       "      <td>0.944954</td>\n",
       "      <td>109.0</td>\n",
       "    </tr>\n",
       "    <tr>\n",
       "      <th>00-0039918</th>\n",
       "      <td>0.860063</td>\n",
       "      <td>636.0</td>\n",
       "    </tr>\n",
       "  </tbody>\n",
       "</table>\n",
       "<p>113 rows × 2 columns</p>\n",
       "</div>"
      ],
      "text/plain": [
       "            shotgun_rate  \\\n",
       "id                         \n",
       "00-0023459   0.842105      \n",
       "00-0026158   0.932584      \n",
       "00-0026300   0.500000      \n",
       "00-0026498   0.706731      \n",
       "00-0027973   0.797619      \n",
       "...               ...      \n",
       "00-0039890   1.000000      \n",
       "00-0039910   0.962963      \n",
       "00-0039916   0.000000      \n",
       "00-0039917   0.944954      \n",
       "00-0039918   0.860063      \n",
       "\n",
       "            total_passes  \n",
       "id                        \n",
       "00-0023459      627.0     \n",
       "00-0026158      267.0     \n",
       "00-0026300        4.0     \n",
       "00-0026498      624.0     \n",
       "00-0027973      168.0     \n",
       "...               ...     \n",
       "00-0039890        1.0     \n",
       "00-0039910      648.0     \n",
       "00-0039916        1.0     \n",
       "00-0039917      109.0     \n",
       "00-0039918      636.0     \n",
       "\n",
       "[113 rows x 2 columns]"
      ]
     },
     "execution_count": 235,
     "metadata": {},
     "output_type": "execute_result"
    }
   ],
   "source": [
    "pass_stats = relevant[relevant['play_type'] == 'pass'].groupby('id').agg({'shotgun' : sum, 'qb_dropback' : sum})\n",
    "pass_stats['shotgun'] = pass_stats.shotgun / pass_stats.qb_dropback\n",
    "pass_stats.columns = ['shotgun_rate', 'total_passes']\n",
    "pass_stats"
   ]
  },
  {
   "cell_type": "code",
   "execution_count": null,
   "id": "b36ff773",
   "metadata": {},
   "outputs": [],
   "source": []
  },
  {
   "cell_type": "code",
   "execution_count": 236,
   "id": "a0d2b4d6",
   "metadata": {},
   "outputs": [
    {
     "data": {
      "text/html": [
       "<div>\n",
       "<style scoped>\n",
       "    .dataframe tbody tr th:only-of-type {\n",
       "        vertical-align: middle;\n",
       "    }\n",
       "\n",
       "    .dataframe tbody tr th {\n",
       "        vertical-align: top;\n",
       "    }\n",
       "\n",
       "    .dataframe thead th {\n",
       "        text-align: right;\n",
       "    }\n",
       "</style>\n",
       "<table border=\"1\" class=\"dataframe\">\n",
       "  <thead>\n",
       "    <tr style=\"text-align: right;\">\n",
       "      <th></th>\n",
       "      <th>qb_scramble_rate</th>\n",
       "      <th>total_runs</th>\n",
       "      <th>rushing_yards</th>\n",
       "    </tr>\n",
       "    <tr>\n",
       "      <th>id</th>\n",
       "      <th></th>\n",
       "      <th></th>\n",
       "      <th></th>\n",
       "    </tr>\n",
       "  </thead>\n",
       "  <tbody>\n",
       "    <tr>\n",
       "      <th>00-0023459</th>\n",
       "      <td>0.941176</td>\n",
       "      <td>17</td>\n",
       "      <td>111.0</td>\n",
       "    </tr>\n",
       "    <tr>\n",
       "      <th>00-0026158</th>\n",
       "      <td>0.500000</td>\n",
       "      <td>6</td>\n",
       "      <td>29.0</td>\n",
       "    </tr>\n",
       "    <tr>\n",
       "      <th>00-0026300</th>\n",
       "      <td>0.000000</td>\n",
       "      <td>2</td>\n",
       "      <td>3.0</td>\n",
       "    </tr>\n",
       "    <tr>\n",
       "      <th>00-0026498</th>\n",
       "      <td>0.235294</td>\n",
       "      <td>17</td>\n",
       "      <td>64.0</td>\n",
       "    </tr>\n",
       "    <tr>\n",
       "      <th>00-0027973</th>\n",
       "      <td>0.857143</td>\n",
       "      <td>7</td>\n",
       "      <td>38.0</td>\n",
       "    </tr>\n",
       "    <tr>\n",
       "      <th>...</th>\n",
       "      <td>...</td>\n",
       "      <td>...</td>\n",
       "      <td>...</td>\n",
       "    </tr>\n",
       "    <tr>\n",
       "      <th>00-0039917</th>\n",
       "      <td>0.800000</td>\n",
       "      <td>5</td>\n",
       "      <td>14.0</td>\n",
       "    </tr>\n",
       "    <tr>\n",
       "      <th>00-0039918</th>\n",
       "      <td>0.666667</td>\n",
       "      <td>75</td>\n",
       "      <td>495.0</td>\n",
       "    </tr>\n",
       "    <tr>\n",
       "      <th>00-0039919</th>\n",
       "      <td>0.000000</td>\n",
       "      <td>3</td>\n",
       "      <td>15.0</td>\n",
       "    </tr>\n",
       "    <tr>\n",
       "      <th>00-0039920</th>\n",
       "      <td>0.000000</td>\n",
       "      <td>2</td>\n",
       "      <td>26.0</td>\n",
       "    </tr>\n",
       "    <tr>\n",
       "      <th>00-0039921</th>\n",
       "      <td>0.000000</td>\n",
       "      <td>63</td>\n",
       "      <td>291.0</td>\n",
       "    </tr>\n",
       "  </tbody>\n",
       "</table>\n",
       "<p>343 rows × 3 columns</p>\n",
       "</div>"
      ],
      "text/plain": [
       "            qb_scramble_rate  \\\n",
       "id                             \n",
       "00-0023459   0.941176          \n",
       "00-0026158   0.500000          \n",
       "00-0026300   0.000000          \n",
       "00-0026498   0.235294          \n",
       "00-0027973   0.857143          \n",
       "...               ...          \n",
       "00-0039917   0.800000          \n",
       "00-0039918   0.666667          \n",
       "00-0039919   0.000000          \n",
       "00-0039920   0.000000          \n",
       "00-0039921   0.000000          \n",
       "\n",
       "            total_runs  \\\n",
       "id                       \n",
       "00-0023459         17    \n",
       "00-0026158          6    \n",
       "00-0026300          2    \n",
       "00-0026498         17    \n",
       "00-0027973          7    \n",
       "...               ...    \n",
       "00-0039917          5    \n",
       "00-0039918         75    \n",
       "00-0039919          3    \n",
       "00-0039920          2    \n",
       "00-0039921         63    \n",
       "\n",
       "            rushing_yards  \n",
       "id                         \n",
       "00-0023459      111.0      \n",
       "00-0026158       29.0      \n",
       "00-0026300        3.0      \n",
       "00-0026498       64.0      \n",
       "00-0027973       38.0      \n",
       "...               ...      \n",
       "00-0039917       14.0      \n",
       "00-0039918      495.0      \n",
       "00-0039919       15.0      \n",
       "00-0039920       26.0      \n",
       "00-0039921      291.0      \n",
       "\n",
       "[343 rows x 3 columns]"
      ]
     },
     "execution_count": 236,
     "metadata": {},
     "output_type": "execute_result"
    }
   ],
   "source": [
    "run_stats = relevant[relevant['play_type'] == 'run'].groupby('id').agg({'qb_scramble' : ['sum', 'count'], 'rushing_yards' : 'sum'})\n",
    "run_stats.columns = ['qb_scramble_sum', 'total_runs', 'rushing_yards']\n",
    "run_stats['qb_scramble_rate'] = run_stats.qb_scramble_sum / run_stats.total_runs\n",
    "run_stats = run_stats[['qb_scramble_rate', 'total_runs', 'rushing_yards']]\n",
    "run_stats"
   ]
  },
  {
   "cell_type": "code",
   "execution_count": 269,
   "id": "e72b5a70",
   "metadata": {},
   "outputs": [],
   "source": [
    "total_data = weekly_relevant.join(pass_stats).join(run_stats)\n",
    "\n",
    "total_data['sacks_per_dropback'] = total_data['sacks'] / total_data['total_passes']\n",
    "total_data['sack_fumbles'] = total_data['sack_fumbles'] / total_data['total_passes']\n",
    "\n",
    "total_data['interceptions_per_game'] = total_data['interceptions'] / total_data['games_played']\n",
    "total_data['passing_tds_per_game'] = total_data['passing_tds'] / total_data['games_played']\n",
    "total_data['passing_air_yards_per_attempt'] = total_data['passing_air_yards'] / total_data['attempts']\n",
    "total_data['passing_yards_per_game'] = total_data['passing_yards'] / total_data['games_played']\n",
    "\n",
    "total_data['rushing_tds_per_game'] = total_data['rushing_tds'] / total_data['games_played']\n",
    "total_data['rushing_fumbles_per_game'] = total_data['rushing_fumbles'] / total_data['games_played']\n",
    "total_data['rushing_yards_per_game'] = total_data['rushing_yards'] / total_data['games_played']\n",
    "total_data['rushing_yards_per_attempt'] = total_data['rushing_yards'] / total_data['total_runs']\n",
    "\n",
    "total_data['pass_pct'] = total_data.total_passes / (total_data.total_passes + total_data.total_runs)\n",
    "\n",
    "total_data['runs_per_game'] = total_data['total_runs'] / total_data['games_played']\n",
    "total_data['attempts_per_game'] = total_data['attempts'] / total_data['games_played']\n",
    "\n",
    "total_data['td:int'] = total_data['passing_tds'] / total_data['interceptions']\n",
    "total_data['air_yard:completion_pct'] = total_data['passing_air_yards_per_attempt'] / total_data['completion_pct']\n",
    "\n",
    "total_data = total_data[['sacks_per_dropback', 'attempts_per_game', 'rushing_tds_per_game', 'passing_tds_per_game', 'interceptions', \n",
    "                         'shotgun_rate', 'passing_air_yards_per_attempt', 'completion_pct',\n",
    "                         'rushing_fumbles_per_game', 'rushing_yards_per_game', 'rushing_yards_per_attempt', 'pass_pct',\n",
    "                         'air_yard:completion_pct', 'td:int']]"
   ]
  },
  {
   "cell_type": "code",
   "execution_count": 270,
   "id": "af14c784",
   "metadata": {},
   "outputs": [],
   "source": [
    "qb_names = list(total_data.merge(all_qbs[['gsis_id', 'display_name']], left_index=True, right_on='gsis_id').display_name)"
   ]
  },
  {
   "cell_type": "code",
   "execution_count": 271,
   "id": "08ab9780",
   "metadata": {},
   "outputs": [],
   "source": [
    "from sklearn.cluster import KMeans\n",
    "from sklearn.decomposition import PCA\n",
    "from sklearn.preprocessing import StandardScaler\n",
    "import matplotlib.pyplot as plt\n",
    "import seaborn as sns"
   ]
  },
  {
   "cell_type": "code",
   "execution_count": 272,
   "id": "9a3ddec3",
   "metadata": {},
   "outputs": [
    {
     "name": "stdout",
     "output_type": "stream",
     "text": [
      "0.2826494070854704\n",
      "0.4749349844063204\n",
      "0.5916008485658868\n",
      "0.6883312024497541\n",
      "0.7680862962570842\n",
      "0.8338055205606958\n",
      "0.8877100589184732\n",
      "0.9383320754370097\n",
      "0.9605072666117077\n"
     ]
    }
   ],
   "source": [
    "scaler = StandardScaler()\n",
    "X = scaler.fit_transform(total_data)\n",
    "for P in range(1, 10):\n",
    "    pca = PCA(n_components=P)\n",
    "    pca.fit(X)\n",
    "    print(pca.explained_variance_ratio_.sum())\n",
    "\n",
    "pca = PCA(n_components=7)\n",
    "X_pca = pca.fit_transform(X)\n"
   ]
  },
  {
   "cell_type": "code",
   "execution_count": 273,
   "id": "3b9a31c1",
   "metadata": {},
   "outputs": [
    {
     "name": "stderr",
     "output_type": "stream",
     "text": [
      "/opt/anaconda3/lib/python3.11/site-packages/sklearn/cluster/_kmeans.py:870: FutureWarning:\n",
      "\n",
      "The default value of `n_init` will change from 10 to 'auto' in 1.4. Set the value of `n_init` explicitly to suppress the warning\n",
      "\n",
      "/opt/anaconda3/lib/python3.11/site-packages/sklearn/cluster/_kmeans.py:870: FutureWarning:\n",
      "\n",
      "The default value of `n_init` will change from 10 to 'auto' in 1.4. Set the value of `n_init` explicitly to suppress the warning\n",
      "\n",
      "/opt/anaconda3/lib/python3.11/site-packages/sklearn/cluster/_kmeans.py:870: FutureWarning:\n",
      "\n",
      "The default value of `n_init` will change from 10 to 'auto' in 1.4. Set the value of `n_init` explicitly to suppress the warning\n",
      "\n",
      "/opt/anaconda3/lib/python3.11/site-packages/sklearn/cluster/_kmeans.py:870: FutureWarning:\n",
      "\n",
      "The default value of `n_init` will change from 10 to 'auto' in 1.4. Set the value of `n_init` explicitly to suppress the warning\n",
      "\n",
      "/opt/anaconda3/lib/python3.11/site-packages/sklearn/cluster/_kmeans.py:870: FutureWarning:\n",
      "\n",
      "The default value of `n_init` will change from 10 to 'auto' in 1.4. Set the value of `n_init` explicitly to suppress the warning\n",
      "\n",
      "/opt/anaconda3/lib/python3.11/site-packages/sklearn/cluster/_kmeans.py:870: FutureWarning:\n",
      "\n",
      "The default value of `n_init` will change from 10 to 'auto' in 1.4. Set the value of `n_init` explicitly to suppress the warning\n",
      "\n",
      "/opt/anaconda3/lib/python3.11/site-packages/sklearn/cluster/_kmeans.py:870: FutureWarning:\n",
      "\n",
      "The default value of `n_init` will change from 10 to 'auto' in 1.4. Set the value of `n_init` explicitly to suppress the warning\n",
      "\n",
      "/opt/anaconda3/lib/python3.11/site-packages/sklearn/cluster/_kmeans.py:870: FutureWarning:\n",
      "\n",
      "The default value of `n_init` will change from 10 to 'auto' in 1.4. Set the value of `n_init` explicitly to suppress the warning\n",
      "\n",
      "/opt/anaconda3/lib/python3.11/site-packages/sklearn/cluster/_kmeans.py:870: FutureWarning:\n",
      "\n",
      "The default value of `n_init` will change from 10 to 'auto' in 1.4. Set the value of `n_init` explicitly to suppress the warning\n",
      "\n",
      "/opt/anaconda3/lib/python3.11/site-packages/sklearn/cluster/_kmeans.py:870: FutureWarning:\n",
      "\n",
      "The default value of `n_init` will change from 10 to 'auto' in 1.4. Set the value of `n_init` explicitly to suppress the warning\n",
      "\n",
      "/opt/anaconda3/lib/python3.11/site-packages/sklearn/cluster/_kmeans.py:870: FutureWarning:\n",
      "\n",
      "The default value of `n_init` will change from 10 to 'auto' in 1.4. Set the value of `n_init` explicitly to suppress the warning\n",
      "\n",
      "/opt/anaconda3/lib/python3.11/site-packages/sklearn/cluster/_kmeans.py:870: FutureWarning:\n",
      "\n",
      "The default value of `n_init` will change from 10 to 'auto' in 1.4. Set the value of `n_init` explicitly to suppress the warning\n",
      "\n",
      "/opt/anaconda3/lib/python3.11/site-packages/sklearn/cluster/_kmeans.py:870: FutureWarning:\n",
      "\n",
      "The default value of `n_init` will change from 10 to 'auto' in 1.4. Set the value of `n_init` explicitly to suppress the warning\n",
      "\n",
      "/opt/anaconda3/lib/python3.11/site-packages/sklearn/cluster/_kmeans.py:870: FutureWarning:\n",
      "\n",
      "The default value of `n_init` will change from 10 to 'auto' in 1.4. Set the value of `n_init` explicitly to suppress the warning\n",
      "\n",
      "/opt/anaconda3/lib/python3.11/site-packages/sklearn/cluster/_kmeans.py:870: FutureWarning:\n",
      "\n",
      "The default value of `n_init` will change from 10 to 'auto' in 1.4. Set the value of `n_init` explicitly to suppress the warning\n",
      "\n",
      "/opt/anaconda3/lib/python3.11/site-packages/sklearn/cluster/_kmeans.py:870: FutureWarning:\n",
      "\n",
      "The default value of `n_init` will change from 10 to 'auto' in 1.4. Set the value of `n_init` explicitly to suppress the warning\n",
      "\n",
      "/opt/anaconda3/lib/python3.11/site-packages/sklearn/cluster/_kmeans.py:870: FutureWarning:\n",
      "\n",
      "The default value of `n_init` will change from 10 to 'auto' in 1.4. Set the value of `n_init` explicitly to suppress the warning\n",
      "\n",
      "/opt/anaconda3/lib/python3.11/site-packages/sklearn/cluster/_kmeans.py:870: FutureWarning:\n",
      "\n",
      "The default value of `n_init` will change from 10 to 'auto' in 1.4. Set the value of `n_init` explicitly to suppress the warning\n",
      "\n",
      "/opt/anaconda3/lib/python3.11/site-packages/sklearn/cluster/_kmeans.py:870: FutureWarning:\n",
      "\n",
      "The default value of `n_init` will change from 10 to 'auto' in 1.4. Set the value of `n_init` explicitly to suppress the warning\n",
      "\n",
      "/opt/anaconda3/lib/python3.11/site-packages/sklearn/cluster/_kmeans.py:870: FutureWarning:\n",
      "\n",
      "The default value of `n_init` will change from 10 to 'auto' in 1.4. Set the value of `n_init` explicitly to suppress the warning\n",
      "\n"
     ]
    },
    {
     "data": {
      "image/png": "[encoded data removed]",
      "text/plain": [
       "<Figure size 640x480 with 1 Axes>"
      ]
     },
     "metadata": {},
     "output_type": "display_data"
    },
    {
     "data": {
      "application/vnd.plotly.v1+json": {
       "config": {
        "plotlyServerURL": "https://plot.ly"
       },
       "data": [
        {
         "hovertemplate": "<b>%{hovertext}</b><br><br>x=%{x}<br>y=%{y}<br>color=%{marker.color}<extra></extra>",
         "hovertext": [
          "Aaron Rodgers",
          "Joe Flacco",
          "Matthew Stafford",
          "Andy Dalton",
          "Russell Wilson",
          "Kirk Cousins",
          "Geno Smith",
          "Derek Carr",
          "Jameis Winston",
          "Dak Prescott",
          "Jared Goff",
          "Jacoby Brissett",
          "Deshaun Watson",
          "Cooper Rush",
          "Patrick Mahomes",
          "Mason Rudolph",
          "Lamar Jackson",
          "Baker Mayfield",
          "Josh Allen",
          "Sam Darnold",
          "Kyler Murray",
          "Gardner Minshew",
          "Drew Lock",
          "Daniel Jones",
          "Tyler Huntley",
          "Tua Tagovailoa",
          "Jordan Love",
          "Justin Herbert",
          "Jalen Hurts",
          "Joe Burrow",
          "Justin Fields",
          "Trevor Lawrence",
          "Mac Jones",
          "Brock Purdy",
          "Aidan O'Connell",
          "Dorian Thompson-Robinson",
          "Bryce Young",
          "Will Levis",
          "C.J. Stroud",
          "Anthony Richardson",
          "Spencer Rattler",
          "Bo Nix",
          "Drake Maye",
          "Jayden Daniels",
          "Michael Penix",
          "Caleb Williams"
         ],
         "legendgroup": "",
         "marker": {
          "color": [
           0,
           2,
           2,
           2,
           2,
           0,
           0,
           2,
           2,
           2,
           0,
           1,
           1,
           2,
           0,
           2,
           4,
           0,
           4,
           2,
           0,
           0,
           1,
           1,
           1,
           0,
           2,
           2,
           4,
           0,
           3,
           2,
           2,
           2,
           2,
           1,
           2,
           1,
           2,
           3,
           1,
           0,
           1,
           4,
           2,
           1
          ],
          "coloraxis": "coloraxis",
          "symbol": "circle"
         },
         "mode": "markers",
         "name": "",
         "orientation": "v",
         "showlegend": false,
         "type": "scatter",
         "x": [
          -2.292699003949399,
          -1.1853243335545474,
          -1.9572420172726412,
          -0.7708414022424704,
          -0.1234842867334414,
          -2.0121908459987785,
          -1.7276334018260107,
          -1.4853706547004308,
          -0.44097521100106096,
          -1.58447892918258,
          -4.195908161167866,
          0.8834075333848238,
          0.6781770469170975,
          0.10208005705645712,
          -1.611459084929969,
          -0.31584454353787095,
          1.7500449727260605,
          -1.8858935736832836,
          1.5684465355950945,
          -1.4066078790022127,
          -0.39577104567217297,
          -1.6829969226331465,
          0.07116752596774578,
          -0.008455192466041952,
          2.18931879274233,
          -3.128071305854803,
          -0.8592456420792065,
          0.1375011691554947,
          3.555710659812618,
          -2.5739259065961564,
          5.20534260738216,
          0.9337663507663418,
          -0.552297117311094,
          0.11511284816669977,
          -0.1471410252560805,
          2.72698768982535,
          1.0088153925688272,
          0.8700950307448653,
          -0.5365371504710944,
          6.6628185426146125,
          0.8786138470809751,
          -0.767287235566935,
          1.3627319932332942,
          1.1712399417344375,
          1.3377653109584482,
          0.4385380242555619
         ],
         "xaxis": "x",
         "y": [
          -0.06720725734391383,
          -0.8024220546485957,
          -0.9306768615870751,
          -2.0337517905948173,
          0.15820796740862356,
          -1.226525793887388,
          0.9191846845869603,
          -0.5125702913419944,
          -1.4832240737483,
          -0.6249114537077707,
          0.3915822609095192,
          -2.3111236634301235,
          -0.33279218259966936,
          -2.1774704578274835,
          1.684646968984858,
          -0.6320619138599656,
          4.932580260335769,
          2.513573053823848,
          2.7725501929490632,
          0.5905753577395229,
          1.80981343029353,
          -1.2250582281610816,
          0.21712872053894836,
          -0.11315033761487596,
          -0.1305820514247202,
          0.5679787444040316,
          -0.7846976311276916,
          0.37545679655047326,
          3.1904199028006306,
          2.3999744337228117,
          -0.4140356607611158,
          -1.1651114087269119,
          -1.1918393641003189,
          0.4715377698943108,
          -1.880919789943656,
          -3.041516214204186,
          -0.007742850625230839,
          -0.8880999190573957,
          -0.2764473892170712,
          -0.16588220908326295,
          -1.2787613303674632,
          1.3666830570246398,
          0.5184131689717355,
          3.0903439469124083,
          -2.8763968345451723,
          0.6043282956855668
         ],
         "yaxis": "y"
        }
       ],
       "layout": {
        "coloraxis": {
         "colorbar": {
          "title": {
           "text": "color"
          }
         },
         "colorscale": [
          [
           0,
           "#0d0887"
          ],
          [
           0.1111111111111111,
           "#46039f"
          ],
          [
           0.2222222222222222,
           "#7201a8"
          ],
          [
           0.3333333333333333,
           "#9c179e"
          ],
          [
           0.4444444444444444,
           "#bd3786"
          ],
          [
           0.5555555555555556,
           "#d8576b"
          ],
          [
           0.6666666666666666,
           "#ed7953"
          ],
          [
           0.7777777777777778,
           "#fb9f3a"
          ],
          [
           0.8888888888888888,
           "#fdca26"
          ],
          [
           1,
           "#f0f921"
          ]
         ]
        },
        "legend": {
         "tracegroupgap": 0
        },
        "margin": {
         "t": 60
        },
        "template": {
         "data": {
          "bar": [
           {
            "error_x": {
             "color": "#2a3f5f"
            },
            "error_y": {
             "color": "#2a3f5f"
            },
            "marker": {
             "line": {
              "color": "#E5ECF6",
              "width": 0.5
             },
             "pattern": {
              "fillmode": "overlay",
              "size": 10,
              "solidity": 0.2
             }
            },
            "type": "bar"
           }
          ],
          "barpolar": [
           {
            "marker": {
             "line": {
              "color": "#E5ECF6",
              "width": 0.5
             },
             "pattern": {
              "fillmode": "overlay",
              "size": 10,
              "solidity": 0.2
             }
            },
            "type": "barpolar"
           }
          ],
          "carpet": [
           {
            "aaxis": {
             "endlinecolor": "#2a3f5f",
             "gridcolor": "white",
             "linecolor": "white",
             "minorgridcolor": "white",
             "startlinecolor": "#2a3f5f"
            },
            "baxis": {
             "endlinecolor": "#2a3f5f",
             "gridcolor": "white",
             "linecolor": "white",
             "minorgridcolor": "white",
             "startlinecolor": "#2a3f5f"
            },
            "type": "carpet"
           }
          ],
          "choropleth": [
           {
            "colorbar": {
             "outlinewidth": 0,
             "ticks": ""
            },
            "type": "choropleth"
           }
          ],
          "contour": [
           {
            "colorbar": {
             "outlinewidth": 0,
             "ticks": ""
            },
            "colorscale": [
             [
              0,
              "#0d0887"
             ],
             [
              0.1111111111111111,
              "#46039f"
             ],
             [
              0.2222222222222222,
              "#7201a8"
             ],
             [
              0.3333333333333333,
              "#9c179e"
             ],
             [
              0.4444444444444444,
              "#bd3786"
             ],
             [
              0.5555555555555556,
              "#d8576b"
             ],
             [
              0.6666666666666666,
              "#ed7953"
             ],
             [
              0.7777777777777778,
              "#fb9f3a"
             ],
             [
              0.8888888888888888,
              "#fdca26"
             ],
             [
              1,
              "#f0f921"
             ]
            ],
            "type": "contour"
           }
          ],
          "contourcarpet": [
           {
            "colorbar": {
             "outlinewidth": 0,
             "ticks": ""
            },
            "type": "contourcarpet"
           }
          ],
          "heatmap": [
           {
            "colorbar": {
             "outlinewidth": 0,
             "ticks": ""
            },
            "colorscale": [
             [
              0,
              "#0d0887"
             ],
             [
              0.1111111111111111,
              "#46039f"
             ],
             [
              0.2222222222222222,
              "#7201a8"
             ],
             [
              0.3333333333333333,
              "#9c179e"
             ],
             [
              0.4444444444444444,
              "#bd3786"
             ],
             [
              0.5555555555555556,
              "#d8576b"
             ],
             [
              0.6666666666666666,
              "#ed7953"
             ],
             [
              0.7777777777777778,
              "#fb9f3a"
             ],
             [
              0.8888888888888888,
              "#fdca26"
             ],
             [
              1,
              "#f0f921"
             ]
            ],
            "type": "heatmap"
           }
          ],
          "heatmapgl": [
           {
            "colorbar": {
             "outlinewidth": 0,
             "ticks": ""
            },
            "colorscale": [
             [
              0,
              "#0d0887"
             ],
             [
              0.1111111111111111,
              "#46039f"
             ],
             [
              0.2222222222222222,
              "#7201a8"
             ],
             [
              0.3333333333333333,
              "#9c179e"
             ],
             [
              0.4444444444444444,
              "#bd3786"
             ],
             [
              0.5555555555555556,
              "#d8576b"
             ],
             [
              0.6666666666666666,
              "#ed7953"
             ],
             [
              0.7777777777777778,
              "#fb9f3a"
             ],
             [
              0.8888888888888888,
              "#fdca26"
             ],
             [
              1,
              "#f0f921"
             ]
            ],
            "type": "heatmapgl"
           }
          ],
          "histogram": [
           {
            "marker": {
             "pattern": {
              "fillmode": "overlay",
              "size": 10,
              "solidity": 0.2
             }
            },
            "type": "histogram"
           }
          ],
          "histogram2d": [
           {
            "colorbar": {
             "outlinewidth": 0,
             "ticks": ""
            },
            "colorscale": [
             [
              0,
              "#0d0887"
             ],
             [
              0.1111111111111111,
              "#46039f"
             ],
             [
              0.2222222222222222,
              "#7201a8"
             ],
             [
              0.3333333333333333,
              "#9c179e"
             ],
             [
              0.4444444444444444,
              "#bd3786"
             ],
             [
              0.5555555555555556,
              "#d8576b"
             ],
             [
              0.6666666666666666,
              "#ed7953"
             ],
             [
              0.7777777777777778,
              "#fb9f3a"
             ],
             [
              0.8888888888888888,
              "#fdca26"
             ],
             [
              1,
              "#f0f921"
             ]
            ],
            "type": "histogram2d"
           }
          ],
          "histogram2dcontour": [
           {
            "colorbar": {
             "outlinewidth": 0,
             "ticks": ""
            },
            "colorscale": [
             [
              0,
              "#0d0887"
             ],
             [
              0.1111111111111111,
              "#46039f"
             ],
             [
              0.2222222222222222,
              "#7201a8"
             ],
             [
              0.3333333333333333,
              "#9c179e"
             ],
             [
              0.4444444444444444,
              "#bd3786"
             ],
             [
              0.5555555555555556,
              "#d8576b"
             ],
             [
              0.6666666666666666,
              "#ed7953"
             ],
             [
              0.7777777777777778,
              "#fb9f3a"
             ],
             [
              0.8888888888888888,
              "#fdca26"
             ],
             [
              1,
              "#f0f921"
             ]
            ],
            "type": "histogram2dcontour"
           }
          ],
          "mesh3d": [
           {
            "colorbar": {
             "outlinewidth": 0,
             "ticks": ""
            },
            "type": "mesh3d"
           }
          ],
          "parcoords": [
           {
            "line": {
             "colorbar": {
              "outlinewidth": 0,
              "ticks": ""
             }
            },
            "type": "parcoords"
           }
          ],
          "pie": [
           {
            "automargin": true,
            "type": "pie"
           }
          ],
          "scatter": [
           {
            "fillpattern": {
             "fillmode": "overlay",
             "size": 10,
             "solidity": 0.2
            },
            "type": "scatter"
           }
          ],
          "scatter3d": [
           {
            "line": {
             "colorbar": {
              "outlinewidth": 0,
              "ticks": ""
             }
            },
            "marker": {
             "colorbar": {
              "outlinewidth": 0,
              "ticks": ""
             }
            },
            "type": "scatter3d"
           }
          ],
          "scattercarpet": [
           {
            "marker": {
             "colorbar": {
              "outlinewidth": 0,
              "ticks": ""
             }
            },
            "type": "scattercarpet"
           }
          ],
          "scattergeo": [
           {
            "marker": {
             "colorbar": {
              "outlinewidth": 0,
              "ticks": ""
             }
            },
            "type": "scattergeo"
           }
          ],
          "scattergl": [
           {
            "marker": {
             "colorbar": {
              "outlinewidth": 0,
              "ticks": ""
             }
            },
            "type": "scattergl"
           }
          ],
          "scattermapbox": [
           {
            "marker": {
             "colorbar": {
              "outlinewidth": 0,
              "ticks": ""
             }
            },
            "type": "scattermapbox"
           }
          ],
          "scatterpolar": [
           {
            "marker": {
             "colorbar": {
              "outlinewidth": 0,
              "ticks": ""
             }
            },
            "type": "scatterpolar"
           }
          ],
          "scatterpolargl": [
           {
            "marker": {
             "colorbar": {
              "outlinewidth": 0,
              "ticks": ""
             }
            },
            "type": "scatterpolargl"
           }
          ],
          "scatterternary": [
           {
            "marker": {
             "colorbar": {
              "outlinewidth": 0,
              "ticks": ""
             }
            },
            "type": "scatterternary"
           }
          ],
          "surface": [
           {
            "colorbar": {
             "outlinewidth": 0,
             "ticks": ""
            },
            "colorscale": [
             [
              0,
              "#0d0887"
             ],
             [
              0.1111111111111111,
              "#46039f"
             ],
             [
              0.2222222222222222,
              "#7201a8"
             ],
             [
              0.3333333333333333,
              "#9c179e"
             ],
             [
              0.4444444444444444,
              "#bd3786"
             ],
             [
              0.5555555555555556,
              "#d8576b"
             ],
             [
              0.6666666666666666,
              "#ed7953"
             ],
             [
              0.7777777777777778,
              "#fb9f3a"
             ],
             [
              0.8888888888888888,
              "#fdca26"
             ],
             [
              1,
              "#f0f921"
             ]
            ],
            "type": "surface"
           }
          ],
          "table": [
           {
            "cells": {
             "fill": {
              "color": "#EBF0F8"
             },
             "line": {
              "color": "white"
             }
            },
            "header": {
             "fill": {
              "color": "#C8D4E3"
             },
             "line": {
              "color": "white"
             }
            },
            "type": "table"
           }
          ]
         },
         "layout": {
          "annotationdefaults": {
           "arrowcolor": "#2a3f5f",
           "arrowhead": 0,
           "arrowwidth": 1
          },
          "autotypenumbers": "strict",
          "coloraxis": {
           "colorbar": {
            "outlinewidth": 0,
            "ticks": ""
           }
          },
          "colorscale": {
           "diverging": [
            [
             0,
             "#8e0152"
            ],
            [
             0.1,
             "#c51b7d"
            ],
            [
             0.2,
             "#de77ae"
            ],
            [
             0.3,
             "#f1b6da"
            ],
            [
             0.4,
             "#fde0ef"
            ],
            [
             0.5,
             "#f7f7f7"
            ],
            [
             0.6,
             "#e6f5d0"
            ],
            [
             0.7,
             "#b8e186"
            ],
            [
             0.8,
             "#7fbc41"
            ],
            [
             0.9,
             "#4d9221"
            ],
            [
             1,
             "#276419"
            ]
           ],
           "sequential": [
            [
             0,
             "#0d0887"
            ],
            [
             0.1111111111111111,
             "#46039f"
            ],
            [
             0.2222222222222222,
             "#7201a8"
            ],
            [
             0.3333333333333333,
             "#9c179e"
            ],
            [
             0.4444444444444444,
             "#bd3786"
            ],
            [
             0.5555555555555556,
             "#d8576b"
            ],
            [
             0.6666666666666666,
             "#ed7953"
            ],
            [
             0.7777777777777778,
             "#fb9f3a"
            ],
            [
             0.8888888888888888,
             "#fdca26"
            ],
            [
             1,
             "#f0f921"
            ]
           ],
           "sequentialminus": [
            [
             0,
             "#0d0887"
            ],
            [
             0.1111111111111111,
             "#46039f"
            ],
            [
             0.2222222222222222,
             "#7201a8"
            ],
            [
             0.3333333333333333,
             "#9c179e"
            ],
            [
             0.4444444444444444,
             "#bd3786"
            ],
            [
             0.5555555555555556,
             "#d8576b"
            ],
            [
             0.6666666666666666,
             "#ed7953"
            ],
            [
             0.7777777777777778,
             "#fb9f3a"
            ],
            [
             0.8888888888888888,
             "#fdca26"
            ],
            [
             1,
             "#f0f921"
            ]
           ]
          },
          "colorway": [
           "#636efa",
           "#EF553B",
           "#00cc96",
           "#ab63fa",
           "#FFA15A",
           "#19d3f3",
           "#FF6692",
           "#B6E880",
           "#FF97FF",
           "#FECB52"
          ],
          "font": {
           "color": "#2a3f5f"
          },
          "geo": {
           "bgcolor": "white",
           "lakecolor": "white",
           "landcolor": "#E5ECF6",
           "showlakes": true,
           "showland": true,
           "subunitcolor": "white"
          },
          "hoverlabel": {
           "align": "left"
          },
          "hovermode": "closest",
          "mapbox": {
           "style": "light"
          },
          "paper_bgcolor": "white",
          "plot_bgcolor": "#E5ECF6",
          "polar": {
           "angularaxis": {
            "gridcolor": "white",
            "linecolor": "white",
            "ticks": ""
           },
           "bgcolor": "#E5ECF6",
           "radialaxis": {
            "gridcolor": "white",
            "linecolor": "white",
            "ticks": ""
           }
          },
          "scene": {
           "xaxis": {
            "backgroundcolor": "#E5ECF6",
            "gridcolor": "white",
            "gridwidth": 2,
            "linecolor": "white",
            "showbackground": true,
            "ticks": "",
            "zerolinecolor": "white"
           },
           "yaxis": {
            "backgroundcolor": "#E5ECF6",
            "gridcolor": "white",
            "gridwidth": 2,
            "linecolor": "white",
            "showbackground": true,
            "ticks": "",
            "zerolinecolor": "white"
           },
           "zaxis": {
            "backgroundcolor": "#E5ECF6",
            "gridcolor": "white",
            "gridwidth": 2,
            "linecolor": "white",
            "showbackground": true,
            "ticks": "",
            "zerolinecolor": "white"
           }
          },
          "shapedefaults": {
           "line": {
            "color": "#2a3f5f"
           }
          },
          "ternary": {
           "aaxis": {
            "gridcolor": "white",
            "linecolor": "white",
            "ticks": ""
           },
           "baxis": {
            "gridcolor": "white",
            "linecolor": "white",
            "ticks": ""
           },
           "bgcolor": "#E5ECF6",
           "caxis": {
            "gridcolor": "white",
            "linecolor": "white",
            "ticks": ""
           }
          },
          "title": {
           "x": 0.05
          },
          "xaxis": {
           "automargin": true,
           "gridcolor": "white",
           "linecolor": "white",
           "ticks": "",
           "title": {
            "standoff": 15
           },
           "zerolinecolor": "white",
           "zerolinewidth": 2
          },
          "yaxis": {
           "automargin": true,
           "gridcolor": "white",
           "linecolor": "white",
           "ticks": "",
           "title": {
            "standoff": 15
           },
           "zerolinecolor": "white",
           "zerolinewidth": 2
          }
         }
        },
        "xaxis": {
         "anchor": "y",
         "domain": [
          0,
          1
         ],
         "title": {
          "text": "x"
         }
        },
        "yaxis": {
         "anchor": "x",
         "domain": [
          0,
          1
         ],
         "title": {
          "text": "y"
         }
        }
       }
      }
     },
     "metadata": {},
     "output_type": "display_data"
    }
   ],
   "source": [
    "import plotly.express as px\n",
    "intertia = []\n",
    "for K in range(1,20):\n",
    "    kmeans = KMeans(n_clusters=K)\n",
    "    intertia.append(kmeans.fit(X= X_pca).inertia_)\n",
    "\n",
    "kmeans = KMeans(n_clusters=5)\n",
    "groups = kmeans.fit_predict(X=X_pca)\n",
    "    \n",
    "plt.plot(range(1,20), intertia)\n",
    "plt.show()\n",
    "fig = px.scatter(x=X_pca[:, 0], y=X_pca[:,1], color=groups, hover_name=qb_names)\n",
    "fig.show()"
   ]
  },
  {
   "cell_type": "code",
   "execution_count": null,
   "id": "1106e576",
   "metadata": {},
   "outputs": [
    {
     "name": "stderr",
     "output_type": "stream",
     "text": [
      "/opt/anaconda3/lib/python3.11/site-packages/sklearn/cluster/_kmeans.py:870: FutureWarning: The default value of `n_init` will change from 10 to 'auto' in 1.4. Set the value of `n_init` explicitly to suppress the warning\n",
      "  warnings.warn(\n"
     ]
    },
    {
     "data": {
      "text/plain": [
       "array([0, 0, 0, 1, 1, 0, 0, 0, 1, 0, 0, 1, 1, 1, 0, 1, 2, 0, 2, 0, 0, 0,\n",
       "       1, 1, 1, 0, 0, 1, 2, 0, 2, 1, 1, 0, 1, 1, 1, 1, 0, 2, 1, 0, 1, 2,\n",
       "       1, 1], dtype=int32)"
      ]
     },
     "execution_count": 195,
     "metadata": {},
     "output_type": "execute_result"
    }
   ],
   "source": [
    "\n"
   ]
  },
  {
   "cell_type": "code",
   "execution_count": null,
   "id": "47103f19",
   "metadata": {},
   "outputs": [],
   "source": []
  }
 ],
 "metadata": {
  "kernelspec": {
   "display_name": "base",
   "language": "python",
   "name": "python3"
  },
  "language_info": {
   "codemirror_mode": {
    "name": "ipython",
    "version": 3
   },
   "file_extension": ".py",
   "mimetype": "text/x-python",
   "name": "python",
   "nbconvert_exporter": "python",
   "pygments_lexer": "ipython3",
   "version": "3.11.7"
  }
 },
 "nbformat": 4,
 "nbformat_minor": 5
}
